{
  "nbformat": 4,
  "nbformat_minor": 0,
  "metadata": {
    "accelerator": "GPU",
    "colab": {
      "name": "project.ipynb",
      "provenance": [],
      "collapsed_sections": []
    },
    "kernelspec": {
      "display_name": "Python 3",
      "name": "python3"
    },
    "language_info": {
      "name": "python"
    }
  },
  "cells": [
    {
      "cell_type": "code",
      "metadata": {
        "colab": {
          "base_uri": "https://localhost:8080/"
        },
        "id": "TwL29M-6fBLB",
        "outputId": "38278d17-a8bd-4a52-bb0d-9d0b22fd41dd"
      },
      "source": [
        "# Here we load the data folder in the sharedrives\n",
        "# The data folder is in the 'drive/Shareddrives/Ada'\n",
        "from google.colab import drive\n",
        "drive.mount('/content/drive')"
      ],
      "execution_count": null,
      "outputs": [
        {
          "output_type": "stream",
          "name": "stdout",
          "text": [
            "Mounted at /content/drive\n"
          ]
        }
      ]
    },
    {
      "cell_type": "markdown",
      "metadata": {
        "id": "imSCwBN5MNaN"
      },
      "source": [
        "Downgrade the pandas version so that we can read data in chunksize"
      ]
    },
    {
      "cell_type": "code",
      "metadata": {
        "colab": {
          "base_uri": "https://localhost:8080/",
          "height": 378
        },
        "id": "FCRnJvrFkrmV",
        "outputId": "443bc1b5-9e45-4f80-ec30-ee4bc8e2cc65"
      },
      "source": [
        "pip install pandas==1.0.5\n"
      ],
      "execution_count": null,
      "outputs": [
        {
          "output_type": "stream",
          "name": "stdout",
          "text": [
            "Collecting pandas==1.0.5\n",
            "  Downloading pandas-1.0.5-cp37-cp37m-manylinux1_x86_64.whl (10.1 MB)\n",
            "\u001b[K     |████████████████████████████████| 10.1 MB 5.2 MB/s \n",
            "\u001b[?25hRequirement already satisfied: python-dateutil>=2.6.1 in /usr/local/lib/python3.7/dist-packages (from pandas==1.0.5) (2.8.2)\n",
            "Requirement already satisfied: pytz>=2017.2 in /usr/local/lib/python3.7/dist-packages (from pandas==1.0.5) (2018.9)\n",
            "Requirement already satisfied: numpy>=1.13.3 in /usr/local/lib/python3.7/dist-packages (from pandas==1.0.5) (1.19.5)\n",
            "Requirement already satisfied: six>=1.5 in /usr/local/lib/python3.7/dist-packages (from python-dateutil>=2.6.1->pandas==1.0.5) (1.15.0)\n",
            "Installing collected packages: pandas\n",
            "  Attempting uninstall: pandas\n",
            "    Found existing installation: pandas 1.1.5\n",
            "    Uninstalling pandas-1.1.5:\n",
            "      Successfully uninstalled pandas-1.1.5\n",
            "\u001b[31mERROR: pip's dependency resolver does not currently take into account all the packages that are installed. This behaviour is the source of the following dependency conflicts.\n",
            "google-colab 1.0.0 requires pandas~=1.1.0; python_version >= \"3.0\", but you have pandas 1.0.5 which is incompatible.\u001b[0m\n",
            "Successfully installed pandas-1.0.5\n"
          ]
        },
        {
          "output_type": "display_data",
          "data": {
            "application/vnd.colab-display-data+json": {
              "pip_warning": {
                "packages": [
                  "pandas"
                ]
              }
            }
          },
          "metadata": {}
        }
      ]
    },
    {
      "cell_type": "markdown",
      "metadata": {
        "id": "eftFnn3Bitx3"
      },
      "source": [
        "Import library"
      ]
    },
    {
      "cell_type": "code",
      "metadata": {
        "id": "jwWJzKGaheRS"
      },
      "source": [
        "import seaborn as sns\n",
        "from IPython.display import display, HTML\n",
        "import matplotlib.pyplot as plt\n",
        "import scipy.stats as stats\n",
        "import pandas as pd\n",
        "import numpy as np\n",
        "import warnings\n",
        "import pickle\n",
        "import shutil\n",
        "import os\n",
        "import glob\n",
        "import wordcloud\n",
        "import nltk\n",
        "warnings.filterwarnings('ignore')"
      ],
      "execution_count": null,
      "outputs": []
    },
    {
      "cell_type": "code",
      "metadata": {
        "colab": {
          "base_uri": "https://localhost:8080/"
        },
        "id": "cYdyzV2RxxEu",
        "outputId": "807f0bdd-0150-484c-dab7-4923ae9f3d70"
      },
      "source": [
        "import nltk\n",
        "nltk.download('stopwords')\n",
        "from nltk.corpus import stopwords"
      ],
      "execution_count": null,
      "outputs": [
        {
          "output_type": "stream",
          "name": "stdout",
          "text": [
            "[nltk_data] Downloading package stopwords to /root/nltk_data...\n",
            "[nltk_data]   Unzipping corpora/stopwords.zip.\n"
          ]
        }
      ]
    },
    {
      "cell_type": "code",
      "metadata": {
        "id": "JPE43H4fwPRZ"
      },
      "source": [
        "import sys\n",
        "import spacy\n",
        "# !{sys.executable} -m spacy download en\n",
        "import re, numpy as np, pandas as pd\n",
        "from pprint import pprint\n",
        "\n",
        "# Gensim\n",
        "import gensim, spacy, logging, warnings\n",
        "import gensim.corpora as corpora\n",
        "from gensim.utils import lemmatize, simple_preprocess\n",
        "from gensim.models import CoherenceModel\n",
        "import matplotlib.pyplot as plt\n",
        "\n",
        "# NLTK Stop words\n",
        "#from nltk.corpus import stopwords\n",
        "stop_words = stopwords.words('english')\n",
        "stop_words.extend(['from', 'subject', 're', 'edu', 'use', 'not', 'would', 'say', 'could', '_', 'be', 'know', 'good', 'go', 'get', 'do', 'done', 'try', 'many', 'some', 'nice', 'thank', 'think', 'see', 'rather', 'easy', 'easily', 'lot', 'lack', 'make', 'want', 'seem', 'run', 'need', 'even', 'right', 'line', 'even', 'also', 'may', 'take', 'come'])\n",
        "\n",
        "%matplotlib inline\n",
        "warnings.filterwarnings(\"ignore\",category=DeprecationWarning)\n",
        "logging.basicConfig(format='%(asctime)s : %(levelname)s : %(message)s', level=logging.ERROR)"
      ],
      "execution_count": null,
      "outputs": []
    },
    {
      "cell_type": "code",
      "metadata": {
        "id": "Zwm_MaNRqlYW"
      },
      "source": [
        "# The original datafile path, contains all the Quote from 2015-2020\n",
        "##dataset_path='/content/drive/Shareddrives/Ada/Quotebank'\n",
        "\n",
        "# The path store the first preprocessed Pickles \n",
        "#pickle_path='/content/drive/Shareddrives/Ada/pickle'\n",
        "\n",
        "# Specify which cols to drop and which to keep\n",
        "#use_cols=[\"qids\",\"quoteID\",\"quotation\",\"speaker\",\"date\",\"numOccurrences\",\"probas\",\"urls\",\"phase\"]\n",
        "#ignore_cols=[]\n",
        "\n",
        "# The chunk_size for the pickles\n",
        "#chunk_size = 600000 "
      ],
      "execution_count": null,
      "outputs": []
    },
    {
      "cell_type": "code",
      "metadata": {
        "id": "RlwU8iSD0n8V"
      },
      "source": [
        "# here if you want to remove the pickles and try to make new pickles\n",
        "# shutil.rmtree(pickle_path)\n",
        "# os.mkdir(pickle_path)"
      ],
      "execution_count": null,
      "outputs": []
    },
    {
      "cell_type": "code",
      "metadata": {
        "id": "wod6mx8g3XCa"
      },
      "source": [
        "from google.colab import drive\n",
        "drive.mount('/content/drive')"
      ],
      "execution_count": null,
      "outputs": []
    },
    {
      "cell_type": "code",
      "metadata": {
        "colab": {
          "base_uri": "https://localhost:8080/"
        },
        "id": "UWAJMiT_tli6",
        "outputId": "c3249a5e-78a0-4567-a123-7fb92d46d0df"
      },
      "source": [
        "# \bHere check if we already process data and save them into pickles\n",
        "# If not process them into pickles\n",
        "#if not os.listdir(pickle_path):\n",
        "   # for name in glob.glob(dataset_path + \"/*.bz2\"):\n",
        "   #   print(\"pickling \"+name)\n",
        "   #   pickle_name=name.split('/')[6].split('.')[0]\n",
        "   #   reader = pd.read_json(name, chunksize=chunk_size, lines=True, compression='bz2')   \n",
        "   #   for i, chunk in enumerate(reader):\n",
        "   #     chunk=chunk[use_cols]\n",
        "   #     out_file = pickle_path + \"/\"+ pickle_name + \"_{}.pkl\".format(i+1)\n",
        "   #     with open(out_file, \"wb\") as f:\n",
        "   #         pickle.dump(chunk,f,pickle.HIGHEST_PROTOCOL)\n",
        "   #     chunk=\"\"    \n",
        "  #  print('Pickles made!,ready to go!')       \n",
        "#else:    \n",
        " #   print(\"Already processed data into pickles, you can use them right away!\")"
      ],
      "execution_count": null,
      "outputs": [
        {
          "name": "stdout",
          "output_type": "stream",
          "text": [
            "Already processed data into pickles, you can use them right away!\n"
          ]
        }
      ]
    },
    {
      "cell_type": "code",
      "metadata": {
        "colab": {
          "base_uri": "https://localhost:8080/"
        },
        "id": "wyMdulg6wezB",
        "outputId": "9fa27485-a0cc-45b7-a755-ea1187d35945"
      },
      "source": [
        "\n",
        "# Here is an example how to filter the pickles and try to get useful informations\n",
        "# Where we store the processed pickle\n",
        "#processed_path='/content/drive/Shareddrives/Ada/processed' \n",
        "#out_file = processed_path + \"/\"+\"Brexit_related_quote.pkl\"\n",
        "\n",
        "\n",
        "# not os.path.exists(out_file):\n",
        "  # Specify the orginal pickles we want to process\n",
        "  # which are in the pickle folder\n",
        "  #data_p_files=[]\n",
        "  #for name in glob.glob(pickle_path + \"/*.pkl\"):\n",
        "   # data_p_files.append(name)\n",
        "\n",
        "  # Here is the key words we want to filter in the quotations\n",
        " # searchfor = ['Brexit','European Union','Theresa May', 'David Cameroun', 'Boris Johnson', 'backstop',\n",
        "  #             'Prime minister', 'no deal', 'UK', 'EU', 'transition period']\n",
        "  \n",
        "  # Add all the df into here and store it into pickle in the end\n",
        "# appended_data=[]\n",
        "# for i in range(len(data_p_files)):\n",
        "#   print(\"processing\"+data_p_files[i])\n",
        "#   df=pd.read_pickle(data_p_files[i])\n",
        "#   # Filter quotations only in phase E\n",
        "#   df=df.loc[df['phase']=='E']\n",
        "#   df=df.loc[df['speaker']!='None']\n",
        "#   # Filter quotations only relevant to Brexit or both UK and EU firtsly\n",
        "#   df=df.loc[df['quotation'].str.contains('Brexit|UK.*EU|EU.*UK|United Kingdom.*European Union|European Union.*United Kingdom|British.*EU|EU.*British',case = False)]\n",
        "#   # Define key words relevant to Brexit to filter related news from the quotations that only relevant to UK and EU \n",
        "#   searchfor = ['brexit','leave campaign and remain campaign','no deal', 'transition period','leave','withdral','referendum', 'split from']\n",
        "#   # Filter news relevant to some keywords\n",
        "#   df=df.loc[df['quotation'].str.contains('|'.join(searchfor),case = False)]\n",
        "\n",
        "#   appended_data.append(df)\n",
        "#   # release the df at the end of process\n",
        "#   # To free the memory\n",
        "#   df = \"\"  \n",
        "  \n",
        "  # concat and append\n",
        "  #appended_data = pd.concat(appended_data)\n",
        "  #appended_data.to_pickle(out_file)\n",
        "#else:    \n",
        " #   print(\"Already processed data into pickle, you can use them right away!\")"
      ],
      "execution_count": null,
      "outputs": [
        {
          "name": "stdout",
          "output_type": "stream",
          "text": [
            "Already processed data into pickle, you can use them right away!\n"
          ]
        }
      ]
    },
    {
      "cell_type": "code",
      "metadata": {
        "id": "a3yoDNVcpeuu"
      },
      "source": [
        "#Here we \n",
        "\n",
        "all_pickle_path='/content/drive/Shareddrives/Ada/processed/All_attribute.pkl'\n",
        "if not os.path.exists(all_attribute_pickle_path):\n",
        "  parquet_path='/content/drive/Shareddrives/Ada/Project datasets/speaker_attributes.parquet'\n",
        "  label_path='/content/drive/Shareddrives/Ada/Project datasets/wikidata_labels_descriptions_quotebank.csv.bz2'\n",
        "  df=pd.read_pickle('/content/drive/Shareddrives/Ada/processed/Brexit_related_quote.pkl')\n",
        "  df=df.loc[df['speaker']!='None']\n",
        "  df['qids']=df['qids'].map(lambda x:str(x[0]))\n",
        "  df.rename(columns={\"qids\":\"id\"},inplace=True)\n",
        "  parquet_cols=['id','label','date_of_birth','nationality','gender','ethnic_group','occupation','party','academic_degree','religion']\n",
        "\n",
        "  for name in glob.glob(parquet_path + \"/*.parquet\"):\n",
        "    par=pd.read_parquet(name)\n",
        "    par=par[parquet_cols]\n",
        "    #see if we already merge\n",
        "    if 'gender' not in df.columns:\n",
        "      df = pd.merge(df, par,on='id',how='left')\n",
        "    else:\n",
        "      df=df.set_index('id')\n",
        "      df.update(par.set_index('id'))\n",
        "      df.reset_index(inplace=True)\n",
        "\n",
        "  df = df.fillna('0')\n",
        "  cols=['nationality','gender','ethnic_group','occupation','party','academic_degree','religion']\n",
        "\n",
        "  for col in cols:\n",
        "    df[col]=df[col].map(lambda x: x[0])\n",
        "\n",
        "  df_label=pd.read_csv(label_path,compression='bz2',index_col='QID')\n",
        "  for col in cols:\n",
        "    df[col]=df[col].map(lambda x: df_label.loc[x]['Label'] if x in df_label.index else x)\n",
        "  df.to_pickle(all_attribute_pickle_path)"
      ],
      "execution_count": null,
      "outputs": []
    },
    {
      "cell_type": "code",
      "metadata": {
        "colab": {
          "base_uri": "https://localhost:8080/",
          "height": 632
        },
        "id": "EPxRGgybXa5C",
        "outputId": "9500c4ac-5b96-4909-f353-7146715410e7"
      },
      "source": [
        "df=pd.read_pickle('/content/drive/Shareddrives/Ada/processed/Brexit_related_quote.pkl')\n",
        "df.head(5)"
      ],
      "execution_count": null,
      "outputs": [
        {
          "output_type": "execute_result",
          "data": {
            "text/html": [
              "<div>\n",
              "<style scoped>\n",
              "    .dataframe tbody tr th:only-of-type {\n",
              "        vertical-align: middle;\n",
              "    }\n",
              "\n",
              "    .dataframe tbody tr th {\n",
              "        vertical-align: top;\n",
              "    }\n",
              "\n",
              "    .dataframe thead th {\n",
              "        text-align: right;\n",
              "    }\n",
              "</style>\n",
              "<table border=\"1\" class=\"dataframe\">\n",
              "  <thead>\n",
              "    <tr style=\"text-align: right;\">\n",
              "      <th style=\"min-width: {};\"></th>\n",
              "      <th style=\"min-width: {};\">qids</th>\n",
              "      <th style=\"min-width: {};\">quoteID</th>\n",
              "      <th style=\"min-width: {};\">quotation</th>\n",
              "      <th style=\"min-width: {};\">speaker</th>\n",
              "      <th style=\"min-width: {};\">probas</th>\n",
              "      <th style=\"min-width: {};\">date</th>\n",
              "      <th style=\"min-width: {};\">numOccurrences</th>\n",
              "      <th style=\"min-width: {};\">urls</th>\n",
              "      <th style=\"min-width: {};\">phase</th>\n",
              "    </tr>\n",
              "  </thead>\n",
              "  <tbody>\n",
              "    <tr>\n",
              "      <th>232</th>\n",
              "      <td>[Q20251661]</td>\n",
              "      <td>2020-01-31-011304</td>\n",
              "      <td>Brexit is the victory of the common people aga...</td>\n",
              "      <td>Laura Huhtasaari</td>\n",
              "      <td>[[Laura Huhtasaari, 0.9325], [None, 0.059], [P...</td>\n",
              "      <td>2020-01-31 03:25:04</td>\n",
              "      <td>1</td>\n",
              "      <td>[http://voanews.com/europe/shrug-and-some-sorr...</td>\n",
              "      <td>E</td>\n",
              "    </tr>\n",
              "    <tr>\n",
              "      <th>2828</th>\n",
              "      <td>[Q694676]</td>\n",
              "      <td>2020-02-13-014393</td>\n",
              "      <td>Certainly Brexit was a big issue and people we...</td>\n",
              "      <td>Pat McFadden</td>\n",
              "      <td>[[Pat McFadden, 0.9371], [None, 0.0535], [Jere...</td>\n",
              "      <td>2020-02-13 06:01:30</td>\n",
              "      <td>1</td>\n",
              "      <td>[http://www.expressandstar.com/news/politics/2...</td>\n",
              "      <td>E</td>\n",
              "    </tr>\n",
              "    <tr>\n",
              "      <th>3153</th>\n",
              "      <td>[Q1341937, Q16211383, Q694825]</td>\n",
              "      <td>2020-03-08-010480</td>\n",
              "      <td>I backed leave and voted leave, but I never ca...</td>\n",
              "      <td>Jason McCartney</td>\n",
              "      <td>[[Jason McCartney, 0.8274], [None, 0.128], [Li...</td>\n",
              "      <td>2020-03-08 05:45:58</td>\n",
              "      <td>1</td>\n",
              "      <td>[http://www.yorkshirepost.co.uk/news/second-ti...</td>\n",
              "      <td>E</td>\n",
              "    </tr>\n",
              "    <tr>\n",
              "      <th>3776</th>\n",
              "      <td>[Q6837191]</td>\n",
              "      <td>2020-02-14-058019</td>\n",
              "      <td>legacy, bad faith on pensions, Brexit and poli...</td>\n",
              "      <td>Michelle O'Neill</td>\n",
              "      <td>[[Michelle O'Neill, 0.8055], [None, 0.1302], [...</td>\n",
              "      <td>2020-02-14 11:48:49</td>\n",
              "      <td>1</td>\n",
              "      <td>[https://www.belfasttelegraph.co.uk/news/north...</td>\n",
              "      <td>E</td>\n",
              "    </tr>\n",
              "    <tr>\n",
              "      <th>4886</th>\n",
              "      <td>[Q1728820]</td>\n",
              "      <td>2020-01-27-094916</td>\n",
              "      <td>we're only at half-time on Brexit, it's not do...</td>\n",
              "      <td>Leo Varadkar</td>\n",
              "      <td>[[Leo Varadkar, 0.9378], [None, 0.0502], [Bori...</td>\n",
              "      <td>2020-01-27 12:25:00</td>\n",
              "      <td>1</td>\n",
              "      <td>[http://blogs.independent.co.uk/voices/brexit-...</td>\n",
              "      <td>E</td>\n",
              "    </tr>\n",
              "  </tbody>\n",
              "</table>\n",
              "</div>"
            ],
            "text/plain": [
              "                                qids  ... phase\n",
              "232                      [Q20251661]  ...     E\n",
              "2828                       [Q694676]  ...     E\n",
              "3153  [Q1341937, Q16211383, Q694825]  ...     E\n",
              "3776                      [Q6837191]  ...     E\n",
              "4886                      [Q1728820]  ...     E\n",
              "\n",
              "[5 rows x 9 columns]"
            ]
          },
          "metadata": {},
          "execution_count": 7
        }
      ]
    },
    {
      "cell_type": "code",
      "metadata": {
        "colab": {
          "base_uri": "https://localhost:8080/",
          "height": 391
        },
        "id": "YBSDKuULggCm",
        "outputId": "496327ae-c15e-4e4d-aeb0-17dada7d52fa"
      },
      "source": [
        "#Create word cloud using the latest pickle 'processed/Brexit_related_quote.pkl'\n",
        "from wordcloud import WordCloud, STOPWORDS\n",
        "from PIL import Image\n",
        "import string\n",
        "quotation_words = ''\n",
        "stopwords = set(STOPWORDS) \n",
        "qute_txt='/content/drive/Shareddrives/Ada/processed/qutos.txt'\n",
        "\n",
        "if not os.path.exists(qute_txt):\n",
        "  with open(qute_txt,\"w+\") as f:\n",
        "    # iterate through the csv file \n",
        "    for val in df.quotation: \n",
        "      # typecaste each val to string \n",
        "      val = str(val)\n",
        "      for c in string.punctuation:\n",
        "        val = val.replace(c,'') \n",
        "      # split the value \n",
        "      tokens = val.split() \n",
        "      #Converts each token into lowercase \n",
        "      for i in range(len(tokens)): \n",
        "        tokens[i] = tokens[i].lower()\n",
        "      for words in tokens: \n",
        "        f.write(str(words)+ '\\n')\n",
        "  f.close()\n",
        "\n",
        "quotation_words=open (qute_txt).read()\n",
        "mask = np.array(Image.open('/content/drive/Shareddrives/Ada/img/Flag_of_the_United_Kingdom.png'))\n",
        "wordcloud = WordCloud(width = 800, height = 800, \n",
        "            background_color ='white', \n",
        "            mask=mask,\n",
        "            stopwords = stopwords, \n",
        "            min_font_size = 10).generate(quotation_words) \n",
        "\n",
        "# plot the WordCloud image                        \n",
        "plt.figure(figsize = (10, 20), facecolor = None) \n",
        "plt.imshow(wordcloud) \n",
        "plt.axis(\"off\") \n",
        "plt.tight_layout(pad = 0) \n",
        "plt.show() \n",
        "## stop words "
      ],
      "execution_count": null,
      "outputs": [
        {
          "output_type": "display_data",
          "data": {
            "image/png": "[encoded data removed]",
            "text/plain": [
              "<Figure size 720x1440 with 1 Axes>"
            ]
          },
          "metadata": {
            "needs_background": "light"
          }
        }
      ]
    },
    {
      "cell_type": "code",
      "metadata": {
        "colab": {
          "base_uri": "https://localhost:8080/"
        },
        "id": "I8GkWaVdCck3",
        "outputId": "e13e2038-d4d7-4c4a-b5da-e6e3c277aa88"
      },
      "source": [
        "pip install textblob"
      ],
      "execution_count": null,
      "outputs": [
        {
          "output_type": "stream",
          "name": "stdout",
          "text": [
            "Requirement already satisfied: textblob in /usr/local/lib/python3.7/dist-packages (0.15.3)\n",
            "Requirement already satisfied: nltk>=3.1 in /usr/local/lib/python3.7/dist-packages (from textblob) (3.2.5)\n",
            "Requirement already satisfied: six in /usr/local/lib/python3.7/dist-packages (from nltk>=3.1->textblob) (1.15.0)\n"
          ]
        }
      ]
    },
    {
      "cell_type": "code",
      "metadata": {
        "colab": {
          "base_uri": "https://localhost:8080/",
          "height": 351
        },
        "id": "WZmjGAhoAkKz",
        "outputId": "a6e26a27-268d-4122-8641-84290886ad31"
      },
      "source": [
        "# sentimental analysis\n",
        "from textblob import TextBlob\n",
        "if 'polarity' not in df.columns:\n",
        "  df.insert(df.shape[1],'polarity','None')\n",
        "def polarity_to_text(blob):\n",
        "      if (blob.sentiment.polarity > 0.1):\n",
        "        #'Polarity is positive 😊'\n",
        "          return 'postive'\n",
        "      elif(blob.sentiment.polarity <= 0.1 and  blob.sentiment.polarity >= -0.1):\n",
        "          # 'Polarity is neutral 😐'\n",
        "          return 'neutral'\n",
        "      else:\n",
        "        # 'Polarity is negative 😡' \n",
        "          return 'negative'\n",
        "\n",
        "\n",
        "if df.iloc[1].polarity==\"None\":\n",
        "  for i,data in df.iterrows():\n",
        "    blob = TextBlob(data.quotation)\n",
        "    emotion=polarity_to_text(blob)\n",
        "    df.set_value(i,'polarity',emotion)\n",
        "\n",
        "plt.figure(figsize=(12,8))\n",
        "sns.set_theme(style=\"darkgrid\")\n",
        "ax = sns.countplot(x=\"polarity\", data=df,palette=\"Set3\")\n",
        "plt.show()"
      ],
      "execution_count": null,
      "outputs": [
        {
          "output_type": "error",
          "ename": "AttributeError",
          "evalue": "ignored",
          "traceback": [
            "\u001b[0;31m---------------------------------------------------------------------------\u001b[0m",
            "\u001b[0;31mAttributeError\u001b[0m                            Traceback (most recent call last)",
            "\u001b[0;32m<ipython-input-12-0fa7f4984d0c>\u001b[0m in \u001b[0;36m<module>\u001b[0;34m()\u001b[0m\n\u001b[1;32m     19\u001b[0m     \u001b[0mblob\u001b[0m \u001b[0;34m=\u001b[0m \u001b[0mTextBlob\u001b[0m\u001b[0;34m(\u001b[0m\u001b[0mdata\u001b[0m\u001b[0;34m.\u001b[0m\u001b[0mquotation\u001b[0m\u001b[0;34m)\u001b[0m\u001b[0;34m\u001b[0m\u001b[0;34m\u001b[0m\u001b[0m\n\u001b[1;32m     20\u001b[0m     \u001b[0memotion\u001b[0m\u001b[0;34m=\u001b[0m\u001b[0mpolarity_to_text\u001b[0m\u001b[0;34m(\u001b[0m\u001b[0mblob\u001b[0m\u001b[0;34m)\u001b[0m\u001b[0;34m\u001b[0m\u001b[0;34m\u001b[0m\u001b[0m\n\u001b[0;32m---> 21\u001b[0;31m     \u001b[0mdf\u001b[0m\u001b[0;34m.\u001b[0m\u001b[0mset_value\u001b[0m\u001b[0;34m(\u001b[0m\u001b[0mi\u001b[0m\u001b[0;34m,\u001b[0m\u001b[0;34m'polarity'\u001b[0m\u001b[0;34m,\u001b[0m\u001b[0memotion\u001b[0m\u001b[0;34m)\u001b[0m\u001b[0;34m\u001b[0m\u001b[0;34m\u001b[0m\u001b[0m\n\u001b[0m\u001b[1;32m     22\u001b[0m \u001b[0;34m\u001b[0m\u001b[0m\n\u001b[1;32m     23\u001b[0m \u001b[0mplt\u001b[0m\u001b[0;34m.\u001b[0m\u001b[0mfigure\u001b[0m\u001b[0;34m(\u001b[0m\u001b[0mfigsize\u001b[0m\u001b[0;34m=\u001b[0m\u001b[0;34m(\u001b[0m\u001b[0;36m12\u001b[0m\u001b[0;34m,\u001b[0m\u001b[0;36m8\u001b[0m\u001b[0;34m)\u001b[0m\u001b[0;34m)\u001b[0m\u001b[0;34m\u001b[0m\u001b[0;34m\u001b[0m\u001b[0m\n",
            "\u001b[0;32m/usr/local/lib/python3.7/dist-packages/pandas/core/generic.py\u001b[0m in \u001b[0;36m__getattr__\u001b[0;34m(self, name)\u001b[0m\n\u001b[1;32m   5139\u001b[0m         \u001b[0mPositional\u001b[0m \u001b[0marguments\u001b[0m \u001b[0mto\u001b[0m \u001b[0;32mpass\u001b[0m \u001b[0mto\u001b[0m\u001b[0;31m \u001b[0m\u001b[0;31m`\u001b[0m\u001b[0mfunc\u001b[0m\u001b[0;31m`\u001b[0m\u001b[0;34m.\u001b[0m\u001b[0;34m\u001b[0m\u001b[0;34m\u001b[0m\u001b[0m\n\u001b[1;32m   5140\u001b[0m     \u001b[0;34m**\u001b[0m\u001b[0mkwargs\u001b[0m\u001b[0;34m\u001b[0m\u001b[0;34m\u001b[0m\u001b[0m\n\u001b[0;32m-> 5141\u001b[0;31m         \u001b[0mKeyword\u001b[0m \u001b[0marguments\u001b[0m \u001b[0mto\u001b[0m \u001b[0;32mpass\u001b[0m \u001b[0mto\u001b[0m\u001b[0;31m \u001b[0m\u001b[0;31m`\u001b[0m\u001b[0mfunc\u001b[0m\u001b[0;31m`\u001b[0m\u001b[0;34m.\u001b[0m\u001b[0;34m\u001b[0m\u001b[0;34m\u001b[0m\u001b[0m\n\u001b[0m\u001b[1;32m   5142\u001b[0m \u001b[0;34m\u001b[0m\u001b[0m\n\u001b[1;32m   5143\u001b[0m     \u001b[0mReturns\u001b[0m\u001b[0;34m\u001b[0m\u001b[0;34m\u001b[0m\u001b[0m\n",
            "\u001b[0;31mAttributeError\u001b[0m: 'DataFrame' object has no attribute 'set_value'"
          ]
        }
      ]
    },
    {
      "cell_type": "code",
      "metadata": {
        "id": "RYlggsOpwdOE"
      },
      "source": [
        "import re"
      ],
      "execution_count": null,
      "outputs": []
    },
    {
      "cell_type": "code",
      "metadata": {
        "id": "TQxGvDTlwIkP"
      },
      "source": [
        "# Remove punctuation\n",
        "df['quotation_processed'] = \\\n",
        "df[\"quotation\"].map(lambda x: re.sub('[,\\.!?]', '', x))\n",
        "# Convert the titles to lowercase\n",
        "df['quotation_processed'] = \\\n",
        "df['quotation_processed'].map(lambda x: x.lower())\n",
        "# Print out the first rows of papers\n",
        "df['quotation_processed'].head()"
      ],
      "execution_count": null,
      "outputs": []
    },
    {
      "cell_type": "code",
      "metadata": {
        "id": "tUdNSzMFyGcF"
      },
      "source": [
        "# compare with the old word cloud to see if the processing did smt\n",
        "# dont think it will add much since the processing is already done\n",
        "from wordcloud import WordCloud, STOPWORDS\n",
        "from PIL import Image\n",
        "import string\n",
        "quotation_words = ''\n",
        "stopwords = set(STOPWORDS) \n",
        "qute_txt='/content/drive/Shareddrives/Ada/processed/qutos_trial_lda.txt'\n",
        "\n",
        "if not os.path.exists(qute_txt):\n",
        "  with open(qute_txt,\"w+\") as f:\n",
        "    # iterate through the csv file \n",
        "    for val in df.quotation_processed: \n",
        "      # typecaste each val to string \n",
        "      val = str(val)\n",
        "      for c in string.punctuation:\n",
        "        val = val.replace(c,'') \n",
        "      # split the value \n",
        "      tokens = val.split() \n",
        "      #Converts each token into lowercase \n",
        "      for i in range(len(tokens)): \n",
        "        tokens[i] = tokens[i].lower()\n",
        "      for words in tokens: \n",
        "        f.write(str(words)+ '\\n')\n",
        "  f.close()\n",
        "\n",
        "quotation_words=open (qute_txt).read()\n",
        "mask = np.array(Image.open('/content/drive/Shareddrives/Ada/img/Flag_of_the_United_Kingdom.png'))\n",
        "wordcloud = WordCloud(width = 800, height = 800, \n",
        "            background_color ='white', \n",
        "            mask=mask,\n",
        "            stopwords = stopwords, \n",
        "            min_font_size = 10).generate(quotation_words) \n",
        "\n",
        "# plot the WordCloud image                        \n",
        "plt.figure(figsize = (10, 20), facecolor = None) \n",
        "plt.imshow(wordcloud) \n",
        "plt.axis(\"off\") \n",
        "plt.tight_layout(pad = 0) \n",
        "plt.show() \n",
        "## stop words"
      ],
      "execution_count": null,
      "outputs": []
    },
    {
      "cell_type": "code",
      "metadata": {
        "id": "xIlsO5SgyHJf"
      },
      "source": [
        "import gensim\n",
        "from gensim.utils import simple_preprocess\n",
        "import nltk\n",
        "nltk.download('stopwords')\n",
        "from nltk.corpus import stopwords\n",
        "\n",
        "stop_words = stopwords.words('english')\n",
        "stop_words.extend(['thats', 'one', 'let', 'put', 'lot','mean'])\n",
        "\n",
        "def sent_to_words(sentences):\n",
        "    for sentence in sentences:\n",
        "        # deacc=True removes punctuations\n",
        "        yield(gensim.utils.simple_preprocess(str(sentence), deacc=True))\n",
        "def remove_stopwords(texts):\n",
        "    return [[word for word in simple_preprocess(str(doc)) \n",
        "             if word not in stop_words] for doc in texts]\n",
        "\n",
        "data = df.quotation_processed.values.tolist()\n",
        "data_words = list(sent_to_words(data))\n",
        "# remove stop words\n",
        "data_words = remove_stopwords(data_words)\n",
        "print(data_words[:1][0][:30])"
      ],
      "execution_count": null,
      "outputs": []
    },
    {
      "cell_type": "code",
      "metadata": {
        "id": "X9S8gG4YyM4e"
      },
      "source": [
        "import gensim.corpora as corpora\n",
        "# Create Dictionary\n",
        "id2word = corpora.Dictionary(data_words)\n",
        "# Create Corpus\n",
        "texts = data_words\n",
        "# Term Document Frequency\n",
        "corpus = [id2word.doc2bow(text) for text in texts]\n",
        "# View\n",
        "print(corpus[:1][0][:30])"
      ],
      "execution_count": null,
      "outputs": []
    },
    {
      "cell_type": "markdown",
      "metadata": {
        "id": "RxPDJLOpyQpi"
      },
      "source": [
        "LDA model training"
      ]
    },
    {
      "cell_type": "code",
      "metadata": {
        "id": "h8tvpdkNyREz"
      },
      "source": [
        "from pprint import pprint\n",
        "# number of topics\n",
        "num_topics = 15\n",
        "# Build LDA model\n",
        "lda_model = gensim.models.LdaMulticore(corpus=corpus,\n",
        "                                       id2word=id2word,\n",
        "                                       num_topics=num_topics)\n",
        "# Print the Keyword in the 10 topics\n",
        "pprint(lda_model.print_topics())\n",
        "doc_lda = lda_model[corpus]"
      ],
      "execution_count": null,
      "outputs": []
    },
    {
      "cell_type": "markdown",
      "metadata": {
        "id": "ukGhe_NcyYZy"
      },
      "source": [
        "Using N-gram to find subject"
      ]
    },
    {
      "cell_type": "code",
      "metadata": {
        "id": "XjgDn1aCyS_r"
      },
      "source": [
        "# Build the bigram and trigram models\n",
        "bigram = gensim.models.Phrases(data_words, min_count=5, threshold=100) # higher threshold fewer phrases.\n",
        "trigram = gensim.models.Phrases(bigram[data_words], threshold=100)  \n",
        "bigram_mod = gensim.models.phrases.Phraser(bigram)\n",
        "trigram_mod = gensim.models.phrases.Phraser(trigram)\n",
        "\n",
        "# !python3 -m spacy download en  # run in terminal once\n",
        "def process_words(texts, stop_words=stop_words, allowed_postags=['NOUN', 'ADJ', 'VERB', 'ADV']):\n",
        "    \"\"\"Remove Stopwords, Form Bigrams, Trigrams and Lemmatization\"\"\"\n",
        "    texts = [[word for word in simple_preprocess(str(doc)) if word not in stop_words] for doc in texts]\n",
        "    texts = [bigram_mod[doc] for doc in texts]\n",
        "    texts = [trigram_mod[bigram_mod[doc]] for doc in texts]\n",
        "    texts_out = []\n",
        "    nlp = spacy.load('en', disable=['parser', 'ner'])\n",
        "    for sent in texts:\n",
        "        doc = nlp(\" \".join(sent)) \n",
        "        texts_out.append([token.lemma_ for token in doc if token.pos_ in allowed_postags])\n",
        "    # remove stopwords once more after lemmatization\n",
        "    texts_out = [[word for word in simple_preprocess(str(doc)) if word not in stop_words] for doc in texts_out]    \n",
        "    return texts_out\n",
        "\n",
        "data_ready = process_words(data_words)  # processed Text Data!\n"
      ],
      "execution_count": null,
      "outputs": []
    },
    {
      "cell_type": "code",
      "metadata": {
        "id": "IPY4TyVfJqMn"
      },
      "source": [
        "lda_model"
      ],
      "execution_count": null,
      "outputs": []
    },
    {
      "cell_type": "code",
      "metadata": {
        "id": "NCwtYqgGyfFU"
      },
      "source": [
        "def format_topics_sentences(ldamodel=None, corpus=corpus, texts=data):\n",
        "    # Init output\n",
        "    sent_topics_df = pd.DataFrame()\n",
        "\n",
        "    # Get main topic in each document\n",
        "    for i, row_list in enumerate(ldamodel[corpus]):\n",
        "        row = row_list[0] if ldamodel.per_word_topics else row_list            \n",
        "        # print(row)\n",
        "        row = sorted(row, key=lambda x: (x[1]), reverse=True)\n",
        "        # Get the Dominant topic, Perc Contribution and Keywords for each document\n",
        "        for j, (topic_num, prop_topic) in enumerate(row):\n",
        "            if j == 0:  # => dominant topic\n",
        "                wp = ldamodel.show_topic(topic_num)\n",
        "                topic_keywords = \", \".join([word for word, prop in wp])\n",
        "                sent_topics_df = sent_topics_df.append(pd.Series([int(topic_num), round(prop_topic,4), topic_keywords]), ignore_index=True)\n",
        "            else:\n",
        "                break\n",
        "    sent_topics_df.columns = ['Dominant_Topic', 'Perc_Contribution', 'Topic_Keywords']\n",
        "\n",
        "    # Add original text to the end of the output\n",
        "    contents = pd.Series(texts)\n",
        "    sent_topics_df = pd.concat([sent_topics_df, contents], axis=1)\n",
        "    return(sent_topics_df)\n",
        "\n",
        "\n",
        "df_topic_sents_keywords = format_topics_sentences(ldamodel=lda_model, corpus=corpus, texts=data_ready)\n",
        "\n",
        "# Format\n",
        "df_dominant_topic = df_topic_sents_keywords.reset_index()\n",
        "df_dominant_topic.columns = ['Document_No', 'Dominant_Topic', 'Topic_Perc_Contrib', 'Keywords', 'Text']\n",
        "df_dominant_topic.head(10)"
      ],
      "execution_count": null,
      "outputs": []
    },
    {
      "cell_type": "code",
      "metadata": {
        "id": "yXv7VmM4yp5Z"
      },
      "source": [
        "doc_lens = [len(d) for d in df_dominant_topic.Text]\n",
        "\n",
        "# Plot\n",
        "plt.figure(figsize=(16,7), dpi=160)\n",
        "plt.hist(doc_lens, bins = 1000, color='navy')\n",
        "plt.text(750, 100, \"Mean   : \" + str(round(np.mean(doc_lens))))\n",
        "plt.text(750,  90, \"Median : \" + str(round(np.median(doc_lens))))\n",
        "plt.text(750,  80, \"Stdev   : \" + str(round(np.std(doc_lens))))\n",
        "plt.text(750,  70, \"1%ile    : \" + str(round(np.quantile(doc_lens, q=0.01))))\n",
        "plt.text(750,  60, \"99%ile  : \" + str(round(np.quantile(doc_lens, q=0.99))))\n",
        "\n",
        "plt.gca().set(xlim=(0, 1000), ylabel='Number of Documents', xlabel='Document Word Count')\n",
        "plt.tick_params(size=16)\n",
        "plt.xticks(np.linspace(0,1000,9))\n",
        "plt.title('Distribution of Document Word Counts', fontdict=dict(size=22))\n",
        "plt.show()"
      ],
      "execution_count": null,
      "outputs": []
    },
    {
      "cell_type": "code",
      "metadata": {
        "id": "YdOU2e-Cyy5H"
      },
      "source": [
        "# 1. Wordcloud of Top N words in each topic\n",
        "from matplotlib import pyplot as plt\n",
        "from wordcloud import WordCloud, STOPWORDS\n",
        "import matplotlib.colors as mcolors\n",
        "\n",
        "cols = [color for name, color in mcolors.TABLEAU_COLORS.items()]  # more colors: 'mcolors.XKCD_COLORS'\n",
        "\n",
        "cloud = WordCloud(stopwords=stop_words,\n",
        "                  background_color='white',\n",
        "                  width=2500,\n",
        "                  height=1800,\n",
        "                  max_words=10,\n",
        "                  colormap='tab10',\n",
        "                  color_func=lambda *args, **kwargs: cols[i],\n",
        "                  prefer_horizontal=1.0)\n",
        "\n",
        "topics = lda_model.show_topics(formatted=False)\n",
        "\n",
        "fig, axes = plt.subplots(2, 2, figsize=(10,10), sharex=True, sharey=True)\n",
        "\n",
        "for i, ax in enumerate(axes.flatten()):\n",
        "    fig.add_subplot(ax)\n",
        "    topic_words = dict(topics[i][1])\n",
        "    cloud.generate_from_frequencies(topic_words, max_font_size=300)\n",
        "    plt.gca().imshow(cloud)\n",
        "    plt.gca().set_title('Topic ' + str(i), fontdict=dict(size=16))\n",
        "    plt.gca().axis('off')\n",
        "\n",
        "\n",
        "plt.subplots_adjust(wspace=0, hspace=0)\n",
        "plt.axis('off')\n",
        "plt.margins(x=0, y=0)\n",
        "plt.tight_layout()\n",
        "plt.show()"
      ],
      "execution_count": null,
      "outputs": []
    },
    {
      "cell_type": "code",
      "metadata": {
        "id": "qjrRoRmqy3WT"
      },
      "source": [
        "# Sentence Coloring of N Sentences\n",
        "from matplotlib.patches import Rectangle\n",
        "\n",
        "def sentences_chart(lda_model=lda_model, corpus=corpus, start = 0, end = 13):\n",
        "    corp = corpus[start:end]\n",
        "    mycolors = [color for name, color in mcolors.TABLEAU_COLORS.items()]\n",
        "\n",
        "    fig, axes = plt.subplots(end-start, 1, figsize=(20, (end-start)*0.95), dpi=160)       \n",
        "    axes[0].axis('off')\n",
        "    for i, ax in enumerate(axes):\n",
        "        if i > 0:\n",
        "            corp_cur = corp[i-1] \n",
        "            topic_percs, wordid_topics, wordid_phivalues = lda_model[corp_cur]\n",
        "            word_dominanttopic = [(lda_model.id2word[wd], topic[0]) for wd, topic in wordid_topics]    \n",
        "            ax.text(0.01, 0.5, \"Doc \" + str(i-1) + \": \", verticalalignment='center',\n",
        "                    fontsize=16, color='black', transform=ax.transAxes, fontweight=700)\n",
        "\n",
        "            # Draw Rectange\n",
        "            topic_percs_sorted = sorted(topic_percs, key=lambda x: (x[1]), reverse=True)\n",
        "            ax.add_patch(Rectangle((0.0, 0.05), 0.99, 0.90, fill=None, alpha=1, \n",
        "                                   color=mycolors[topic_percs_sorted[0][0]], linewidth=2))\n",
        "\n",
        "            word_pos = 0.06\n",
        "            for j, (word, topics) in enumerate(word_dominanttopic):\n",
        "                if j < 14:\n",
        "                    ax.text(word_pos, 0.5, word,\n",
        "                            horizontalalignment='left',\n",
        "                            verticalalignment='center',\n",
        "                            fontsize=16, color=mycolors[topics],\n",
        "                            transform=ax.transAxes, fontweight=700)\n",
        "                    word_pos += .009 * len(word)  # to move the word for the next iter\n",
        "                    ax.axis('off')\n",
        "            ax.text(word_pos, 0.5, '. . .',\n",
        "                    horizontalalignment='left',\n",
        "                    verticalalignment='center',\n",
        "                    fontsize=16, color='black',\n",
        "                    transform=ax.transAxes)       \n",
        "\n",
        "    plt.subplots_adjust(wspace=0, hspace=0)\n",
        "    plt.suptitle('Sentence Topic Coloring for Documents: ' + str(start) + ' to ' + str(end-2), fontsize=22, y=0.95, fontweight=700)\n",
        "    plt.tight_layout()\n",
        "    plt.show()\n",
        "\n",
        "sentences_chart()"
      ],
      "execution_count": null,
      "outputs": []
    },
    {
      "cell_type": "code",
      "metadata": {
        "id": "wIdeKXr1y_xy"
      },
      "source": [
        "# Sentence Coloring of N Sentences\n",
        "def topics_per_document(model, corpus, start=0, end=1):\n",
        "    corpus_sel = corpus[start:end]\n",
        "    dominant_topics = []\n",
        "    topic_percentages = []\n",
        "    for i, corp in enumerate(corpus_sel):\n",
        "        topic_percs, wordid_topics, wordid_phivalues = model[corp]\n",
        "        dominant_topic = sorted(topic_percs, key = lambda x: x[1], reverse=True)[0][0]\n",
        "        dominant_topics.append((i, dominant_topic))\n",
        "        topic_percentages.append(topic_percs)\n",
        "    return(dominant_topics, topic_percentages)\n",
        "\n",
        "dominant_topics, topic_percentages = topics_per_document(model=lda_model, corpus=corpus, end=-1)            \n",
        "\n",
        "# Distribution of Dominant Topics in Each Document\n",
        "df = pd.DataFrame(dominant_topics, columns=['Document_Id', 'Dominant_Topic'])\n",
        "dominant_topic_in_each_doc = df.groupby('Dominant_Topic').size()\n",
        "df_dominant_topic_in_each_doc = dominant_topic_in_each_doc.to_frame(name='count').reset_index()\n",
        "\n",
        "# Total Topic Distribution by actual weight\n",
        "topic_weightage_by_doc = pd.DataFrame([dict(t) for t in topic_percentages])\n",
        "df_topic_weightage_by_doc = topic_weightage_by_doc.sum().to_frame(name='count').reset_index()\n",
        "\n",
        "# Top 3 Keywords for each Topic\n",
        "topic_top3words = [(i, topic) for i, topics in lda_model.show_topics(formatted=False) \n",
        "                                 for j, (topic, wt) in enumerate(topics) if j < 3]\n",
        "\n",
        "df_top3words_stacked = pd.DataFrame(topic_top3words, columns=['topic_id', 'words'])\n",
        "df_top3words = df_top3words_stacked.groupby('topic_id').agg(', \\n'.join)\n",
        "df_top3words.reset_index(level=0,inplace=True)"
      ],
      "execution_count": null,
      "outputs": []
    },
    {
      "cell_type": "code",
      "metadata": {
        "id": "rbYCYW2gzAXE"
      },
      "source": [
        "from matplotlib.ticker import FuncFormatter\n",
        "\n",
        "# Plot\n",
        "fig, (ax1, ax2) = plt.subplots(1, 2, figsize=(10, 4), dpi=120, sharey=True)\n",
        "\n",
        "# Topic Distribution by Dominant Topics\n",
        "ax1.bar(x='Dominant_Topic', height='count', data=df_dominant_topic_in_each_doc, width=.5, color='firebrick')\n",
        "ax1.set_xticks(range(df_dominant_topic_in_each_doc.Dominant_Topic.unique().__len__()))\n",
        "tick_formatter = FuncFormatter(lambda x, pos: 'Topic ' + str(x)+ '\\n' + df_top3words.loc[df_top3words.topic_id==x, 'words'].values[0])\n",
        "ax1.xaxis.set_major_formatter(tick_formatter)\n",
        "ax1.set_title('Number of Documents by Dominant Topic', fontdict=dict(size=10))\n",
        "ax1.set_ylabel('Number of Documents')\n",
        "ax1.set_ylim(0, 1000)\n",
        "\n",
        "# Topic Distribution by Topic Weights\n",
        "ax2.bar(x='index', height='count', data=df_topic_weightage_by_doc, width=.5, color='steelblue')\n",
        "ax2.set_xticks(range(df_topic_weightage_by_doc.index.unique().__len__()))\n",
        "ax2.xaxis.set_major_formatter(tick_formatter)\n",
        "ax2.set_title('Number of Documents by Topic Weightage', fontdict=dict(size=10))\n",
        "\n",
        "plt.show()"
      ],
      "execution_count": null,
      "outputs": []
    },
    {
      "cell_type": "markdown",
      "metadata": {
        "id": "S3TOGDLqDYDh"
      },
      "source": [
        "# 1.filter and preprocessing data (J) done!\n",
        "# 2.have new pickles(J) done!\n",
        "# 3.Add their professions(M)\n",
        "# 4.Add their company (M)\n",
        "# 5.use api to classify their sentiment https://komprehend.io/sentiment-analysis (Z maybe J) \n",
        "# 6.descriptive plots\n",
        "## a. Across time\n",
        "## b. Major events\n",
        "## c. Most frequent word in that time\n",
        "## d. \n",
        "## 7. LDA (Z)\n",
        "\n",
        "## theresa may, david cameroun, boris johnson, backstop, Prime minister, no deal, UK, EU, transition period\n",
        "\n",
        "## 2015 ( era before brexit)\n",
        "## 23/6/2016: uk votes to leave\n",
        "## 13/7/2016: change of prime minister Cameroun to may\n",
        "## 23/6/2017: trigger warning, 2 years countdown\n",
        "## 8/12/2017 to 25/11/2018: backstop\n",
        "## 24/6/2019 : may resigns\n",
        "## 24/7/2019: boris is pm\n",
        "## 2/10/2019: brexit deal \n",
        "## 12/12/2019: election day\n",
        "## 31/01/2020- 16/10/2020: departed, discusion the deal/ no deal exit"
      ]
    },
    {
      "cell_type": "markdown",
      "metadata": {
        "id": "6CtgJUaF6j6u"
      },
      "source": [
        "# New Section"
      ]
    },
    {
      "cell_type": "markdown",
      "metadata": {
        "id": "zpqNixjrmX74"
      },
      "source": [
        "**Mahdi is working in here :)**"
      ]
    },
    {
      "cell_type": "code",
      "metadata": {
        "colab": {
          "base_uri": "https://localhost:8080/",
          "height": 632
        },
        "id": "Qysj7jbaAYzJ",
        "outputId": "90b00276-e2ca-4df1-a762-0a823880be96"
      },
      "source": [
        "df.head()"
      ],
      "execution_count": null,
      "outputs": [
        {
          "output_type": "execute_result",
          "data": {
            "text/html": [
              "<div>\n",
              "<style scoped>\n",
              "    .dataframe tbody tr th:only-of-type {\n",
              "        vertical-align: middle;\n",
              "    }\n",
              "\n",
              "    .dataframe tbody tr th {\n",
              "        vertical-align: top;\n",
              "    }\n",
              "\n",
              "    .dataframe thead th {\n",
              "        text-align: right;\n",
              "    }\n",
              "</style>\n",
              "<table border=\"1\" class=\"dataframe\">\n",
              "  <thead>\n",
              "    <tr style=\"text-align: right;\">\n",
              "      <th style=\"min-width: {};\"></th>\n",
              "      <th style=\"min-width: {};\">qids</th>\n",
              "      <th style=\"min-width: {};\">quoteID</th>\n",
              "      <th style=\"min-width: {};\">quotation</th>\n",
              "      <th style=\"min-width: {};\">speaker</th>\n",
              "      <th style=\"min-width: {};\">probas</th>\n",
              "      <th style=\"min-width: {};\">date</th>\n",
              "      <th style=\"min-width: {};\">numOccurrences</th>\n",
              "      <th style=\"min-width: {};\">urls</th>\n",
              "      <th style=\"min-width: {};\">phase</th>\n",
              "    </tr>\n",
              "  </thead>\n",
              "  <tbody>\n",
              "    <tr>\n",
              "      <th>232</th>\n",
              "      <td>[Q20251661]</td>\n",
              "      <td>2020-01-31-011304</td>\n",
              "      <td>Brexit is the victory of the common people aga...</td>\n",
              "      <td>Laura Huhtasaari</td>\n",
              "      <td>[[Laura Huhtasaari, 0.9325], [None, 0.059], [P...</td>\n",
              "      <td>2020-01-31 03:25:04</td>\n",
              "      <td>1</td>\n",
              "      <td>[http://voanews.com/europe/shrug-and-some-sorr...</td>\n",
              "      <td>E</td>\n",
              "    </tr>\n",
              "    <tr>\n",
              "      <th>2828</th>\n",
              "      <td>[Q694676]</td>\n",
              "      <td>2020-02-13-014393</td>\n",
              "      <td>Certainly Brexit was a big issue and people we...</td>\n",
              "      <td>Pat McFadden</td>\n",
              "      <td>[[Pat McFadden, 0.9371], [None, 0.0535], [Jere...</td>\n",
              "      <td>2020-02-13 06:01:30</td>\n",
              "      <td>1</td>\n",
              "      <td>[http://www.expressandstar.com/news/politics/2...</td>\n",
              "      <td>E</td>\n",
              "    </tr>\n",
              "    <tr>\n",
              "      <th>3153</th>\n",
              "      <td>[Q1341937, Q16211383, Q694825]</td>\n",
              "      <td>2020-03-08-010480</td>\n",
              "      <td>I backed leave and voted leave, but I never ca...</td>\n",
              "      <td>Jason McCartney</td>\n",
              "      <td>[[Jason McCartney, 0.8274], [None, 0.128], [Li...</td>\n",
              "      <td>2020-03-08 05:45:58</td>\n",
              "      <td>1</td>\n",
              "      <td>[http://www.yorkshirepost.co.uk/news/second-ti...</td>\n",
              "      <td>E</td>\n",
              "    </tr>\n",
              "    <tr>\n",
              "      <th>3776</th>\n",
              "      <td>[Q6837191]</td>\n",
              "      <td>2020-02-14-058019</td>\n",
              "      <td>legacy, bad faith on pensions, Brexit and poli...</td>\n",
              "      <td>Michelle O'Neill</td>\n",
              "      <td>[[Michelle O'Neill, 0.8055], [None, 0.1302], [...</td>\n",
              "      <td>2020-02-14 11:48:49</td>\n",
              "      <td>1</td>\n",
              "      <td>[https://www.belfasttelegraph.co.uk/news/north...</td>\n",
              "      <td>E</td>\n",
              "    </tr>\n",
              "    <tr>\n",
              "      <th>4886</th>\n",
              "      <td>[Q1728820]</td>\n",
              "      <td>2020-01-27-094916</td>\n",
              "      <td>we're only at half-time on Brexit, it's not do...</td>\n",
              "      <td>Leo Varadkar</td>\n",
              "      <td>[[Leo Varadkar, 0.9378], [None, 0.0502], [Bori...</td>\n",
              "      <td>2020-01-27 12:25:00</td>\n",
              "      <td>1</td>\n",
              "      <td>[http://blogs.independent.co.uk/voices/brexit-...</td>\n",
              "      <td>E</td>\n",
              "    </tr>\n",
              "  </tbody>\n",
              "</table>\n",
              "</div>"
            ],
            "text/plain": [
              "                                qids  ... phase\n",
              "232                      [Q20251661]  ...     E\n",
              "2828                       [Q694676]  ...     E\n",
              "3153  [Q1341937, Q16211383, Q694825]  ...     E\n",
              "3776                      [Q6837191]  ...     E\n",
              "4886                      [Q1728820]  ...     E\n",
              "\n",
              "[5 rows x 9 columns]"
            ]
          },
          "metadata": {},
          "execution_count": 8
        }
      ]
    },
    {
      "cell_type": "markdown",
      "metadata": {
        "id": "FK3HElEXglVv"
      },
      "source": [
        "**Adding the name of the domain (taking it from the url)**"
      ]
    },
    {
      "cell_type": "code",
      "metadata": {
        "colab": {
          "base_uri": "https://localhost:8080/"
        },
        "id": "mbo0tfMLvbMM",
        "outputId": "6c3310fe-52bc-4d69-a647-edb45e6c9d0c"
      },
      "source": [
        "#Testing\n",
        "from urllib.parse import urlparse\n",
        "list_domains = []\n",
        "for url in df.iloc[3776].urls:\n",
        "  list_domains.append(urlparse(url).netloc)\n",
        "\n",
        "list_domains"
      ],
      "execution_count": null,
      "outputs": [
        {
          "output_type": "execute_result",
          "data": {
            "text/plain": [
              "['www.mirror.co.uk', 'www.liverpoolecho.co.uk']"
            ]
          },
          "metadata": {},
          "execution_count": 9
        }
      ]
    },
    {
      "cell_type": "code",
      "metadata": {
        "colab": {
          "base_uri": "https://localhost:8080/",
          "height": 1000
        },
        "id": "0jQ4Bc51u40t",
        "outputId": "46eb5251-89b5-48b0-e88f-8a0326dc2b18"
      },
      "source": [
        "#Function tp change urls to domains\n",
        "def function(row):\n",
        "  list_domains = []\n",
        "  for url in row:\n",
        "    list_domains.append(urlparse(url).netloc)\n",
        "  return list_domains\n",
        "\n",
        "df['domains'] = df['urls'].apply(function)\n",
        "df"
      ],
      "execution_count": null,
      "outputs": [
        {
          "output_type": "execute_result",
          "data": {
            "text/html": [
              "<div>\n",
              "<style scoped>\n",
              "    .dataframe tbody tr th:only-of-type {\n",
              "        vertical-align: middle;\n",
              "    }\n",
              "\n",
              "    .dataframe tbody tr th {\n",
              "        vertical-align: top;\n",
              "    }\n",
              "\n",
              "    .dataframe thead th {\n",
              "        text-align: right;\n",
              "    }\n",
              "</style>\n",
              "<table border=\"1\" class=\"dataframe\">\n",
              "  <thead>\n",
              "    <tr style=\"text-align: right;\">\n",
              "      <th style=\"min-width: {};\"></th>\n",
              "      <th style=\"min-width: {};\">qids</th>\n",
              "      <th style=\"min-width: {};\">quoteID</th>\n",
              "      <th style=\"min-width: {};\">quotation</th>\n",
              "      <th style=\"min-width: {};\">speaker</th>\n",
              "      <th style=\"min-width: {};\">probas</th>\n",
              "      <th style=\"min-width: {};\">date</th>\n",
              "      <th style=\"min-width: {};\">numOccurrences</th>\n",
              "      <th style=\"min-width: {};\">urls</th>\n",
              "      <th style=\"min-width: {};\">phase</th>\n",
              "      <th style=\"min-width: {};\">domains</th>\n",
              "    </tr>\n",
              "  </thead>\n",
              "  <tbody>\n",
              "    <tr>\n",
              "      <th>232</th>\n",
              "      <td>[Q20251661]</td>\n",
              "      <td>2020-01-31-011304</td>\n",
              "      <td>Brexit is the victory of the common people aga...</td>\n",
              "      <td>Laura Huhtasaari</td>\n",
              "      <td>[[Laura Huhtasaari, 0.9325], [None, 0.059], [P...</td>\n",
              "      <td>2020-01-31 03:25:04</td>\n",
              "      <td>1</td>\n",
              "      <td>[http://voanews.com/europe/shrug-and-some-sorr...</td>\n",
              "      <td>E</td>\n",
              "      <td>[voanews.com]</td>\n",
              "    </tr>\n",
              "    <tr>\n",
              "      <th>2828</th>\n",
              "      <td>[Q694676]</td>\n",
              "      <td>2020-02-13-014393</td>\n",
              "      <td>Certainly Brexit was a big issue and people we...</td>\n",
              "      <td>Pat McFadden</td>\n",
              "      <td>[[Pat McFadden, 0.9371], [None, 0.0535], [Jere...</td>\n",
              "      <td>2020-02-13 06:01:30</td>\n",
              "      <td>1</td>\n",
              "      <td>[http://www.expressandstar.com/news/politics/2...</td>\n",
              "      <td>E</td>\n",
              "      <td>[www.expressandstar.com]</td>\n",
              "    </tr>\n",
              "    <tr>\n",
              "      <th>3153</th>\n",
              "      <td>[Q1341937, Q16211383, Q694825]</td>\n",
              "      <td>2020-03-08-010480</td>\n",
              "      <td>I backed leave and voted leave, but I never ca...</td>\n",
              "      <td>Jason McCartney</td>\n",
              "      <td>[[Jason McCartney, 0.8274], [None, 0.128], [Li...</td>\n",
              "      <td>2020-03-08 05:45:58</td>\n",
              "      <td>1</td>\n",
              "      <td>[http://www.yorkshirepost.co.uk/news/second-ti...</td>\n",
              "      <td>E</td>\n",
              "      <td>[www.yorkshirepost.co.uk]</td>\n",
              "    </tr>\n",
              "    <tr>\n",
              "      <th>3776</th>\n",
              "      <td>[Q6837191]</td>\n",
              "      <td>2020-02-14-058019</td>\n",
              "      <td>legacy, bad faith on pensions, Brexit and poli...</td>\n",
              "      <td>Michelle O'Neill</td>\n",
              "      <td>[[Michelle O'Neill, 0.8055], [None, 0.1302], [...</td>\n",
              "      <td>2020-02-14 11:48:49</td>\n",
              "      <td>1</td>\n",
              "      <td>[https://www.belfasttelegraph.co.uk/news/north...</td>\n",
              "      <td>E</td>\n",
              "      <td>[www.belfasttelegraph.co.uk]</td>\n",
              "    </tr>\n",
              "    <tr>\n",
              "      <th>4886</th>\n",
              "      <td>[Q1728820]</td>\n",
              "      <td>2020-01-27-094916</td>\n",
              "      <td>we're only at half-time on Brexit, it's not do...</td>\n",
              "      <td>Leo Varadkar</td>\n",
              "      <td>[[Leo Varadkar, 0.9378], [None, 0.0502], [Bori...</td>\n",
              "      <td>2020-01-27 12:25:00</td>\n",
              "      <td>1</td>\n",
              "      <td>[http://blogs.independent.co.uk/voices/brexit-...</td>\n",
              "      <td>E</td>\n",
              "      <td>[blogs.independent.co.uk]</td>\n",
              "    </tr>\n",
              "    <tr>\n",
              "      <th>...</th>\n",
              "      <td>...</td>\n",
              "      <td>...</td>\n",
              "      <td>...</td>\n",
              "      <td>...</td>\n",
              "      <td>...</td>\n",
              "      <td>...</td>\n",
              "      <td>...</td>\n",
              "      <td>...</td>\n",
              "      <td>...</td>\n",
              "      <td>...</td>\n",
              "    </tr>\n",
              "    <tr>\n",
              "      <th>20699374</th>\n",
              "      <td>[Q567]</td>\n",
              "      <td>2015-10-07-001521</td>\n",
              "      <td>a Brexit now [ look ] more likely</td>\n",
              "      <td>Angela Merkel</td>\n",
              "      <td>[[Angela Merkel, 0.5723], [Francois Hollande, ...</td>\n",
              "      <td>2015-10-07 07:54:43</td>\n",
              "      <td>1</td>\n",
              "      <td>[http://breitbart.com/london/2015/10/07/farage...</td>\n",
              "      <td>E</td>\n",
              "      <td>[breitbart.com]</td>\n",
              "    </tr>\n",
              "    <tr>\n",
              "      <th>20708455</th>\n",
              "      <td>[Q1395663]</td>\n",
              "      <td>2015-03-10-096295</td>\n",
              "      <td>We saw strong growth in the UK last year but I...</td>\n",
              "      <td>Sir Martin Sorrell</td>\n",
              "      <td>[[Sir Martin Sorrell, 0.8715], [None, 0.1285]]</td>\n",
              "      <td>2015-03-10 00:51:18</td>\n",
              "      <td>1</td>\n",
              "      <td>[http://independent.co.uk/news/business/news/w...</td>\n",
              "      <td>E</td>\n",
              "      <td>[independent.co.uk]</td>\n",
              "    </tr>\n",
              "    <tr>\n",
              "      <th>20728876</th>\n",
              "      <td>[Q23769958]</td>\n",
              "      <td>2015-10-09-130507</td>\n",
              "      <td>We look forward to supporting their push to pe...</td>\n",
              "      <td>Richard Tice</td>\n",
              "      <td>[[Richard Tice, 0.9685], [None, 0.0262], [Davi...</td>\n",
              "      <td>2015-10-09 07:29:35</td>\n",
              "      <td>5</td>\n",
              "      <td>[http://feeds.theguardian.com/c/34708/f/663865...</td>\n",
              "      <td>E</td>\n",
              "      <td>[feeds.theguardian.com, feeds.theguardian.com,...</td>\n",
              "    </tr>\n",
              "    <tr>\n",
              "      <th>20775049</th>\n",
              "      <td>[Q503143]</td>\n",
              "      <td>2015-08-24-049253</td>\n",
              "      <td>It would be a travesty to both, for Europe and...</td>\n",
              "      <td>Alexander Stubb</td>\n",
              "      <td>[[Alexander Stubb, 0.9019], [None, 0.0783], [G...</td>\n",
              "      <td>2015-08-24 11:37:42</td>\n",
              "      <td>7</td>\n",
              "      <td>[http://af.reuters.com/article/worldNews/idAFK...</td>\n",
              "      <td>E</td>\n",
              "      <td>[af.reuters.com, uk.news.yahoo.com, www.channe...</td>\n",
              "    </tr>\n",
              "    <tr>\n",
              "      <th>20814523</th>\n",
              "      <td>[Q318471]</td>\n",
              "      <td>2015-10-07-041740</td>\n",
              "      <td>I think a bright star on the horizon. It's cal...</td>\n",
              "      <td>Nigel Farage</td>\n",
              "      <td>[[Nigel Farage, 0.8242], [Marine Le Pen, 0.091...</td>\n",
              "      <td>2015-10-07 21:38:13</td>\n",
              "      <td>1</td>\n",
              "      <td>[http://www.telegraph.co.uk/news/worldnews/fra...</td>\n",
              "      <td>E</td>\n",
              "      <td>[www.telegraph.co.uk]</td>\n",
              "    </tr>\n",
              "  </tbody>\n",
              "</table>\n",
              "<p>101878 rows × 10 columns</p>\n",
              "</div>"
            ],
            "text/plain": [
              "                                    qids  ...                                            domains\n",
              "232                          [Q20251661]  ...                                      [voanews.com]\n",
              "2828                           [Q694676]  ...                           [www.expressandstar.com]\n",
              "3153      [Q1341937, Q16211383, Q694825]  ...                          [www.yorkshirepost.co.uk]\n",
              "3776                          [Q6837191]  ...                       [www.belfasttelegraph.co.uk]\n",
              "4886                          [Q1728820]  ...                          [blogs.independent.co.uk]\n",
              "...                                  ...  ...                                                ...\n",
              "20699374                          [Q567]  ...                                    [breitbart.com]\n",
              "20708455                      [Q1395663]  ...                                [independent.co.uk]\n",
              "20728876                     [Q23769958]  ...  [feeds.theguardian.com, feeds.theguardian.com,...\n",
              "20775049                       [Q503143]  ...  [af.reuters.com, uk.news.yahoo.com, www.channe...\n",
              "20814523                       [Q318471]  ...                              [www.telegraph.co.uk]\n",
              "\n",
              "[101878 rows x 10 columns]"
            ]
          },
          "metadata": {},
          "execution_count": 10
        }
      ]
    },
    {
      "cell_type": "code",
      "metadata": {
        "id": "DCfzc2Td75p1"
      },
      "source": [
        "#Let's get the list of all domains and analyse them\n",
        "list_domains = df['domains'].to_list()\n",
        "flat_list_of_domains = [item for sublist in list_domains for item in sublist]"
      ],
      "execution_count": null,
      "outputs": []
    },
    {
      "cell_type": "code",
      "metadata": {
        "id": "-yzWFI4h8Acs"
      },
      "source": [
        "set_unique_domains = set(flat_list_of_domains)"
      ],
      "execution_count": null,
      "outputs": []
    },
    {
      "cell_type": "code",
      "metadata": {
        "colab": {
          "base_uri": "https://localhost:8080/"
        },
        "id": "fMvMYkZF8Vzp",
        "outputId": "f6ff538c-3fca-4016-e7e7-2a9fd6d2d0f5"
      },
      "source": [
        "len(set_unique_domains)"
      ],
      "execution_count": null,
      "outputs": [
        {
          "output_type": "execute_result",
          "data": {
            "text/plain": [
              "6382"
            ]
          },
          "metadata": {},
          "execution_count": 13
        }
      ]
    },
    {
      "cell_type": "code",
      "metadata": {
        "id": "gW5US0Dc16Hg",
        "colab": {
          "base_uri": "https://localhost:8080/"
        },
        "outputId": "2d0f7f57-73df-425d-bd9f-0bdf8db7faa4"
      },
      "source": [
        "flat_list_of_domains.count('independent.co.uk')"
      ],
      "execution_count": null,
      "outputs": [
        {
          "output_type": "execute_result",
          "data": {
            "text/plain": [
              "263"
            ]
          },
          "metadata": {},
          "execution_count": 14
        }
      ]
    },
    {
      "cell_type": "code",
      "metadata": {
        "id": "LiHlIGf4-qTx"
      },
      "source": [
        "list_domains_occurences = []\n",
        "for domain in set_unique_domains:\n",
        "  list_domains_occurences.append([domain, flat_list_of_domains.count(domain)])"
      ],
      "execution_count": null,
      "outputs": []
    },
    {
      "cell_type": "code",
      "metadata": {
        "colab": {
          "base_uri": "https://localhost:8080/"
        },
        "id": "CFr1lWAoH9LJ",
        "outputId": "2567bd5e-25da-439d-ddea-c0ad4a5e951f"
      },
      "source": [
        "len(list_domains_occurences)"
      ],
      "execution_count": null,
      "outputs": [
        {
          "output_type": "execute_result",
          "data": {
            "text/plain": [
              "6382"
            ]
          },
          "metadata": {},
          "execution_count": 16
        }
      ]
    },
    {
      "cell_type": "code",
      "metadata": {
        "id": "39vBEtRrca4Z"
      },
      "source": [
        "sorted_list_domains_occurences = sorted(list_domains_occurences, key=lambda x: x[1], reverse=True)"
      ],
      "execution_count": null,
      "outputs": []
    },
    {
      "cell_type": "code",
      "metadata": {
        "colab": {
          "base_uri": "https://localhost:8080/"
        },
        "id": "en_x4FNMMBFF",
        "outputId": "916e9fe3-052d-4413-b454-8822b08bfcfa"
      },
      "source": [
        "sorted_list_domains_occurences[0:5]"
      ],
      "execution_count": null,
      "outputs": [
        {
          "output_type": "execute_result",
          "data": {
            "text/plain": [
              "[['www.belfasttelegraph.co.uk', 6419],\n",
              " ['www.msn.com', 5989],\n",
              " ['express.co.uk', 5748],\n",
              " ['heraldscotland.com', 4728],\n",
              " ['www.wandsworthguardian.co.uk', 4601]]"
            ]
          },
          "metadata": {},
          "execution_count": 18
        }
      ]
    },
    {
      "cell_type": "code",
      "metadata": {
        "id": "CC_DH3LBWkhz"
      },
      "source": [
        "df_domains = pd.DataFrame.from_records(sorted_list_domains_occurences)"
      ],
      "execution_count": null,
      "outputs": []
    },
    {
      "cell_type": "code",
      "metadata": {
        "colab": {
          "base_uri": "https://localhost:8080/",
          "height": 359
        },
        "id": "g8f15DP4Wryl",
        "outputId": "7ba7b4be-a92c-4ab2-b98a-8b9b0400a18c"
      },
      "source": [
        "df_domains.head(10)"
      ],
      "execution_count": null,
      "outputs": [
        {
          "output_type": "execute_result",
          "data": {
            "text/html": [
              "<div>\n",
              "<style scoped>\n",
              "    .dataframe tbody tr th:only-of-type {\n",
              "        vertical-align: middle;\n",
              "    }\n",
              "\n",
              "    .dataframe tbody tr th {\n",
              "        vertical-align: top;\n",
              "    }\n",
              "\n",
              "    .dataframe thead th {\n",
              "        text-align: right;\n",
              "    }\n",
              "</style>\n",
              "<table border=\"1\" class=\"dataframe\">\n",
              "  <thead>\n",
              "    <tr style=\"text-align: right;\">\n",
              "      <th style=\"min-width: {};\"></th>\n",
              "      <th style=\"min-width: {};\">0</th>\n",
              "      <th style=\"min-width: {};\">1</th>\n",
              "    </tr>\n",
              "  </thead>\n",
              "  <tbody>\n",
              "    <tr>\n",
              "      <th>0</th>\n",
              "      <td>www.belfasttelegraph.co.uk</td>\n",
              "      <td>6419</td>\n",
              "    </tr>\n",
              "    <tr>\n",
              "      <th>1</th>\n",
              "      <td>www.msn.com</td>\n",
              "      <td>5989</td>\n",
              "    </tr>\n",
              "    <tr>\n",
              "      <th>2</th>\n",
              "      <td>express.co.uk</td>\n",
              "      <td>5748</td>\n",
              "    </tr>\n",
              "    <tr>\n",
              "      <th>3</th>\n",
              "      <td>heraldscotland.com</td>\n",
              "      <td>4728</td>\n",
              "    </tr>\n",
              "    <tr>\n",
              "      <th>4</th>\n",
              "      <td>www.wandsworthguardian.co.uk</td>\n",
              "      <td>4601</td>\n",
              "    </tr>\n",
              "    <tr>\n",
              "      <th>5</th>\n",
              "      <td>www.thetelegraphandargus.co.uk</td>\n",
              "      <td>4449</td>\n",
              "    </tr>\n",
              "    <tr>\n",
              "      <th>6</th>\n",
              "      <td>www.ealingtimes.co.uk</td>\n",
              "      <td>4308</td>\n",
              "    </tr>\n",
              "    <tr>\n",
              "      <th>7</th>\n",
              "      <td>www.croydonguardian.co.uk</td>\n",
              "      <td>4230</td>\n",
              "    </tr>\n",
              "    <tr>\n",
              "      <th>8</th>\n",
              "      <td>www.middevonstar.co.uk</td>\n",
              "      <td>4227</td>\n",
              "    </tr>\n",
              "    <tr>\n",
              "      <th>9</th>\n",
              "      <td>www.thenorthernecho.co.uk</td>\n",
              "      <td>4178</td>\n",
              "    </tr>\n",
              "  </tbody>\n",
              "</table>\n",
              "</div>"
            ],
            "text/plain": [
              "                                0     1\n",
              "0      www.belfasttelegraph.co.uk  6419\n",
              "1                     www.msn.com  5989\n",
              "2                   express.co.uk  5748\n",
              "3              heraldscotland.com  4728\n",
              "4    www.wandsworthguardian.co.uk  4601\n",
              "5  www.thetelegraphandargus.co.uk  4449\n",
              "6           www.ealingtimes.co.uk  4308\n",
              "7       www.croydonguardian.co.uk  4230\n",
              "8          www.middevonstar.co.uk  4227\n",
              "9       www.thenorthernecho.co.uk  4178"
            ]
          },
          "metadata": {},
          "execution_count": 20
        }
      ]
    },
    {
      "cell_type": "code",
      "metadata": {
        "id": "LxO3W2uWW_Sk"
      },
      "source": [
        "df_domains.set_axis(['domain', 'frequency'], axis=1, inplace=True)"
      ],
      "execution_count": null,
      "outputs": []
    },
    {
      "cell_type": "markdown",
      "metadata": {
        "id": "8cmQcyYulT3D"
      },
      "source": [
        "**Let's add percentages**"
      ]
    },
    {
      "cell_type": "code",
      "metadata": {
        "id": "hxrI2aQRk1_b"
      },
      "source": [
        "df_domains['percentages'] = df_domains['frequency'].apply(lambda x: x / df.shape[0])"
      ],
      "execution_count": null,
      "outputs": []
    },
    {
      "cell_type": "code",
      "metadata": {
        "colab": {
          "base_uri": "https://localhost:8080/",
          "height": 419
        },
        "id": "dfqYDntlmTn1",
        "outputId": "7157c8b3-c646-4d5a-d1d8-22a34b336c1f"
      },
      "source": [
        "df_domains"
      ],
      "execution_count": null,
      "outputs": [
        {
          "output_type": "execute_result",
          "data": {
            "text/html": [
              "<div>\n",
              "<style scoped>\n",
              "    .dataframe tbody tr th:only-of-type {\n",
              "        vertical-align: middle;\n",
              "    }\n",
              "\n",
              "    .dataframe tbody tr th {\n",
              "        vertical-align: top;\n",
              "    }\n",
              "\n",
              "    .dataframe thead th {\n",
              "        text-align: right;\n",
              "    }\n",
              "</style>\n",
              "<table border=\"1\" class=\"dataframe\">\n",
              "  <thead>\n",
              "    <tr style=\"text-align: right;\">\n",
              "      <th style=\"min-width: {};\"></th>\n",
              "      <th style=\"min-width: {};\">domain</th>\n",
              "      <th style=\"min-width: {};\">frequency</th>\n",
              "      <th style=\"min-width: {};\">percentages</th>\n",
              "    </tr>\n",
              "  </thead>\n",
              "  <tbody>\n",
              "    <tr>\n",
              "      <th>0</th>\n",
              "      <td>www.belfasttelegraph.co.uk</td>\n",
              "      <td>6419</td>\n",
              "      <td>0.063007</td>\n",
              "    </tr>\n",
              "    <tr>\n",
              "      <th>1</th>\n",
              "      <td>www.msn.com</td>\n",
              "      <td>5989</td>\n",
              "      <td>0.058786</td>\n",
              "    </tr>\n",
              "    <tr>\n",
              "      <th>2</th>\n",
              "      <td>express.co.uk</td>\n",
              "      <td>5748</td>\n",
              "      <td>0.056420</td>\n",
              "    </tr>\n",
              "    <tr>\n",
              "      <th>3</th>\n",
              "      <td>heraldscotland.com</td>\n",
              "      <td>4728</td>\n",
              "      <td>0.046408</td>\n",
              "    </tr>\n",
              "    <tr>\n",
              "      <th>4</th>\n",
              "      <td>www.wandsworthguardian.co.uk</td>\n",
              "      <td>4601</td>\n",
              "      <td>0.045162</td>\n",
              "    </tr>\n",
              "    <tr>\n",
              "      <th>...</th>\n",
              "      <td>...</td>\n",
              "      <td>...</td>\n",
              "      <td>...</td>\n",
              "    </tr>\n",
              "    <tr>\n",
              "      <th>6377</th>\n",
              "      <td>www.webmd.boots.com</td>\n",
              "      <td>1</td>\n",
              "      <td>0.000010</td>\n",
              "    </tr>\n",
              "    <tr>\n",
              "      <th>6378</th>\n",
              "      <td>www.wallstreetdaily.com</td>\n",
              "      <td>1</td>\n",
              "      <td>0.000010</td>\n",
              "    </tr>\n",
              "    <tr>\n",
              "      <th>6379</th>\n",
              "      <td>redresurgence.wordpress.com</td>\n",
              "      <td>1</td>\n",
              "      <td>0.000010</td>\n",
              "    </tr>\n",
              "    <tr>\n",
              "      <th>6380</th>\n",
              "      <td>www.crowdfundinsider.com</td>\n",
              "      <td>1</td>\n",
              "      <td>0.000010</td>\n",
              "    </tr>\n",
              "    <tr>\n",
              "      <th>6381</th>\n",
              "      <td>www.metalinjection.net</td>\n",
              "      <td>1</td>\n",
              "      <td>0.000010</td>\n",
              "    </tr>\n",
              "  </tbody>\n",
              "</table>\n",
              "<p>6382 rows × 3 columns</p>\n",
              "</div>"
            ],
            "text/plain": [
              "                            domain  frequency  percentages\n",
              "0       www.belfasttelegraph.co.uk       6419     0.063007\n",
              "1                      www.msn.com       5989     0.058786\n",
              "2                    express.co.uk       5748     0.056420\n",
              "3               heraldscotland.com       4728     0.046408\n",
              "4     www.wandsworthguardian.co.uk       4601     0.045162\n",
              "...                            ...        ...          ...\n",
              "6377           www.webmd.boots.com          1     0.000010\n",
              "6378       www.wallstreetdaily.com          1     0.000010\n",
              "6379   redresurgence.wordpress.com          1     0.000010\n",
              "6380      www.crowdfundinsider.com          1     0.000010\n",
              "6381        www.metalinjection.net          1     0.000010\n",
              "\n",
              "[6382 rows x 3 columns]"
            ]
          },
          "metadata": {},
          "execution_count": 23
        }
      ]
    },
    {
      "cell_type": "markdown",
      "metadata": {
        "id": "MMG2_GGLbat3"
      },
      "source": [
        "**Most invested domains**"
      ]
    },
    {
      "cell_type": "code",
      "metadata": {
        "colab": {
          "base_uri": "https://localhost:8080/",
          "height": 279
        },
        "id": "o2nYrDKUMOGQ",
        "outputId": "0a7fc05c-2616-44ef-8128-5073559dfd1b"
      },
      "source": [
        "import matplotlib.pyplot as plt\n",
        "ax = sns.barplot(x=\"frequency\", y=\"domain\", data=df_domains.head(20))"
      ],
      "execution_count": null,
      "outputs": [
        {
          "output_type": "display_data",
          "data": {
            "image/png": "[encoded data removed]",
            "text/plain": [
              "<Figure size 432x288 with 1 Axes>"
            ]
          },
          "metadata": {
            "needs_background": "light"
          }
        }
      ]
    },
    {
      "cell_type": "markdown",
      "metadata": {
        "id": "_65EvrCSboX0"
      },
      "source": [
        "**Let's now check the country of these domains**"
      ]
    },
    {
      "cell_type": "code",
      "metadata": {
        "id": "D7w_IMTPQOlQ"
      },
      "source": [
        "#Let's add the csv file of all domains with the corresponding countries\n",
        "df_domain_country = pd.read_csv('/content/drive/Shareddrives/Ada/top-level-domain-names/country-codes-tlds.csv')"
      ],
      "execution_count": null,
      "outputs": []
    },
    {
      "cell_type": "code",
      "metadata": {
        "id": "WVGgFc_RxgzS"
      },
      "source": [
        "df_domain_country.rename(columns={' tld': 'tld'}, inplace=True)"
      ],
      "execution_count": null,
      "outputs": []
    },
    {
      "cell_type": "code",
      "metadata": {
        "id": "DybNL1MByay3"
      },
      "source": [
        "df_domain_country['tld'] = df_domain_country['tld'].str.strip()\n"
      ],
      "execution_count": null,
      "outputs": []
    },
    {
      "cell_type": "code",
      "metadata": {
        "colab": {
          "base_uri": "https://localhost:8080/",
          "height": 204
        },
        "id": "3YqYHxp2rFZJ",
        "outputId": "062da340-ae8b-45fb-c764-6d658a2dd54e"
      },
      "source": [
        "df_domain_country.head()"
      ],
      "execution_count": null,
      "outputs": [
        {
          "output_type": "execute_result",
          "data": {
            "text/html": [
              "<div>\n",
              "<style scoped>\n",
              "    .dataframe tbody tr th:only-of-type {\n",
              "        vertical-align: middle;\n",
              "    }\n",
              "\n",
              "    .dataframe tbody tr th {\n",
              "        vertical-align: top;\n",
              "    }\n",
              "\n",
              "    .dataframe thead th {\n",
              "        text-align: right;\n",
              "    }\n",
              "</style>\n",
              "<table border=\"1\" class=\"dataframe\">\n",
              "  <thead>\n",
              "    <tr style=\"text-align: right;\">\n",
              "      <th style=\"min-width: {};\"></th>\n",
              "      <th style=\"min-width: {};\">country</th>\n",
              "      <th style=\"min-width: {};\">tld</th>\n",
              "    </tr>\n",
              "  </thead>\n",
              "  <tbody>\n",
              "    <tr>\n",
              "      <th>0</th>\n",
              "      <td>Afghanistan</td>\n",
              "      <td>.af</td>\n",
              "    </tr>\n",
              "    <tr>\n",
              "      <th>1</th>\n",
              "      <td>Åland</td>\n",
              "      <td>.ax</td>\n",
              "    </tr>\n",
              "    <tr>\n",
              "      <th>2</th>\n",
              "      <td>Albania</td>\n",
              "      <td>.al</td>\n",
              "    </tr>\n",
              "    <tr>\n",
              "      <th>3</th>\n",
              "      <td>Algeria</td>\n",
              "      <td>.dz</td>\n",
              "    </tr>\n",
              "    <tr>\n",
              "      <th>4</th>\n",
              "      <td>American Samoa</td>\n",
              "      <td>.as</td>\n",
              "    </tr>\n",
              "  </tbody>\n",
              "</table>\n",
              "</div>"
            ],
            "text/plain": [
              "          country  tld\n",
              "0     Afghanistan  .af\n",
              "1           Åland  .ax\n",
              "2         Albania  .al\n",
              "3         Algeria  .dz\n",
              "4  American Samoa  .as"
            ]
          },
          "metadata": {},
          "execution_count": 28
        }
      ]
    },
    {
      "cell_type": "code",
      "metadata": {
        "colab": {
          "base_uri": "https://localhost:8080/",
          "height": 80
        },
        "id": "lkM4kJ1PrKs_",
        "outputId": "dd4640af-a438-40cc-85f9-7368b0eaac9b"
      },
      "source": [
        "df_domain_country[df_domain_country['tld']=='.af']"
      ],
      "execution_count": null,
      "outputs": [
        {
          "output_type": "execute_result",
          "data": {
            "text/html": [
              "<div>\n",
              "<style scoped>\n",
              "    .dataframe tbody tr th:only-of-type {\n",
              "        vertical-align: middle;\n",
              "    }\n",
              "\n",
              "    .dataframe tbody tr th {\n",
              "        vertical-align: top;\n",
              "    }\n",
              "\n",
              "    .dataframe thead th {\n",
              "        text-align: right;\n",
              "    }\n",
              "</style>\n",
              "<table border=\"1\" class=\"dataframe\">\n",
              "  <thead>\n",
              "    <tr style=\"text-align: right;\">\n",
              "      <th style=\"min-width: {};\"></th>\n",
              "      <th style=\"min-width: {};\">country</th>\n",
              "      <th style=\"min-width: {};\">tld</th>\n",
              "    </tr>\n",
              "  </thead>\n",
              "  <tbody>\n",
              "    <tr>\n",
              "      <th>0</th>\n",
              "      <td>Afghanistan</td>\n",
              "      <td>.af</td>\n",
              "    </tr>\n",
              "  </tbody>\n",
              "</table>\n",
              "</div>"
            ],
            "text/plain": [
              "       country  tld\n",
              "0  Afghanistan  .af"
            ]
          },
          "metadata": {},
          "execution_count": 29
        }
      ]
    },
    {
      "cell_type": "markdown",
      "metadata": {
        "id": "tZuOeC70j0z-"
      },
      "source": [
        "DEPENDENT OR OR NOT, COUNTRY"
      ]
    },
    {
      "cell_type": "markdown",
      "metadata": {
        "id": "egMbT32Iy4NW"
      },
      "source": [
        "**Add the country of the domain name**"
      ]
    },
    {
      "cell_type": "code",
      "metadata": {
        "id": "rDKvu_KOzBHc"
      },
      "source": [
        "for index, row in df_domains.iterrows():\n",
        "  row['domain country'] = df_domain_country.loc[df_domain_country['B'] == row['domain country'], 'A'].iloc[0]"
      ],
      "execution_count": null,
      "outputs": []
    }
  ]
}