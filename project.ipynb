{
  "nbformat": 4,
  "nbformat_minor": 0,
  "metadata": {
    "accelerator": "GPU",
    "colab": {
      "name": "project.ipynb",
      "provenance": [],
      "collapsed_sections": []
    },
    "kernelspec": {
      "display_name": "Python 3",
      "name": "python3"
    },
    "language_info": {
      "name": "python"
    }
  },
  "cells": [
    {
      "cell_type": "markdown",
      "metadata": {
        "id": "L4Z37e-ti0gm"
      },
      "source": [
        "# Title: Brexit under the lens"
      ]
    },
    {
      "cell_type": "markdown",
      "metadata": {
        "id": "xvXA220ZK9sz"
      },
      "source": [
        "<p align=\"center\">\n",
        "  <img width=\"460\" height=\"300\" src=\"https://www.dachser.com/en/mediaroom/images/Corporate/Marktinformation/shutterstock_417868516_rdax_65.jpg\">\n",
        "</p>"
      ]
    },
    {
      "cell_type": "markdown",
      "metadata": {
        "id": "Ssh_im9eH4B7"
      },
      "source": [
        "# Import Libraries"
      ]
    },
    {
      "cell_type": "code",
      "metadata": {
        "id": "TwL29M-6fBLB",
        "colab": {
          "base_uri": "https://localhost:8080/"
        },
        "outputId": "856d75d0-7765-40f6-a032-4544832f3ba2"
      },
      "source": [
        "# Load the data folder in the share drives\n",
        "# The data folder is in the 'drive/Shareddrives/Ada'\n",
        "from google.colab import drive\n",
        "drive.mount('/content/drive')"
      ],
      "execution_count": 1,
      "outputs": [
        {
          "output_type": "stream",
          "name": "stdout",
          "text": [
            "Mounted at /content/drive\n"
          ]
        }
      ]
    },
    {
      "cell_type": "code",
      "metadata": {
        "id": "FCRnJvrFkrmV",
        "colab": {
          "base_uri": "https://localhost:8080/",
          "height": 384
        },
        "outputId": "a527f376-b21b-45d1-fe2b-5d9d7832f724"
      },
      "source": [
        "#Downgrade the pandas version so that we can read data in chunksize\n",
        "!pip install pandas==1.0.5"
      ],
      "execution_count": 2,
      "outputs": [
        {
          "output_type": "stream",
          "name": "stdout",
          "text": [
            "Collecting pandas==1.0.5\n",
            "  Downloading pandas-1.0.5-cp37-cp37m-manylinux1_x86_64.whl (10.1 MB)\n",
            "\u001b[K     |████████████████████████████████| 10.1 MB 5.2 MB/s \n",
            "\u001b[?25hRequirement already satisfied: pytz>=2017.2 in /usr/local/lib/python3.7/dist-packages (from pandas==1.0.5) (2018.9)\n",
            "Requirement already satisfied: python-dateutil>=2.6.1 in /usr/local/lib/python3.7/dist-packages (from pandas==1.0.5) (2.8.2)\n",
            "Requirement already satisfied: numpy>=1.13.3 in /usr/local/lib/python3.7/dist-packages (from pandas==1.0.5) (1.19.5)\n",
            "Requirement already satisfied: six>=1.5 in /usr/local/lib/python3.7/dist-packages (from python-dateutil>=2.6.1->pandas==1.0.5) (1.15.0)\n",
            "Installing collected packages: pandas\n",
            "  Attempting uninstall: pandas\n",
            "    Found existing installation: pandas 1.1.5\n",
            "    Uninstalling pandas-1.1.5:\n",
            "      Successfully uninstalled pandas-1.1.5\n",
            "\u001b[31mERROR: pip's dependency resolver does not currently take into account all the packages that are installed. This behaviour is the source of the following dependency conflicts.\n",
            "google-colab 1.0.0 requires pandas~=1.1.0; python_version >= \"3.0\", but you have pandas 1.0.5 which is incompatible.\u001b[0m\n",
            "Successfully installed pandas-1.0.5\n"
          ]
        },
        {
          "output_type": "display_data",
          "data": {
            "application/vnd.colab-display-data+json": {
              "pip_warning": {
                "packages": [
                  "pandas"
                ]
              }
            }
          },
          "metadata": {}
        }
      ]
    },
    {
      "cell_type": "code",
      "metadata": {
        "id": "iE1Dnhqv5X0h",
        "colab": {
          "base_uri": "https://localhost:8080/"
        },
        "outputId": "670aff6a-6b17-4a7c-c279-ffae1b9404e8"
      },
      "source": [
        "!pip install textblob"
      ],
      "execution_count": 3,
      "outputs": [
        {
          "output_type": "stream",
          "name": "stdout",
          "text": [
            "Requirement already satisfied: textblob in /usr/local/lib/python3.7/dist-packages (0.15.3)\n",
            "Requirement already satisfied: nltk>=3.1 in /usr/local/lib/python3.7/dist-packages (from textblob) (3.2.5)\n",
            "Requirement already satisfied: six in /usr/local/lib/python3.7/dist-packages (from nltk>=3.1->textblob) (1.15.0)\n"
          ]
        }
      ]
    },
    {
      "cell_type": "code",
      "metadata": {
        "id": "jwWJzKGaheRS"
      },
      "source": [
        "# Import library\n",
        "import seaborn as sns\n",
        "from IPython.display import display, HTML\n",
        "import matplotlib.pyplot as plt\n",
        "import scipy.stats as stats\n",
        "import pandas as pd\n",
        "import numpy as np\n",
        "import warnings\n",
        "import pickle\n",
        "import shutil\n",
        "import os\n",
        "import glob\n",
        "import wordcloud\n",
        "import nltk\n",
        "import re\n",
        "warnings.filterwarnings('ignore')\n",
        "\n",
        "import requests \n",
        "from bs4 import BeautifulSoup"
      ],
      "execution_count": 4,
      "outputs": []
    },
    {
      "cell_type": "code",
      "metadata": {
        "colab": {
          "base_uri": "https://localhost:8080/"
        },
        "id": "cYdyzV2RxxEu",
        "outputId": "014b6aca-8ceb-48ef-85b7-2c7ad21a444d"
      },
      "source": [
        "import nltk\n",
        "nltk.download('stopwords')\n",
        "from nltk.corpus import stopwords"
      ],
      "execution_count": 5,
      "outputs": [
        {
          "output_type": "stream",
          "name": "stdout",
          "text": [
            "[nltk_data] Downloading package stopwords to /root/nltk_data...\n",
            "[nltk_data]   Unzipping corpora/stopwords.zip.\n"
          ]
        }
      ]
    },
    {
      "cell_type": "code",
      "metadata": {
        "id": "JPE43H4fwPRZ"
      },
      "source": [
        "import sys\n",
        "import spacy\n",
        "# !{sys.executable} -m spacy download en\n",
        "import re, numpy as np, pandas as pd\n",
        "from pprint import pprint\n",
        "\n",
        "# Gensim\n",
        "import gensim, spacy, logging, warnings\n",
        "import gensim.corpora as corpora\n",
        "from gensim.utils import lemmatize, simple_preprocess\n",
        "from gensim.models import CoherenceModel\n",
        "import matplotlib.pyplot as plt"
      ],
      "execution_count": 6,
      "outputs": []
    },
    {
      "cell_type": "code",
      "metadata": {
        "id": "n7F99BM3a2ek"
      },
      "source": [
        "# NLTK Stop words\n",
        "#from nltk.corpus import stopwords\n",
        "stop_words = stopwords.words('english')\n",
        "stop_words.extend(['from', 'subject', 're', 'edu', 'use', 'not', 'would', 'say', 'could', '_', 'be', 'know', 'good', 'go', 'get', 'do', 'done', 'try', 'many', 'some', 'nice', 'thank', 'think', 'see', 'rather', 'easy', 'easily', 'lot', 'lack', 'make', 'want', 'seem', 'run', 'need', 'even', 'right', 'line', 'even', 'also', 'may', 'take', 'come'])\n",
        "\n",
        "%matplotlib inline\n",
        "warnings.filterwarnings(\"ignore\",category=DeprecationWarning)\n",
        "logging.basicConfig(format='%(asctime)s : %(levelname)s : %(message)s', level=logging.ERROR)"
      ],
      "execution_count": 7,
      "outputs": []
    },
    {
      "cell_type": "markdown",
      "metadata": {
        "id": "6PTSb59IwN53"
      },
      "source": [
        "# Data collection"
      ]
    },
    {
      "cell_type": "code",
      "metadata": {
        "id": "Zwm_MaNRqlYW"
      },
      "source": [
        "# The original datafile path, contains all the Quote from 2015-2020\n",
        "dataset_path='/content/drive/Shareddrives/Ada/Quotebank'\n",
        "\n",
        "# The path store the first preprocessed Pickles \n",
        "pickle_path='/content/drive/Shareddrives/Ada/pickle'\n",
        "\n",
        "# Specify which cols to drop and which to keep\n",
        "use_cols=[\"qids\",\"quoteID\",\"quotation\",\"speaker\",\"date\",\"numOccurrences\",\"probas\",\"urls\",\"phase\"]\n",
        "ignore_cols=[]\n",
        "\n",
        "# The chunk_size for the pickles\n",
        "chunk_size = 600000 "
      ],
      "execution_count": 8,
      "outputs": []
    },
    {
      "cell_type": "code",
      "metadata": {
        "id": "RlwU8iSD0n8V"
      },
      "source": [
        "# Only run this block when remove the pickles and make new pickles\n",
        "shutil.rmtree(pickle_path)\n",
        "os.mkdir(pickle_path)"
      ],
      "execution_count": null,
      "outputs": []
    },
    {
      "cell_type": "code",
      "metadata": {
        "colab": {
          "base_uri": "https://localhost:8080/"
        },
        "id": "UWAJMiT_tli6",
        "outputId": "a3e3574d-4c33-4e94-e38e-6e645a7783c2"
      },
      "source": [
        "# \bCheck if the data has been processed and saved into pickles already \n",
        "# If not, process raw data into pickles\n",
        "if not os.listdir(pickle_path):\n",
        "   for name in glob.glob(dataset_path + \"/*.bz2\"):\n",
        "     print(\"pickling \"+name)\n",
        "     pickle_name=name.split('/')[6].split('.')[0]\n",
        "     reader = pd.read_json(name, chunksize=chunk_size, lines=True, compression='bz2')   \n",
        "     for i, chunk in enumerate(reader):\n",
        "       chunk=chunk[use_cols]\n",
        "       out_file = pickle_path + \"/\"+ pickle_name + \"_{}.pkl\".format(i+1)\n",
        "       with open(out_file, \"wb\") as f:\n",
        "           pickle.dump(chunk,f,pickle.HIGHEST_PROTOCOL)\n",
        "       chunk=\"\"    \n",
        "   print('Pickles made!,ready to go!')       \n",
        "else:    \n",
        "   print(\"Already processed data into pickles, you can use them right away!\")"
      ],
      "execution_count": 9,
      "outputs": [
        {
          "output_type": "stream",
          "name": "stdout",
          "text": [
            "Already processed data into pickles, you can use them right away!\n"
          ]
        }
      ]
    },
    {
      "cell_type": "code",
      "metadata": {
        "colab": {
          "base_uri": "https://localhost:8080/"
        },
        "id": "wyMdulg6wezB",
        "outputId": "7258388a-2867-4d81-8921-7a87e4f92362"
      },
      "source": [
        "# Filter the pickles and extract Brexit related data\n",
        "# Define the path to store the processed pickle\n",
        "processed_path='/content/drive/Shareddrives/Ada/processed' \n",
        "out_file = processed_path + \"/\"+\"Brexit_related_quote.pkl\"\n",
        "\n",
        "# Specify the orginal pickles we want to process\n",
        "if not os.path.exists(out_file):\n",
        "  data_p_files=[]\n",
        "  for name in glob.glob(pickle_path + \"/*.pkl\"):\n",
        "    data_p_files.append(name)\n",
        "\n",
        "  # Add all the df into here and store it into pickle in the end\n",
        "  appended_data=[]\n",
        "  for i in range(len(data_p_files)):\n",
        "    print(\"processing\"+data_p_files[i])\n",
        "    df=pd.read_pickle(data_p_files[i])\n",
        "    # Filter quotations only in phase E\n",
        "    df=df.loc[df['phase']=='E']\n",
        "    df=df.loc[df['speaker']!='None']\n",
        "    # Filter quotations only relevant to Brexit or both UK and EU firtsly\n",
        "    df=df.loc[df['quotation'].str.contains('Brexit|UK.*EU|EU.*UK|United Kingdom.*European Union|European Union.*United Kingdom|British.*EU|EU.*British',case = False)]\n",
        "    # Define key words relevant to Brexit to filter related news from the quotations that only relevant to UK and EU \n",
        "    searchfor = ['brexit','leave campaign and remain campaign','no deal', 'transition period','leave','withdral','referendum', 'split from']\n",
        "    # Filter quotations which contained (EU and UK) or (Breix) which also contained those keywords we defined above\n",
        "    df=df.loc[df['quotation'].str.contains('|'.join(searchfor),case = False)]\n",
        "\n",
        "    appended_data.append(df)\n",
        "    # release the df at the end of process\n",
        "    # To free the memory\n",
        "    df = \"\"  \n",
        "    \n",
        "    # concat and append results\n",
        "    appended_data = pd.concat(appended_data)\n",
        "    appended_data.to_pickle(out_file)\n",
        "else:    \n",
        "   print(\"Already processed data into pickle, you can use them right away!\")"
      ],
      "execution_count": 10,
      "outputs": [
        {
          "output_type": "stream",
          "name": "stdout",
          "text": [
            "Already processed data into pickle, you can use them right away!\n"
          ]
        }
      ]
    },
    {
      "cell_type": "code",
      "metadata": {
        "id": "a3yoDNVcpeuu"
      },
      "source": [
        "# Merge the original Brexit related quotation dataset with speaker attributes by joining the QIDs\n",
        "# Define the output pickle path\n",
        "all_attribute_pickle_path='/content/drive/Shareddrives/Ada/processed/All_attribute.pkl'\n",
        "if not os.path.exists(all_attribute_pickle_path):\n",
        "  parquet_path='/content/drive/Shareddrives/Ada/Project datasets/speaker_attributes.parquet'\n",
        "  label_path='/content/drive/Shareddrives/Ada/Project datasets/wikidata_labels_descriptions_quotebank.csv.bz2'\n",
        "  df=pd.read_pickle('/content/drive/Shareddrives/Ada/processed/Brexit_related_quote.pkl')\n",
        "  df['qids']=df['qids'].map(lambda x:str(x[0]))\n",
        "  df.rename(columns={\"qids\":\"id\"},inplace=True)\n",
        "  parquet_cols=['id','label','date_of_birth','nationality','gender','ethnic_group','occupation','party','academic_degree','religion']\n",
        "\n",
        "  # recursively add the cols and update to our dataframe\n",
        "  for name in glob.glob(parquet_path + \"/*.parquet\"):\n",
        "    par=pd.read_parquet(name)\n",
        "    par=par[parquet_cols]\n",
        "    #Check if the merge has been done\n",
        "    if 'gender' not in df.columns:\n",
        "      df = pd.merge(df, par,on='id',how='left')\n",
        "    else:\n",
        "      df=df.set_index('id')\n",
        "      df.update(par.set_index('id'))\n",
        "      df.reset_index(inplace=True)\n",
        "  \n",
        "  # Replace NAN with value 0 in order to make the following process become easy\n",
        "  df = df.fillna('0')\n",
        "  cols=['nationality','gender','ethnic_group','occupation','party','academic_degree','religion']\n",
        "\n",
        "  # Always keep the first qid label\n",
        "  for col in cols:\n",
        "    df[col]=df[col].map(lambda x: x[0])\n",
        "\n",
        "  df_label=pd.read_csv(label_path,compression='bz2',index_col='QID')\n",
        "  # replace the qid with actuall text label\n",
        "  for col in cols:\n",
        "    df[col]=df[col].map(lambda x: df_label.loc[x]['Label'] if x in df_label.index else x)\n",
        "  df.to_pickle(all_attribute_pickle_path)"
      ],
      "execution_count": null,
      "outputs": []
    },
    {
      "cell_type": "code",
      "metadata": {
        "colab": {
          "base_uri": "https://localhost:8080/",
          "height": 643
        },
        "id": "EPxRGgybXa5C",
        "outputId": "4a52b726-6eb9-4a40-ed93-ec41a5ac38b3"
      },
      "source": [
        "# Read the dataset after merging with speaker attributes\n",
        "df=pd.read_pickle('/content/drive/Shareddrives/Ada/processed/All_attribute.pkl')\n",
        "df.head(5)"
      ],
      "execution_count": 11,
      "outputs": [
        {
          "output_type": "execute_result",
          "data": {
            "text/html": [
              "<div>\n",
              "<style scoped>\n",
              "    .dataframe tbody tr th:only-of-type {\n",
              "        vertical-align: middle;\n",
              "    }\n",
              "\n",
              "    .dataframe tbody tr th {\n",
              "        vertical-align: top;\n",
              "    }\n",
              "\n",
              "    .dataframe thead th {\n",
              "        text-align: right;\n",
              "    }\n",
              "</style>\n",
              "<table border=\"1\" class=\"dataframe\">\n",
              "  <thead>\n",
              "    <tr style=\"text-align: right;\">\n",
              "      <th style=\"min-width: {};\"></th>\n",
              "      <th style=\"min-width: {};\">id</th>\n",
              "      <th style=\"min-width: {};\">quoteID</th>\n",
              "      <th style=\"min-width: {};\">quotation</th>\n",
              "      <th style=\"min-width: {};\">speaker</th>\n",
              "      <th style=\"min-width: {};\">probas</th>\n",
              "      <th style=\"min-width: {};\">date</th>\n",
              "      <th style=\"min-width: {};\">numOccurrences</th>\n",
              "      <th style=\"min-width: {};\">urls</th>\n",
              "      <th style=\"min-width: {};\">phase</th>\n",
              "      <th style=\"min-width: {};\">label</th>\n",
              "      <th style=\"min-width: {};\">date_of_birth</th>\n",
              "      <th style=\"min-width: {};\">nationality</th>\n",
              "      <th style=\"min-width: {};\">gender</th>\n",
              "      <th style=\"min-width: {};\">ethnic_group</th>\n",
              "      <th style=\"min-width: {};\">occupation</th>\n",
              "      <th style=\"min-width: {};\">party</th>\n",
              "      <th style=\"min-width: {};\">academic_degree</th>\n",
              "      <th style=\"min-width: {};\">religion</th>\n",
              "    </tr>\n",
              "  </thead>\n",
              "  <tbody>\n",
              "    <tr>\n",
              "      <th>0</th>\n",
              "      <td>Q20251661</td>\n",
              "      <td>2020-01-31-011304</td>\n",
              "      <td>Brexit is the victory of the common people aga...</td>\n",
              "      <td>Laura Huhtasaari</td>\n",
              "      <td>[[Laura Huhtasaari, 0.9325], [None, 0.059], [P...</td>\n",
              "      <td>2020-01-31 03:25:04</td>\n",
              "      <td>1</td>\n",
              "      <td>[http://voanews.com/europe/shrug-and-some-sorr...</td>\n",
              "      <td>E</td>\n",
              "      <td>Laura Huhtasaari</td>\n",
              "      <td>[+1979-03-30T00:00:00Z]</td>\n",
              "      <td>Finland</td>\n",
              "      <td>female</td>\n",
              "      <td>0</td>\n",
              "      <td>politician</td>\n",
              "      <td>Finns Party</td>\n",
              "      <td>0</td>\n",
              "      <td>Lutheranism</td>\n",
              "    </tr>\n",
              "    <tr>\n",
              "      <th>1</th>\n",
              "      <td>Q694676</td>\n",
              "      <td>2020-02-13-014393</td>\n",
              "      <td>Certainly Brexit was a big issue and people we...</td>\n",
              "      <td>Pat McFadden</td>\n",
              "      <td>[[Pat McFadden, 0.9371], [None, 0.0535], [Jere...</td>\n",
              "      <td>2020-02-13 06:01:30</td>\n",
              "      <td>1</td>\n",
              "      <td>[http://www.expressandstar.com/news/politics/2...</td>\n",
              "      <td>E</td>\n",
              "      <td>Pat McFadden</td>\n",
              "      <td>[+1965-03-26T00:00:00Z]</td>\n",
              "      <td>United Kingdom</td>\n",
              "      <td>male</td>\n",
              "      <td>0</td>\n",
              "      <td>politician</td>\n",
              "      <td>Labour Party</td>\n",
              "      <td>0</td>\n",
              "      <td>0</td>\n",
              "    </tr>\n",
              "    <tr>\n",
              "      <th>2</th>\n",
              "      <td>Q1341937</td>\n",
              "      <td>2020-03-08-010480</td>\n",
              "      <td>I backed leave and voted leave, but I never ca...</td>\n",
              "      <td>Jason McCartney</td>\n",
              "      <td>[[Jason McCartney, 0.8274], [None, 0.128], [Li...</td>\n",
              "      <td>2020-03-08 05:45:58</td>\n",
              "      <td>1</td>\n",
              "      <td>[http://www.yorkshirepost.co.uk/news/second-ti...</td>\n",
              "      <td>E</td>\n",
              "      <td>Jason McCartney</td>\n",
              "      <td>[+1973-09-03T00:00:00Z]</td>\n",
              "      <td>United States of America</td>\n",
              "      <td>male</td>\n",
              "      <td>0</td>\n",
              "      <td>sport cyclist</td>\n",
              "      <td>0</td>\n",
              "      <td>0</td>\n",
              "      <td>0</td>\n",
              "    </tr>\n",
              "    <tr>\n",
              "      <th>3</th>\n",
              "      <td>Q6837191</td>\n",
              "      <td>2020-02-14-058019</td>\n",
              "      <td>legacy, bad faith on pensions, Brexit and poli...</td>\n",
              "      <td>Michelle O'Neill</td>\n",
              "      <td>[[Michelle O'Neill, 0.8055], [None, 0.1302], [...</td>\n",
              "      <td>2020-02-14 11:48:49</td>\n",
              "      <td>1</td>\n",
              "      <td>[https://www.belfasttelegraph.co.uk/news/north...</td>\n",
              "      <td>E</td>\n",
              "      <td>Michelle O'Neill</td>\n",
              "      <td>[+1977-01-10T00:00:00Z]</td>\n",
              "      <td>Northern Ireland</td>\n",
              "      <td>female</td>\n",
              "      <td>0</td>\n",
              "      <td>politician</td>\n",
              "      <td>Sinn Féin</td>\n",
              "      <td>0</td>\n",
              "      <td>0</td>\n",
              "    </tr>\n",
              "    <tr>\n",
              "      <th>4</th>\n",
              "      <td>Q1728820</td>\n",
              "      <td>2020-01-27-094916</td>\n",
              "      <td>we're only at half-time on Brexit, it's not do...</td>\n",
              "      <td>Leo Varadkar</td>\n",
              "      <td>[[Leo Varadkar, 0.9378], [None, 0.0502], [Bori...</td>\n",
              "      <td>2020-01-27 12:25:00</td>\n",
              "      <td>1</td>\n",
              "      <td>[http://blogs.independent.co.uk/voices/brexit-...</td>\n",
              "      <td>E</td>\n",
              "      <td>Leo Varadkar</td>\n",
              "      <td>[+1979-01-18T00:00:00Z]</td>\n",
              "      <td>Ireland</td>\n",
              "      <td>male</td>\n",
              "      <td>0</td>\n",
              "      <td>politician</td>\n",
              "      <td>Fine Gael</td>\n",
              "      <td>0</td>\n",
              "      <td>0</td>\n",
              "    </tr>\n",
              "  </tbody>\n",
              "</table>\n",
              "</div>"
            ],
            "text/plain": [
              "          id            quoteID  ... academic_degree     religion\n",
              "0  Q20251661  2020-01-31-011304  ...               0  Lutheranism\n",
              "1    Q694676  2020-02-13-014393  ...               0            0\n",
              "2   Q1341937  2020-03-08-010480  ...               0            0\n",
              "3   Q6837191  2020-02-14-058019  ...               0            0\n",
              "4   Q1728820  2020-01-27-094916  ...               0            0\n",
              "\n",
              "[5 rows x 18 columns]"
            ]
          },
          "metadata": {},
          "execution_count": 11
        }
      ]
    },
    {
      "cell_type": "markdown",
      "metadata": {
        "id": "JGkBBfAp5iKa"
      },
      "source": [
        "# Preliminary Analysis"
      ]
    },
    {
      "cell_type": "markdown",
      "metadata": {
        "id": "NVqt6H9T94NU"
      },
      "source": [
        "## How many quotations related to Brexit"
      ]
    },
    {
      "cell_type": "code",
      "metadata": {
        "colab": {
          "base_uri": "https://localhost:8080/"
        },
        "id": "xIlsO5SgyHJf",
        "outputId": "7ac9179a-a68f-4017-a4e6-00f83e7c8d01"
      },
      "source": [
        "df.shape[0]"
      ],
      "execution_count": null,
      "outputs": [
        {
          "output_type": "execute_result",
          "data": {
            "text/plain": [
              "101878"
            ]
          },
          "metadata": {},
          "execution_count": 31
        }
      ]
    },
    {
      "cell_type": "markdown",
      "metadata": {
        "id": "3WeP9xI2ij_L"
      },
      "source": [
        "We thus have more thant 101 thousands datapoints containing quotations we judge related to Brexit. We consider it enough to run the analysis."
      ]
    },
    {
      "cell_type": "markdown",
      "metadata": {
        "id": "bFkfQoxm5pbx"
      },
      "source": [
        "## Visualise keywords of quotations via word cloud"
      ]
    },
    {
      "cell_type": "markdown",
      "metadata": {
        "id": "helmJBh-8IdF"
      },
      "source": [
        "Preprocess quotations for generating word cloud"
      ]
    },
    {
      "cell_type": "code",
      "metadata": {
        "colab": {
          "base_uri": "https://localhost:8080/"
        },
        "id": "TQxGvDTlwIkP",
        "outputId": "34f8cf07-c7da-494f-b430-bfffe4521fca"
      },
      "source": [
        "# Remove punctuation\n",
        "df['quotation_processed'] = \\\n",
        "df[\"quotation\"].map(lambda x: re.sub('[,\\.!?]', '', x))\n",
        "# Convert the titles to lowercase\n",
        "df['quotation_processed'] = \\\n",
        "df['quotation_processed'].map(lambda x: x.lower())\n",
        "# Print out the first rows of papers\n",
        "df['quotation_processed'].head()"
      ],
      "execution_count": null,
      "outputs": [
        {
          "output_type": "execute_result",
          "data": {
            "text/plain": [
              "0    brexit is the victory of the common people aga...\n",
              "1    certainly brexit was a big issue and people we...\n",
              "2    i backed leave and voted leave but i never cal...\n",
              "3    legacy bad faith on pensions brexit and politi...\n",
              "4    we're only at half-time on brexit it's not don...\n",
              "Name: quotation_processed, dtype: object"
            ]
          },
          "metadata": {},
          "execution_count": 79
        }
      ]
    },
    {
      "cell_type": "code",
      "metadata": {
        "colab": {
          "base_uri": "https://localhost:8080/",
          "height": 391
        },
        "id": "tUdNSzMFyGcF",
        "outputId": "075d8b10-80c2-4bc2-8a1a-95029a727d53"
      },
      "source": [
        "# Generate the wordcloud\n",
        "from wordcloud import WordCloud, STOPWORDS\n",
        "from PIL import Image\n",
        "import string\n",
        "quotation_words = ''\n",
        "stopwords = set(STOPWORDS) \n",
        "qute_txt='/content/drive/Shareddrives/Ada/processed/qutos_trial_lda.txt'\n",
        "\n",
        "if not os.path.exists(qute_txt):\n",
        "  with open(qute_txt,\"w+\") as f:\n",
        "    # iterate through the csv file \n",
        "    for val in df.quotation_processed: \n",
        "      # typecaste each val to string \n",
        "      val = str(val)\n",
        "      for c in string.punctuation:\n",
        "        val = val.replace(c,'') \n",
        "      # split the value \n",
        "      tokens = val.split() \n",
        "      #Converts each token into lowercase \n",
        "      for i in range(len(tokens)): \n",
        "        tokens[i] = tokens[i].lower()\n",
        "      for words in tokens: \n",
        "        f.write(str(words)+ '\\n')\n",
        "  f.close()\n",
        "\n",
        "quotation_words=open (qute_txt).read()\n",
        "mask = np.array(Image.open('/content/drive/Shareddrives/Ada/img/Flag_of_the_United_Kingdom.png'))\n",
        "wordcloud = WordCloud(width = 800, height = 800, \n",
        "            background_color ='white', \n",
        "            mask=mask,\n",
        "            stopwords = stopwords, \n",
        "            min_font_size = 10).generate(quotation_words) \n",
        "\n",
        "# plot the WordCloud image                        \n",
        "plt.figure(figsize = (10, 20), facecolor = None) \n",
        "plt.imshow(wordcloud) \n",
        "plt.axis(\"off\") \n",
        "plt.tight_layout(pad = 0) \n",
        "plt.show() \n",
        "## stop words"
      ],
      "execution_count": null,
      "outputs": [
        {
          "output_type": "display_data",
          "data": {
            "image/png": "[encoded data removed]",
            "text/plain": [
              "<Figure size 720x1440 with 1 Axes>"
            ]
          },
          "metadata": {
            "needs_background": "light"
          }
        }
      ]
    },
    {
      "cell_type": "markdown",
      "metadata": {
        "id": "Z_T5UC_S8ab3"
      },
      "source": [
        "As we defined some keywords to filter some Brexit related quotations, some of words shown in word cloud such as \"brexit\", \"UK\", \"nodeal\", \"european union\" are those keywords we defined in previous section. There are still some interesting keywords shown in the graph, such as \"hard brexit\", \"boris johnson\", \"theresa may\", \"labour\", \"economy\", \"prime minister\" etc."
      ]
    },
    {
      "cell_type": "markdown",
      "metadata": {
        "id": "7Vvvvn8gCWqD"
      },
      "source": [
        "# Sentiment analysis \n",
        "\n",
        "## Method 1: using package TextBlob"
      ]
    },
    {
      "cell_type": "code",
      "metadata": {
        "id": "RhSeSLl9wnzo"
      },
      "source": [
        "df=pd.read_pickle('/content/drive/Shareddrives/Ada/processed/All_attribute.pkl')"
      ],
      "execution_count": 42,
      "outputs": []
    },
    {
      "cell_type": "code",
      "metadata": {
        "colab": {
          "base_uri": "https://localhost:8080/"
        },
        "id": "aZ0b0v46z55j",
        "outputId": "f34dc7da-0e85-4016-aa84-74c6941e9e25"
      },
      "source": [
        "df.columns"
      ],
      "execution_count": 43,
      "outputs": [
        {
          "output_type": "execute_result",
          "data": {
            "text/plain": [
              "Index(['id', 'quoteID', 'quotation', 'speaker', 'probas', 'date',\n",
              "       'numOccurrences', 'urls', 'phase', 'label', 'date_of_birth',\n",
              "       'nationality', 'gender', 'ethnic_group', 'occupation', 'party',\n",
              "       'academic_degree', 'religion'],\n",
              "      dtype='object')"
            ]
          },
          "metadata": {},
          "execution_count": 43
        }
      ]
    },
    {
      "cell_type": "code",
      "metadata": {
        "colab": {
          "base_uri": "https://localhost:8080/",
          "height": 502
        },
        "id": "WZmjGAhoAkKz",
        "outputId": "f0299376-9a34-4a0a-a11f-2969d6eb6ea5"
      },
      "source": [
        "# perform a naive sentimental analysis\n",
        "from textblob import TextBlob\n",
        "if 'polarity' not in df.columns:\n",
        "  df.insert(df.shape[1],'polarity','None')\n",
        "\n",
        "# this function simply return the sentiment classification for the scentence\n",
        "def polarity_to_text(blob):  \n",
        "      if (blob.sentiment.polarity > 0.1):\n",
        "        #'Polarity is positive 😊'\n",
        "          return 'postive'\n",
        "      elif(blob.sentiment.polarity <= 0.1 and  blob.sentiment.polarity >= -0.1):\n",
        "          # 'Polarity is neutral 😐'\n",
        "          return 'neutral'\n",
        "      else:\n",
        "        # 'Polarity is negative 😡' \n",
        "          return 'negative'\n",
        "\n",
        "def get_polarity(blob):\n",
        "  return blob.sentiment.polarity\n",
        "\n",
        "if df.iloc[1].polarity==\"None\":\n",
        "  for i,data in df.iterrows():\n",
        "    blob = TextBlob(data.quotation)\n",
        "    emotion=polarity_to_text(blob)\n",
        "    polarity= get_polarity(blob)\n",
        "    df.at[i,'polarity_TextBlob']=polarity\n",
        "    df.at[i,'polarity']=emotion\n",
        "\n",
        "\n",
        "\n",
        "plt.figure(figsize=(12,8))\n",
        "sns.set_theme(style=\"darkgrid\")\n",
        "ax = sns.countplot(x=\"polarity\", data=df,palette=\"Set3\")\n",
        "plt.show()"
      ],
      "execution_count": 44,
      "outputs": [
        {
          "output_type": "display_data",
          "data": {
            "image/png": "[encoded data removed]",
            "text/plain": [
              "<Figure size 864x576 with 1 Axes>"
            ]
          },
          "metadata": {}
        }
      ]
    },
    {
      "cell_type": "code",
      "metadata": {
        "colab": {
          "base_uri": "https://localhost:8080/"
        },
        "id": "uQNHeYXsM5fP",
        "outputId": "fec84b8e-6227-40fc-8e1c-daf264dbb988"
      },
      "source": [
        "df.columns"
      ],
      "execution_count": 45,
      "outputs": [
        {
          "output_type": "execute_result",
          "data": {
            "text/plain": [
              "Index(['id', 'quoteID', 'quotation', 'speaker', 'probas', 'date',\n",
              "       'numOccurrences', 'urls', 'phase', 'label', 'date_of_birth',\n",
              "       'nationality', 'gender', 'ethnic_group', 'occupation', 'party',\n",
              "       'academic_degree', 'religion', 'polarity', 'polarity_TextBlob'],\n",
              "      dtype='object')"
            ]
          },
          "metadata": {},
          "execution_count": 45
        }
      ]
    },
    {
      "cell_type": "markdown",
      "metadata": {
        "id": "AvQNayNmxurp"
      },
      "source": [
        "Because we don't really need the result of each method since we will average, we drop it:"
      ]
    },
    {
      "cell_type": "code",
      "metadata": {
        "colab": {
          "base_uri": "https://localhost:8080/"
        },
        "id": "jliNztZPxGMv",
        "outputId": "3b0d54ba-d70c-49f4-d66f-4ed71231b894"
      },
      "source": [
        "df=df.drop(['polarity'], axis=1)\n",
        "df.columns"
      ],
      "execution_count": 46,
      "outputs": [
        {
          "output_type": "execute_result",
          "data": {
            "text/plain": [
              "Index(['id', 'quoteID', 'quotation', 'speaker', 'probas', 'date',\n",
              "       'numOccurrences', 'urls', 'phase', 'label', 'date_of_birth',\n",
              "       'nationality', 'gender', 'ethnic_group', 'occupation', 'party',\n",
              "       'academic_degree', 'religion', 'polarity_TextBlob'],\n",
              "      dtype='object')"
            ]
          },
          "metadata": {},
          "execution_count": 46
        }
      ]
    },
    {
      "cell_type": "code",
      "metadata": {
        "id": "qj9Z8rx1AZrO"
      },
      "source": [
        "df.to_pickle('/content/drive/Shareddrives/Ada/SentimentAnalysis_temp.pkl')"
      ],
      "execution_count": null,
      "outputs": []
    },
    {
      "cell_type": "markdown",
      "metadata": {
        "id": "YZxzMIg5C_QB"
      },
      "source": [
        "According to our first sentiment analysis result, most of quotations reflect neutral attitude towards Brexit. It's noticeable that amount of quotations showing positive attitudes is much higher than showing negative attitudes. But, those results may not accurate. We will update the sentiment analysis in milestone 3!\n",
        "\n",
        "## Method 2: using package Sentiment Intensity Analyser"
      ]
    },
    {
      "cell_type": "code",
      "metadata": {
        "colab": {
          "base_uri": "https://localhost:8080/"
        },
        "id": "FxGeDVdCCfO6",
        "outputId": "90a2a99d-e4a4-49da-de0c-504d03ebca0b"
      },
      "source": [
        "from nltk.sentiment import SentimentIntensityAnalyzer\n",
        "import operator\n",
        "nltk.download('vader_lexicon')"
      ],
      "execution_count": 47,
      "outputs": [
        {
          "output_type": "stream",
          "name": "stdout",
          "text": [
            "[nltk_data] Downloading package vader_lexicon to /root/nltk_data...\n",
            "[nltk_data]   Package vader_lexicon is already up-to-date!\n"
          ]
        },
        {
          "output_type": "execute_result",
          "data": {
            "text/plain": [
              "True"
            ]
          },
          "metadata": {},
          "execution_count": 47
        }
      ]
    },
    {
      "cell_type": "code",
      "metadata": {
        "id": "u8nbdxD8DElu"
      },
      "source": [
        "#defining our model:\n",
        "sia = SentimentIntensityAnalyzer()\n",
        "\n",
        "# score of sentiment analysis\n",
        "df[\"polarity_SentimentIntensityAnalyze\"] = df['quotation'].apply(lambda x: sia.polarity_scores(x)[\"compound\"])\n"
      ],
      "execution_count": 48,
      "outputs": []
    },
    {
      "cell_type": "code",
      "metadata": {
        "colab": {
          "base_uri": "https://localhost:8080/"
        },
        "id": "gJdDf-59EmuY",
        "outputId": "e81b3b52-38be-43f6-d2b3-17b57e34f662"
      },
      "source": [
        "df.columns"
      ],
      "execution_count": 49,
      "outputs": [
        {
          "output_type": "execute_result",
          "data": {
            "text/plain": [
              "Index(['id', 'quoteID', 'quotation', 'speaker', 'probas', 'date',\n",
              "       'numOccurrences', 'urls', 'phase', 'label', 'date_of_birth',\n",
              "       'nationality', 'gender', 'ethnic_group', 'occupation', 'party',\n",
              "       'academic_degree', 'religion', 'polarity_TextBlob',\n",
              "       'polarity_SentimentIntensityAnalyze'],\n",
              "      dtype='object')"
            ]
          },
          "metadata": {},
          "execution_count": 49
        }
      ]
    },
    {
      "cell_type": "code",
      "metadata": {
        "id": "xQ6Z5ClT0kfm"
      },
      "source": [
        "df.head()"
      ],
      "execution_count": null,
      "outputs": []
    },
    {
      "cell_type": "code",
      "metadata": {
        "colab": {
          "base_uri": "https://localhost:8080/"
        },
        "id": "jJ5jdZ4s17DG",
        "outputId": "213debd4-f787-4fcb-ee22-10edddae41d3"
      },
      "source": [
        "df['polarity_SentimentIntensityAnalyze'][1]"
      ],
      "execution_count": 57,
      "outputs": [
        {
          "output_type": "execute_result",
          "data": {
            "text/plain": [
              "-0.25"
            ]
          },
          "metadata": {},
          "execution_count": 57
        }
      ]
    },
    {
      "cell_type": "code",
      "metadata": {
        "id": "dUAPj1QIyVwf"
      },
      "source": [
        "if 'emotion_SentimentIntensityAnalyze' not in df.columns:\n",
        "  df.insert(df.shape[1],'emotion_SentimentIntensityAnalyze','None')\n",
        "\n",
        "def polarity_to_text2(row):  \n",
        "      if (row> 0.1):\n",
        "        #'Polarity is positive 😊'\n",
        "          return 'postive'\n",
        "      elif(row <= 0.1 and  row >= -0.1):\n",
        "          # 'Polarity is neutral 😐'\n",
        "          return 'neutral'\n",
        "      else:\n",
        "        # 'Polarity is negative 😡' \n",
        "          return 'negative'\n",
        "\n",
        "\n",
        "\n",
        "for i in range(len(df)):\n",
        "  df.at[i,'emotion_SentimentIntensityAnalyze']=polarity_to_text2(df['polarity_SentimentIntensityAnalyze'][i])\n"
      ],
      "execution_count": 60,
      "outputs": []
    },
    {
      "cell_type": "code",
      "metadata": {
        "colab": {
          "base_uri": "https://localhost:8080/",
          "height": 643
        },
        "id": "NBpXRq12086v",
        "outputId": "5a236c83-5d73-45d6-e964-06fc1b65c0b9"
      },
      "source": [
        "df.head()"
      ],
      "execution_count": 61,
      "outputs": [
        {
          "output_type": "execute_result",
          "data": {
            "text/html": [
              "<div>\n",
              "<style scoped>\n",
              "    .dataframe tbody tr th:only-of-type {\n",
              "        vertical-align: middle;\n",
              "    }\n",
              "\n",
              "    .dataframe tbody tr th {\n",
              "        vertical-align: top;\n",
              "    }\n",
              "\n",
              "    .dataframe thead th {\n",
              "        text-align: right;\n",
              "    }\n",
              "</style>\n",
              "<table border=\"1\" class=\"dataframe\">\n",
              "  <thead>\n",
              "    <tr style=\"text-align: right;\">\n",
              "      <th style=\"min-width: {};\"></th>\n",
              "      <th style=\"min-width: {};\">id</th>\n",
              "      <th style=\"min-width: {};\">quoteID</th>\n",
              "      <th style=\"min-width: {};\">quotation</th>\n",
              "      <th style=\"min-width: {};\">speaker</th>\n",
              "      <th style=\"min-width: {};\">probas</th>\n",
              "      <th style=\"min-width: {};\">date</th>\n",
              "      <th style=\"min-width: {};\">numOccurrences</th>\n",
              "      <th style=\"min-width: {};\">urls</th>\n",
              "      <th style=\"min-width: {};\">phase</th>\n",
              "      <th style=\"min-width: {};\">label</th>\n",
              "      <th style=\"min-width: {};\">date_of_birth</th>\n",
              "      <th style=\"min-width: {};\">nationality</th>\n",
              "      <th style=\"min-width: {};\">gender</th>\n",
              "      <th style=\"min-width: {};\">ethnic_group</th>\n",
              "      <th style=\"min-width: {};\">occupation</th>\n",
              "      <th style=\"min-width: {};\">party</th>\n",
              "      <th style=\"min-width: {};\">academic_degree</th>\n",
              "      <th style=\"min-width: {};\">religion</th>\n",
              "      <th style=\"min-width: {};\">polarity_TextBlob</th>\n",
              "      <th style=\"min-width: {};\">polarity_SentimentIntensityAnalyze</th>\n",
              "      <th style=\"min-width: {};\">emotion_SentimentIntensityAnalyze</th>\n",
              "    </tr>\n",
              "  </thead>\n",
              "  <tbody>\n",
              "    <tr>\n",
              "      <th>0</th>\n",
              "      <td>Q20251661</td>\n",
              "      <td>2020-01-31-011304</td>\n",
              "      <td>Brexit is the victory of the common people aga...</td>\n",
              "      <td>Laura Huhtasaari</td>\n",
              "      <td>[[Laura Huhtasaari, 0.9325], [None, 0.059], [P...</td>\n",
              "      <td>2020-01-31 03:25:04</td>\n",
              "      <td>1</td>\n",
              "      <td>[http://voanews.com/europe/shrug-and-some-sorr...</td>\n",
              "      <td>E</td>\n",
              "      <td>Laura Huhtasaari</td>\n",
              "      <td>[+1979-03-30T00:00:00Z]</td>\n",
              "      <td>Finland</td>\n",
              "      <td>female</td>\n",
              "      <td>0</td>\n",
              "      <td>politician</td>\n",
              "      <td>Finns Party</td>\n",
              "      <td>0</td>\n",
              "      <td>Lutheranism</td>\n",
              "      <td>-0.022619</td>\n",
              "      <td>0.5719</td>\n",
              "      <td>postive</td>\n",
              "    </tr>\n",
              "    <tr>\n",
              "      <th>1</th>\n",
              "      <td>Q694676</td>\n",
              "      <td>2020-02-13-014393</td>\n",
              "      <td>Certainly Brexit was a big issue and people we...</td>\n",
              "      <td>Pat McFadden</td>\n",
              "      <td>[[Pat McFadden, 0.9371], [None, 0.0535], [Jere...</td>\n",
              "      <td>2020-02-13 06:01:30</td>\n",
              "      <td>1</td>\n",
              "      <td>[http://www.expressandstar.com/news/politics/2...</td>\n",
              "      <td>E</td>\n",
              "      <td>Pat McFadden</td>\n",
              "      <td>[+1965-03-26T00:00:00Z]</td>\n",
              "      <td>United Kingdom</td>\n",
              "      <td>male</td>\n",
              "      <td>0</td>\n",
              "      <td>politician</td>\n",
              "      <td>Labour Party</td>\n",
              "      <td>0</td>\n",
              "      <td>0</td>\n",
              "      <td>-0.161905</td>\n",
              "      <td>-0.2500</td>\n",
              "      <td>negative</td>\n",
              "    </tr>\n",
              "    <tr>\n",
              "      <th>2</th>\n",
              "      <td>Q1341937</td>\n",
              "      <td>2020-03-08-010480</td>\n",
              "      <td>I backed leave and voted leave, but I never ca...</td>\n",
              "      <td>Jason McCartney</td>\n",
              "      <td>[[Jason McCartney, 0.8274], [None, 0.128], [Li...</td>\n",
              "      <td>2020-03-08 05:45:58</td>\n",
              "      <td>1</td>\n",
              "      <td>[http://www.yorkshirepost.co.uk/news/second-ti...</td>\n",
              "      <td>E</td>\n",
              "      <td>Jason McCartney</td>\n",
              "      <td>[+1973-09-03T00:00:00Z]</td>\n",
              "      <td>United States of America</td>\n",
              "      <td>male</td>\n",
              "      <td>0</td>\n",
              "      <td>sport cyclist</td>\n",
              "      <td>0</td>\n",
              "      <td>0</td>\n",
              "      <td>0</td>\n",
              "      <td>0.000000</td>\n",
              "      <td>-0.4243</td>\n",
              "      <td>negative</td>\n",
              "    </tr>\n",
              "    <tr>\n",
              "      <th>3</th>\n",
              "      <td>Q6837191</td>\n",
              "      <td>2020-02-14-058019</td>\n",
              "      <td>legacy, bad faith on pensions, Brexit and poli...</td>\n",
              "      <td>Michelle O'Neill</td>\n",
              "      <td>[[Michelle O'Neill, 0.8055], [None, 0.1302], [...</td>\n",
              "      <td>2020-02-14 11:48:49</td>\n",
              "      <td>1</td>\n",
              "      <td>[https://www.belfasttelegraph.co.uk/news/north...</td>\n",
              "      <td>E</td>\n",
              "      <td>Michelle O'Neill</td>\n",
              "      <td>[+1977-01-10T00:00:00Z]</td>\n",
              "      <td>Northern Ireland</td>\n",
              "      <td>female</td>\n",
              "      <td>0</td>\n",
              "      <td>politician</td>\n",
              "      <td>Sinn Féin</td>\n",
              "      <td>0</td>\n",
              "      <td>0</td>\n",
              "      <td>-0.233333</td>\n",
              "      <td>-0.0516</td>\n",
              "      <td>neutral</td>\n",
              "    </tr>\n",
              "    <tr>\n",
              "      <th>4</th>\n",
              "      <td>Q1728820</td>\n",
              "      <td>2020-01-27-094916</td>\n",
              "      <td>we're only at half-time on Brexit, it's not do...</td>\n",
              "      <td>Leo Varadkar</td>\n",
              "      <td>[[Leo Varadkar, 0.9378], [None, 0.0502], [Bori...</td>\n",
              "      <td>2020-01-27 12:25:00</td>\n",
              "      <td>1</td>\n",
              "      <td>[http://blogs.independent.co.uk/voices/brexit-...</td>\n",
              "      <td>E</td>\n",
              "      <td>Leo Varadkar</td>\n",
              "      <td>[+1979-01-18T00:00:00Z]</td>\n",
              "      <td>Ireland</td>\n",
              "      <td>male</td>\n",
              "      <td>0</td>\n",
              "      <td>politician</td>\n",
              "      <td>Fine Gael</td>\n",
              "      <td>0</td>\n",
              "      <td>0</td>\n",
              "      <td>0.000000</td>\n",
              "      <td>0.0000</td>\n",
              "      <td>neutral</td>\n",
              "    </tr>\n",
              "  </tbody>\n",
              "</table>\n",
              "</div>"
            ],
            "text/plain": [
              "          id  ... emotion_SentimentIntensityAnalyze\n",
              "0  Q20251661  ...                           postive\n",
              "1    Q694676  ...                          negative\n",
              "2   Q1341937  ...                          negative\n",
              "3   Q6837191  ...                           neutral\n",
              "4   Q1728820  ...                           neutral\n",
              "\n",
              "[5 rows x 21 columns]"
            ]
          },
          "metadata": {},
          "execution_count": 61
        }
      ]
    },
    {
      "cell_type": "code",
      "metadata": {
        "colab": {
          "base_uri": "https://localhost:8080/",
          "height": 502
        },
        "id": "zpKNqk3i1LJT",
        "outputId": "baddf7ff-cbb1-4b1c-9943-53b3ae2d877e"
      },
      "source": [
        "plt.figure(figsize=(12,8))\n",
        "sns.set_theme(style=\"darkgrid\")\n",
        "ax = sns.countplot(x=\"emotion_SentimentIntensityAnalyze\", data=df,palette=\"Set3\")\n",
        "plt.show()"
      ],
      "execution_count": 62,
      "outputs": [
        {
          "output_type": "display_data",
          "data": {
            "image/png": "[encoded data removed]",
            "text/plain": [
              "<Figure size 864x576 with 1 Axes>"
            ]
          },
          "metadata": {}
        }
      ]
    },
    {
      "cell_type": "code",
      "metadata": {
        "colab": {
          "base_uri": "https://localhost:8080/"
        },
        "id": "7uo0Q5Oi2wis",
        "outputId": "a5ac4b91-8d80-4d02-c987-edf089cf1563"
      },
      "source": [
        "# again dropping the result:\n",
        "df=df.drop(['emotion_SentimentIntensityAnalyze'], axis=1)\n",
        "df.columns"
      ],
      "execution_count": 63,
      "outputs": [
        {
          "output_type": "execute_result",
          "data": {
            "text/plain": [
              "Index(['id', 'quoteID', 'quotation', 'speaker', 'probas', 'date',\n",
              "       'numOccurrences', 'urls', 'phase', 'label', 'date_of_birth',\n",
              "       'nationality', 'gender', 'ethnic_group', 'occupation', 'party',\n",
              "       'academic_degree', 'religion', 'polarity_TextBlob',\n",
              "       'polarity_SentimentIntensityAnalyze'],\n",
              "      dtype='object')"
            ]
          },
          "metadata": {},
          "execution_count": 63
        }
      ]
    },
    {
      "cell_type": "code",
      "metadata": {
        "id": "D2lzUwhnARuR"
      },
      "source": [
        "df.to_pickle('/content/drive/Shareddrives/Ada/SentimentAnalysis_temp.pkl')"
      ],
      "execution_count": 105,
      "outputs": []
    },
    {
      "cell_type": "markdown",
      "metadata": {
        "id": "SI-2bFxox5lr"
      },
      "source": [
        "Method 3: Using the Flair Package:"
      ]
    },
    {
      "cell_type": "code",
      "metadata": {
        "colab": {
          "base_uri": "https://localhost:8080/",
          "height": 1000
        },
        "id": "SC0UbfJFzMpK",
        "outputId": "5ffcd49f-72f0-459e-9e37-7c6c8436aae4"
      },
      "source": [
        "!pip install flair"
      ],
      "execution_count": 40,
      "outputs": [
        {
          "output_type": "stream",
          "name": "stdout",
          "text": [
            "Collecting flair\n",
            "  Downloading flair-0.10-py3-none-any.whl (322 kB)\n",
            "\u001b[?25l\r\u001b[K     |█                               | 10 kB 26.9 MB/s eta 0:00:01\r\u001b[K     |██                              | 20 kB 24.0 MB/s eta 0:00:01\r\u001b[K     |███                             | 30 kB 11.5 MB/s eta 0:00:01\r\u001b[K     |████                            | 40 kB 9.0 MB/s eta 0:00:01\r\u001b[K     |█████                           | 51 kB 5.1 MB/s eta 0:00:01\r\u001b[K     |██████                          | 61 kB 5.5 MB/s eta 0:00:01\r\u001b[K     |███████                         | 71 kB 5.9 MB/s eta 0:00:01\r\u001b[K     |████████▏                       | 81 kB 6.6 MB/s eta 0:00:01\r\u001b[K     |█████████▏                      | 92 kB 6.3 MB/s eta 0:00:01\r\u001b[K     |██████████▏                     | 102 kB 5.3 MB/s eta 0:00:01\r\u001b[K     |███████████▏                    | 112 kB 5.3 MB/s eta 0:00:01\r\u001b[K     |████████████▏                   | 122 kB 5.3 MB/s eta 0:00:01\r\u001b[K     |█████████████▏                  | 133 kB 5.3 MB/s eta 0:00:01\r\u001b[K     |██████████████▏                 | 143 kB 5.3 MB/s eta 0:00:01\r\u001b[K     |███████████████▎                | 153 kB 5.3 MB/s eta 0:00:01\r\u001b[K     |████████████████▎               | 163 kB 5.3 MB/s eta 0:00:01\r\u001b[K     |█████████████████▎              | 174 kB 5.3 MB/s eta 0:00:01\r\u001b[K     |██████████████████▎             | 184 kB 5.3 MB/s eta 0:00:01\r\u001b[K     |███████████████████▎            | 194 kB 5.3 MB/s eta 0:00:01\r\u001b[K     |████████████████████▎           | 204 kB 5.3 MB/s eta 0:00:01\r\u001b[K     |█████████████████████▎          | 215 kB 5.3 MB/s eta 0:00:01\r\u001b[K     |██████████████████████▍         | 225 kB 5.3 MB/s eta 0:00:01\r\u001b[K     |███████████████████████▍        | 235 kB 5.3 MB/s eta 0:00:01\r\u001b[K     |████████████████████████▍       | 245 kB 5.3 MB/s eta 0:00:01\r\u001b[K     |█████████████████████████▍      | 256 kB 5.3 MB/s eta 0:00:01\r\u001b[K     |██████████████████████████▍     | 266 kB 5.3 MB/s eta 0:00:01\r\u001b[K     |███████████████████████████▍    | 276 kB 5.3 MB/s eta 0:00:01\r\u001b[K     |████████████████████████████▍   | 286 kB 5.3 MB/s eta 0:00:01\r\u001b[K     |█████████████████████████████▌  | 296 kB 5.3 MB/s eta 0:00:01\r\u001b[K     |██████████████████████████████▌ | 307 kB 5.3 MB/s eta 0:00:01\r\u001b[K     |███████████████████████████████▌| 317 kB 5.3 MB/s eta 0:00:01\r\u001b[K     |████████████████████████████████| 322 kB 5.3 MB/s \n",
            "\u001b[?25hRequirement already satisfied: tabulate in /usr/local/lib/python3.7/dist-packages (from flair) (0.8.9)\n",
            "Collecting mpld3==0.3\n",
            "  Downloading mpld3-0.3.tar.gz (788 kB)\n",
            "\u001b[K     |████████████████████████████████| 788 kB 33.2 MB/s \n",
            "\u001b[?25hCollecting more-itertools~=8.8.0\n",
            "  Downloading more_itertools-8.8.0-py3-none-any.whl (48 kB)\n",
            "\u001b[K     |████████████████████████████████| 48 kB 5.1 MB/s \n",
            "\u001b[?25hCollecting janome\n",
            "  Downloading Janome-0.4.1-py2.py3-none-any.whl (19.7 MB)\n",
            "\u001b[K     |████████████████████████████████| 19.7 MB 1.3 MB/s \n",
            "\u001b[?25hRequirement already satisfied: gensim>=3.4.0 in /usr/local/lib/python3.7/dist-packages (from flair) (3.6.0)\n",
            "Collecting bpemb>=0.3.2\n",
            "  Downloading bpemb-0.3.3-py3-none-any.whl (19 kB)\n",
            "Collecting conllu>=4.0\n",
            "  Downloading conllu-4.4.1-py2.py3-none-any.whl (15 kB)\n",
            "Requirement already satisfied: scikit-learn>=0.21.3 in /usr/local/lib/python3.7/dist-packages (from flair) (1.0.1)\n",
            "Collecting langdetect\n",
            "  Downloading langdetect-1.0.9.tar.gz (981 kB)\n",
            "\u001b[K     |████████████████████████████████| 981 kB 21.9 MB/s \n",
            "\u001b[?25hCollecting deprecated>=1.2.4\n",
            "  Downloading Deprecated-1.2.13-py2.py3-none-any.whl (9.6 kB)\n",
            "Collecting wikipedia-api\n",
            "  Downloading Wikipedia-API-0.5.4.tar.gz (18 kB)\n",
            "Collecting transformers>=4.0.0\n",
            "  Downloading transformers-4.12.5-py3-none-any.whl (3.1 MB)\n",
            "\u001b[K     |████████████████████████████████| 3.1 MB 35.4 MB/s \n",
            "\u001b[?25hCollecting gdown==3.12.2\n",
            "  Downloading gdown-3.12.2.tar.gz (8.2 kB)\n",
            "  Installing build dependencies ... \u001b[?25l\u001b[?25hdone\n",
            "  Getting requirements to build wheel ... \u001b[?25l\u001b[?25hdone\n",
            "    Preparing wheel metadata ... \u001b[?25l\u001b[?25hdone\n",
            "Requirement already satisfied: tqdm>=4.26.0 in /usr/local/lib/python3.7/dist-packages (from flair) (4.62.3)\n",
            "Collecting konoha<5.0.0,>=4.0.0\n",
            "  Downloading konoha-4.6.5-py3-none-any.whl (20 kB)\n",
            "Requirement already satisfied: python-dateutil>=2.6.1 in /usr/local/lib/python3.7/dist-packages (from flair) (2.8.2)\n",
            "Collecting huggingface-hub\n",
            "  Downloading huggingface_hub-0.1.2-py3-none-any.whl (59 kB)\n",
            "\u001b[K     |████████████████████████████████| 59 kB 6.4 MB/s \n",
            "\u001b[?25hRequirement already satisfied: torch!=1.8,>=1.5.0 in /usr/local/lib/python3.7/dist-packages (from flair) (1.10.0+cu111)\n",
            "Collecting sentencepiece==0.1.95\n",
            "  Downloading sentencepiece-0.1.95-cp37-cp37m-manylinux2014_x86_64.whl (1.2 MB)\n",
            "\u001b[K     |████████████████████████████████| 1.2 MB 37.8 MB/s \n",
            "\u001b[?25hRequirement already satisfied: regex in /usr/local/lib/python3.7/dist-packages (from flair) (2019.12.20)\n",
            "Collecting sqlitedict>=1.6.0\n",
            "  Downloading sqlitedict-1.7.0.tar.gz (28 kB)\n",
            "Requirement already satisfied: lxml in /usr/local/lib/python3.7/dist-packages (from flair) (4.2.6)\n",
            "Collecting ftfy\n",
            "  Downloading ftfy-6.0.3.tar.gz (64 kB)\n",
            "\u001b[K     |████████████████████████████████| 64 kB 2.7 MB/s \n",
            "\u001b[?25hCollecting segtok>=1.5.7\n",
            "  Downloading segtok-1.5.10.tar.gz (25 kB)\n",
            "Requirement already satisfied: matplotlib>=2.2.3 in /usr/local/lib/python3.7/dist-packages (from flair) (3.2.2)\n",
            "Requirement already satisfied: requests[socks] in /usr/local/lib/python3.7/dist-packages (from gdown==3.12.2->flair) (2.23.0)\n",
            "Requirement already satisfied: filelock in /usr/local/lib/python3.7/dist-packages (from gdown==3.12.2->flair) (3.4.0)\n",
            "Requirement already satisfied: six in /usr/local/lib/python3.7/dist-packages (from gdown==3.12.2->flair) (1.15.0)\n",
            "Requirement already satisfied: numpy in /usr/local/lib/python3.7/dist-packages (from bpemb>=0.3.2->flair) (1.19.5)\n",
            "Requirement already satisfied: wrapt<2,>=1.10 in /usr/local/lib/python3.7/dist-packages (from deprecated>=1.2.4->flair) (1.13.3)\n",
            "Requirement already satisfied: smart-open>=1.2.1 in /usr/local/lib/python3.7/dist-packages (from gensim>=3.4.0->flair) (5.2.1)\n",
            "Requirement already satisfied: scipy>=0.18.1 in /usr/local/lib/python3.7/dist-packages (from gensim>=3.4.0->flair) (1.4.1)\n",
            "Collecting requests\n",
            "  Downloading requests-2.26.0-py2.py3-none-any.whl (62 kB)\n",
            "\u001b[K     |████████████████████████████████| 62 kB 739 kB/s \n",
            "\u001b[?25hCollecting overrides<4.0.0,>=3.0.0\n",
            "  Downloading overrides-3.1.0.tar.gz (11 kB)\n",
            "Collecting importlib-metadata<4.0.0,>=3.7.0\n",
            "  Downloading importlib_metadata-3.10.1-py3-none-any.whl (14 kB)\n",
            "Requirement already satisfied: typing-extensions>=3.6.4 in /usr/local/lib/python3.7/dist-packages (from importlib-metadata<4.0.0,>=3.7.0->konoha<5.0.0,>=4.0.0->flair) (3.10.0.2)\n",
            "Requirement already satisfied: zipp>=0.5 in /usr/local/lib/python3.7/dist-packages (from importlib-metadata<4.0.0,>=3.7.0->konoha<5.0.0,>=4.0.0->flair) (3.6.0)\n",
            "Requirement already satisfied: kiwisolver>=1.0.1 in /usr/local/lib/python3.7/dist-packages (from matplotlib>=2.2.3->flair) (1.3.2)\n",
            "Requirement already satisfied: cycler>=0.10 in /usr/local/lib/python3.7/dist-packages (from matplotlib>=2.2.3->flair) (0.11.0)\n",
            "Requirement already satisfied: pyparsing!=2.0.4,!=2.1.2,!=2.1.6,>=2.0.1 in /usr/local/lib/python3.7/dist-packages (from matplotlib>=2.2.3->flair) (3.0.6)\n",
            "Requirement already satisfied: charset-normalizer~=2.0.0 in /usr/local/lib/python3.7/dist-packages (from requests->bpemb>=0.3.2->flair) (2.0.7)\n",
            "Requirement already satisfied: idna<4,>=2.5 in /usr/local/lib/python3.7/dist-packages (from requests->bpemb>=0.3.2->flair) (2.10)\n",
            "Requirement already satisfied: certifi>=2017.4.17 in /usr/local/lib/python3.7/dist-packages (from requests->bpemb>=0.3.2->flair) (2021.10.8)\n",
            "Requirement already satisfied: urllib3<1.27,>=1.21.1 in /usr/local/lib/python3.7/dist-packages (from requests->bpemb>=0.3.2->flair) (1.24.3)\n",
            "Requirement already satisfied: joblib>=0.11 in /usr/local/lib/python3.7/dist-packages (from scikit-learn>=0.21.3->flair) (1.1.0)\n",
            "Requirement already satisfied: threadpoolctl>=2.0.0 in /usr/local/lib/python3.7/dist-packages (from scikit-learn>=0.21.3->flair) (3.0.0)\n",
            "Requirement already satisfied: packaging>=20.0 in /usr/local/lib/python3.7/dist-packages (from transformers>=4.0.0->flair) (21.3)\n",
            "Collecting sacremoses\n",
            "  Downloading sacremoses-0.0.46-py3-none-any.whl (895 kB)\n",
            "\u001b[K     |████████████████████████████████| 895 kB 37.4 MB/s \n",
            "\u001b[?25hCollecting tokenizers<0.11,>=0.10.1\n",
            "  Downloading tokenizers-0.10.3-cp37-cp37m-manylinux_2_5_x86_64.manylinux1_x86_64.manylinux_2_12_x86_64.manylinux2010_x86_64.whl (3.3 MB)\n",
            "\u001b[K     |████████████████████████████████| 3.3 MB 44.7 MB/s \n",
            "\u001b[?25hCollecting pyyaml>=5.1\n",
            "  Downloading PyYAML-6.0-cp37-cp37m-manylinux_2_5_x86_64.manylinux1_x86_64.manylinux_2_12_x86_64.manylinux2010_x86_64.whl (596 kB)\n",
            "\u001b[K     |████████████████████████████████| 596 kB 43.5 MB/s \n",
            "\u001b[?25hRequirement already satisfied: wcwidth in /usr/local/lib/python3.7/dist-packages (from ftfy->flair) (0.2.5)\n",
            "Requirement already satisfied: PySocks!=1.5.7,>=1.5.6 in /usr/local/lib/python3.7/dist-packages (from requests->bpemb>=0.3.2->flair) (1.7.1)\n",
            "Requirement already satisfied: click in /usr/local/lib/python3.7/dist-packages (from sacremoses->transformers>=4.0.0->flair) (7.1.2)\n",
            "Building wheels for collected packages: gdown, mpld3, overrides, segtok, sqlitedict, ftfy, langdetect, wikipedia-api\n",
            "  Building wheel for gdown (PEP 517) ... \u001b[?25l\u001b[?25hdone\n",
            "  Created wheel for gdown: filename=gdown-3.12.2-py3-none-any.whl size=9704 sha256=6988f665b05a1f5c6ee0d74801da3c169a53e8e49b1f5cd04205d3d1b9912736\n",
            "  Stored in directory: /root/.cache/pip/wheels/ba/e0/7e/726e872a53f7358b4b96a9975b04e98113b005cd8609a63abc\n",
            "  Building wheel for mpld3 (setup.py) ... \u001b[?25l\u001b[?25hdone\n",
            "  Created wheel for mpld3: filename=mpld3-0.3-py3-none-any.whl size=116702 sha256=9db9c72ac60182b7109cae3a77582dbc4fc5ec326ab43d10c8cc737eb8218e3e\n",
            "  Stored in directory: /root/.cache/pip/wheels/26/70/6a/1c79e59951a41b4045497da187b2724f5659ca64033cf4548e\n",
            "  Building wheel for overrides (setup.py) ... \u001b[?25l\u001b[?25hdone\n",
            "  Created wheel for overrides: filename=overrides-3.1.0-py3-none-any.whl size=10186 sha256=0d0e7b1d798e9e24a34486fc2e0dd7290e018499dcae4f51cf569bf1b3c063ac\n",
            "  Stored in directory: /root/.cache/pip/wheels/3a/0d/38/01a9bc6e20dcfaf0a6a7b552d03137558ba1c38aea47644682\n",
            "  Building wheel for segtok (setup.py) ... \u001b[?25l\u001b[?25hdone\n",
            "  Created wheel for segtok: filename=segtok-1.5.10-py3-none-any.whl size=25030 sha256=05c942832d7bc6fd82471c576a7a559031d2346d75d261e9cdc45b614f6ae2f6\n",
            "  Stored in directory: /root/.cache/pip/wheels/67/b7/d0/a121106e61339eee5ed083bc230b1c8dc422c49a5a28c2addd\n",
            "  Building wheel for sqlitedict (setup.py) ... \u001b[?25l\u001b[?25hdone\n",
            "  Created wheel for sqlitedict: filename=sqlitedict-1.7.0-py3-none-any.whl size=14392 sha256=3184a11813737cf79acdfe226795a24d45eae82f47f148cbd305c656f17c5226\n",
            "  Stored in directory: /root/.cache/pip/wheels/af/94/06/18c0e83e9e227da8f3582810b51f319bbfd181e508676a56c8\n",
            "  Building wheel for ftfy (setup.py) ... \u001b[?25l\u001b[?25hdone\n",
            "  Created wheel for ftfy: filename=ftfy-6.0.3-py3-none-any.whl size=41933 sha256=162e0821579ba805893b4827828f9940594af9a3fb6871df37700bb933f0e4a1\n",
            "  Stored in directory: /root/.cache/pip/wheels/19/f5/38/273eb3b5e76dfd850619312f693716ac4518b498f5ffb6f56d\n",
            "  Building wheel for langdetect (setup.py) ... \u001b[?25l\u001b[?25hdone\n",
            "  Created wheel for langdetect: filename=langdetect-1.0.9-py3-none-any.whl size=993242 sha256=82bf3e9750ead1114cec6b0814818dd24c2e25afb8cb31b71643137865527f72\n",
            "  Stored in directory: /root/.cache/pip/wheels/c5/96/8a/f90c59ed25d75e50a8c10a1b1c2d4c402e4dacfa87f3aff36a\n",
            "  Building wheel for wikipedia-api (setup.py) ... \u001b[?25l\u001b[?25hdone\n",
            "  Created wheel for wikipedia-api: filename=Wikipedia_API-0.5.4-py3-none-any.whl size=13475 sha256=414eb5a9e5b43d31a37bb80a40abe46eef62c0350a819fc0b895bd53504fbb59\n",
            "  Stored in directory: /root/.cache/pip/wheels/d3/24/56/58ba93cf78be162451144e7a9889603f437976ef1ae7013d04\n",
            "Successfully built gdown mpld3 overrides segtok sqlitedict ftfy langdetect wikipedia-api\n",
            "Installing collected packages: requests, pyyaml, importlib-metadata, tokenizers, sentencepiece, sacremoses, overrides, huggingface-hub, wikipedia-api, transformers, sqlitedict, segtok, mpld3, more-itertools, langdetect, konoha, janome, gdown, ftfy, deprecated, conllu, bpemb, flair\n",
            "  Attempting uninstall: requests\n",
            "    Found existing installation: requests 2.23.0\n",
            "    Uninstalling requests-2.23.0:\n",
            "      Successfully uninstalled requests-2.23.0\n",
            "  Attempting uninstall: pyyaml\n",
            "    Found existing installation: PyYAML 3.13\n",
            "    Uninstalling PyYAML-3.13:\n",
            "      Successfully uninstalled PyYAML-3.13\n",
            "  Attempting uninstall: importlib-metadata\n",
            "    Found existing installation: importlib-metadata 4.8.2\n",
            "    Uninstalling importlib-metadata-4.8.2:\n",
            "      Successfully uninstalled importlib-metadata-4.8.2\n",
            "  Attempting uninstall: more-itertools\n",
            "    Found existing installation: more-itertools 8.11.0\n",
            "    Uninstalling more-itertools-8.11.0:\n",
            "      Successfully uninstalled more-itertools-8.11.0\n",
            "  Attempting uninstall: gdown\n",
            "    Found existing installation: gdown 3.6.4\n",
            "    Uninstalling gdown-3.6.4:\n",
            "      Successfully uninstalled gdown-3.6.4\n",
            "\u001b[31mERROR: pip's dependency resolver does not currently take into account all the packages that are installed. This behaviour is the source of the following dependency conflicts.\n",
            "markdown 3.3.6 requires importlib-metadata>=4.4; python_version < \"3.10\", but you have importlib-metadata 3.10.1 which is incompatible.\n",
            "google-colab 1.0.0 requires pandas~=1.1.0; python_version >= \"3.0\", but you have pandas 1.0.5 which is incompatible.\n",
            "google-colab 1.0.0 requires requests~=2.23.0, but you have requests 2.26.0 which is incompatible.\n",
            "datascience 0.10.6 requires folium==0.2.1, but you have folium 0.8.3 which is incompatible.\u001b[0m\n",
            "Successfully installed bpemb-0.3.3 conllu-4.4.1 deprecated-1.2.13 flair-0.10 ftfy-6.0.3 gdown-3.12.2 huggingface-hub-0.1.2 importlib-metadata-3.10.1 janome-0.4.1 konoha-4.6.5 langdetect-1.0.9 more-itertools-8.8.0 mpld3-0.3 overrides-3.1.0 pyyaml-6.0 requests-2.26.0 sacremoses-0.0.46 segtok-1.5.10 sentencepiece-0.1.95 sqlitedict-1.7.0 tokenizers-0.10.3 transformers-4.12.5 wikipedia-api-0.5.4\n"
          ]
        },
        {
          "output_type": "display_data",
          "data": {
            "application/vnd.colab-display-data+json": {
              "pip_warning": {
                "packages": [
                  "importlib_metadata",
                  "more_itertools",
                  "requests"
                ]
              }
            }
          },
          "metadata": {}
        }
      ]
    },
    {
      "cell_type": "code",
      "metadata": {
        "colab": {
          "base_uri": "https://localhost:8080/"
        },
        "id": "1U-Nqik43Jbp",
        "outputId": "c297953e-904e-4662-ad60-9326f650f121"
      },
      "source": [
        "from flair.models import TextClassifier\n",
        "from flair.data import Sentence\n",
        "sia = TextClassifier.load('en-sentiment')"
      ],
      "execution_count": 64,
      "outputs": [
        {
          "output_type": "stream",
          "name": "stdout",
          "text": [
            "2021-11-27 10:06:50,742 loading file /root/.flair/models/sentiment-en-mix-distillbert_4.pt\n"
          ]
        }
      ]
    },
    {
      "cell_type": "code",
      "metadata": {
        "id": "ZdZS6eD2KUAK"
      },
      "source": [
        "def flair_prediction(x):\n",
        "    sentence = Sentence(x)\n",
        "    sia.predict(sentence)\n",
        "    score = sentence.labels[0]\n",
        "    if \"POSITIVE\" in str(score):\n",
        "        return \"positive\"\n",
        "    elif \"NEGATIVE\" in str(score):\n",
        "        return \"negative\"\n",
        "    else:\n",
        "        return \"neutral\"\n",
        "\n",
        "def flair_score(x):\n",
        "    sentence = Sentence(x)\n",
        "    sia.predict(sentence)\n",
        "    score = sentence.labels[0].score\n",
        "    return score\n"
      ],
      "execution_count": 103,
      "outputs": []
    },
    {
      "cell_type": "code",
      "metadata": {
        "id": "y-5ciEBezIn-"
      },
      "source": [
        "df[\"emotion_Flair\"] = df[\"quotation\"].apply(flair_prediction)"
      ],
      "execution_count": 107,
      "outputs": []
    },
    {
      "cell_type": "code",
      "metadata": {
        "id": "Xsajm9D_58xo"
      },
      "source": [
        "df[\"polarity_Flair\"] = df[\"quotation\"].apply(flair_score)"
      ],
      "execution_count": 108,
      "outputs": []
    },
    {
      "cell_type": "code",
      "metadata": {
        "colab": {
          "base_uri": "https://localhost:8080/",
          "height": 502
        },
        "id": "X5kx3UjY6SiV",
        "outputId": "bbbf657b-5070-4136-e57f-fb4babae1817"
      },
      "source": [
        "plt.figure(figsize=(12,8))\n",
        "sns.set_theme(style=\"darkgrid\")\n",
        "ax = sns.countplot(x=\"emotion_Flair\", data=df,palette=\"Set3\")\n",
        "plt.show()"
      ],
      "execution_count": 109,
      "outputs": [
        {
          "output_type": "display_data",
          "data": {
            "image/png": "[encoded data removed]",
            "text/plain": [
              "<Figure size 864x576 with 1 Axes>"
            ]
          },
          "metadata": {}
        }
      ]
    },
    {
      "cell_type": "markdown",
      "metadata": {
        "id": "MS-qqC2hMGUu"
      },
      "source": [
        "Notice how here no neutral emotion was detected."
      ]
    },
    {
      "cell_type": "code",
      "metadata": {
        "colab": {
          "base_uri": "https://localhost:8080/"
        },
        "id": "jMSuPQCE6q-c",
        "outputId": "5cb18991-15f6-4323-bc77-5b1cd2600405"
      },
      "source": [
        "# again dropping the result:\n",
        "df=df.drop(['emotion_Flair'], axis=1)\n",
        "df.columns"
      ],
      "execution_count": 110,
      "outputs": [
        {
          "output_type": "execute_result",
          "data": {
            "text/plain": [
              "Index(['id', 'quoteID', 'quotation', 'speaker', 'probas', 'date',\n",
              "       'numOccurrences', 'urls', 'phase', 'label', 'date_of_birth',\n",
              "       'nationality', 'gender', 'ethnic_group', 'occupation', 'party',\n",
              "       'academic_degree', 'religion', 'polarity_TextBlob',\n",
              "       'polarity_SentimentIntensityAnalyze', 'polarity_Flair'],\n",
              "      dtype='object')"
            ]
          },
          "metadata": {},
          "execution_count": 110
        }
      ]
    },
    {
      "cell_type": "code",
      "metadata": {
        "id": "9exUiPY-AgYF"
      },
      "source": [
        "df.to_pickle('/content/drive/Shareddrives/Ada/SentimentAnalysis_temp.pkl')"
      ],
      "execution_count": 111,
      "outputs": []
    },
    {
      "cell_type": "code",
      "metadata": {
        "colab": {
          "base_uri": "https://localhost:8080/",
          "height": 643
        },
        "id": "FS_fOEGy606E",
        "outputId": "00b3dedf-c734-4b78-a050-3de42f8dd8ed"
      },
      "source": [
        "df.head()"
      ],
      "execution_count": 112,
      "outputs": [
        {
          "output_type": "execute_result",
          "data": {
            "text/html": [
              "<div>\n",
              "<style scoped>\n",
              "    .dataframe tbody tr th:only-of-type {\n",
              "        vertical-align: middle;\n",
              "    }\n",
              "\n",
              "    .dataframe tbody tr th {\n",
              "        vertical-align: top;\n",
              "    }\n",
              "\n",
              "    .dataframe thead th {\n",
              "        text-align: right;\n",
              "    }\n",
              "</style>\n",
              "<table border=\"1\" class=\"dataframe\">\n",
              "  <thead>\n",
              "    <tr style=\"text-align: right;\">\n",
              "      <th style=\"min-width: {};\"></th>\n",
              "      <th style=\"min-width: {};\">id</th>\n",
              "      <th style=\"min-width: {};\">quoteID</th>\n",
              "      <th style=\"min-width: {};\">quotation</th>\n",
              "      <th style=\"min-width: {};\">speaker</th>\n",
              "      <th style=\"min-width: {};\">probas</th>\n",
              "      <th style=\"min-width: {};\">date</th>\n",
              "      <th style=\"min-width: {};\">numOccurrences</th>\n",
              "      <th style=\"min-width: {};\">urls</th>\n",
              "      <th style=\"min-width: {};\">phase</th>\n",
              "      <th style=\"min-width: {};\">label</th>\n",
              "      <th style=\"min-width: {};\">date_of_birth</th>\n",
              "      <th style=\"min-width: {};\">nationality</th>\n",
              "      <th style=\"min-width: {};\">gender</th>\n",
              "      <th style=\"min-width: {};\">ethnic_group</th>\n",
              "      <th style=\"min-width: {};\">occupation</th>\n",
              "      <th style=\"min-width: {};\">party</th>\n",
              "      <th style=\"min-width: {};\">academic_degree</th>\n",
              "      <th style=\"min-width: {};\">religion</th>\n",
              "      <th style=\"min-width: {};\">polarity_TextBlob</th>\n",
              "      <th style=\"min-width: {};\">polarity_SentimentIntensityAnalyze</th>\n",
              "      <th style=\"min-width: {};\">polarity_Flair</th>\n",
              "    </tr>\n",
              "  </thead>\n",
              "  <tbody>\n",
              "    <tr>\n",
              "      <th>0</th>\n",
              "      <td>Q20251661</td>\n",
              "      <td>2020-01-31-011304</td>\n",
              "      <td>Brexit is the victory of the common people aga...</td>\n",
              "      <td>Laura Huhtasaari</td>\n",
              "      <td>[[Laura Huhtasaari, 0.9325], [None, 0.059], [P...</td>\n",
              "      <td>2020-01-31 03:25:04</td>\n",
              "      <td>1</td>\n",
              "      <td>[http://voanews.com/europe/shrug-and-some-sorr...</td>\n",
              "      <td>E</td>\n",
              "      <td>Laura Huhtasaari</td>\n",
              "      <td>[+1979-03-30T00:00:00Z]</td>\n",
              "      <td>Finland</td>\n",
              "      <td>female</td>\n",
              "      <td>0</td>\n",
              "      <td>politician</td>\n",
              "      <td>Finns Party</td>\n",
              "      <td>0</td>\n",
              "      <td>Lutheranism</td>\n",
              "      <td>-0.022619</td>\n",
              "      <td>0.5719</td>\n",
              "      <td>0.663805</td>\n",
              "    </tr>\n",
              "    <tr>\n",
              "      <th>1</th>\n",
              "      <td>Q694676</td>\n",
              "      <td>2020-02-13-014393</td>\n",
              "      <td>Certainly Brexit was a big issue and people we...</td>\n",
              "      <td>Pat McFadden</td>\n",
              "      <td>[[Pat McFadden, 0.9371], [None, 0.0535], [Jere...</td>\n",
              "      <td>2020-02-13 06:01:30</td>\n",
              "      <td>1</td>\n",
              "      <td>[http://www.expressandstar.com/news/politics/2...</td>\n",
              "      <td>E</td>\n",
              "      <td>Pat McFadden</td>\n",
              "      <td>[+1965-03-26T00:00:00Z]</td>\n",
              "      <td>United Kingdom</td>\n",
              "      <td>male</td>\n",
              "      <td>0</td>\n",
              "      <td>politician</td>\n",
              "      <td>Labour Party</td>\n",
              "      <td>0</td>\n",
              "      <td>0</td>\n",
              "      <td>-0.161905</td>\n",
              "      <td>-0.2500</td>\n",
              "      <td>0.997470</td>\n",
              "    </tr>\n",
              "    <tr>\n",
              "      <th>2</th>\n",
              "      <td>Q1341937</td>\n",
              "      <td>2020-03-08-010480</td>\n",
              "      <td>I backed leave and voted leave, but I never ca...</td>\n",
              "      <td>Jason McCartney</td>\n",
              "      <td>[[Jason McCartney, 0.8274], [None, 0.128], [Li...</td>\n",
              "      <td>2020-03-08 05:45:58</td>\n",
              "      <td>1</td>\n",
              "      <td>[http://www.yorkshirepost.co.uk/news/second-ti...</td>\n",
              "      <td>E</td>\n",
              "      <td>Jason McCartney</td>\n",
              "      <td>[+1973-09-03T00:00:00Z]</td>\n",
              "      <td>United States of America</td>\n",
              "      <td>male</td>\n",
              "      <td>0</td>\n",
              "      <td>sport cyclist</td>\n",
              "      <td>0</td>\n",
              "      <td>0</td>\n",
              "      <td>0</td>\n",
              "      <td>0.000000</td>\n",
              "      <td>-0.4243</td>\n",
              "      <td>0.595703</td>\n",
              "    </tr>\n",
              "    <tr>\n",
              "      <th>3</th>\n",
              "      <td>Q6837191</td>\n",
              "      <td>2020-02-14-058019</td>\n",
              "      <td>legacy, bad faith on pensions, Brexit and poli...</td>\n",
              "      <td>Michelle O'Neill</td>\n",
              "      <td>[[Michelle O'Neill, 0.8055], [None, 0.1302], [...</td>\n",
              "      <td>2020-02-14 11:48:49</td>\n",
              "      <td>1</td>\n",
              "      <td>[https://www.belfasttelegraph.co.uk/news/north...</td>\n",
              "      <td>E</td>\n",
              "      <td>Michelle O'Neill</td>\n",
              "      <td>[+1977-01-10T00:00:00Z]</td>\n",
              "      <td>Northern Ireland</td>\n",
              "      <td>female</td>\n",
              "      <td>0</td>\n",
              "      <td>politician</td>\n",
              "      <td>Sinn Féin</td>\n",
              "      <td>0</td>\n",
              "      <td>0</td>\n",
              "      <td>-0.233333</td>\n",
              "      <td>-0.0516</td>\n",
              "      <td>0.951277</td>\n",
              "    </tr>\n",
              "    <tr>\n",
              "      <th>4</th>\n",
              "      <td>Q1728820</td>\n",
              "      <td>2020-01-27-094916</td>\n",
              "      <td>we're only at half-time on Brexit, it's not do...</td>\n",
              "      <td>Leo Varadkar</td>\n",
              "      <td>[[Leo Varadkar, 0.9378], [None, 0.0502], [Bori...</td>\n",
              "      <td>2020-01-27 12:25:00</td>\n",
              "      <td>1</td>\n",
              "      <td>[http://blogs.independent.co.uk/voices/brexit-...</td>\n",
              "      <td>E</td>\n",
              "      <td>Leo Varadkar</td>\n",
              "      <td>[+1979-01-18T00:00:00Z]</td>\n",
              "      <td>Ireland</td>\n",
              "      <td>male</td>\n",
              "      <td>0</td>\n",
              "      <td>politician</td>\n",
              "      <td>Fine Gael</td>\n",
              "      <td>0</td>\n",
              "      <td>0</td>\n",
              "      <td>0.000000</td>\n",
              "      <td>0.0000</td>\n",
              "      <td>0.946059</td>\n",
              "    </tr>\n",
              "  </tbody>\n",
              "</table>\n",
              "</div>"
            ],
            "text/plain": [
              "          id  ... polarity_Flair\n",
              "0  Q20251661  ...       0.663805\n",
              "1    Q694676  ...       0.997470\n",
              "2   Q1341937  ...       0.595703\n",
              "3   Q6837191  ...       0.951277\n",
              "4   Q1728820  ...       0.946059\n",
              "\n",
              "[5 rows x 21 columns]"
            ]
          },
          "metadata": {},
          "execution_count": 112
        }
      ]
    },
    {
      "cell_type": "markdown",
      "metadata": {
        "id": "NjVAnjy_y8eg"
      },
      "source": [
        "Averaging the results:"
      ]
    },
    {
      "cell_type": "code",
      "metadata": {
        "id": "DP5uT67DEHFu"
      },
      "source": [
        "df['polarity']=df[['polarity_Flair','polarity_TextBlob',\n",
        "       'polarity_SentimentIntensityAnalyze']].mean(axis=1)"
      ],
      "execution_count": 121,
      "outputs": []
    },
    {
      "cell_type": "code",
      "metadata": {
        "colab": {
          "base_uri": "https://localhost:8080/",
          "height": 643
        },
        "id": "6Owqjnh0E0h8",
        "outputId": "30c4efe2-1c37-45a4-930e-bc4e062728ef"
      },
      "source": [
        "df.head()"
      ],
      "execution_count": 122,
      "outputs": [
        {
          "output_type": "execute_result",
          "data": {
            "text/html": [
              "<div>\n",
              "<style scoped>\n",
              "    .dataframe tbody tr th:only-of-type {\n",
              "        vertical-align: middle;\n",
              "    }\n",
              "\n",
              "    .dataframe tbody tr th {\n",
              "        vertical-align: top;\n",
              "    }\n",
              "\n",
              "    .dataframe thead th {\n",
              "        text-align: right;\n",
              "    }\n",
              "</style>\n",
              "<table border=\"1\" class=\"dataframe\">\n",
              "  <thead>\n",
              "    <tr style=\"text-align: right;\">\n",
              "      <th style=\"min-width: {};\"></th>\n",
              "      <th style=\"min-width: {};\">id</th>\n",
              "      <th style=\"min-width: {};\">quoteID</th>\n",
              "      <th style=\"min-width: {};\">quotation</th>\n",
              "      <th style=\"min-width: {};\">speaker</th>\n",
              "      <th style=\"min-width: {};\">probas</th>\n",
              "      <th style=\"min-width: {};\">date</th>\n",
              "      <th style=\"min-width: {};\">numOccurrences</th>\n",
              "      <th style=\"min-width: {};\">urls</th>\n",
              "      <th style=\"min-width: {};\">phase</th>\n",
              "      <th style=\"min-width: {};\">label</th>\n",
              "      <th style=\"min-width: {};\">date_of_birth</th>\n",
              "      <th style=\"min-width: {};\">nationality</th>\n",
              "      <th style=\"min-width: {};\">gender</th>\n",
              "      <th style=\"min-width: {};\">ethnic_group</th>\n",
              "      <th style=\"min-width: {};\">occupation</th>\n",
              "      <th style=\"min-width: {};\">party</th>\n",
              "      <th style=\"min-width: {};\">academic_degree</th>\n",
              "      <th style=\"min-width: {};\">religion</th>\n",
              "      <th style=\"min-width: {};\">polarity_TextBlob</th>\n",
              "      <th style=\"min-width: {};\">polarity_SentimentIntensityAnalyze</th>\n",
              "      <th style=\"min-width: {};\">polarity_Flair</th>\n",
              "      <th style=\"min-width: {};\">polarity</th>\n",
              "    </tr>\n",
              "  </thead>\n",
              "  <tbody>\n",
              "    <tr>\n",
              "      <th>0</th>\n",
              "      <td>Q20251661</td>\n",
              "      <td>2020-01-31-011304</td>\n",
              "      <td>Brexit is the victory of the common people aga...</td>\n",
              "      <td>Laura Huhtasaari</td>\n",
              "      <td>[[Laura Huhtasaari, 0.9325], [None, 0.059], [P...</td>\n",
              "      <td>2020-01-31 03:25:04</td>\n",
              "      <td>1</td>\n",
              "      <td>[http://voanews.com/europe/shrug-and-some-sorr...</td>\n",
              "      <td>E</td>\n",
              "      <td>Laura Huhtasaari</td>\n",
              "      <td>[+1979-03-30T00:00:00Z]</td>\n",
              "      <td>Finland</td>\n",
              "      <td>female</td>\n",
              "      <td>0</td>\n",
              "      <td>politician</td>\n",
              "      <td>Finns Party</td>\n",
              "      <td>0</td>\n",
              "      <td>Lutheranism</td>\n",
              "      <td>-0.022619</td>\n",
              "      <td>0.5719</td>\n",
              "      <td>0.663805</td>\n",
              "      <td>0.404362</td>\n",
              "    </tr>\n",
              "    <tr>\n",
              "      <th>1</th>\n",
              "      <td>Q694676</td>\n",
              "      <td>2020-02-13-014393</td>\n",
              "      <td>Certainly Brexit was a big issue and people we...</td>\n",
              "      <td>Pat McFadden</td>\n",
              "      <td>[[Pat McFadden, 0.9371], [None, 0.0535], [Jere...</td>\n",
              "      <td>2020-02-13 06:01:30</td>\n",
              "      <td>1</td>\n",
              "      <td>[http://www.expressandstar.com/news/politics/2...</td>\n",
              "      <td>E</td>\n",
              "      <td>Pat McFadden</td>\n",
              "      <td>[+1965-03-26T00:00:00Z]</td>\n",
              "      <td>United Kingdom</td>\n",
              "      <td>male</td>\n",
              "      <td>0</td>\n",
              "      <td>politician</td>\n",
              "      <td>Labour Party</td>\n",
              "      <td>0</td>\n",
              "      <td>0</td>\n",
              "      <td>-0.161905</td>\n",
              "      <td>-0.2500</td>\n",
              "      <td>0.997470</td>\n",
              "      <td>0.195188</td>\n",
              "    </tr>\n",
              "    <tr>\n",
              "      <th>2</th>\n",
              "      <td>Q1341937</td>\n",
              "      <td>2020-03-08-010480</td>\n",
              "      <td>I backed leave and voted leave, but I never ca...</td>\n",
              "      <td>Jason McCartney</td>\n",
              "      <td>[[Jason McCartney, 0.8274], [None, 0.128], [Li...</td>\n",
              "      <td>2020-03-08 05:45:58</td>\n",
              "      <td>1</td>\n",
              "      <td>[http://www.yorkshirepost.co.uk/news/second-ti...</td>\n",
              "      <td>E</td>\n",
              "      <td>Jason McCartney</td>\n",
              "      <td>[+1973-09-03T00:00:00Z]</td>\n",
              "      <td>United States of America</td>\n",
              "      <td>male</td>\n",
              "      <td>0</td>\n",
              "      <td>sport cyclist</td>\n",
              "      <td>0</td>\n",
              "      <td>0</td>\n",
              "      <td>0</td>\n",
              "      <td>0.000000</td>\n",
              "      <td>-0.4243</td>\n",
              "      <td>0.595703</td>\n",
              "      <td>0.057134</td>\n",
              "    </tr>\n",
              "    <tr>\n",
              "      <th>3</th>\n",
              "      <td>Q6837191</td>\n",
              "      <td>2020-02-14-058019</td>\n",
              "      <td>legacy, bad faith on pensions, Brexit and poli...</td>\n",
              "      <td>Michelle O'Neill</td>\n",
              "      <td>[[Michelle O'Neill, 0.8055], [None, 0.1302], [...</td>\n",
              "      <td>2020-02-14 11:48:49</td>\n",
              "      <td>1</td>\n",
              "      <td>[https://www.belfasttelegraph.co.uk/news/north...</td>\n",
              "      <td>E</td>\n",
              "      <td>Michelle O'Neill</td>\n",
              "      <td>[+1977-01-10T00:00:00Z]</td>\n",
              "      <td>Northern Ireland</td>\n",
              "      <td>female</td>\n",
              "      <td>0</td>\n",
              "      <td>politician</td>\n",
              "      <td>Sinn Féin</td>\n",
              "      <td>0</td>\n",
              "      <td>0</td>\n",
              "      <td>-0.233333</td>\n",
              "      <td>-0.0516</td>\n",
              "      <td>0.951277</td>\n",
              "      <td>0.222115</td>\n",
              "    </tr>\n",
              "    <tr>\n",
              "      <th>4</th>\n",
              "      <td>Q1728820</td>\n",
              "      <td>2020-01-27-094916</td>\n",
              "      <td>we're only at half-time on Brexit, it's not do...</td>\n",
              "      <td>Leo Varadkar</td>\n",
              "      <td>[[Leo Varadkar, 0.9378], [None, 0.0502], [Bori...</td>\n",
              "      <td>2020-01-27 12:25:00</td>\n",
              "      <td>1</td>\n",
              "      <td>[http://blogs.independent.co.uk/voices/brexit-...</td>\n",
              "      <td>E</td>\n",
              "      <td>Leo Varadkar</td>\n",
              "      <td>[+1979-01-18T00:00:00Z]</td>\n",
              "      <td>Ireland</td>\n",
              "      <td>male</td>\n",
              "      <td>0</td>\n",
              "      <td>politician</td>\n",
              "      <td>Fine Gael</td>\n",
              "      <td>0</td>\n",
              "      <td>0</td>\n",
              "      <td>0.000000</td>\n",
              "      <td>0.0000</td>\n",
              "      <td>0.946059</td>\n",
              "      <td>0.315353</td>\n",
              "    </tr>\n",
              "  </tbody>\n",
              "</table>\n",
              "</div>"
            ],
            "text/plain": [
              "          id            quoteID  ... polarity_Flair  polarity\n",
              "0  Q20251661  2020-01-31-011304  ...       0.663805  0.404362\n",
              "1    Q694676  2020-02-13-014393  ...       0.997470  0.195188\n",
              "2   Q1341937  2020-03-08-010480  ...       0.595703  0.057134\n",
              "3   Q6837191  2020-02-14-058019  ...       0.951277  0.222115\n",
              "4   Q1728820  2020-01-27-094916  ...       0.946059  0.315353\n",
              "\n",
              "[5 rows x 22 columns]"
            ]
          },
          "metadata": {},
          "execution_count": 122
        }
      ]
    },
    {
      "cell_type": "code",
      "metadata": {
        "id": "7FT1TzjtErem"
      },
      "source": [
        "df.to_pickle('/content/drive/Shareddrives/Ada/SentimentAnalysis_temp.pkl')"
      ],
      "execution_count": 123,
      "outputs": []
    },
    {
      "cell_type": "markdown",
      "metadata": {
        "id": "AbYnGIKJE4x1"
      },
      "source": [
        "Assigning the emotion to the averaged score:"
      ]
    },
    {
      "cell_type": "code",
      "metadata": {
        "id": "vBW0wQedE3q0"
      },
      "source": [
        "\n",
        "for i in range(len(df)):\n",
        "  df.at[i,'emotion']=polarity_to_text2(df['polarity'][i])"
      ],
      "execution_count": 124,
      "outputs": []
    },
    {
      "cell_type": "code",
      "metadata": {
        "colab": {
          "base_uri": "https://localhost:8080/",
          "height": 643
        },
        "id": "OPFgBC7hFOmc",
        "outputId": "611be977-a731-4234-ff07-26bc89c388eb"
      },
      "source": [
        "df.head()"
      ],
      "execution_count": 125,
      "outputs": [
        {
          "output_type": "execute_result",
          "data": {
            "text/html": [
              "<div>\n",
              "<style scoped>\n",
              "    .dataframe tbody tr th:only-of-type {\n",
              "        vertical-align: middle;\n",
              "    }\n",
              "\n",
              "    .dataframe tbody tr th {\n",
              "        vertical-align: top;\n",
              "    }\n",
              "\n",
              "    .dataframe thead th {\n",
              "        text-align: right;\n",
              "    }\n",
              "</style>\n",
              "<table border=\"1\" class=\"dataframe\">\n",
              "  <thead>\n",
              "    <tr style=\"text-align: right;\">\n",
              "      <th style=\"min-width: {};\"></th>\n",
              "      <th style=\"min-width: {};\">id</th>\n",
              "      <th style=\"min-width: {};\">quoteID</th>\n",
              "      <th style=\"min-width: {};\">quotation</th>\n",
              "      <th style=\"min-width: {};\">speaker</th>\n",
              "      <th style=\"min-width: {};\">probas</th>\n",
              "      <th style=\"min-width: {};\">date</th>\n",
              "      <th style=\"min-width: {};\">numOccurrences</th>\n",
              "      <th style=\"min-width: {};\">urls</th>\n",
              "      <th style=\"min-width: {};\">phase</th>\n",
              "      <th style=\"min-width: {};\">label</th>\n",
              "      <th style=\"min-width: {};\">date_of_birth</th>\n",
              "      <th style=\"min-width: {};\">nationality</th>\n",
              "      <th style=\"min-width: {};\">gender</th>\n",
              "      <th style=\"min-width: {};\">ethnic_group</th>\n",
              "      <th style=\"min-width: {};\">occupation</th>\n",
              "      <th style=\"min-width: {};\">party</th>\n",
              "      <th style=\"min-width: {};\">academic_degree</th>\n",
              "      <th style=\"min-width: {};\">religion</th>\n",
              "      <th style=\"min-width: {};\">polarity_TextBlob</th>\n",
              "      <th style=\"min-width: {};\">polarity_SentimentIntensityAnalyze</th>\n",
              "      <th style=\"min-width: {};\">polarity_Flair</th>\n",
              "      <th style=\"min-width: {};\">polarity</th>\n",
              "      <th style=\"min-width: {};\">emotion</th>\n",
              "    </tr>\n",
              "  </thead>\n",
              "  <tbody>\n",
              "    <tr>\n",
              "      <th>0</th>\n",
              "      <td>Q20251661</td>\n",
              "      <td>2020-01-31-011304</td>\n",
              "      <td>Brexit is the victory of the common people aga...</td>\n",
              "      <td>Laura Huhtasaari</td>\n",
              "      <td>[[Laura Huhtasaari, 0.9325], [None, 0.059], [P...</td>\n",
              "      <td>2020-01-31 03:25:04</td>\n",
              "      <td>1</td>\n",
              "      <td>[http://voanews.com/europe/shrug-and-some-sorr...</td>\n",
              "      <td>E</td>\n",
              "      <td>Laura Huhtasaari</td>\n",
              "      <td>[+1979-03-30T00:00:00Z]</td>\n",
              "      <td>Finland</td>\n",
              "      <td>female</td>\n",
              "      <td>0</td>\n",
              "      <td>politician</td>\n",
              "      <td>Finns Party</td>\n",
              "      <td>0</td>\n",
              "      <td>Lutheranism</td>\n",
              "      <td>-0.022619</td>\n",
              "      <td>0.5719</td>\n",
              "      <td>0.663805</td>\n",
              "      <td>0.404362</td>\n",
              "      <td>postive</td>\n",
              "    </tr>\n",
              "    <tr>\n",
              "      <th>1</th>\n",
              "      <td>Q694676</td>\n",
              "      <td>2020-02-13-014393</td>\n",
              "      <td>Certainly Brexit was a big issue and people we...</td>\n",
              "      <td>Pat McFadden</td>\n",
              "      <td>[[Pat McFadden, 0.9371], [None, 0.0535], [Jere...</td>\n",
              "      <td>2020-02-13 06:01:30</td>\n",
              "      <td>1</td>\n",
              "      <td>[http://www.expressandstar.com/news/politics/2...</td>\n",
              "      <td>E</td>\n",
              "      <td>Pat McFadden</td>\n",
              "      <td>[+1965-03-26T00:00:00Z]</td>\n",
              "      <td>United Kingdom</td>\n",
              "      <td>male</td>\n",
              "      <td>0</td>\n",
              "      <td>politician</td>\n",
              "      <td>Labour Party</td>\n",
              "      <td>0</td>\n",
              "      <td>0</td>\n",
              "      <td>-0.161905</td>\n",
              "      <td>-0.2500</td>\n",
              "      <td>0.997470</td>\n",
              "      <td>0.195188</td>\n",
              "      <td>postive</td>\n",
              "    </tr>\n",
              "    <tr>\n",
              "      <th>2</th>\n",
              "      <td>Q1341937</td>\n",
              "      <td>2020-03-08-010480</td>\n",
              "      <td>I backed leave and voted leave, but I never ca...</td>\n",
              "      <td>Jason McCartney</td>\n",
              "      <td>[[Jason McCartney, 0.8274], [None, 0.128], [Li...</td>\n",
              "      <td>2020-03-08 05:45:58</td>\n",
              "      <td>1</td>\n",
              "      <td>[http://www.yorkshirepost.co.uk/news/second-ti...</td>\n",
              "      <td>E</td>\n",
              "      <td>Jason McCartney</td>\n",
              "      <td>[+1973-09-03T00:00:00Z]</td>\n",
              "      <td>United States of America</td>\n",
              "      <td>male</td>\n",
              "      <td>0</td>\n",
              "      <td>sport cyclist</td>\n",
              "      <td>0</td>\n",
              "      <td>0</td>\n",
              "      <td>0</td>\n",
              "      <td>0.000000</td>\n",
              "      <td>-0.4243</td>\n",
              "      <td>0.595703</td>\n",
              "      <td>0.057134</td>\n",
              "      <td>neutral</td>\n",
              "    </tr>\n",
              "    <tr>\n",
              "      <th>3</th>\n",
              "      <td>Q6837191</td>\n",
              "      <td>2020-02-14-058019</td>\n",
              "      <td>legacy, bad faith on pensions, Brexit and poli...</td>\n",
              "      <td>Michelle O'Neill</td>\n",
              "      <td>[[Michelle O'Neill, 0.8055], [None, 0.1302], [...</td>\n",
              "      <td>2020-02-14 11:48:49</td>\n",
              "      <td>1</td>\n",
              "      <td>[https://www.belfasttelegraph.co.uk/news/north...</td>\n",
              "      <td>E</td>\n",
              "      <td>Michelle O'Neill</td>\n",
              "      <td>[+1977-01-10T00:00:00Z]</td>\n",
              "      <td>Northern Ireland</td>\n",
              "      <td>female</td>\n",
              "      <td>0</td>\n",
              "      <td>politician</td>\n",
              "      <td>Sinn Féin</td>\n",
              "      <td>0</td>\n",
              "      <td>0</td>\n",
              "      <td>-0.233333</td>\n",
              "      <td>-0.0516</td>\n",
              "      <td>0.951277</td>\n",
              "      <td>0.222115</td>\n",
              "      <td>postive</td>\n",
              "    </tr>\n",
              "    <tr>\n",
              "      <th>4</th>\n",
              "      <td>Q1728820</td>\n",
              "      <td>2020-01-27-094916</td>\n",
              "      <td>we're only at half-time on Brexit, it's not do...</td>\n",
              "      <td>Leo Varadkar</td>\n",
              "      <td>[[Leo Varadkar, 0.9378], [None, 0.0502], [Bori...</td>\n",
              "      <td>2020-01-27 12:25:00</td>\n",
              "      <td>1</td>\n",
              "      <td>[http://blogs.independent.co.uk/voices/brexit-...</td>\n",
              "      <td>E</td>\n",
              "      <td>Leo Varadkar</td>\n",
              "      <td>[+1979-01-18T00:00:00Z]</td>\n",
              "      <td>Ireland</td>\n",
              "      <td>male</td>\n",
              "      <td>0</td>\n",
              "      <td>politician</td>\n",
              "      <td>Fine Gael</td>\n",
              "      <td>0</td>\n",
              "      <td>0</td>\n",
              "      <td>0.000000</td>\n",
              "      <td>0.0000</td>\n",
              "      <td>0.946059</td>\n",
              "      <td>0.315353</td>\n",
              "      <td>postive</td>\n",
              "    </tr>\n",
              "  </tbody>\n",
              "</table>\n",
              "</div>"
            ],
            "text/plain": [
              "          id            quoteID  ...  polarity  emotion\n",
              "0  Q20251661  2020-01-31-011304  ...  0.404362  postive\n",
              "1    Q694676  2020-02-13-014393  ...  0.195188  postive\n",
              "2   Q1341937  2020-03-08-010480  ...  0.057134  neutral\n",
              "3   Q6837191  2020-02-14-058019  ...  0.222115  postive\n",
              "4   Q1728820  2020-01-27-094916  ...  0.315353  postive\n",
              "\n",
              "[5 rows x 23 columns]"
            ]
          },
          "metadata": {},
          "execution_count": 125
        }
      ]
    },
    {
      "cell_type": "code",
      "metadata": {
        "colab": {
          "base_uri": "https://localhost:8080/",
          "height": 502
        },
        "id": "pEqVd8c5JoJf",
        "outputId": "64ac82a2-2e3e-4ebd-a66d-02a401cee361"
      },
      "source": [
        "plt.figure(figsize=(12,8))\n",
        "sns.set_theme(style=\"darkgrid\")\n",
        "ax = sns.countplot(x=\"emotion\", data=df,palette=\"Set3\")\n",
        "plt.show()"
      ],
      "execution_count": 129,
      "outputs": [
        {
          "output_type": "display_data",
          "data": {
            "image/png": "[encoded data removed]",
            "text/plain": [
              "<Figure size 864x576 with 1 Axes>"
            ]
          },
          "metadata": {}
        }
      ]
    },
    {
      "cell_type": "markdown",
      "metadata": {
        "id": "0n2mp9PpzCeN"
      },
      "source": [
        "Putting everything in one pickel:"
      ]
    },
    {
      "cell_type": "code",
      "metadata": {
        "id": "Xca4p4ofuSKL"
      },
      "source": [
        "df.to_pickle('/content/drive/Shareddrives/Ada/SentimentAnalysis.pkl')"
      ],
      "execution_count": 126,
      "outputs": []
    },
    {
      "cell_type": "code",
      "metadata": {
        "id": "BxHnTnZ0vt4e"
      },
      "source": [
        "dummydf=pd.read_pickle('/content/drive/Shareddrives/Ada/SentimentAnalysis.pkl')"
      ],
      "execution_count": 127,
      "outputs": []
    },
    {
      "cell_type": "code",
      "metadata": {
        "colab": {
          "base_uri": "https://localhost:8080/"
        },
        "id": "4zlav6pcLZKH",
        "outputId": "6ffecccd-1099-4625-b71a-5a13541ee34e"
      },
      "source": [
        "df.columns"
      ],
      "execution_count": 130,
      "outputs": [
        {
          "output_type": "execute_result",
          "data": {
            "text/plain": [
              "Index(['id', 'quoteID', 'quotation', 'speaker', 'probas', 'date',\n",
              "       'numOccurrences', 'urls', 'phase', 'label', 'date_of_birth',\n",
              "       'nationality', 'gender', 'ethnic_group', 'occupation', 'party',\n",
              "       'academic_degree', 'religion', 'polarity_TextBlob',\n",
              "       'polarity_SentimentIntensityAnalyze', 'polarity_Flair', 'polarity',\n",
              "       'emotion'],\n",
              "      dtype='object')"
            ]
          },
          "metadata": {},
          "execution_count": 130
        }
      ]
    },
    {
      "cell_type": "markdown",
      "metadata": {
        "id": "4Un6UT8wEn5e"
      },
      "source": [
        "## How did the number of quotations change over time?"
      ]
    },
    {
      "cell_type": "code",
      "metadata": {
        "colab": {
          "base_uri": "https://localhost:8080/"
        },
        "id": "X9S8gG4YyM4e",
        "outputId": "ddf8ee66-f702-4eec-8635-deb8acfb0c9c"
      },
      "source": [
        "# Check the data type of date in dataframe\n",
        "print(df.dtypes)"
      ],
      "execution_count": null,
      "outputs": [
        {
          "output_type": "stream",
          "name": "stdout",
          "text": [
            "id                         object\n",
            "quoteID                    object\n",
            "quotation                  object\n",
            "speaker                    object\n",
            "probas                     object\n",
            "date               datetime64[ns]\n",
            "numOccurrences              int64\n",
            "urls                       object\n",
            "phase                      object\n",
            "label                      object\n",
            "date_of_birth              object\n",
            "nationality                object\n",
            "gender                     object\n",
            "ethnic_group               object\n",
            "occupation                 object\n",
            "party                      object\n",
            "academic_degree            object\n",
            "religion                   object\n",
            "dtype: object\n"
          ]
        }
      ]
    },
    {
      "cell_type": "code",
      "metadata": {
        "id": "h8tvpdkNyREz"
      },
      "source": [
        "# Make Date column datetime\n",
        "df['just_date'] = df['date'].dt.date\n",
        "df['just_date'] = pd.to_datetime(df['just_date'], format='%Y-%m-%d')"
      ],
      "execution_count": null,
      "outputs": []
    },
    {
      "cell_type": "code",
      "metadata": {
        "colab": {
          "base_uri": "https://localhost:8080/",
          "height": 609
        },
        "id": "8oFkvZrZisuF",
        "outputId": "a610e185-78b7-4898-8068-c7550319b8dd"
      },
      "source": [
        "#Plot the histogram to show the amount of quotations changed over 2015 to 2020\n",
        "from datetime import datetime\n",
        "fig, ax = plt.subplots()\n",
        "fig.set_dpi(150)\n",
        "ax.hist(df['just_date'], bins=700,color='skyblue', ec=\"skyblue\");#,datetime(,,)\n",
        "plt.xlabel('\\n Time \\n', fontsize = 10)\n",
        "plt.ylabel(' Number of quotes related to Brexit ', fontsize = 10)\n",
        "_ = ax.vlines(x=[datetime(2016, 6, 23),datetime(2016,7,13),datetime(2017,6,23),datetime(2017,12,8),datetime(2019,6,24),datetime(2019,7,24),datetime(2019,10,2),datetime(2019,12,12),datetime(2020,1,31),datetime(2020,10,16)], ymin=0, ymax=1000,linewidth=1,linestyle='--', colors='r')"
      ],
      "execution_count": null,
      "outputs": [
        {
          "output_type": "display_data",
          "data": {
            "image/png": "[encoded data removed]",
            "text/plain": [
              "<Figure size 900x600 with 1 Axes>"
            ]
          },
          "metadata": {
            "needs_background": "light"
          }
        }
      ]
    },
    {
      "cell_type": "markdown",
      "metadata": {
        "id": "O0_TEDUtGIMx"
      },
      "source": [
        "## Initial analysis related to speakers\n"
      ]
    },
    {
      "cell_type": "code",
      "metadata": {
        "colab": {
          "base_uri": "https://localhost:8080/",
          "height": 391
        },
        "id": "nlKVl56yislI",
        "outputId": "72e738e5-0879-4d1a-aa45-ebf56b775ffe"
      },
      "source": [
        "# Generate  word cloud for speakers \n",
        "text = df['speaker'].values \n",
        "mask = np.array(Image.open('/content/drive/Shareddrives/Ada/img/Flag_of_the_United_Kingdom.png'))\n",
        "wordcloud = WordCloud(width = 800, height = 800, \n",
        "            background_color ='white', \n",
        "            mask=mask,\n",
        "            min_font_size = 10).generate(str(text))\n",
        "\n",
        "\n",
        "# plot the WordCloud image                        \n",
        "plt.figure(figsize = (10, 20), facecolor = None) \n",
        "plt.imshow(wordcloud) \n",
        "plt.axis(\"off\") \n",
        "plt.tight_layout(pad = 0) \n",
        "plt.show() "
      ],
      "execution_count": null,
      "outputs": [
        {
          "output_type": "display_data",
          "data": {
            "image/png": "[encoded data removed]",
            "text/plain": [
              "<Figure size 720x1440 with 1 Axes>"
            ]
          },
          "metadata": {}
        }
      ]
    },
    {
      "cell_type": "markdown",
      "metadata": {
        "id": "EcW-62WXMBub"
      },
      "source": [
        "The wordcloud generated from speakers' data show some active speakers issued Brexit related quotations in Quotebank dataset."
      ]
    },
    {
      "cell_type": "code",
      "metadata": {
        "id": "AHldIJSoi_cI"
      },
      "source": [
        "#Speakers\n",
        "list_speakers = df['speaker']\n",
        "list_speakers =list_speakers.to_list()"
      ],
      "execution_count": null,
      "outputs": []
    },
    {
      "cell_type": "code",
      "metadata": {
        "id": "RWszSqVMi_ZJ"
      },
      "source": [
        "set_unique_speakers = set(list_speakers)"
      ],
      "execution_count": null,
      "outputs": []
    },
    {
      "cell_type": "code",
      "metadata": {
        "colab": {
          "base_uri": "https://localhost:8080/"
        },
        "id": "bcC9LFYFi_V8",
        "outputId": "44650a84-4ad2-4994-968b-c43412de41eb"
      },
      "source": [
        "print(\"The number of unique speakers related to Brexit is: \", len(set_unique_speakers))"
      ],
      "execution_count": null,
      "outputs": [
        {
          "output_type": "stream",
          "name": "stdout",
          "text": [
            "The number of unique speakers related to Brexit is:  15112\n"
          ]
        }
      ]
    },
    {
      "cell_type": "code",
      "metadata": {
        "id": "PxQsWgsKi_TR"
      },
      "source": [
        "# Count the number of quotations issued by each speaker\n",
        "list_speakers_occurences = []\n",
        "for speaker in set_unique_speakers:\n",
        "  list_speakers_occurences.append([speaker, list_speakers.count(speaker)])\n",
        "sorted_list_speakers_occurences = sorted(list_speakers_occurences, key=lambda x: x[1], reverse=True)"
      ],
      "execution_count": null,
      "outputs": []
    },
    {
      "cell_type": "code",
      "metadata": {
        "colab": {
          "background_save": true
        },
        "id": "ihuI5GdEi_Pp",
        "outputId": "470821d5-3199-453c-fb5d-64b98b32e09e"
      },
      "source": [
        "# Rank speakers by the number of quotations issued\n",
        "df_speakers = pd.DataFrame(sorted_list_speakers_occurences)\n",
        "df_speakers.set_axis(['speaker', 'frequency'], axis=1, inplace=True)\n",
        "import matplotlib.pyplot as plt\n",
        "ax = sns.barplot(x=\"frequency\", y=\"speaker\", data=df_speakers.head(20))"
      ],
      "execution_count": null,
      "outputs": [
        {
          "data": {
            "image/png": "[encoded data removed]",
            "text/plain": [
              "<Figure size 432x288 with 1 Axes>"
            ]
          },
          "metadata": {},
          "output_type": "display_data"
        }
      ]
    },
    {
      "cell_type": "markdown",
      "metadata": {
        "id": "Bx6_cp22SpMP"
      },
      "source": [
        "The plot shows an interesting fact that Donald Trump commented on Brexit frequently. This perhaps due to Quotebank collect more quotations from American media. Narendra Modi who is the 14th Prime Minister of India is ranked at the second place. This may due to there are some frequent trade deals between UK and India. "
      ]
    },
    {
      "cell_type": "code",
      "metadata": {
        "colab": {
          "background_save": true
        },
        "id": "IPY4TyVfJqMn",
        "outputId": "f504cd30-8f1e-4647-a779-94ae1926d359"
      },
      "source": [
        "# The plot shows the ranking of speaker's nationality by the amount of Brexit related quotations\n",
        "df_attr=df\n",
        "list_nationality = df_attr['nationality']\n",
        "list_nationality =list_nationality.to_list()\n",
        "set_unique_nationality = set(list_nationality)\n",
        "list_nationality_occurences = []\n",
        "for nationality in set_unique_nationality:\n",
        "  list_nationality_occurences.append([nationality, list_nationality.count(nationality)])\n",
        "sorted_list_nationality_occurences = sorted(list_nationality_occurences, key=lambda x: x[1], reverse=True)\n",
        "df_nationality = pd.DataFrame(sorted_list_nationality_occurences)\n",
        "df_nationality.set_axis(['nationality', 'frequency'], axis=1, inplace=True)\n",
        "import matplotlib.pyplot as plt\n",
        "ax = sns.barplot(x=\"frequency\", y=\"nationality\", data=df_nationality.head(20))"
      ],
      "execution_count": null,
      "outputs": [
        {
          "data": {
            "image/png": "[encoded data removed]",
            "text/plain": [
              "<Figure size 432x288 with 1 Axes>"
            ]
          },
          "metadata": {},
          "output_type": "display_data"
        }
      ]
    },
    {
      "cell_type": "markdown",
      "metadata": {
        "id": "DVO4jrZ0V43o"
      },
      "source": [
        "Most peakers are from America. \"0\" represents \"NAN\". Lots of speakers from United Kingdom, India and Australia. Except United Kingdom, other countries in top 5 are not European countries. This may due to the Quotebank only collect data from English news."
      ]
    },
    {
      "cell_type": "code",
      "metadata": {
        "id": "fm4lcF1hjQyC",
        "colab": {
          "base_uri": "https://localhost:8080/",
          "height": 279
        },
        "outputId": "1f1d9d89-bc1d-45cc-8ff5-e04f93aa0b37"
      },
      "source": [
        "# The plot shows the ranking of speaker's profession by the amount of Brexit related quotations\n",
        "list_occupation = df_attr['occupation']\n",
        "list_occupation =list_occupation.to_list()\n",
        "set_unique_occupation = set(list_occupation)\n",
        "list_occupation_occurences = []\n",
        "for occupation in set_unique_occupation:\n",
        "  list_occupation_occurences.append([occupation, list_occupation.count(occupation)])\n",
        "sorted_list_occupation_occurences = sorted(list_occupation_occurences, key=lambda x: x[1], reverse=True)\n",
        "df_occupation = pd.DataFrame(sorted_list_occupation_occurences)\n",
        "df_occupation.set_axis(['occupation', 'frequency'], axis=1, inplace=True)\n",
        "import matplotlib.pyplot as plt\n",
        "ax = sns.barplot(x=\"frequency\", y=\"occupation\", data=df_occupation.head(20))"
      ],
      "execution_count": null,
      "outputs": [
        {
          "output_type": "display_data",
          "data": {
            "image/png": "[encoded data removed]",
            "text/plain": [
              "<Figure size 432x288 with 1 Axes>"
            ]
          },
          "metadata": {
            "needs_background": "light"
          }
        }
      ]
    },
    {
      "cell_type": "markdown",
      "metadata": {
        "id": "v20b7ir0Ys9j"
      },
      "source": [
        "Politicians, journalists are most active speakers issued Brexit related quotations. This is due to Brexit is a political topic. It's interesting to see that association football player also keep active in a political topic. "
      ]
    },
    {
      "cell_type": "markdown",
      "metadata": {
        "id": "6CtgJUaF6j6u"
      },
      "source": [
        "## Media (we defined as \"domain\" in following part) views towards Brexit:"
      ]
    },
    {
      "cell_type": "markdown",
      "metadata": {
        "id": "FK3HElEXglVv"
      },
      "source": [
        "**Adding the name of the domain (taking it from the url)**"
      ]
    },
    {
      "cell_type": "code",
      "metadata": {
        "colab": {
          "base_uri": "https://localhost:8080/",
          "height": 1000
        },
        "id": "0jQ4Bc51u40t",
        "outputId": "670c74c2-76f1-4f8e-9f0a-aba84e5a37cd"
      },
      "source": [
        "#Function tp change urls to domains\n",
        "def function(row):\n",
        "  list_domains = []\n",
        "  for url in row:\n",
        "    list_domains.append(urlparse(url).netloc)\n",
        "  return list_domains\n",
        "\n",
        "df['domains'] = df['urls'].apply(function)\n",
        "df"
      ],
      "execution_count": null,
      "outputs": [
        {
          "output_type": "execute_result",
          "data": {
            "text/html": [
              "<div>\n",
              "<style scoped>\n",
              "    .dataframe tbody tr th:only-of-type {\n",
              "        vertical-align: middle;\n",
              "    }\n",
              "\n",
              "    .dataframe tbody tr th {\n",
              "        vertical-align: top;\n",
              "    }\n",
              "\n",
              "    .dataframe thead th {\n",
              "        text-align: right;\n",
              "    }\n",
              "</style>\n",
              "<table border=\"1\" class=\"dataframe\">\n",
              "  <thead>\n",
              "    <tr style=\"text-align: right;\">\n",
              "      <th style=\"min-width: {};\"></th>\n",
              "      <th style=\"min-width: {};\">id</th>\n",
              "      <th style=\"min-width: {};\">quoteID</th>\n",
              "      <th style=\"min-width: {};\">quotation</th>\n",
              "      <th style=\"min-width: {};\">speaker</th>\n",
              "      <th style=\"min-width: {};\">probas</th>\n",
              "      <th style=\"min-width: {};\">date</th>\n",
              "      <th style=\"min-width: {};\">numOccurrences</th>\n",
              "      <th style=\"min-width: {};\">urls</th>\n",
              "      <th style=\"min-width: {};\">phase</th>\n",
              "      <th style=\"min-width: {};\">label</th>\n",
              "      <th style=\"min-width: {};\">date_of_birth</th>\n",
              "      <th style=\"min-width: {};\">nationality</th>\n",
              "      <th style=\"min-width: {};\">gender</th>\n",
              "      <th style=\"min-width: {};\">ethnic_group</th>\n",
              "      <th style=\"min-width: {};\">occupation</th>\n",
              "      <th style=\"min-width: {};\">party</th>\n",
              "      <th style=\"min-width: {};\">academic_degree</th>\n",
              "      <th style=\"min-width: {};\">religion</th>\n",
              "      <th style=\"min-width: {};\">quotation_processed</th>\n",
              "      <th style=\"min-width: {};\">domains</th>\n",
              "    </tr>\n",
              "  </thead>\n",
              "  <tbody>\n",
              "    <tr>\n",
              "      <th>0</th>\n",
              "      <td>Q20251661</td>\n",
              "      <td>2020-01-31-011304</td>\n",
              "      <td>Brexit is the victory of the common people aga...</td>\n",
              "      <td>Laura Huhtasaari</td>\n",
              "      <td>[[Laura Huhtasaari, 0.9325], [None, 0.059], [P...</td>\n",
              "      <td>2020-01-31 03:25:04</td>\n",
              "      <td>1</td>\n",
              "      <td>[http://voanews.com/europe/shrug-and-some-sorr...</td>\n",
              "      <td>E</td>\n",
              "      <td>Laura Huhtasaari</td>\n",
              "      <td>[+1979-03-30T00:00:00Z]</td>\n",
              "      <td>Finland</td>\n",
              "      <td>female</td>\n",
              "      <td>0</td>\n",
              "      <td>politician</td>\n",
              "      <td>Finns Party</td>\n",
              "      <td>0</td>\n",
              "      <td>Lutheranism</td>\n",
              "      <td>brexit is the victory of the common people aga...</td>\n",
              "      <td>[voanews.com]</td>\n",
              "    </tr>\n",
              "    <tr>\n",
              "      <th>1</th>\n",
              "      <td>Q694676</td>\n",
              "      <td>2020-02-13-014393</td>\n",
              "      <td>Certainly Brexit was a big issue and people we...</td>\n",
              "      <td>Pat McFadden</td>\n",
              "      <td>[[Pat McFadden, 0.9371], [None, 0.0535], [Jere...</td>\n",
              "      <td>2020-02-13 06:01:30</td>\n",
              "      <td>1</td>\n",
              "      <td>[http://www.expressandstar.com/news/politics/2...</td>\n",
              "      <td>E</td>\n",
              "      <td>Pat McFadden</td>\n",
              "      <td>[+1965-03-26T00:00:00Z]</td>\n",
              "      <td>United Kingdom</td>\n",
              "      <td>male</td>\n",
              "      <td>0</td>\n",
              "      <td>politician</td>\n",
              "      <td>Labour Party</td>\n",
              "      <td>0</td>\n",
              "      <td>0</td>\n",
              "      <td>certainly brexit was a big issue and people we...</td>\n",
              "      <td>[www.expressandstar.com]</td>\n",
              "    </tr>\n",
              "    <tr>\n",
              "      <th>2</th>\n",
              "      <td>Q1341937</td>\n",
              "      <td>2020-03-08-010480</td>\n",
              "      <td>I backed leave and voted leave, but I never ca...</td>\n",
              "      <td>Jason McCartney</td>\n",
              "      <td>[[Jason McCartney, 0.8274], [None, 0.128], [Li...</td>\n",
              "      <td>2020-03-08 05:45:58</td>\n",
              "      <td>1</td>\n",
              "      <td>[http://www.yorkshirepost.co.uk/news/second-ti...</td>\n",
              "      <td>E</td>\n",
              "      <td>Jason McCartney</td>\n",
              "      <td>[+1973-09-03T00:00:00Z]</td>\n",
              "      <td>United States of America</td>\n",
              "      <td>male</td>\n",
              "      <td>0</td>\n",
              "      <td>sport cyclist</td>\n",
              "      <td>0</td>\n",
              "      <td>0</td>\n",
              "      <td>0</td>\n",
              "      <td>i backed leave and voted leave but i never cal...</td>\n",
              "      <td>[www.yorkshirepost.co.uk]</td>\n",
              "    </tr>\n",
              "    <tr>\n",
              "      <th>3</th>\n",
              "      <td>Q6837191</td>\n",
              "      <td>2020-02-14-058019</td>\n",
              "      <td>legacy, bad faith on pensions, Brexit and poli...</td>\n",
              "      <td>Michelle O'Neill</td>\n",
              "      <td>[[Michelle O'Neill, 0.8055], [None, 0.1302], [...</td>\n",
              "      <td>2020-02-14 11:48:49</td>\n",
              "      <td>1</td>\n",
              "      <td>[https://www.belfasttelegraph.co.uk/news/north...</td>\n",
              "      <td>E</td>\n",
              "      <td>Michelle O'Neill</td>\n",
              "      <td>[+1977-01-10T00:00:00Z]</td>\n",
              "      <td>Northern Ireland</td>\n",
              "      <td>female</td>\n",
              "      <td>0</td>\n",
              "      <td>politician</td>\n",
              "      <td>Sinn Féin</td>\n",
              "      <td>0</td>\n",
              "      <td>0</td>\n",
              "      <td>legacy bad faith on pensions brexit and politi...</td>\n",
              "      <td>[www.belfasttelegraph.co.uk]</td>\n",
              "    </tr>\n",
              "    <tr>\n",
              "      <th>4</th>\n",
              "      <td>Q1728820</td>\n",
              "      <td>2020-01-27-094916</td>\n",
              "      <td>we're only at half-time on Brexit, it's not do...</td>\n",
              "      <td>Leo Varadkar</td>\n",
              "      <td>[[Leo Varadkar, 0.9378], [None, 0.0502], [Bori...</td>\n",
              "      <td>2020-01-27 12:25:00</td>\n",
              "      <td>1</td>\n",
              "      <td>[http://blogs.independent.co.uk/voices/brexit-...</td>\n",
              "      <td>E</td>\n",
              "      <td>Leo Varadkar</td>\n",
              "      <td>[+1979-01-18T00:00:00Z]</td>\n",
              "      <td>Ireland</td>\n",
              "      <td>male</td>\n",
              "      <td>0</td>\n",
              "      <td>politician</td>\n",
              "      <td>Fine Gael</td>\n",
              "      <td>0</td>\n",
              "      <td>0</td>\n",
              "      <td>we're only at half-time on brexit it's not don...</td>\n",
              "      <td>[blogs.independent.co.uk]</td>\n",
              "    </tr>\n",
              "    <tr>\n",
              "      <th>...</th>\n",
              "      <td>...</td>\n",
              "      <td>...</td>\n",
              "      <td>...</td>\n",
              "      <td>...</td>\n",
              "      <td>...</td>\n",
              "      <td>...</td>\n",
              "      <td>...</td>\n",
              "      <td>...</td>\n",
              "      <td>...</td>\n",
              "      <td>...</td>\n",
              "      <td>...</td>\n",
              "      <td>...</td>\n",
              "      <td>...</td>\n",
              "      <td>...</td>\n",
              "      <td>...</td>\n",
              "      <td>...</td>\n",
              "      <td>...</td>\n",
              "      <td>...</td>\n",
              "      <td>...</td>\n",
              "      <td>...</td>\n",
              "    </tr>\n",
              "    <tr>\n",
              "      <th>101873</th>\n",
              "      <td>Q567</td>\n",
              "      <td>2015-10-07-001521</td>\n",
              "      <td>a Brexit now [ look ] more likely</td>\n",
              "      <td>Angela Merkel</td>\n",
              "      <td>[[Angela Merkel, 0.5723], [Francois Hollande, ...</td>\n",
              "      <td>2015-10-07 07:54:43</td>\n",
              "      <td>1</td>\n",
              "      <td>[http://breitbart.com/london/2015/10/07/farage...</td>\n",
              "      <td>E</td>\n",
              "      <td>Angela Merkel</td>\n",
              "      <td>[+1954-07-17T00:00:00Z]</td>\n",
              "      <td>Germany</td>\n",
              "      <td>female</td>\n",
              "      <td>Germans</td>\n",
              "      <td>politician</td>\n",
              "      <td>Christian Democratic Union</td>\n",
              "      <td>doctorate</td>\n",
              "      <td>Evangelical Church in Germany</td>\n",
              "      <td>a brexit now [ look ] more likely</td>\n",
              "      <td>[breitbart.com]</td>\n",
              "    </tr>\n",
              "    <tr>\n",
              "      <th>101874</th>\n",
              "      <td>Q1395663</td>\n",
              "      <td>2015-03-10-096295</td>\n",
              "      <td>We saw strong growth in the UK last year but I...</td>\n",
              "      <td>Sir Martin Sorrell</td>\n",
              "      <td>[[Sir Martin Sorrell, 0.8715], [None, 0.1285]]</td>\n",
              "      <td>2015-03-10 00:51:18</td>\n",
              "      <td>1</td>\n",
              "      <td>[http://independent.co.uk/news/business/news/w...</td>\n",
              "      <td>E</td>\n",
              "      <td>Martin Sorrell</td>\n",
              "      <td>[+1945-02-14T00:00:00Z]</td>\n",
              "      <td>United Kingdom</td>\n",
              "      <td>male</td>\n",
              "      <td>0</td>\n",
              "      <td>businessperson</td>\n",
              "      <td>0</td>\n",
              "      <td>0</td>\n",
              "      <td>0</td>\n",
              "      <td>we saw strong growth in the uk last year but i...</td>\n",
              "      <td>[independent.co.uk]</td>\n",
              "    </tr>\n",
              "    <tr>\n",
              "      <th>101875</th>\n",
              "      <td>Q23769958</td>\n",
              "      <td>2015-10-09-130507</td>\n",
              "      <td>We look forward to supporting their push to pe...</td>\n",
              "      <td>Richard Tice</td>\n",
              "      <td>[[Richard Tice, 0.9685], [None, 0.0262], [Davi...</td>\n",
              "      <td>2015-10-09 07:29:35</td>\n",
              "      <td>5</td>\n",
              "      <td>[http://feeds.theguardian.com/c/34708/f/663865...</td>\n",
              "      <td>E</td>\n",
              "      <td>Richard Tice</td>\n",
              "      <td>[+1964-09-13T00:00:00Z]</td>\n",
              "      <td>United Kingdom</td>\n",
              "      <td>male</td>\n",
              "      <td>0</td>\n",
              "      <td>businessperson</td>\n",
              "      <td>Conservative Party</td>\n",
              "      <td>0</td>\n",
              "      <td>0</td>\n",
              "      <td>we look forward to supporting their push to pe...</td>\n",
              "      <td>[feeds.theguardian.com, feeds.theguardian.com,...</td>\n",
              "    </tr>\n",
              "    <tr>\n",
              "      <th>101876</th>\n",
              "      <td>Q503143</td>\n",
              "      <td>2015-08-24-049253</td>\n",
              "      <td>It would be a travesty to both, for Europe and...</td>\n",
              "      <td>Alexander Stubb</td>\n",
              "      <td>[[Alexander Stubb, 0.9019], [None, 0.0783], [G...</td>\n",
              "      <td>2015-08-24 11:37:42</td>\n",
              "      <td>7</td>\n",
              "      <td>[http://af.reuters.com/article/worldNews/idAFK...</td>\n",
              "      <td>E</td>\n",
              "      <td>Alexander Stubb</td>\n",
              "      <td>[+1968-04-01T00:00:00Z]</td>\n",
              "      <td>Finland</td>\n",
              "      <td>male</td>\n",
              "      <td>Swedish-speaking population of Finland</td>\n",
              "      <td>politician</td>\n",
              "      <td>National Coalition Party</td>\n",
              "      <td>0</td>\n",
              "      <td>0</td>\n",
              "      <td>it would be a travesty to both for europe and ...</td>\n",
              "      <td>[af.reuters.com, uk.news.yahoo.com, www.channe...</td>\n",
              "    </tr>\n",
              "    <tr>\n",
              "      <th>101877</th>\n",
              "      <td>Q318471</td>\n",
              "      <td>2015-10-07-041740</td>\n",
              "      <td>I think a bright star on the horizon. It's cal...</td>\n",
              "      <td>Nigel Farage</td>\n",
              "      <td>[[Nigel Farage, 0.8242], [Marine Le Pen, 0.091...</td>\n",
              "      <td>2015-10-07 21:38:13</td>\n",
              "      <td>1</td>\n",
              "      <td>[http://www.telegraph.co.uk/news/worldnews/fra...</td>\n",
              "      <td>E</td>\n",
              "      <td>Nigel Farage</td>\n",
              "      <td>[+1964-04-03T00:00:00Z]</td>\n",
              "      <td>United Kingdom</td>\n",
              "      <td>male</td>\n",
              "      <td>0</td>\n",
              "      <td>politician</td>\n",
              "      <td>Conservative Party</td>\n",
              "      <td>0</td>\n",
              "      <td>Church of England</td>\n",
              "      <td>i think a bright star on the horizon it's call...</td>\n",
              "      <td>[www.telegraph.co.uk]</td>\n",
              "    </tr>\n",
              "  </tbody>\n",
              "</table>\n",
              "<p>101878 rows × 20 columns</p>\n",
              "</div>"
            ],
            "text/plain": [
              "               id  ...                                            domains\n",
              "0       Q20251661  ...                                      [voanews.com]\n",
              "1         Q694676  ...                           [www.expressandstar.com]\n",
              "2        Q1341937  ...                          [www.yorkshirepost.co.uk]\n",
              "3        Q6837191  ...                       [www.belfasttelegraph.co.uk]\n",
              "4        Q1728820  ...                          [blogs.independent.co.uk]\n",
              "...           ...  ...                                                ...\n",
              "101873       Q567  ...                                    [breitbart.com]\n",
              "101874   Q1395663  ...                                [independent.co.uk]\n",
              "101875  Q23769958  ...  [feeds.theguardian.com, feeds.theguardian.com,...\n",
              "101876    Q503143  ...  [af.reuters.com, uk.news.yahoo.com, www.channe...\n",
              "101877    Q318471  ...                              [www.telegraph.co.uk]\n",
              "\n",
              "[101878 rows x 20 columns]"
            ]
          },
          "metadata": {},
          "execution_count": 22
        }
      ]
    },
    {
      "cell_type": "code",
      "metadata": {
        "id": "DCfzc2Td75p1"
      },
      "source": [
        "# Get the list of all domains and analyse them\n",
        "list_domains = df['domains'].to_list()\n",
        "flat_list_of_domains = [item for sublist in list_domains for item in sublist]"
      ],
      "execution_count": null,
      "outputs": []
    },
    {
      "cell_type": "code",
      "metadata": {
        "id": "-yzWFI4h8Acs"
      },
      "source": [
        "set_unique_domains = set(flat_list_of_domains)"
      ],
      "execution_count": null,
      "outputs": []
    },
    {
      "cell_type": "code",
      "metadata": {
        "colab": {
          "base_uri": "https://localhost:8080/"
        },
        "id": "fMvMYkZF8Vzp",
        "outputId": "4f55b19e-6139-42b0-f035-5788fdd92f31"
      },
      "source": [
        "print(\"The number of unique domains is \",len(set_unique_domains))"
      ],
      "execution_count": null,
      "outputs": [
        {
          "output_type": "stream",
          "name": "stdout",
          "text": [
            "The number of unique domains is  6382\n"
          ]
        }
      ]
    },
    {
      "cell_type": "code",
      "metadata": {
        "id": "LiHlIGf4-qTx"
      },
      "source": [
        "list_domains_occurences = []\n",
        "for domain in set_unique_domains:\n",
        "  list_domains_occurences.append([domain, flat_list_of_domains.count(domain)])"
      ],
      "execution_count": null,
      "outputs": []
    },
    {
      "cell_type": "code",
      "metadata": {
        "id": "39vBEtRrca4Z"
      },
      "source": [
        "sorted_list_domains_occurences = sorted(list_domains_occurences, key=lambda x: x[1], reverse=True)"
      ],
      "execution_count": null,
      "outputs": []
    },
    {
      "cell_type": "code",
      "metadata": {
        "colab": {
          "base_uri": "https://localhost:8080/"
        },
        "id": "en_x4FNMMBFF",
        "outputId": "457b65fc-180b-4ee8-c2f1-f1d50ae738c3"
      },
      "source": [
        "# Get the top 5 domains\n",
        "sorted_list_domains_occurences[0:5]"
      ],
      "execution_count": null,
      "outputs": [
        {
          "output_type": "execute_result",
          "data": {
            "text/plain": [
              "[['www.belfasttelegraph.co.uk', 6419],\n",
              " ['www.msn.com', 5989],\n",
              " ['express.co.uk', 5748],\n",
              " ['heraldscotland.com', 4728],\n",
              " ['www.wandsworthguardian.co.uk', 4601]]"
            ]
          },
          "metadata": {},
          "execution_count": 27
        }
      ]
    },
    {
      "cell_type": "code",
      "metadata": {
        "id": "CC_DH3LBWkhz"
      },
      "source": [
        "df_domains = pd.DataFrame.from_records(sorted_list_domains_occurences)"
      ],
      "execution_count": null,
      "outputs": []
    },
    {
      "cell_type": "code",
      "metadata": {
        "colab": {
          "base_uri": "https://localhost:8080/",
          "height": 363
        },
        "id": "g8f15DP4Wryl",
        "outputId": "bf773159-997c-4513-dab9-5f58edee8cb4"
      },
      "source": [
        "# List the top 10 domains which relayed the information the most\n",
        "df_domains.head(10)"
      ],
      "execution_count": null,
      "outputs": [
        {
          "output_type": "execute_result",
          "data": {
            "text/html": [
              "<div>\n",
              "<style scoped>\n",
              "    .dataframe tbody tr th:only-of-type {\n",
              "        vertical-align: middle;\n",
              "    }\n",
              "\n",
              "    .dataframe tbody tr th {\n",
              "        vertical-align: top;\n",
              "    }\n",
              "\n",
              "    .dataframe thead th {\n",
              "        text-align: right;\n",
              "    }\n",
              "</style>\n",
              "<table border=\"1\" class=\"dataframe\">\n",
              "  <thead>\n",
              "    <tr style=\"text-align: right;\">\n",
              "      <th style=\"min-width: {};\"></th>\n",
              "      <th style=\"min-width: {};\">0</th>\n",
              "      <th style=\"min-width: {};\">1</th>\n",
              "    </tr>\n",
              "  </thead>\n",
              "  <tbody>\n",
              "    <tr>\n",
              "      <th>0</th>\n",
              "      <td>www.belfasttelegraph.co.uk</td>\n",
              "      <td>6419</td>\n",
              "    </tr>\n",
              "    <tr>\n",
              "      <th>1</th>\n",
              "      <td>www.msn.com</td>\n",
              "      <td>5989</td>\n",
              "    </tr>\n",
              "    <tr>\n",
              "      <th>2</th>\n",
              "      <td>express.co.uk</td>\n",
              "      <td>5748</td>\n",
              "    </tr>\n",
              "    <tr>\n",
              "      <th>3</th>\n",
              "      <td>heraldscotland.com</td>\n",
              "      <td>4728</td>\n",
              "    </tr>\n",
              "    <tr>\n",
              "      <th>4</th>\n",
              "      <td>www.wandsworthguardian.co.uk</td>\n",
              "      <td>4601</td>\n",
              "    </tr>\n",
              "    <tr>\n",
              "      <th>5</th>\n",
              "      <td>www.thetelegraphandargus.co.uk</td>\n",
              "      <td>4449</td>\n",
              "    </tr>\n",
              "    <tr>\n",
              "      <th>6</th>\n",
              "      <td>www.ealingtimes.co.uk</td>\n",
              "      <td>4308</td>\n",
              "    </tr>\n",
              "    <tr>\n",
              "      <th>7</th>\n",
              "      <td>www.croydonguardian.co.uk</td>\n",
              "      <td>4230</td>\n",
              "    </tr>\n",
              "    <tr>\n",
              "      <th>8</th>\n",
              "      <td>www.middevonstar.co.uk</td>\n",
              "      <td>4227</td>\n",
              "    </tr>\n",
              "    <tr>\n",
              "      <th>9</th>\n",
              "      <td>www.thenorthernecho.co.uk</td>\n",
              "      <td>4178</td>\n",
              "    </tr>\n",
              "  </tbody>\n",
              "</table>\n",
              "</div>"
            ],
            "text/plain": [
              "                                0     1\n",
              "0      www.belfasttelegraph.co.uk  6419\n",
              "1                     www.msn.com  5989\n",
              "2                   express.co.uk  5748\n",
              "3              heraldscotland.com  4728\n",
              "4    www.wandsworthguardian.co.uk  4601\n",
              "5  www.thetelegraphandargus.co.uk  4449\n",
              "6           www.ealingtimes.co.uk  4308\n",
              "7       www.croydonguardian.co.uk  4230\n",
              "8          www.middevonstar.co.uk  4227\n",
              "9       www.thenorthernecho.co.uk  4178"
            ]
          },
          "metadata": {},
          "execution_count": 29
        }
      ]
    },
    {
      "cell_type": "markdown",
      "metadata": {
        "id": "Rq9IFE7GdmZw"
      },
      "source": [
        "The Belfast Telegraph is a daily newspaper published in Belfast, Northern Ireland, by Independent News & Media. MSN.com is a visited portal website provided by Microsoft. The Daily Express and its sister paper - the Sunday Express are daily national middle-market and conservative tabloid newspapers in the United Kingdom. "
      ]
    },
    {
      "cell_type": "code",
      "metadata": {
        "id": "LxO3W2uWW_Sk"
      },
      "source": [
        "df_domains.set_axis(['domain', 'frequency'], axis=1, inplace=True)"
      ],
      "execution_count": null,
      "outputs": []
    },
    {
      "cell_type": "markdown",
      "metadata": {
        "id": "8cmQcyYulT3D"
      },
      "source": [
        "**Add percentages**"
      ]
    },
    {
      "cell_type": "code",
      "metadata": {
        "id": "hxrI2aQRk1_b"
      },
      "source": [
        "df_domains['percentages'] = df_domains['frequency'].apply(lambda x: x / df.shape[0])"
      ],
      "execution_count": null,
      "outputs": []
    },
    {
      "cell_type": "code",
      "metadata": {
        "colab": {
          "base_uri": "https://localhost:8080/",
          "height": 424
        },
        "id": "dfqYDntlmTn1",
        "outputId": "65892f95-655c-4f39-9eb1-a241400b932d"
      },
      "source": [
        "df_domains"
      ],
      "execution_count": null,
      "outputs": [
        {
          "output_type": "execute_result",
          "data": {
            "text/html": [
              "<div>\n",
              "<style scoped>\n",
              "    .dataframe tbody tr th:only-of-type {\n",
              "        vertical-align: middle;\n",
              "    }\n",
              "\n",
              "    .dataframe tbody tr th {\n",
              "        vertical-align: top;\n",
              "    }\n",
              "\n",
              "    .dataframe thead th {\n",
              "        text-align: right;\n",
              "    }\n",
              "</style>\n",
              "<table border=\"1\" class=\"dataframe\">\n",
              "  <thead>\n",
              "    <tr style=\"text-align: right;\">\n",
              "      <th style=\"min-width: {};\"></th>\n",
              "      <th style=\"min-width: {};\">domain</th>\n",
              "      <th style=\"min-width: {};\">frequency</th>\n",
              "      <th style=\"min-width: {};\">percentages</th>\n",
              "    </tr>\n",
              "  </thead>\n",
              "  <tbody>\n",
              "    <tr>\n",
              "      <th>0</th>\n",
              "      <td>www.belfasttelegraph.co.uk</td>\n",
              "      <td>6419</td>\n",
              "      <td>0.063007</td>\n",
              "    </tr>\n",
              "    <tr>\n",
              "      <th>1</th>\n",
              "      <td>www.msn.com</td>\n",
              "      <td>5989</td>\n",
              "      <td>0.058786</td>\n",
              "    </tr>\n",
              "    <tr>\n",
              "      <th>2</th>\n",
              "      <td>express.co.uk</td>\n",
              "      <td>5748</td>\n",
              "      <td>0.056420</td>\n",
              "    </tr>\n",
              "    <tr>\n",
              "      <th>3</th>\n",
              "      <td>heraldscotland.com</td>\n",
              "      <td>4728</td>\n",
              "      <td>0.046408</td>\n",
              "    </tr>\n",
              "    <tr>\n",
              "      <th>4</th>\n",
              "      <td>www.wandsworthguardian.co.uk</td>\n",
              "      <td>4601</td>\n",
              "      <td>0.045162</td>\n",
              "    </tr>\n",
              "    <tr>\n",
              "      <th>...</th>\n",
              "      <td>...</td>\n",
              "      <td>...</td>\n",
              "      <td>...</td>\n",
              "    </tr>\n",
              "    <tr>\n",
              "      <th>6377</th>\n",
              "      <td>redalertpolitics.com</td>\n",
              "      <td>1</td>\n",
              "      <td>0.000010</td>\n",
              "    </tr>\n",
              "    <tr>\n",
              "      <th>6378</th>\n",
              "      <td>rdikeman.wordpress.com</td>\n",
              "      <td>1</td>\n",
              "      <td>0.000010</td>\n",
              "    </tr>\n",
              "    <tr>\n",
              "      <th>6379</th>\n",
              "      <td>www.commonwealmagazine.org</td>\n",
              "      <td>1</td>\n",
              "      <td>0.000010</td>\n",
              "    </tr>\n",
              "    <tr>\n",
              "      <th>6380</th>\n",
              "      <td>3noviceseurope.wordpress.com</td>\n",
              "      <td>1</td>\n",
              "      <td>0.000010</td>\n",
              "    </tr>\n",
              "    <tr>\n",
              "      <th>6381</th>\n",
              "      <td>www.wjol.com</td>\n",
              "      <td>1</td>\n",
              "      <td>0.000010</td>\n",
              "    </tr>\n",
              "  </tbody>\n",
              "</table>\n",
              "<p>6382 rows × 3 columns</p>\n",
              "</div>"
            ],
            "text/plain": [
              "                            domain  frequency  percentages\n",
              "0       www.belfasttelegraph.co.uk       6419     0.063007\n",
              "1                      www.msn.com       5989     0.058786\n",
              "2                    express.co.uk       5748     0.056420\n",
              "3               heraldscotland.com       4728     0.046408\n",
              "4     www.wandsworthguardian.co.uk       4601     0.045162\n",
              "...                            ...        ...          ...\n",
              "6377          redalertpolitics.com          1     0.000010\n",
              "6378        rdikeman.wordpress.com          1     0.000010\n",
              "6379    www.commonwealmagazine.org          1     0.000010\n",
              "6380  3noviceseurope.wordpress.com          1     0.000010\n",
              "6381                  www.wjol.com          1     0.000010\n",
              "\n",
              "[6382 rows x 3 columns]"
            ]
          },
          "metadata": {},
          "execution_count": 32
        }
      ]
    },
    {
      "cell_type": "markdown",
      "metadata": {
        "id": "MMG2_GGLbat3"
      },
      "source": [
        "**Most invested domains**"
      ]
    },
    {
      "cell_type": "code",
      "metadata": {
        "colab": {
          "base_uri": "https://localhost:8080/",
          "height": 279
        },
        "id": "o2nYrDKUMOGQ",
        "outputId": "3ef0bd25-e212-4fb2-dc76-011006ae9259"
      },
      "source": [
        "# Visualise the top 10 media which relayed the information the most\n",
        "import matplotlib.pyplot as plt\n",
        "ax = sns.barplot(x=\"frequency\", y=\"domain\", data=df_domains.head(20))"
      ],
      "execution_count": null,
      "outputs": [
        {
          "output_type": "display_data",
          "data": {
            "image/png": "[encoded data removed]",
            "text/plain": [
              "<Figure size 432x288 with 1 Axes>"
            ]
          },
          "metadata": {
            "needs_background": "light"
          }
        }
      ]
    },
    {
      "cell_type": "markdown",
      "metadata": {
        "id": "ME7pVuDoKVV9"
      },
      "source": [
        "**Counting frequency in UK**"
      ]
    },
    {
      "cell_type": "code",
      "metadata": {
        "id": "n9X2Wv66M-tP"
      },
      "source": [
        "#Number of total quotes\n",
        "total_quotes =df_domains['frequency'].sum()"
      ],
      "execution_count": null,
      "outputs": []
    },
    {
      "cell_type": "code",
      "metadata": {
        "colab": {
          "base_uri": "https://localhost:8080/"
        },
        "id": "6NnLnVKCKhtF",
        "outputId": "30bd54e8-6f75-448e-8cd3-63b8c17036a5"
      },
      "source": [
        "freq_uk = 0\n",
        "for index, row in df_domains.iterrows():\n",
        "  if row['domain'].endswith('uk'):\n",
        "    freq_uk += row['frequency']\n",
        "\n",
        "freq_uk\n",
        "\n",
        "print('the percentage of the number of quotations in UK domains compared total: {:.2%}'.format(freq_uk/total_quotes))"
      ],
      "execution_count": null,
      "outputs": [
        {
          "output_type": "stream",
          "name": "stdout",
          "text": [
            "the percentage of the number of quotations in UK domains compared total: 63.49%\n"
          ]
        }
      ]
    },
    {
      "cell_type": "markdown",
      "metadata": {
        "id": "5qJYZrAeeyeI"
      },
      "source": [
        "Only looking at the domains we could find that most domains are based in UK as we expected."
      ]
    },
    {
      "cell_type": "markdown",
      "metadata": {
        "id": "wANpEo6vtIDE"
      },
      "source": [
        "**Scrapping the web page to get the domain countries using beautiful soup for future analysis**"
      ]
    },
    {
      "cell_type": "code",
      "metadata": {
        "id": "noh95vU0tbXq"
      },
      "source": [
        "# Using beautiful soup to get the country of the domain\n",
        "url = 'https://icannwiki.org/Country_code_top-level_domain'\n",
        "r = requests.get(url)\n",
        "soup = BeautifulSoup(r.text, 'html.parser')\n",
        "ccTLD_table = soup.find('table')\n",
        "\n",
        "table = []\n",
        "for ccTLD in ccTLD_table.find_all('tbody'):\n",
        "    rows = ccTLD.find_all('tr')\n",
        "    for row in rows:\n",
        "        columns = row.find_all('td')\n",
        "        table.append([columns[0].text, columns[1].text])"
      ],
      "execution_count": null,
      "outputs": []
    },
    {
      "cell_type": "code",
      "metadata": {
        "id": "dVB5OZIwt-IN"
      },
      "source": [
        "country_domain = pd.DataFrame(table)"
      ],
      "execution_count": null,
      "outputs": []
    },
    {
      "cell_type": "code",
      "metadata": {
        "colab": {
          "base_uri": "https://localhost:8080/",
          "height": 424
        },
        "id": "MFAJxtM1uBcU",
        "outputId": "596a997a-6f31-489c-90c3-cee5fea7f677"
      },
      "source": [
        "country_domain.columns = ['ccTLD', 'domain_country']\n",
        "country_domain.drop(0,axis=0,inplace=True)\n",
        "country_domain"
      ],
      "execution_count": null,
      "outputs": [
        {
          "output_type": "execute_result",
          "data": {
            "text/html": [
              "<div>\n",
              "<style scoped>\n",
              "    .dataframe tbody tr th:only-of-type {\n",
              "        vertical-align: middle;\n",
              "    }\n",
              "\n",
              "    .dataframe tbody tr th {\n",
              "        vertical-align: top;\n",
              "    }\n",
              "\n",
              "    .dataframe thead th {\n",
              "        text-align: right;\n",
              "    }\n",
              "</style>\n",
              "<table border=\"1\" class=\"dataframe\">\n",
              "  <thead>\n",
              "    <tr style=\"text-align: right;\">\n",
              "      <th style=\"min-width: {};\"></th>\n",
              "      <th style=\"min-width: {};\">ccTLD</th>\n",
              "      <th style=\"min-width: {};\">domain_country</th>\n",
              "    </tr>\n",
              "  </thead>\n",
              "  <tbody>\n",
              "    <tr>\n",
              "      <th>1</th>\n",
              "      <td>.ac</td>\n",
              "      <td>Ascension Island</td>\n",
              "    </tr>\n",
              "    <tr>\n",
              "      <th>2</th>\n",
              "      <td>.ad</td>\n",
              "      <td>Andorra</td>\n",
              "    </tr>\n",
              "    <tr>\n",
              "      <th>3</th>\n",
              "      <td>.ae</td>\n",
              "      <td>United Arab Emirates</td>\n",
              "    </tr>\n",
              "    <tr>\n",
              "      <th>4</th>\n",
              "      <td>.af</td>\n",
              "      <td>Afghanistan</td>\n",
              "    </tr>\n",
              "    <tr>\n",
              "      <th>5</th>\n",
              "      <td>.ag</td>\n",
              "      <td>Antigua and Barbuda</td>\n",
              "    </tr>\n",
              "    <tr>\n",
              "      <th>...</th>\n",
              "      <td>...</td>\n",
              "      <td>...</td>\n",
              "    </tr>\n",
              "    <tr>\n",
              "      <th>250</th>\n",
              "      <td>.ws</td>\n",
              "      <td>Samoa</td>\n",
              "    </tr>\n",
              "    <tr>\n",
              "      <th>251</th>\n",
              "      <td>.yt</td>\n",
              "      <td>Mayote</td>\n",
              "    </tr>\n",
              "    <tr>\n",
              "      <th>252</th>\n",
              "      <td>.za</td>\n",
              "      <td>South Africa</td>\n",
              "    </tr>\n",
              "    <tr>\n",
              "      <th>253</th>\n",
              "      <td>.zm</td>\n",
              "      <td>Zambia</td>\n",
              "    </tr>\n",
              "    <tr>\n",
              "      <th>254</th>\n",
              "      <td>.zw</td>\n",
              "      <td>Zimbabwe</td>\n",
              "    </tr>\n",
              "  </tbody>\n",
              "</table>\n",
              "<p>254 rows × 2 columns</p>\n",
              "</div>"
            ],
            "text/plain": [
              "    ccTLD        domain_country\n",
              "1     .ac      Ascension Island\n",
              "2     .ad               Andorra\n",
              "3     .ae  United Arab Emirates\n",
              "4     .af           Afghanistan\n",
              "5     .ag   Antigua and Barbuda\n",
              "..    ...                   ...\n",
              "250   .ws                 Samoa\n",
              "251   .yt                Mayote\n",
              "252   .za          South Africa\n",
              "253   .zm                Zambia\n",
              "254   .zw              Zimbabwe\n",
              "\n",
              "[254 rows x 2 columns]"
            ]
          },
          "metadata": {},
          "execution_count": 40
        }
      ]
    },
    {
      "cell_type": "markdown",
      "metadata": {
        "id": "6rmjaEmScj3z"
      },
      "source": [
        "Above is just our initial analysis on Brexit related quotations. We will explore the dataset by following the research questions and methods proposed in README file. "
      ]
    }
  ]
}