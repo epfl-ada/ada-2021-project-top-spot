{
  "nbformat": 4,
  "nbformat_minor": 0,
  "metadata": {
    "colab": {
      "name": "Analysis_1_MediaCoverage.ipynb",
      "provenance": [],
      "collapsed_sections": []
    },
    "kernelspec": {
      "name": "python3",
      "display_name": "Python 3"
    },
    "language_info": {
      "name": "python"
    }
  },
  "cells": [
    {
      "cell_type": "code",
      "metadata": {
        "colab": {
          "base_uri": "https://localhost:8080/"
        },
        "id": "3SLJs_IdOIQz",
        "outputId": "88072097-89f6-4876-ae72-85f36fa1b4c0"
      },
      "source": [
        "# Load the data folder in the share drives\n",
        "# The data folder is in the 'drive/Shareddrives/Ada'\n",
        "from google.colab import drive\n",
        "drive.mount('/content/drive')"
      ],
      "execution_count": null,
      "outputs": [
        {
          "output_type": "stream",
          "name": "stdout",
          "text": [
            "Mounted at /content/drive\n"
          ]
        }
      ]
    },
    {
      "cell_type": "markdown",
      "metadata": {
        "id": "VNHF53l7O-a4"
      },
      "source": [
        "# Import Libraries"
      ]
    },
    {
      "cell_type": "code",
      "metadata": {
        "colab": {
          "base_uri": "https://localhost:8080/",
          "height": 416
        },
        "id": "gaw5PZEOOKut",
        "outputId": "2d94c110-721e-4ea1-81b4-083e2708ae8e"
      },
      "source": [
        "# installing required packages\n",
        "!pip install pandas==1.0.5\n",
        "!pip install textblob\n"
      ],
      "execution_count": null,
      "outputs": [
        {
          "output_type": "stream",
          "name": "stdout",
          "text": [
            "Collecting pandas==1.0.5\n",
            "  Downloading pandas-1.0.5-cp37-cp37m-manylinux1_x86_64.whl (10.1 MB)\n",
            "\u001b[K     |████████████████████████████████| 10.1 MB 5.6 MB/s \n",
            "\u001b[?25hRequirement already satisfied: numpy>=1.13.3 in /usr/local/lib/python3.7/dist-packages (from pandas==1.0.5) (1.19.5)\n",
            "Requirement already satisfied: python-dateutil>=2.6.1 in /usr/local/lib/python3.7/dist-packages (from pandas==1.0.5) (2.8.2)\n",
            "Requirement already satisfied: pytz>=2017.2 in /usr/local/lib/python3.7/dist-packages (from pandas==1.0.5) (2018.9)\n",
            "Requirement already satisfied: six>=1.5 in /usr/local/lib/python3.7/dist-packages (from python-dateutil>=2.6.1->pandas==1.0.5) (1.15.0)\n",
            "Installing collected packages: pandas\n",
            "  Attempting uninstall: pandas\n",
            "    Found existing installation: pandas 1.1.5\n",
            "    Uninstalling pandas-1.1.5:\n",
            "      Successfully uninstalled pandas-1.1.5\n",
            "\u001b[31mERROR: pip's dependency resolver does not currently take into account all the packages that are installed. This behaviour is the source of the following dependency conflicts.\n",
            "google-colab 1.0.0 requires pandas~=1.1.0; python_version >= \"3.0\", but you have pandas 1.0.5 which is incompatible.\u001b[0m\n",
            "Successfully installed pandas-1.0.5\n"
          ]
        },
        {
          "output_type": "display_data",
          "data": {
            "application/vnd.colab-display-data+json": {
              "pip_warning": {
                "packages": [
                  "pandas"
                ]
              }
            }
          },
          "metadata": {}
        },
        {
          "output_type": "stream",
          "name": "stdout",
          "text": [
            "Requirement already satisfied: textblob in /usr/local/lib/python3.7/dist-packages (0.15.3)\n",
            "Requirement already satisfied: nltk>=3.1 in /usr/local/lib/python3.7/dist-packages (from textblob) (3.2.5)\n",
            "Requirement already satisfied: six in /usr/local/lib/python3.7/dist-packages (from nltk>=3.1->textblob) (1.15.0)\n"
          ]
        }
      ]
    },
    {
      "cell_type": "code",
      "metadata": {
        "colab": {
          "base_uri": "https://localhost:8080/"
        },
        "id": "JDN2HPawOOLC",
        "outputId": "20245f12-2589-4ccb-890d-0ec0fbd86ab8"
      },
      "source": [
        "# Import needed libraries:\n",
        "\n",
        "import seaborn as sns\n",
        "from IPython.display import display, HTML\n",
        "import matplotlib.pyplot as plt\n",
        "import scipy.stats as stats\n",
        "import pandas as pd\n",
        "import numpy as np\n",
        "import warnings\n",
        "import pickle\n",
        "import shutil\n",
        "import os\n",
        "import glob\n",
        "import wordcloud\n",
        "import nltk\n",
        "import re\n",
        "warnings.filterwarnings('ignore')\n",
        "import requests \n",
        "from bs4 import BeautifulSoup\n",
        "import nltk\n",
        "nltk.download('stopwords')\n",
        "from nltk.corpus import stopwords\n",
        "import sys\n",
        "import spacy\n",
        "# !{sys.executable} -m spacy download en\n",
        "import re, numpy as np, pandas as pd\n",
        "from pprint import pprint\n",
        "\n",
        "# Gensim (for LDA)\n",
        "import gensim, spacy, logging, warnings\n",
        "import gensim.corpora as corpora\n",
        "from gensim.utils import lemmatize, simple_preprocess\n",
        "from gensim.models import CoherenceModel\n",
        "import matplotlib.pyplot as plt\n",
        "import plotly.express as px\n",
        "\n",
        "#URL parsing\n",
        "from urllib.parse import parse_qsl, urljoin, urlparse\n",
        "\n",
        "#Plots\n",
        "import plotly.graph_objs as go\n",
        "from plotly.offline import init_notebook_mode, iplot\n",
        "\n",
        "# Date\n",
        "from datetime import datetime"
      ],
      "execution_count": null,
      "outputs": [
        {
          "output_type": "stream",
          "name": "stdout",
          "text": [
            "[nltk_data] Downloading package stopwords to /root/nltk_data...\n",
            "[nltk_data]   Unzipping corpora/stopwords.zip.\n"
          ]
        }
      ]
    },
    {
      "cell_type": "code",
      "metadata": {
        "id": "yXYM7fsiObec"
      },
      "source": [
        "# loading NLTK Stop words\n",
        "\n",
        "stop_words = stopwords.words('english')\n",
        "stop_words.extend(['from', 'subject', 're', 'edu', 'use', 'not', 'would', 'say', 'could', '_', 'be', 'know', 'good', 'go', 'get', 'do', 'done', 'try', 'many', 'some', 'nice', 'thank', 'think', 'see', 'rather', 'easy', 'easily', 'lot', 'lack', 'make', 'want', 'seem', 'run', 'need', 'even', 'right', 'line', 'even', 'also', 'may', 'take', 'come'])\n",
        "\n",
        "%matplotlib inline\n",
        "warnings.filterwarnings(\"ignore\",category=DeprecationWarning)\n",
        "logging.basicConfig(format='%(asctime)s : %(levelname)s : %(message)s', level=logging.ERROR)"
      ],
      "execution_count": null,
      "outputs": []
    },
    {
      "cell_type": "markdown",
      "metadata": {
        "id": "BRGorhtageek"
      },
      "source": [
        "# Import Data"
      ]
    },
    {
      "cell_type": "code",
      "metadata": {
        "id": "gmFrTObgOjeO"
      },
      "source": [
        "# importing the processed/picked  data:\n",
        "df=pd.read_pickle('/content/drive/Shareddrives/Ada/Uniform/All_attribute_version1312.pkl')"
      ],
      "execution_count": null,
      "outputs": []
    },
    {
      "cell_type": "code",
      "metadata": {
        "colab": {
          "base_uri": "https://localhost:8080/",
          "height": 642
        },
        "id": "Ui_mzoCdPBYu",
        "outputId": "8584200a-9d00-47e1-c203-e4e51da086b0"
      },
      "source": [
        "#printing the first lines:\n",
        "df.head()"
      ],
      "execution_count": null,
      "outputs": [
        {
          "output_type": "execute_result",
          "data": {
            "text/html": [
              "<div>\n",
              "<style scoped>\n",
              "    .dataframe tbody tr th:only-of-type {\n",
              "        vertical-align: middle;\n",
              "    }\n",
              "\n",
              "    .dataframe tbody tr th {\n",
              "        vertical-align: top;\n",
              "    }\n",
              "\n",
              "    .dataframe thead th {\n",
              "        text-align: right;\n",
              "    }\n",
              "</style>\n",
              "<table border=\"1\" class=\"dataframe\">\n",
              "  <thead>\n",
              "    <tr style=\"text-align: right;\">\n",
              "      <th style=\"min-width: {};\"></th>\n",
              "      <th style=\"min-width: {};\">id</th>\n",
              "      <th style=\"min-width: {};\">quoteID</th>\n",
              "      <th style=\"min-width: {};\">quotation</th>\n",
              "      <th style=\"min-width: {};\">speaker</th>\n",
              "      <th style=\"min-width: {};\">probas</th>\n",
              "      <th style=\"min-width: {};\">date</th>\n",
              "      <th style=\"min-width: {};\">numOccurrences</th>\n",
              "      <th style=\"min-width: {};\">urls</th>\n",
              "      <th style=\"min-width: {};\">phase</th>\n",
              "      <th style=\"min-width: {};\">label</th>\n",
              "      <th style=\"min-width: {};\">date_of_birth</th>\n",
              "      <th style=\"min-width: {};\">nationality</th>\n",
              "      <th style=\"min-width: {};\">gender</th>\n",
              "      <th style=\"min-width: {};\">ethnic_group</th>\n",
              "      <th style=\"min-width: {};\">occupation</th>\n",
              "      <th style=\"min-width: {};\">party</th>\n",
              "      <th style=\"min-width: {};\">academic_degree</th>\n",
              "      <th style=\"min-width: {};\">religion</th>\n",
              "      <th style=\"min-width: {};\">polarity_TextBlob</th>\n",
              "      <th style=\"min-width: {};\">polarity_SentimentIntensityAnalyze</th>\n",
              "      <th style=\"min-width: {};\">polarity_Flair</th>\n",
              "      <th style=\"min-width: {};\">polarity</th>\n",
              "      <th style=\"min-width: {};\">emotion</th>\n",
              "      <th style=\"min-width: {};\">day</th>\n",
              "      <th style=\"min-width: {};\">year</th>\n",
              "      <th style=\"min-width: {};\">just_date</th>\n",
              "      <th style=\"min-width: {};\">domains</th>\n",
              "      <th style=\"min-width: {};\">TLD</th>\n",
              "      <th style=\"min-width: {};\">domain_country</th>\n",
              "    </tr>\n",
              "  </thead>\n",
              "  <tbody>\n",
              "    <tr>\n",
              "      <th>0</th>\n",
              "      <td>Q20251661</td>\n",
              "      <td>2020-01-31-011304</td>\n",
              "      <td>Brexit is the victory of the common people aga...</td>\n",
              "      <td>Laura Huhtasaari</td>\n",
              "      <td>[[Laura Huhtasaari, 0.9325], [None, 0.059], [P...</td>\n",
              "      <td>2020-01-31 03:25:04</td>\n",
              "      <td>1</td>\n",
              "      <td>[http://voanews.com/europe/shrug-and-some-sorr...</td>\n",
              "      <td>E</td>\n",
              "      <td>Laura Huhtasaari</td>\n",
              "      <td>[+1979-03-30T00:00:00Z]</td>\n",
              "      <td>Finland</td>\n",
              "      <td>female</td>\n",
              "      <td>0</td>\n",
              "      <td>politician</td>\n",
              "      <td>Finns Party</td>\n",
              "      <td>0</td>\n",
              "      <td>Lutheranism</td>\n",
              "      <td>-0.022619</td>\n",
              "      <td>0.5719</td>\n",
              "      <td>0.663805</td>\n",
              "      <td>0.571900</td>\n",
              "      <td>positive</td>\n",
              "      <td>2020-01-31</td>\n",
              "      <td>2020</td>\n",
              "      <td>2020-01-31</td>\n",
              "      <td>[voanews.com]</td>\n",
              "      <td>com</td>\n",
              "      <td>NaN</td>\n",
              "    </tr>\n",
              "    <tr>\n",
              "      <th>1</th>\n",
              "      <td>Q694676</td>\n",
              "      <td>2020-02-13-014393</td>\n",
              "      <td>Certainly Brexit was a big issue and people we...</td>\n",
              "      <td>Pat McFadden</td>\n",
              "      <td>[[Pat McFadden, 0.9371], [None, 0.0535], [Jere...</td>\n",
              "      <td>2020-02-13 06:01:30</td>\n",
              "      <td>1</td>\n",
              "      <td>[http://www.expressandstar.com/news/politics/2...</td>\n",
              "      <td>E</td>\n",
              "      <td>Pat McFadden</td>\n",
              "      <td>[+1965-03-26T00:00:00Z]</td>\n",
              "      <td>United Kingdom</td>\n",
              "      <td>male</td>\n",
              "      <td>0</td>\n",
              "      <td>politician</td>\n",
              "      <td>Labour Party</td>\n",
              "      <td>0</td>\n",
              "      <td>0</td>\n",
              "      <td>-0.161905</td>\n",
              "      <td>-0.2500</td>\n",
              "      <td>0.997470</td>\n",
              "      <td>-0.161905</td>\n",
              "      <td>negative</td>\n",
              "      <td>2020-02-13</td>\n",
              "      <td>2020</td>\n",
              "      <td>2020-02-13</td>\n",
              "      <td>[www.expressandstar.com]</td>\n",
              "      <td>com</td>\n",
              "      <td>NaN</td>\n",
              "    </tr>\n",
              "    <tr>\n",
              "      <th>2</th>\n",
              "      <td>Q1341937</td>\n",
              "      <td>2020-03-08-010480</td>\n",
              "      <td>I backed leave and voted leave, but I never ca...</td>\n",
              "      <td>Jason McCartney</td>\n",
              "      <td>[[Jason McCartney, 0.8274], [None, 0.128], [Li...</td>\n",
              "      <td>2020-03-08 05:45:58</td>\n",
              "      <td>1</td>\n",
              "      <td>[http://www.yorkshirepost.co.uk/news/second-ti...</td>\n",
              "      <td>E</td>\n",
              "      <td>Jason McCartney</td>\n",
              "      <td>[+1973-09-03T00:00:00Z]</td>\n",
              "      <td>United States of America</td>\n",
              "      <td>male</td>\n",
              "      <td>0</td>\n",
              "      <td>sport cyclist</td>\n",
              "      <td>0</td>\n",
              "      <td>0</td>\n",
              "      <td>0</td>\n",
              "      <td>0.000000</td>\n",
              "      <td>-0.4243</td>\n",
              "      <td>0.595703</td>\n",
              "      <td>0.000000</td>\n",
              "      <td>negative</td>\n",
              "      <td>2020-03-08</td>\n",
              "      <td>2020</td>\n",
              "      <td>2020-03-08</td>\n",
              "      <td>[www.yorkshirepost.co.uk]</td>\n",
              "      <td>uk</td>\n",
              "      <td>United Kingdom</td>\n",
              "    </tr>\n",
              "    <tr>\n",
              "      <th>3</th>\n",
              "      <td>Q6837191</td>\n",
              "      <td>2020-02-14-058019</td>\n",
              "      <td>legacy, bad faith on pensions, Brexit and poli...</td>\n",
              "      <td>Michelle O'Neill</td>\n",
              "      <td>[[Michelle O'Neill, 0.8055], [None, 0.1302], [...</td>\n",
              "      <td>2020-02-14 11:48:49</td>\n",
              "      <td>1</td>\n",
              "      <td>[https://www.belfasttelegraph.co.uk/news/north...</td>\n",
              "      <td>E</td>\n",
              "      <td>Michelle O'Neill</td>\n",
              "      <td>[+1977-01-10T00:00:00Z]</td>\n",
              "      <td>Northern Ireland</td>\n",
              "      <td>female</td>\n",
              "      <td>0</td>\n",
              "      <td>politician</td>\n",
              "      <td>Sinn Féin</td>\n",
              "      <td>0</td>\n",
              "      <td>0</td>\n",
              "      <td>-0.233333</td>\n",
              "      <td>-0.0516</td>\n",
              "      <td>0.951277</td>\n",
              "      <td>-0.051600</td>\n",
              "      <td>negative</td>\n",
              "      <td>2020-02-14</td>\n",
              "      <td>2020</td>\n",
              "      <td>2020-02-14</td>\n",
              "      <td>[www.belfasttelegraph.co.uk]</td>\n",
              "      <td>uk</td>\n",
              "      <td>United Kingdom</td>\n",
              "    </tr>\n",
              "    <tr>\n",
              "      <th>4</th>\n",
              "      <td>Q1728820</td>\n",
              "      <td>2020-01-27-094916</td>\n",
              "      <td>we're only at half-time on Brexit, it's not do...</td>\n",
              "      <td>Leo Varadkar</td>\n",
              "      <td>[[Leo Varadkar, 0.9378], [None, 0.0502], [Bori...</td>\n",
              "      <td>2020-01-27 12:25:00</td>\n",
              "      <td>1</td>\n",
              "      <td>[http://blogs.independent.co.uk/voices/brexit-...</td>\n",
              "      <td>E</td>\n",
              "      <td>Leo Varadkar</td>\n",
              "      <td>[+1979-01-18T00:00:00Z]</td>\n",
              "      <td>Ireland</td>\n",
              "      <td>male</td>\n",
              "      <td>0</td>\n",
              "      <td>politician</td>\n",
              "      <td>Fine Gael</td>\n",
              "      <td>0</td>\n",
              "      <td>0</td>\n",
              "      <td>0.000000</td>\n",
              "      <td>0.0000</td>\n",
              "      <td>0.946059</td>\n",
              "      <td>0.000000</td>\n",
              "      <td>negative</td>\n",
              "      <td>2020-01-27</td>\n",
              "      <td>2020</td>\n",
              "      <td>2020-01-27</td>\n",
              "      <td>[blogs.independent.co.uk]</td>\n",
              "      <td>uk</td>\n",
              "      <td>United Kingdom</td>\n",
              "    </tr>\n",
              "  </tbody>\n",
              "</table>\n",
              "</div>"
            ],
            "text/plain": [
              "          id            quoteID  ...  TLD  domain_country\n",
              "0  Q20251661  2020-01-31-011304  ...  com             NaN\n",
              "1    Q694676  2020-02-13-014393  ...  com             NaN\n",
              "2   Q1341937  2020-03-08-010480  ...   uk  United Kingdom\n",
              "3   Q6837191  2020-02-14-058019  ...   uk  United Kingdom\n",
              "4   Q1728820  2020-01-27-094916  ...   uk  United Kingdom\n",
              "\n",
              "[5 rows x 29 columns]"
            ]
          },
          "metadata": {},
          "execution_count": 31
        }
      ]
    },
    {
      "cell_type": "code",
      "metadata": {
        "id": "NeMQEh8ATFS4",
        "colab": {
          "base_uri": "https://localhost:8080/"
        },
        "outputId": "905bacc9-5f2e-417e-d02f-8f775d34733f"
      },
      "source": [
        "# printing all the columns:\n",
        "df.columns"
      ],
      "execution_count": null,
      "outputs": [
        {
          "output_type": "execute_result",
          "data": {
            "text/plain": [
              "Index(['id', 'quoteID', 'quotation', 'speaker', 'probas', 'date',\n",
              "       'numOccurrences', 'urls', 'phase', 'label', 'date_of_birth',\n",
              "       'nationality', 'gender', 'ethnic_group', 'occupation', 'party',\n",
              "       'academic_degree', 'religion', 'polarity_TextBlob',\n",
              "       'polarity_SentimentIntensityAnalyze', 'polarity_Flair', 'polarity',\n",
              "       'emotion', 'day', 'year', 'just_date', 'domains', 'TLD',\n",
              "       'domain_country'],\n",
              "      dtype='object')"
            ]
          },
          "metadata": {},
          "execution_count": 6
        }
      ]
    },
    {
      "cell_type": "markdown",
      "metadata": {
        "id": "qULV7dbte-ha"
      },
      "source": [
        "#DATA STORY/ Pipeline:\n",
        "**I - The media's coverage of Brexit from 2015 to 2020 considering data in Quotebank:**\n",
        "\n",
        "\n",
        "1. How many quotations are related to Brexit?\n",
        "2. When did the media start to mention Brexit? \n",
        "3. How did the number of quotations change over time?\n",
        "\n",
        "  \n",
        "**II - Media views towards Brexit:**\n",
        "\n",
        "\n",
        "1. Which media have relayed the information the most?\n",
        "2. What is the country of origin of these media?\n",
        "3. What media and websites tend to have positive or negative statements towards the situation?\n",
        "4. How sentiments of quotations revealed by top 10 medias change over recent years? \n",
        "\n",
        "\n",
        "**III - Who issued these quotes, and what were the main opinions:**\n",
        "\n",
        "\n",
        "1.  Plot: Word cloud of the quotation :\n",
        "2. How many active speakers are mentioned?\n",
        "3. Most active speaker with different Sentiment towards Brexit\n",
        "4. What are the main topics discussed\n",
        "5. Where do they come from?\n",
        "6.  How has the number of active speakers changed over the different periods of Brexit? \n",
        "7. What is their sentiment about the situation, content or not content, independently of their opinion on pro or against Brexit?\n",
        "8. Did they change their perception during this period?\n",
        "9. How are the different sentiments of the speakers distributed by countries?\n"
      ]
    },
    {
      "cell_type": "markdown",
      "source": [
        "# Methods: \n",
        "\n",
        "* To merge quotebank with the additional datasets, we have filtered those quotations related to Brexit by identifying possible keywords related to Brexit. We have already combined quotations with speaker attributes by joining with QIDs.  We also scrapped [the web page](https://icannwiki.org/Country_code_top-level_domain) to get the domain countries using beautiful soup for future analysis.\n",
        "\n",
        "\n",
        "* We then carried out a sentiment analysis, for that we used the results of three packages: Textblob, SentimentIntensityAnalyze and Flair. We have then taken the median of the three resulting polarities. To subsequently decide on the thresholds to choose for classifying the emotions (Positive, Negative, or Neutral), we manually labeled 100 quotes and selected the thresholds accordingly.  It is critical to note that the resulting emotion does not reflect the direct view or perception of the Brexit, i.e. pro or con. The resulting emotion is based on the tone of the quote. As an example (fabricated), the two quotes: \"Brexit is crucial, staying in the union would be a catastrophe, a suicide\" and \"Staying in the union is crucial, leaving would be a catastrophe, a suicide\" will both be assigned a negative emotion by design even though they stand for two different opinions.\n",
        "\n",
        "\n",
        "* We also performed an LDA topic modeling to get an insight about the most relevant subjects. This approach allowed us to notice clearly the different names involved with Brexit like Theresa May, Boris Johnson, Donald Trump, David Cameron etc..\n",
        "\n",
        "  Also, this analysis revealed some major keywords that allowed us to get some ideas about what was beeing discussed.\n",
        "\n",
        "   We can see that some of the speakers are projecting the Brexit as an opportunity for a better change, and some of them are reflecting all the risks that may accure, stating words like (risk, damage, lose, crisis, impact etc..).\n",
        "And also, we can see how some keywords are reflecting the will the stay in europe (partners, stay, deal, relationship, members etc).\n",
        "\n",
        "  But, this was not enough for us since we thout it would be more interesting to see the position of the most involved speakers with Brexit.\n",
        "\n",
        "  That's why we looked at the the most active ones and divided our research into 3 different timelines:\n",
        "  - just before the referendum (before 2016-06-20)\n",
        "  - period of referendum (from 2016-06-21 to 2016-06-25) \n",
        "  - and just after (after 2016-06-26)\n",
        "\n",
        "  And at the same time, we were interested in answering these questions:\n",
        "\n",
        "  1) From which countries are speakers the most interested in Brexit?\n",
        "\n",
        "  2) Who are the most relevant speakers?\n",
        "\n",
        "  3) What's their opinion during those different periods?\n",
        "\n",
        "\n",
        "  The distribution of quotations by speakers' nationality confirmed our hypothesis: countries with the most interest with United Kingdom are the most involved with the Brexit situation. \n",
        "\n",
        "  We also distinguished the main speakers by their activity throughout the Brexit period of time.\n",
        "  \n",
        "\n",
        "  Our analysis just allowed ton conclude more about the position of the most relevant speakers at that time.\n",
        "\n",
        "  \n",
        "\n",
        "\n",
        "* Spectral clustering was applied for speakers and for different subclasses of occupation over time.  We first encoded the category features-nationality, polarity, and occupation-using two methods: hot encoding and target encoding. We then used the T-SNE method to compress the features and generate tsne_x,tesn_y so that they could be plotted in 2D or 3D graphs. We obtained some plots and results, but we will leave the final interpretation and more advanced implementation of the T-SNE approach to be done as a future improvement of our T-SNE method. You can find the first results, uncommented, of the cluster analysis at the end of this notebook. "
      ],
      "metadata": {
        "id": "4rRsbpnmC66m"
      }
    },
    {
      "cell_type": "markdown",
      "metadata": {
        "id": "o4rxj8oYgIii"
      },
      "source": [
        "-----------\n",
        "## I. Media's Coverage\n"
      ]
    },
    {
      "cell_type": "markdown",
      "metadata": {
        "id": "4npVnRLdg0NJ"
      },
      "source": [
        "### I.1 How many quotations are related to Brexit?  \n",
        "\n",
        "The original Quotebanks dataset contains 115,584,257 records.\n",
        "As described in the DataPreProcessing notebook, we initially extracted quotes that were solely about Brexit, the United Kingdom and/or the European Union. We then proceeded with filtering these records to consider only those containing one of the words from the following list: leave campaign and remain campaign, no deal, transition period, leave, withdral, referendum and split from as Brexit-related quotes. \n",
        "\n",
        "As a result, we ended up with 101,878 Brexit-related citations for more in-depth analysis."
      ]
    },
    {
      "cell_type": "code",
      "metadata": {
        "colab": {
          "base_uri": "https://localhost:8080/"
        },
        "id": "uZbPd6CcgQRV",
        "outputId": "7753e3dd-2b88-4aaa-a0bf-4d79d8fcb6e8"
      },
      "source": [
        "print(\"The number of Quotation related to Brexit is {}\".format(df.shape[0]))"
      ],
      "execution_count": null,
      "outputs": [
        {
          "output_type": "stream",
          "name": "stdout",
          "text": [
            "The number of Quotation related to Brexit is 101878\n"
          ]
        }
      ]
    },
    {
      "cell_type": "code",
      "source": [
        "print(\"The number of all Quotation is {}\".format(nb_quatations))"
      ],
      "metadata": {
        "colab": {
          "base_uri": "https://localhost:8080/"
        },
        "id": "x63AeItOBLKP",
        "outputId": "4fcf892b-35a0-4d9f-d006-73898f9c93fb"
      },
      "execution_count": null,
      "outputs": [
        {
          "output_type": "stream",
          "name": "stdout",
          "text": [
            "The number of all Quotation is 115584257\n"
          ]
        }
      ]
    },
    {
      "cell_type": "markdown",
      "source": [
        "### I.2 When did the media start to mention Brexit?\n"
      ],
      "metadata": {
        "id": "mpN1V3Srw5iX"
      }
    },
    {
      "cell_type": "code",
      "source": [
        "# plotting Barplot of the total number of Brexit quotation per year:\n",
        "plt.figure(figsize=(12,8))\n",
        "sns.set_theme(style=\"darkgrid\")\n",
        "ax = sns.countplot(x=\"year\", data=df,palette=\"Set3\")\n",
        "plt.show()"
      ],
      "metadata": {
        "colab": {
          "base_uri": "https://localhost:8080/",
          "height": 502
        },
        "id": "NEK9FYUXwmyi",
        "outputId": "79d5bb4f-69b6-47ff-b409-a2902a8b4c5c"
      },
      "execution_count": null,
      "outputs": [
        {
          "output_type": "display_data",
          "data": {
            "image/png": "[encoded data removed]",
            "text/plain": [
              "<Figure size 864x576 with 1 Axes>"
            ]
          },
          "metadata": {
            "needs_background": "light"
          }
        }
      ]
    },
    {
      "cell_type": "markdown",
      "source": [
        "Looking at the proportion of each year"
      ],
      "metadata": {
        "id": "EknYSHCr1uqX"
      }
    },
    {
      "cell_type": "code",
      "source": [
        "percentages=df.groupby(['year'])['id'].count()\n",
        "percentages=percentages.tolist()\n",
        "percentages = [x * 100/101878 for x in percentages]\n",
        "print(\"Percentages of quote representation during year : \\n 2015={:.2f} % \\n 2016={:.2f}% \\n 2017={:.2f}% \\n 2018={:.2f}% \\n 2019={:.2f}% \\n 2020={:.2f}% \\n\".format(percentages[0],percentages[1],percentages[2],percentages[3],percentages[4],percentages[5]))"
      ],
      "metadata": {
        "colab": {
          "base_uri": "https://localhost:8080/"
        },
        "id": "1g_vgKPD0Iii",
        "outputId": "1f0a827c-8009-4af8-c348-485604788857"
      },
      "execution_count": null,
      "outputs": [
        {
          "output_type": "stream",
          "name": "stdout",
          "text": [
            "Percentages of quote representation during year : \n",
            " 2015=0.50 % \n",
            " 2016=9.28% \n",
            " 2017=23.69% \n",
            " 2018=24.46% \n",
            " 2019=39.51% \n",
            " 2020=2.56% \n",
            "\n"
          ]
        }
      ]
    },
    {
      "cell_type": "markdown",
      "metadata": {
        "id": "VGnjzxAYgNY5"
      },
      "source": [
        "Always considering the filtered Quotebank data, the graph above represents the number of citations related to the Brexit over the years. We first notice that before 2015, only a few hundred citations were related to Brexit (only 0.5% of the Brexit data present in Quotebank). This switches in 2016 (9.28%) - the year when the Brexit was voted-  and we can see that until 2019, the number of citations will keep increasing until waiting for its peak reaching (39.51% of the total data). Yet in 2020, we witness a sharp drop. We suggest that this is because most news stories were relaying information about the coronavirus at that time. Another theory would be that the data was not completely extracted from year 2020. \n",
        "\n",
        "\n",
        "In order to further analyze this trend over the years, we look at what happens each year while looking at the dates that marked the Brexit.\n",
        "\n"
      ]
    },
    {
      "cell_type": "markdown",
      "metadata": {
        "id": "_T0Q0jtrgNQy"
      },
      "source": [
        "### I.3   How did the number of quotations change over time? \n",
        "We are interested in looking at how the number of quotation change over time with more details and consider how some important dates may have affected the occurence of quotations.\n"
      ]
    },
    {
      "cell_type": "code",
      "source": [
        "# load the data and aggregate them by day:\n",
        "df_timeseries=df.groupby(['just_date'])['id'].count().reset_index().rename(columns={'just_date':'date','id':'counts'})\n",
        "df_timeseries"
      ],
      "metadata": {
        "colab": {
          "base_uri": "https://localhost:8080/",
          "height": 423
        },
        "id": "D0CTy7vsdjUP",
        "outputId": "16cedaa6-8d4d-40f7-c08e-08bae5672ca2"
      },
      "execution_count": null,
      "outputs": [
        {
          "output_type": "execute_result",
          "data": {
            "text/html": [
              "<div>\n",
              "<style scoped>\n",
              "    .dataframe tbody tr th:only-of-type {\n",
              "        vertical-align: middle;\n",
              "    }\n",
              "\n",
              "    .dataframe tbody tr th {\n",
              "        vertical-align: top;\n",
              "    }\n",
              "\n",
              "    .dataframe thead th {\n",
              "        text-align: right;\n",
              "    }\n",
              "</style>\n",
              "<table border=\"1\" class=\"dataframe\">\n",
              "  <thead>\n",
              "    <tr style=\"text-align: right;\">\n",
              "      <th></th>\n",
              "      <th>date</th>\n",
              "      <th>counts</th>\n",
              "    </tr>\n",
              "  </thead>\n",
              "  <tbody>\n",
              "    <tr>\n",
              "      <th>0</th>\n",
              "      <td>2015-01-01</td>\n",
              "      <td>1</td>\n",
              "    </tr>\n",
              "    <tr>\n",
              "      <th>1</th>\n",
              "      <td>2015-01-04</td>\n",
              "      <td>1</td>\n",
              "    </tr>\n",
              "    <tr>\n",
              "      <th>2</th>\n",
              "      <td>2015-01-07</td>\n",
              "      <td>2</td>\n",
              "    </tr>\n",
              "    <tr>\n",
              "      <th>3</th>\n",
              "      <td>2015-01-08</td>\n",
              "      <td>2</td>\n",
              "    </tr>\n",
              "    <tr>\n",
              "      <th>4</th>\n",
              "      <td>2015-01-14</td>\n",
              "      <td>2</td>\n",
              "    </tr>\n",
              "    <tr>\n",
              "      <th>...</th>\n",
              "      <td>...</td>\n",
              "      <td>...</td>\n",
              "    </tr>\n",
              "    <tr>\n",
              "      <th>1637</th>\n",
              "      <td>2020-04-12</td>\n",
              "      <td>1</td>\n",
              "    </tr>\n",
              "    <tr>\n",
              "      <th>1638</th>\n",
              "      <td>2020-04-13</td>\n",
              "      <td>2</td>\n",
              "    </tr>\n",
              "    <tr>\n",
              "      <th>1639</th>\n",
              "      <td>2020-04-14</td>\n",
              "      <td>3</td>\n",
              "    </tr>\n",
              "    <tr>\n",
              "      <th>1640</th>\n",
              "      <td>2020-04-15</td>\n",
              "      <td>2</td>\n",
              "    </tr>\n",
              "    <tr>\n",
              "      <th>1641</th>\n",
              "      <td>2020-04-16</td>\n",
              "      <td>6</td>\n",
              "    </tr>\n",
              "  </tbody>\n",
              "</table>\n",
              "<p>1642 rows × 2 columns</p>\n",
              "</div>"
            ],
            "text/plain": [
              "           date  counts\n",
              "0    2015-01-01       1\n",
              "1    2015-01-04       1\n",
              "2    2015-01-07       2\n",
              "3    2015-01-08       2\n",
              "4    2015-01-14       2\n",
              "...         ...     ...\n",
              "1637 2020-04-12       1\n",
              "1638 2020-04-13       2\n",
              "1639 2020-04-14       3\n",
              "1640 2020-04-15       2\n",
              "1641 2020-04-16       6\n",
              "\n",
              "[1642 rows x 2 columns]"
            ]
          },
          "metadata": {},
          "execution_count": 7
        }
      ]
    },
    {
      "cell_type": "code",
      "metadata": {
        "colab": {
          "base_uri": "https://localhost:8080/",
          "height": 542
        },
        "id": "7kj_t2AQho06",
        "outputId": "ba2be772-5b00-4286-9df1-4a2a4b6be2ac"
      },
      "source": [
        "# creating the right set up to use plotly since we want all our plot exported to our website\n",
        "keydates = list()\n",
        "for i in (datetime(2016, 6, 23),datetime(2016,7,13),datetime(2017,3,29),datetime(2018,11,25),datetime(2017,12,8),datetime(2019,6,24),datetime(2019,7,24),datetime(2019,8,28),datetime(2019,10,2),datetime(2019,10,19),datetime(2020,1,31),datetime(2020,10,16)):\n",
        "    keydates.append({'type': 'line',\n",
        "                     'line': dict(\n",
        "                        color=\"red\",\n",
        "                        width=0.6,\n",
        "                    ),\n",
        "                    'xref': 'x',\n",
        "                    'yref': 'y',\n",
        "                    'x0': i,\n",
        "                    'y0': 0,\n",
        "                    'x1': i,\n",
        "                    'y1': 600})\n",
        "\n",
        "# Scatter plot:\n",
        "timeseries_data = go.Scatter(x=df_timeseries['date'],\n",
        "                        y=df_timeseries['counts'].values,\n",
        "                        line=go.scatter.Line(color='blue', width = 0.6),\n",
        "                           opacity=0.8,\n",
        "                           name='number of quotations',\n",
        "                           text=[f'number of quotations: {x:.0f}' for x in df_timeseries['counts'].values])\n",
        "\n",
        "\n",
        "# Create a layout with a rangeselector and rangeslider on the xaxis\n",
        "layout = go.Layout(font=dict(size=18),\n",
        "                   title='Number of quotations change over time',\n",
        "                   xaxis=dict(title='Date',\n",
        "                                        # Initialisen range selector\n",
        "                                         rangeselector=dict(\n",
        "                                             # Buttons for selecting time scale\n",
        "                                             buttons=list([\n",
        "                                                 # button for 1 month\n",
        "                                                 dict(count=1,\n",
        "                                                      label='1m',\n",
        "                                                      step='month',\n",
        "                                                      stepmode='backward'),\n",
        "                                                 # button for 1 week\n",
        "                                                 dict(count=7,\n",
        "                                                      label='1w',\n",
        "                                                      step='day',\n",
        "                                                      stepmode='todate'),\n",
        "                                                 # button for 1 day\n",
        "                                                 dict(count=1,\n",
        "                                                      label='1d',\n",
        "                                                      step='day',\n",
        "                                                      stepmode='todate'),\n",
        "                                                 # button for all days\n",
        "                                                 dict(step='all')\n",
        "                                             ])\n",
        "                                         ),\n",
        "                                         # create the range slider\n",
        "                                         rangeslider=dict(visible=True),\n",
        "                                         type='date'), \n",
        "                   shapes=keydates,\n",
        "                   yaxis=dict(title='Number of quotations')\n",
        "                   )\n",
        "\n",
        "fig = go.Figure(data=[timeseries_data], layout=layout)\n",
        "iplot(fig)"
      ],
      "execution_count": null,
      "outputs": [
        {
          "output_type": "display_data",
          "data": {
            "text/html": [
              "<html>\n",
              "<head><meta charset=\"utf-8\" /></head>\n",
              "<body>\n",
              "    <div>\n",
              "            <script src=\"https://cdnjs.cloudflare.com/ajax/libs/mathjax/2.7.5/MathJax.js?config=TeX-AMS-MML_SVG\"></script><script type=\"text/javascript\">if (window.MathJax) {MathJax.Hub.Config({SVG: {font: \"STIX-Web\"}});}</script>\n",
              "                <script type=\"text/javascript\">window.PlotlyConfig = {MathJaxConfig: 'local'};</script>\n",
              "        <script src=\"https://cdn.plot.ly/plotly-latest.min.js\"></script>    \n",
              "            <div id=\"e117930a-2fc7-4ec8-a14d-e13859788944\" class=\"plotly-graph-div\" style=\"height:525px; width:100%;\"></div>\n",
              "            <script type=\"text/javascript\">\n",
              "                \n",
              "                    window.PLOTLYENV=window.PLOTLYENV || {};\n",
              "                    \n",
              "                if (document.getElementById(\"e117930a-2fc7-4ec8-a14d-e13859788944\")) {\n",
              "                    Plotly.newPlot(\n",
              "                        'e117930a-2fc7-4ec8-a14d-e13859788944',\n",
              "                        [{\"line\": {\"color\": \"blue\", \"width\": 0.6}, \"name\": \"number of quotations\", \"opacity\": 0.8, \"text\": [\"number of quotations: 1\", \"number of quotations: 1\", \"number of quotations: 2\", \"number of quotations: 2\", \"number of quotations: 2\", \"number of quotations: 1\", \"number of quotations: 1\", \"number of quotations: 1\", \"number of quotations: 2\", \"number of quotations: 2\", \"number of quotations: 4\", \"number of quotations: 1\", \"number of quotations: 1\", \"number of quotations: 1\", \"number of quotations: 2\", \"number of quotations: 2\", \"number of quotations: 2\", \"number of quotations: 1\", \"number of quotations: 3\", \"number of quotations: 2\", \"number of quotations: 1\", \"number of quotations: 2\", \"number of quotations: 2\", \"number of quotations: 1\", \"number of quotations: 1\", \"number of quotations: 3\", \"number of quotations: 5\", \"number of quotations: 3\", \"number of quotations: 2\", \"number of quotations: 1\", \"number of quotations: 1\", \"number of quotations: 1\", \"number of quotations: 3\", \"number of quotations: 2\", \"number of quotations: 3\", \"number of quotations: 2\", \"number of quotations: 3\", \"number of quotations: 2\", \"number of quotations: 1\", \"number of quotations: 1\", \"number of quotations: 1\", \"number of quotations: 2\", \"number of quotations: 1\", \"number of quotations: 1\", \"number of quotations: 1\", \"number of quotations: 2\", \"number of quotations: 3\", \"number of quotations: 1\", \"number of quotations: 1\", \"number of quotations: 2\", \"number of quotations: 6\", \"number of quotations: 2\", \"number of quotations: 1\", \"number of quotations: 1\", \"number of quotations: 2\", \"number of quotations: 1\", \"number of quotations: 1\", \"number of quotations: 1\", \"number of quotations: 2\", \"number of quotations: 1\", \"number of quotations: 1\", \"number of quotations: 1\", \"number of quotations: 1\", \"number of quotations: 2\", \"number of quotations: 2\", \"number of quotations: 2\", \"number of quotations: 1\", \"number of quotations: 2\", \"number of quotations: 1\", \"number of quotations: 13\", \"number of quotations: 4\", \"number of quotations: 3\", \"number of quotations: 2\", \"number of quotations: 4\", \"number of quotations: 2\", \"number of quotations: 1\", \"number of quotations: 1\", \"number of quotations: 2\", \"number of quotations: 1\", \"number of quotations: 3\", \"number of quotations: 4\", \"number of quotations: 12\", \"number of quotations: 2\", \"number of quotations: 5\", \"number of quotations: 5\", \"number of quotations: 2\", \"number of quotations: 6\", \"number of quotations: 2\", \"number of quotations: 3\", \"number of quotations: 4\", \"number of quotations: 2\", \"number of quotations: 1\", \"number of quotations: 4\", \"number of quotations: 2\", \"number of quotations: 1\", \"number of quotations: 1\", \"number of quotations: 1\", \"number of quotations: 2\", \"number of quotations: 1\", \"number of quotations: 4\", \"number of quotations: 4\", \"number of quotations: 3\", \"number of quotations: 2\", \"number of quotations: 3\", \"number of quotations: 7\", \"number of quotations: 3\", \"number of quotations: 1\", \"number of quotations: 2\", \"number of quotations: 1\", \"number of quotations: 1\", \"number of quotations: 1\", \"number of quotations: 3\", \"number of quotations: 1\", \"number of quotations: 2\", \"number of quotations: 1\", \"number of quotations: 1\", \"number of quotations: 1\", \"number of quotations: 4\", \"number of quotations: 2\", \"number of quotations: 2\", \"number of quotations: 1\", \"number of quotations: 1\", \"number of quotations: 1\", \"number of quotations: 1\", \"number of quotations: 1\", \"number of quotations: 1\", \"number of quotations: 1\", \"number of quotations: 2\", \"number of quotations: 1\", \"number of quotations: 1\", \"number of quotations: 1\", \"number of quotations: 1\", \"number of quotations: 1\", \"number of quotations: 1\", \"number of quotations: 1\", \"number of quotations: 2\", \"number of quotations: 2\", \"number of quotations: 1\", \"number of quotations: 1\", \"number of quotations: 1\", \"number of quotations: 1\", \"number of quotations: 1\", \"number of quotations: 3\", \"number of quotations: 1\", \"number of quotations: 1\", \"number of quotations: 5\", \"number of quotations: 6\", \"number of quotations: 2\", \"number of quotations: 1\", \"number of quotations: 1\", \"number of quotations: 2\", \"number of quotations: 1\", \"number of quotations: 2\", \"number of quotations: 3\", \"number of quotations: 1\", \"number of quotations: 5\", \"number of quotations: 1\", \"number of quotations: 2\", \"number of quotations: 1\", \"number of quotations: 1\", \"number of quotations: 2\", \"number of quotations: 2\", \"number of quotations: 4\", \"number of quotations: 4\", \"number of quotations: 5\", \"number of quotations: 6\", \"number of quotations: 1\", \"number of quotations: 2\", \"number of quotations: 1\", \"number of quotations: 1\", \"number of quotations: 1\", \"number of quotations: 4\", \"number of quotations: 2\", \"number of quotations: 1\", \"number of quotations: 3\", \"number of quotations: 1\", \"number of quotations: 1\", \"number of quotations: 3\", \"number of quotations: 2\", \"number of quotations: 2\", \"number of quotations: 3\", \"number of quotations: 4\", \"number of quotations: 3\", \"number of quotations: 1\", \"number of quotations: 1\", \"number of quotations: 3\", \"number of quotations: 2\", \"number of quotations: 7\", \"number of quotations: 1\", \"number of quotations: 3\", \"number of quotations: 5\", \"number of quotations: 7\", \"number of quotations: 3\", \"number of quotations: 3\", \"number of quotations: 2\", \"number of quotations: 1\", \"number of quotations: 5\", \"number of quotations: 3\", \"number of quotations: 1\", \"number of quotations: 2\", \"number of quotations: 1\", \"number of quotations: 1\", \"number of quotations: 1\", \"number of quotations: 4\", \"number of quotations: 3\", \"number of quotations: 2\", \"number of quotations: 2\", \"number of quotations: 4\", \"number of quotations: 4\", \"number of quotations: 1\", \"number of quotations: 4\", \"number of quotations: 4\", \"number of quotations: 2\", \"number of quotations: 1\", \"number of quotations: 2\", \"number of quotations: 8\", \"number of quotations: 6\", \"number of quotations: 5\", \"number of quotations: 1\", \"number of quotations: 1\", \"number of quotations: 1\", \"number of quotations: 1\", \"number of quotations: 1\", \"number of quotations: 2\", \"number of quotations: 1\", \"number of quotations: 1\", \"number of quotations: 2\", \"number of quotations: 2\", \"number of quotations: 2\", \"number of quotations: 1\", \"number of quotations: 1\", \"number of quotations: 2\", \"number of quotations: 4\", \"number of quotations: 15\", \"number of quotations: 20\", \"number of quotations: 7\", \"number of quotations: 15\", \"number of quotations: 32\", \"number of quotations: 25\", \"number of quotations: 21\", \"number of quotations: 52\", \"number of quotations: 39\", \"number of quotations: 31\", \"number of quotations: 1\", \"number of quotations: 1\", \"number of quotations: 1\", \"number of quotations: 15\", \"number of quotations: 31\", \"number of quotations: 31\", \"number of quotations: 26\", \"number of quotations: 28\", \"number of quotations: 10\", \"number of quotations: 16\", \"number of quotations: 22\", \"number of quotations: 12\", \"number of quotations: 34\", \"number of quotations: 37\", \"number of quotations: 22\", \"number of quotations: 8\", \"number of quotations: 4\", \"number of quotations: 10\", \"number of quotations: 18\", \"number of quotations: 20\", \"number of quotations: 22\", \"number of quotations: 12\", \"number of quotations: 4\", \"number of quotations: 8\", \"number of quotations: 32\", \"number of quotations: 29\", \"number of quotations: 36\", \"number of quotations: 32\", \"number of quotations: 30\", \"number of quotations: 8\", \"number of quotations: 11\", \"number of quotations: 11\", \"number of quotations: 43\", \"number of quotations: 26\", \"number of quotations: 32\", \"number of quotations: 33\", \"number of quotations: 15\", \"number of quotations: 9\", \"number of quotations: 49\", \"number of quotations: 48\", \"number of quotations: 33\", \"number of quotations: 33\", \"number of quotations: 33\", \"number of quotations: 13\", \"number of quotations: 8\", \"number of quotations: 14\", \"number of quotations: 33\", \"number of quotations: 1\", \"number of quotations: 1\", \"number of quotations: 1\", \"number of quotations: 1\", \"number of quotations: 1\", \"number of quotations: 1\", \"number of quotations: 3\", \"number of quotations: 1\", \"number of quotations: 2\", \"number of quotations: 1\", \"number of quotations: 18\", \"number of quotations: 1\", \"number of quotations: 5\", \"number of quotations: 6\", \"number of quotations: 14\", \"number of quotations: 25\", \"number of quotations: 44\", \"number of quotations: 246\", \"number of quotations: 71\", \"number of quotations: 79\", \"number of quotations: 174\", \"number of quotations: 210\", \"number of quotations: 168\", \"number of quotations: 152\", \"number of quotations: 147\", \"number of quotations: 49\", \"number of quotations: 40\", \"number of quotations: 201\", \"number of quotations: 134\", \"number of quotations: 150\", \"number of quotations: 181\", \"number of quotations: 127\", \"number of quotations: 24\", \"number of quotations: 37\", \"number of quotations: 103\", \"number of quotations: 132\", \"number of quotations: 149\", \"number of quotations: 138\", \"number of quotations: 100\", \"number of quotations: 22\", \"number of quotations: 40\", \"number of quotations: 108\", \"number of quotations: 75\", \"number of quotations: 89\", \"number of quotations: 81\", \"number of quotations: 58\", \"number of quotations: 14\", \"number of quotations: 7\", \"number of quotations: 78\", \"number of quotations: 53\", \"number of quotations: 56\", \"number of quotations: 90\", \"number of quotations: 36\", \"number of quotations: 12\", \"number of quotations: 16\", \"number of quotations: 41\", \"number of quotations: 33\", \"number of quotations: 45\", \"number of quotations: 43\", \"number of quotations: 39\", \"number of quotations: 23\", \"number of quotations: 23\", \"number of quotations: 46\", \"number of quotations: 59\", \"number of quotations: 53\", \"number of quotations: 64\", \"number of quotations: 28\", \"number of quotations: 15\", \"number of quotations: 14\", \"number of quotations: 44\", \"number of quotations: 80\", \"number of quotations: 92\", \"number of quotations: 88\", \"number of quotations: 58\", \"number of quotations: 24\", \"number of quotations: 34\", \"number of quotations: 20\", \"number of quotations: 51\", \"number of quotations: 55\", \"number of quotations: 60\", \"number of quotations: 53\", \"number of quotations: 34\", \"number of quotations: 47\", \"number of quotations: 112\", \"number of quotations: 66\", \"number of quotations: 92\", \"number of quotations: 64\", \"number of quotations: 42\", \"number of quotations: 32\", \"number of quotations: 22\", \"number of quotations: 78\", \"number of quotations: 76\", \"number of quotations: 99\", \"number of quotations: 61\", \"number of quotations: 80\", \"number of quotations: 27\", \"number of quotations: 27\", \"number of quotations: 48\", \"number of quotations: 75\", \"number of quotations: 72\", \"number of quotations: 56\", \"number of quotations: 61\", \"number of quotations: 27\", \"number of quotations: 27\", \"number of quotations: 55\", \"number of quotations: 62\", \"number of quotations: 62\", \"number of quotations: 94\", \"number of quotations: 69\", \"number of quotations: 1\", \"number of quotations: 3\", \"number of quotations: 2\", \"number of quotations: 3\", \"number of quotations: 6\", \"number of quotations: 1\", \"number of quotations: 1\", \"number of quotations: 1\", \"number of quotations: 5\", \"number of quotations: 2\", \"number of quotations: 1\", \"number of quotations: 1\", \"number of quotations: 1\", \"number of quotations: 1\", \"number of quotations: 1\", \"number of quotations: 3\", \"number of quotations: 1\", \"number of quotations: 1\", \"number of quotations: 1\", \"number of quotations: 2\", \"number of quotations: 2\", \"number of quotations: 3\", \"number of quotations: 1\", \"number of quotations: 2\", \"number of quotations: 1\", \"number of quotations: 1\", \"number of quotations: 1\", \"number of quotations: 3\", \"number of quotations: 3\", \"number of quotations: 25\", \"number of quotations: 80\", \"number of quotations: 132\", \"number of quotations: 37\", \"number of quotations: 43\", \"number of quotations: 87\", \"number of quotations: 99\", \"number of quotations: 95\", \"number of quotations: 77\", \"number of quotations: 70\", \"number of quotations: 15\", \"number of quotations: 31\", \"number of quotations: 71\", \"number of quotations: 42\", \"number of quotations: 64\", \"number of quotations: 53\", \"number of quotations: 47\", \"number of quotations: 30\", \"number of quotations: 26\", \"number of quotations: 46\", \"number of quotations: 51\", \"number of quotations: 50\", \"number of quotations: 23\", \"number of quotations: 20\", \"number of quotations: 20\", \"number of quotations: 6\", \"number of quotations: 14\", \"number of quotations: 23\", \"number of quotations: 29\", \"number of quotations: 40\", \"number of quotations: 36\", \"number of quotations: 20\", \"number of quotations: 1\", \"number of quotations: 1\", \"number of quotations: 1\", \"number of quotations: 2\", \"number of quotations: 8\", \"number of quotations: 3\", \"number of quotations: 3\", \"number of quotations: 1\", \"number of quotations: 1\", \"number of quotations: 4\", \"number of quotations: 2\", \"number of quotations: 1\", \"number of quotations: 8\", \"number of quotations: 13\", \"number of quotations: 116\", \"number of quotations: 29\", \"number of quotations: 4\", \"number of quotations: 1\", \"number of quotations: 18\", \"number of quotations: 70\", \"number of quotations: 16\", \"number of quotations: 3\", \"number of quotations: 2\", \"number of quotations: 6\", \"number of quotations: 3\", \"number of quotations: 17\", \"number of quotations: 7\", \"number of quotations: 3\", \"number of quotations: 50\", \"number of quotations: 51\", \"number of quotations: 36\", \"number of quotations: 26\", \"number of quotations: 8\", \"number of quotations: 68\", \"number of quotations: 15\", \"number of quotations: 2\", \"number of quotations: 24\", \"number of quotations: 107\", \"number of quotations: 11\", \"number of quotations: 1\", \"number of quotations: 50\", \"number of quotations: 20\", \"number of quotations: 74\", \"number of quotations: 58\", \"number of quotations: 54\", \"number of quotations: 27\", \"number of quotations: 33\", \"number of quotations: 69\", \"number of quotations: 51\", \"number of quotations: 118\", \"number of quotations: 61\", \"number of quotations: 68\", \"number of quotations: 26\", \"number of quotations: 28\", \"number of quotations: 129\", \"number of quotations: 102\", \"number of quotations: 123\", \"number of quotations: 94\", \"number of quotations: 72\", \"number of quotations: 54\", \"number of quotations: 27\", \"number of quotations: 135\", \"number of quotations: 121\", \"number of quotations: 70\", \"number of quotations: 60\", \"number of quotations: 51\", \"number of quotations: 58\", \"number of quotations: 40\", \"number of quotations: 119\", \"number of quotations: 175\", \"number of quotations: 361\", \"number of quotations: 197\", \"number of quotations: 138\", \"number of quotations: 36\", \"number of quotations: 45\", \"number of quotations: 77\", \"number of quotations: 104\", \"number of quotations: 96\", \"number of quotations: 90\", \"number of quotations: 66\", \"number of quotations: 13\", \"number of quotations: 28\", \"number of quotations: 47\", \"number of quotations: 51\", \"number of quotations: 53\", \"number of quotations: 60\", \"number of quotations: 26\", \"number of quotations: 14\", \"number of quotations: 17\", \"number of quotations: 22\", \"number of quotations: 229\", \"number of quotations: 252\", \"number of quotations: 171\", \"number of quotations: 151\", \"number of quotations: 60\", \"number of quotations: 80\", \"number of quotations: 129\", \"number of quotations: 148\", \"number of quotations: 110\", \"number of quotations: 104\", \"number of quotations: 118\", \"number of quotations: 86\", \"number of quotations: 50\", \"number of quotations: 77\", \"number of quotations: 126\", \"number of quotations: 155\", \"number of quotations: 102\", \"number of quotations: 111\", \"number of quotations: 48\", \"number of quotations: 48\", \"number of quotations: 138\", \"number of quotations: 121\", \"number of quotations: 83\", \"number of quotations: 122\", \"number of quotations: 110\", \"number of quotations: 46\", \"number of quotations: 40\", \"number of quotations: 90\", \"number of quotations: 82\", \"number of quotations: 102\", \"number of quotations: 136\", \"number of quotations: 76\", \"number of quotations: 37\", \"number of quotations: 43\", \"number of quotations: 93\", \"number of quotations: 47\", \"number of quotations: 36\", \"number of quotations: 41\", \"number of quotations: 69\", \"number of quotations: 22\", \"number of quotations: 30\", \"number of quotations: 82\", \"number of quotations: 152\", \"number of quotations: 144\", \"number of quotations: 131\", \"number of quotations: 110\", \"number of quotations: 46\", \"number of quotations: 34\", \"number of quotations: 77\", \"number of quotations: 153\", \"number of quotations: 144\", \"number of quotations: 148\", \"number of quotations: 600\", \"number of quotations: 103\", \"number of quotations: 101\", \"number of quotations: 202\", \"number of quotations: 185\", \"number of quotations: 132\", \"number of quotations: 91\", \"number of quotations: 89\", \"number of quotations: 30\", \"number of quotations: 56\", \"number of quotations: 142\", \"number of quotations: 141\", \"number of quotations: 126\", \"number of quotations: 148\", \"number of quotations: 150\", \"number of quotations: 14\", \"number of quotations: 58\", \"number of quotations: 109\", \"number of quotations: 104\", \"number of quotations: 81\", \"number of quotations: 93\", \"number of quotations: 50\", \"number of quotations: 20\", \"number of quotations: 37\", \"number of quotations: 76\", \"number of quotations: 65\", \"number of quotations: 75\", \"number of quotations: 122\", \"number of quotations: 61\", \"number of quotations: 22\", \"number of quotations: 57\", \"number of quotations: 74\", \"number of quotations: 66\", \"number of quotations: 107\", \"number of quotations: 99\", \"number of quotations: 43\", \"number of quotations: 24\", \"number of quotations: 68\", \"number of quotations: 95\", \"number of quotations: 74\", \"number of quotations: 86\", \"number of quotations: 91\", \"number of quotations: 68\", \"number of quotations: 36\", \"number of quotations: 30\", \"number of quotations: 69\", \"number of quotations: 65\", \"number of quotations: 59\", \"number of quotations: 79\", \"number of quotations: 79\", \"number of quotations: 25\", \"number of quotations: 32\", \"number of quotations: 79\", \"number of quotations: 80\", \"number of quotations: 65\", \"number of quotations: 90\", \"number of quotations: 87\", \"number of quotations: 30\", \"number of quotations: 39\", \"number of quotations: 64\", \"number of quotations: 73\", \"number of quotations: 58\", \"number of quotations: 55\", \"number of quotations: 51\", \"number of quotations: 19\", \"number of quotations: 28\", \"number of quotations: 55\", \"number of quotations: 61\", \"number of quotations: 62\", \"number of quotations: 39\", \"number of quotations: 28\", \"number of quotations: 5\", \"number of quotations: 22\", \"number of quotations: 51\", \"number of quotations: 49\", \"number of quotations: 62\", \"number of quotations: 57\", \"number of quotations: 34\", \"number of quotations: 24\", \"number of quotations: 22\", \"number of quotations: 38\", \"number of quotations: 50\", \"number of quotations: 78\", \"number of quotations: 102\", \"number of quotations: 39\", \"number of quotations: 20\", \"number of quotations: 34\", \"number of quotations: 50\", \"number of quotations: 61\", \"number of quotations: 74\", \"number of quotations: 76\", \"number of quotations: 63\", \"number of quotations: 42\", \"number of quotations: 51\", \"number of quotations: 83\", \"number of quotations: 109\", \"number of quotations: 121\", \"number of quotations: 103\", \"number of quotations: 88\", \"number of quotations: 46\", \"number of quotations: 66\", \"number of quotations: 136\", \"number of quotations: 90\", \"number of quotations: 78\", \"number of quotations: 83\", \"number of quotations: 99\", \"number of quotations: 29\", \"number of quotations: 64\", \"number of quotations: 111\", \"number of quotations: 80\", \"number of quotations: 71\", \"number of quotations: 84\", \"number of quotations: 72\", \"number of quotations: 40\", \"number of quotations: 29\", \"number of quotations: 75\", \"number of quotations: 78\", \"number of quotations: 67\", \"number of quotations: 65\", \"number of quotations: 95\", \"number of quotations: 37\", \"number of quotations: 50\", \"number of quotations: 102\", \"number of quotations: 115\", \"number of quotations: 117\", \"number of quotations: 73\", \"number of quotations: 79\", \"number of quotations: 36\", \"number of quotations: 38\", \"number of quotations: 77\", \"number of quotations: 85\", \"number of quotations: 99\", \"number of quotations: 84\", \"number of quotations: 66\", \"number of quotations: 27\", \"number of quotations: 31\", \"number of quotations: 58\", \"number of quotations: 103\", \"number of quotations: 100\", \"number of quotations: 83\", \"number of quotations: 49\", \"number of quotations: 22\", \"number of quotations: 19\", \"number of quotations: 48\", \"number of quotations: 59\", \"number of quotations: 74\", \"number of quotations: 84\", \"number of quotations: 50\", \"number of quotations: 28\", \"number of quotations: 30\", \"number of quotations: 76\", \"number of quotations: 58\", \"number of quotations: 69\", \"number of quotations: 70\", \"number of quotations: 62\", \"number of quotations: 33\", \"number of quotations: 30\", \"number of quotations: 95\", \"number of quotations: 122\", \"number of quotations: 92\", \"number of quotations: 91\", \"number of quotations: 92\", \"number of quotations: 34\", \"number of quotations: 24\", \"number of quotations: 122\", \"number of quotations: 99\", \"number of quotations: 131\", \"number of quotations: 56\", \"number of quotations: 59\", \"number of quotations: 28\", \"number of quotations: 40\", \"number of quotations: 81\", \"number of quotations: 104\", \"number of quotations: 96\", \"number of quotations: 109\", \"number of quotations: 79\", \"number of quotations: 29\", \"number of quotations: 74\", \"number of quotations: 147\", \"number of quotations: 107\", \"number of quotations: 96\", \"number of quotations: 82\", \"number of quotations: 163\", \"number of quotations: 35\", \"number of quotations: 34\", \"number of quotations: 95\", \"number of quotations: 92\", \"number of quotations: 88\", \"number of quotations: 121\", \"number of quotations: 100\", \"number of quotations: 24\", \"number of quotations: 29\", \"number of quotations: 53\", \"number of quotations: 51\", \"number of quotations: 54\", \"number of quotations: 43\", \"number of quotations: 42\", \"number of quotations: 21\", \"number of quotations: 7\", \"number of quotations: 1\", \"number of quotations: 30\", \"number of quotations: 15\", \"number of quotations: 27\", \"number of quotations: 23\", \"number of quotations: 27\", \"number of quotations: 25\", \"number of quotations: 25\", \"number of quotations: 36\", \"number of quotations: 51\", \"number of quotations: 73\", \"number of quotations: 45\", \"number of quotations: 18\", \"number of quotations: 33\", \"number of quotations: 81\", \"number of quotations: 56\", \"number of quotations: 65\", \"number of quotations: 79\", \"number of quotations: 46\", \"number of quotations: 24\", \"number of quotations: 49\", \"number of quotations: 62\", \"number of quotations: 91\", \"number of quotations: 92\", \"number of quotations: 60\", \"number of quotations: 43\", \"number of quotations: 20\", \"number of quotations: 24\", \"number of quotations: 69\", \"number of quotations: 77\", \"number of quotations: 56\", \"number of quotations: 74\", \"number of quotations: 71\", \"number of quotations: 21\", \"number of quotations: 39\", \"number of quotations: 117\", \"number of quotations: 78\", \"number of quotations: 76\", \"number of quotations: 73\", \"number of quotations: 59\", \"number of quotations: 22\", \"number of quotations: 32\", \"number of quotations: 40\", \"number of quotations: 64\", \"number of quotations: 56\", \"number of quotations: 93\", \"number of quotations: 63\", \"number of quotations: 20\", \"number of quotations: 42\", \"number of quotations: 60\", \"number of quotations: 42\", \"number of quotations: 71\", \"number of quotations: 53\", \"number of quotations: 64\", \"number of quotations: 29\", \"number of quotations: 30\", \"number of quotations: 65\", \"number of quotations: 83\", \"number of quotations: 93\", \"number of quotations: 78\", \"number of quotations: 86\", \"number of quotations: 13\", \"number of quotations: 39\", \"number of quotations: 109\", \"number of quotations: 82\", \"number of quotations: 137\", \"number of quotations: 112\", \"number of quotations: 85\", \"number of quotations: 39\", \"number of quotations: 23\", \"number of quotations: 52\", \"number of quotations: 51\", \"number of quotations: 99\", \"number of quotations: 79\", \"number of quotations: 57\", \"number of quotations: 24\", \"number of quotations: 39\", \"number of quotations: 47\", \"number of quotations: 95\", \"number of quotations: 64\", \"number of quotations: 60\", \"number of quotations: 44\", \"number of quotations: 18\", \"number of quotations: 19\", \"number of quotations: 78\", \"number of quotations: 55\", \"number of quotations: 57\", \"number of quotations: 73\", \"number of quotations: 68\", \"number of quotations: 34\", \"number of quotations: 28\", \"number of quotations: 53\", \"number of quotations: 53\", \"number of quotations: 75\", \"number of quotations: 130\", \"number of quotations: 23\", \"number of quotations: 12\", \"number of quotations: 6\", \"number of quotations: 22\", \"number of quotations: 37\", \"number of quotations: 43\", \"number of quotations: 40\", \"number of quotations: 31\", \"number of quotations: 18\", \"number of quotations: 14\", \"number of quotations: 60\", \"number of quotations: 79\", \"number of quotations: 32\", \"number of quotations: 38\", \"number of quotations: 26\", \"number of quotations: 21\", \"number of quotations: 23\", \"number of quotations: 49\", \"number of quotations: 51\", \"number of quotations: 74\", \"number of quotations: 52\", \"number of quotations: 55\", \"number of quotations: 19\", \"number of quotations: 29\", \"number of quotations: 56\", \"number of quotations: 69\", \"number of quotations: 60\", \"number of quotations: 54\", \"number of quotations: 65\", \"number of quotations: 14\", \"number of quotations: 20\", \"number of quotations: 82\", \"number of quotations: 62\", \"number of quotations: 68\", \"number of quotations: 69\", \"number of quotations: 57\", \"number of quotations: 21\", \"number of quotations: 43\", \"number of quotations: 12\", \"number of quotations: 38\", \"number of quotations: 50\", \"number of quotations: 74\", \"number of quotations: 53\", \"number of quotations: 19\", \"number of quotations: 39\", \"number of quotations: 77\", \"number of quotations: 49\", \"number of quotations: 68\", \"number of quotations: 41\", \"number of quotations: 41\", \"number of quotations: 12\", \"number of quotations: 33\", \"number of quotations: 48\", \"number of quotations: 56\", \"number of quotations: 60\", \"number of quotations: 78\", \"number of quotations: 76\", \"number of quotations: 26\", \"number of quotations: 32\", \"number of quotations: 28\", \"number of quotations: 52\", \"number of quotations: 38\", \"number of quotations: 56\", \"number of quotations: 36\", \"number of quotations: 19\", \"number of quotations: 31\", \"number of quotations: 53\", \"number of quotations: 58\", \"number of quotations: 75\", \"number of quotations: 75\", \"number of quotations: 87\", \"number of quotations: 28\", \"number of quotations: 49\", \"number of quotations: 75\", \"number of quotations: 114\", \"number of quotations: 129\", \"number of quotations: 93\", \"number of quotations: 51\", \"number of quotations: 14\", \"number of quotations: 55\", \"number of quotations: 71\", \"number of quotations: 44\", \"number of quotations: 113\", \"number of quotations: 77\", \"number of quotations: 110\", \"number of quotations: 48\", \"number of quotations: 46\", \"number of quotations: 66\", \"number of quotations: 89\", \"number of quotations: 76\", \"number of quotations: 71\", \"number of quotations: 71\", \"number of quotations: 32\", \"number of quotations: 28\", \"number of quotations: 63\", \"number of quotations: 70\", \"number of quotations: 73\", \"number of quotations: 84\", \"number of quotations: 117\", \"number of quotations: 50\", \"number of quotations: 80\", \"number of quotations: 289\", \"number of quotations: 152\", \"number of quotations: 115\", \"number of quotations: 152\", \"number of quotations: 175\", \"number of quotations: 52\", \"number of quotations: 76\", \"number of quotations: 126\", \"number of quotations: 87\", \"number of quotations: 145\", \"number of quotations: 90\", \"number of quotations: 73\", \"number of quotations: 17\", \"number of quotations: 18\", \"number of quotations: 77\", \"number of quotations: 77\", \"number of quotations: 84\", \"number of quotations: 89\", \"number of quotations: 59\", \"number of quotations: 25\", \"number of quotations: 29\", \"number of quotations: 71\", \"number of quotations: 61\", \"number of quotations: 59\", \"number of quotations: 75\", \"number of quotations: 62\", \"number of quotations: 19\", \"number of quotations: 26\", \"number of quotations: 44\", \"number of quotations: 69\", \"number of quotations: 43\", \"number of quotations: 49\", \"number of quotations: 46\", \"number of quotations: 15\", \"number of quotations: 29\", \"number of quotations: 17\", \"number of quotations: 31\", \"number of quotations: 38\", \"number of quotations: 34\", \"number of quotations: 28\", \"number of quotations: 26\", \"number of quotations: 31\", \"number of quotations: 40\", \"number of quotations: 53\", \"number of quotations: 42\", \"number of quotations: 108\", \"number of quotations: 50\", \"number of quotations: 21\", \"number of quotations: 27\", \"number of quotations: 42\", \"number of quotations: 69\", \"number of quotations: 51\", \"number of quotations: 102\", \"number of quotations: 65\", \"number of quotations: 21\", \"number of quotations: 42\", \"number of quotations: 101\", \"number of quotations: 108\", \"number of quotations: 92\", \"number of quotations: 90\", \"number of quotations: 73\", \"number of quotations: 42\", \"number of quotations: 44\", \"number of quotations: 91\", \"number of quotations: 128\", \"number of quotations: 113\", \"number of quotations: 111\", \"number of quotations: 82\", \"number of quotations: 35\", \"number of quotations: 53\", \"number of quotations: 140\", \"number of quotations: 125\", \"number of quotations: 90\", \"number of quotations: 126\", \"number of quotations: 111\", \"number of quotations: 52\", \"number of quotations: 52\", \"number of quotations: 78\", \"number of quotations: 89\", \"number of quotations: 79\", \"number of quotations: 86\", \"number of quotations: 91\", \"number of quotations: 53\", \"number of quotations: 75\", \"number of quotations: 101\", \"number of quotations: 116\", \"number of quotations: 120\", \"number of quotations: 96\", \"number of quotations: 70\", \"number of quotations: 35\", \"number of quotations: 42\", \"number of quotations: 59\", \"number of quotations: 117\", \"number of quotations: 83\", \"number of quotations: 85\", \"number of quotations: 78\", \"number of quotations: 26\", \"number of quotations: 45\", \"number of quotations: 138\", \"number of quotations: 125\", \"number of quotations: 108\", \"number of quotations: 104\", \"number of quotations: 110\", \"number of quotations: 69\", \"number of quotations: 40\", \"number of quotations: 95\", \"number of quotations: 77\", \"number of quotations: 117\", \"number of quotations: 92\", \"number of quotations: 74\", \"number of quotations: 22\", \"number of quotations: 46\", \"number of quotations: 80\", \"number of quotations: 82\", \"number of quotations: 81\", \"number of quotations: 89\", \"number of quotations: 58\", \"number of quotations: 30\", \"number of quotations: 34\", \"number of quotations: 84\", \"number of quotations: 82\", \"number of quotations: 67\", \"number of quotations: 88\", \"number of quotations: 108\", \"number of quotations: 31\", \"number of quotations: 33\", \"number of quotations: 86\", \"number of quotations: 91\", \"number of quotations: 225\", \"number of quotations: 349\", \"number of quotations: 214\", \"number of quotations: 76\", \"number of quotations: 71\", \"number of quotations: 114\", \"number of quotations: 154\", \"number of quotations: 115\", \"number of quotations: 127\", \"number of quotations: 119\", \"number of quotations: 68\", \"number of quotations: 86\", \"number of quotations: 123\", \"number of quotations: 113\", \"number of quotations: 148\", \"number of quotations: 133\", \"number of quotations: 126\", \"number of quotations: 35\", \"number of quotations: 37\", \"number of quotations: 106\", \"number of quotations: 123\", \"number of quotations: 158\", \"number of quotations: 124\", \"number of quotations: 120\", \"number of quotations: 44\", \"number of quotations: 67\", \"number of quotations: 194\", \"number of quotations: 169\", \"number of quotations: 305\", \"number of quotations: 183\", \"number of quotations: 135\", \"number of quotations: 44\", \"number of quotations: 47\", \"number of quotations: 85\", \"number of quotations: 107\", \"number of quotations: 117\", \"number of quotations: 104\", \"number of quotations: 74\", \"number of quotations: 48\", \"number of quotations: 22\", \"number of quotations: 31\", \"number of quotations: 9\", \"number of quotations: 9\", \"number of quotations: 29\", \"number of quotations: 40\", \"number of quotations: 18\", \"number of quotations: 48\", \"number of quotations: 62\", \"number of quotations: 28\", \"number of quotations: 75\", \"number of quotations: 83\", \"number of quotations: 63\", \"number of quotations: 20\", \"number of quotations: 47\", \"number of quotations: 91\", \"number of quotations: 108\", \"number of quotations: 138\", \"number of quotations: 151\", \"number of quotations: 121\", \"number of quotations: 46\", \"number of quotations: 69\", \"number of quotations: 218\", \"number of quotations: 337\", \"number of quotations: 429\", \"number of quotations: 261\", \"number of quotations: 170\", \"number of quotations: 65\", \"number of quotations: 77\", \"number of quotations: 165\", \"number of quotations: 169\", \"number of quotations: 170\", \"number of quotations: 164\", \"number of quotations: 113\", \"number of quotations: 60\", \"number of quotations: 54\", \"number of quotations: 82\", \"number of quotations: 127\", \"number of quotations: 187\", \"number of quotations: 118\", \"number of quotations: 131\", \"number of quotations: 32\", \"number of quotations: 75\", \"number of quotations: 132\", \"number of quotations: 123\", \"number of quotations: 173\", \"number of quotations: 218\", \"number of quotations: 111\", \"number of quotations: 44\", \"number of quotations: 61\", \"number of quotations: 130\", \"number of quotations: 136\", \"number of quotations: 110\", \"number of quotations: 139\", \"number of quotations: 116\", \"number of quotations: 38\", \"number of quotations: 34\", \"number of quotations: 189\", \"number of quotations: 144\", \"number of quotations: 131\", \"number of quotations: 132\", \"number of quotations: 114\", \"number of quotations: 45\", \"number of quotations: 47\", \"number of quotations: 160\", \"number of quotations: 189\", \"number of quotations: 105\", \"number of quotations: 107\", \"number of quotations: 123\", \"number of quotations: 49\", \"number of quotations: 48\", \"number of quotations: 115\", \"number of quotations: 134\", \"number of quotations: 127\", \"number of quotations: 116\", \"number of quotations: 108\", \"number of quotations: 44\", \"number of quotations: 69\", \"number of quotations: 146\", \"number of quotations: 232\", \"number of quotations: 290\", \"number of quotations: 242\", \"number of quotations: 166\", \"number of quotations: 68\", \"number of quotations: 82\", \"number of quotations: 110\", \"number of quotations: 150\", \"number of quotations: 176\", \"number of quotations: 188\", \"number of quotations: 150\", \"number of quotations: 81\", \"number of quotations: 86\", \"number of quotations: 171\", \"number of quotations: 171\", \"number of quotations: 231\", \"number of quotations: 155\", \"number of quotations: 299\", \"number of quotations: 75\", \"number of quotations: 53\", \"number of quotations: 168\", \"number of quotations: 200\", \"number of quotations: 284\", \"number of quotations: 185\", \"number of quotations: 144\", \"number of quotations: 77\", \"number of quotations: 105\", \"number of quotations: 156\", \"number of quotations: 145\", \"number of quotations: 124\", \"number of quotations: 213\", \"number of quotations: 127\", \"number of quotations: 47\", \"number of quotations: 58\", \"number of quotations: 106\", \"number of quotations: 114\", \"number of quotations: 40\", \"number of quotations: 42\", \"number of quotations: 25\", \"number of quotations: 13\", \"number of quotations: 10\", \"number of quotations: 15\", \"number of quotations: 32\", \"number of quotations: 50\", \"number of quotations: 41\", \"number of quotations: 50\", \"number of quotations: 28\", \"number of quotations: 38\", \"number of quotations: 66\", \"number of quotations: 135\", \"number of quotations: 87\", \"number of quotations: 99\", \"number of quotations: 214\", \"number of quotations: 67\", \"number of quotations: 49\", \"number of quotations: 38\", \"number of quotations: 83\", \"number of quotations: 122\", \"number of quotations: 129\", \"number of quotations: 87\", \"number of quotations: 28\", \"number of quotations: 54\", \"number of quotations: 101\", \"number of quotations: 118\", \"number of quotations: 95\", \"number of quotations: 122\", \"number of quotations: 129\", \"number of quotations: 40\", \"number of quotations: 78\", \"number of quotations: 160\", \"number of quotations: 173\", \"number of quotations: 219\", \"number of quotations: 135\", \"number of quotations: 304\", \"number of quotations: 102\", \"number of quotations: 107\", \"number of quotations: 336\", \"number of quotations: 200\", \"number of quotations: 132\", \"number of quotations: 141\", \"number of quotations: 112\", \"number of quotations: 37\", \"number of quotations: 56\", \"number of quotations: 107\", \"number of quotations: 119\", \"number of quotations: 107\", \"number of quotations: 122\", \"number of quotations: 140\", \"number of quotations: 37\", \"number of quotations: 36\", \"number of quotations: 115\", \"number of quotations: 142\", \"number of quotations: 113\", \"number of quotations: 112\", \"number of quotations: 81\", \"number of quotations: 40\", \"number of quotations: 77\", \"number of quotations: 80\", \"number of quotations: 123\", \"number of quotations: 105\", \"number of quotations: 102\", \"number of quotations: 92\", \"number of quotations: 53\", \"number of quotations: 61\", \"number of quotations: 96\", \"number of quotations: 96\", \"number of quotations: 113\", \"number of quotations: 101\", \"number of quotations: 68\", \"number of quotations: 26\", \"number of quotations: 42\", \"number of quotations: 91\", \"number of quotations: 121\", \"number of quotations: 59\", \"number of quotations: 57\", \"number of quotations: 83\", \"number of quotations: 35\", \"number of quotations: 46\", \"number of quotations: 93\", \"number of quotations: 132\", \"number of quotations: 112\", \"number of quotations: 78\", \"number of quotations: 71\", \"number of quotations: 38\", \"number of quotations: 54\", \"number of quotations: 45\", \"number of quotations: 76\", \"number of quotations: 89\", \"number of quotations: 74\", \"number of quotations: 45\", \"number of quotations: 19\", \"number of quotations: 35\", \"number of quotations: 89\", \"number of quotations: 320\", \"number of quotations: 172\", \"number of quotations: 95\", \"number of quotations: 70\", \"number of quotations: 29\", \"number of quotations: 51\", \"number of quotations: 106\", \"number of quotations: 100\", \"number of quotations: 95\", \"number of quotations: 127\", \"number of quotations: 123\", \"number of quotations: 38\", \"number of quotations: 41\", \"number of quotations: 81\", \"number of quotations: 77\", \"number of quotations: 102\", \"number of quotations: 91\", \"number of quotations: 116\", \"number of quotations: 27\", \"number of quotations: 44\", \"number of quotations: 81\", \"number of quotations: 80\", \"number of quotations: 121\", \"number of quotations: 130\", \"number of quotations: 73\", \"number of quotations: 32\", \"number of quotations: 71\", \"number of quotations: 82\", \"number of quotations: 85\", \"number of quotations: 140\", \"number of quotations: 116\", \"number of quotations: 61\", \"number of quotations: 52\", \"number of quotations: 51\", \"number of quotations: 81\", \"number of quotations: 128\", \"number of quotations: 261\", \"number of quotations: 184\", \"number of quotations: 150\", \"number of quotations: 54\", \"number of quotations: 73\", \"number of quotations: 213\", \"number of quotations: 292\", \"number of quotations: 287\", \"number of quotations: 248\", \"number of quotations: 184\", \"number of quotations: 83\", \"number of quotations: 78\", \"number of quotations: 165\", \"number of quotations: 154\", \"number of quotations: 182\", \"number of quotations: 150\", \"number of quotations: 141\", \"number of quotations: 65\", \"number of quotations: 82\", \"number of quotations: 121\", \"number of quotations: 156\", \"number of quotations: 135\", \"number of quotations: 117\", \"number of quotations: 96\", \"number of quotations: 48\", \"number of quotations: 72\", \"number of quotations: 136\", \"number of quotations: 182\", \"number of quotations: 197\", \"number of quotations: 145\", \"number of quotations: 131\", \"number of quotations: 37\", \"number of quotations: 60\", \"number of quotations: 117\", \"number of quotations: 142\", \"number of quotations: 174\", \"number of quotations: 113\", \"number of quotations: 107\", \"number of quotations: 46\", \"number of quotations: 46\", \"number of quotations: 114\", \"number of quotations: 206\", \"number of quotations: 152\", \"number of quotations: 121\", \"number of quotations: 143\", \"number of quotations: 53\", \"number of quotations: 55\", \"number of quotations: 143\", \"number of quotations: 140\", \"number of quotations: 140\", \"number of quotations: 312\", \"number of quotations: 169\", \"number of quotations: 162\", \"number of quotations: 80\", \"number of quotations: 149\", \"number of quotations: 192\", \"number of quotations: 155\", \"number of quotations: 149\", \"number of quotations: 128\", \"number of quotations: 40\", \"number of quotations: 63\", \"number of quotations: 153\", \"number of quotations: 156\", \"number of quotations: 183\", \"number of quotations: 158\", \"number of quotations: 175\", \"number of quotations: 53\", \"number of quotations: 82\", \"number of quotations: 141\", \"number of quotations: 157\", \"number of quotations: 163\", \"number of quotations: 137\", \"number of quotations: 89\", \"number of quotations: 51\", \"number of quotations: 46\", \"number of quotations: 181\", \"number of quotations: 144\", \"number of quotations: 133\", \"number of quotations: 128\", \"number of quotations: 98\", \"number of quotations: 46\", \"number of quotations: 49\", \"number of quotations: 88\", \"number of quotations: 120\", \"number of quotations: 109\", \"number of quotations: 80\", \"number of quotations: 106\", \"number of quotations: 46\", \"number of quotations: 64\", \"number of quotations: 107\", \"number of quotations: 70\", \"number of quotations: 90\", \"number of quotations: 82\", \"number of quotations: 95\", \"number of quotations: 32\", \"number of quotations: 53\", \"number of quotations: 83\", \"number of quotations: 92\", \"number of quotations: 90\", \"number of quotations: 133\", \"number of quotations: 132\", \"number of quotations: 59\", \"number of quotations: 66\", \"number of quotations: 134\", \"number of quotations: 153\", \"number of quotations: 176\", \"number of quotations: 166\", \"number of quotations: 617\", \"number of quotations: 94\", \"number of quotations: 73\", \"number of quotations: 67\", \"number of quotations: 120\", \"number of quotations: 91\", \"number of quotations: 79\", \"number of quotations: 93\", \"number of quotations: 31\", \"number of quotations: 27\", \"number of quotations: 33\", \"number of quotations: 12\", \"number of quotations: 5\", \"number of quotations: 11\", \"number of quotations: 19\", \"number of quotations: 3\", \"number of quotations: 26\", \"number of quotations: 27\", \"number of quotations: 26\", \"number of quotations: 15\", \"number of quotations: 23\", \"number of quotations: 25\", \"number of quotations: 10\", \"number of quotations: 10\", \"number of quotations: 31\", \"number of quotations: 41\", \"number of quotations: 64\", \"number of quotations: 60\", \"number of quotations: 51\", \"number of quotations: 21\", \"number of quotations: 21\", \"number of quotations: 38\", \"number of quotations: 52\", \"number of quotations: 79\", \"number of quotations: 45\", \"number of quotations: 46\", \"number of quotations: 13\", \"number of quotations: 7\", \"number of quotations: 39\", \"number of quotations: 39\", \"number of quotations: 52\", \"number of quotations: 51\", \"number of quotations: 40\", \"number of quotations: 15\", \"number of quotations: 34\", \"number of quotations: 57\", \"number of quotations: 67\", \"number of quotations: 108\", \"number of quotations: 121\", \"number of quotations: 231\", \"number of quotations: 72\", \"number of quotations: 33\", \"number of quotations: 60\", \"number of quotations: 46\", \"number of quotations: 64\", \"number of quotations: 54\", \"number of quotations: 35\", \"number of quotations: 19\", \"number of quotations: 22\", \"number of quotations: 32\", \"number of quotations: 54\", \"number of quotations: 26\", \"number of quotations: 24\", \"number of quotations: 21\", \"number of quotations: 9\", \"number of quotations: 15\", \"number of quotations: 19\", \"number of quotations: 28\", \"number of quotations: 27\", \"number of quotations: 15\", \"number of quotations: 7\", \"number of quotations: 7\", \"number of quotations: 12\", \"number of quotations: 14\", \"number of quotations: 8\", \"number of quotations: 18\", \"number of quotations: 19\", \"number of quotations: 14\", \"number of quotations: 4\", \"number of quotations: 10\", \"number of quotations: 28\", \"number of quotations: 15\", \"number of quotations: 13\", \"number of quotations: 17\", \"number of quotations: 9\", \"number of quotations: 3\", \"number of quotations: 13\", \"number of quotations: 19\", \"number of quotations: 8\", \"number of quotations: 16\", \"number of quotations: 14\", \"number of quotations: 8\", \"number of quotations: 1\", \"number of quotations: 2\", \"number of quotations: 3\", \"number of quotations: 6\", \"number of quotations: 15\", \"number of quotations: 10\", \"number of quotations: 5\", \"number of quotations: 5\", \"number of quotations: 7\", \"number of quotations: 11\", \"number of quotations: 6\", \"number of quotations: 12\", \"number of quotations: 3\", \"number of quotations: 2\", \"number of quotations: 2\", \"number of quotations: 7\", \"number of quotations: 5\", \"number of quotations: 4\", \"number of quotations: 3\", \"number of quotations: 7\", \"number of quotations: 2\", \"number of quotations: 3\", \"number of quotations: 6\", \"number of quotations: 3\", \"number of quotations: 2\", \"number of quotations: 6\", \"number of quotations: 1\", \"number of quotations: 2\", \"number of quotations: 3\", \"number of quotations: 2\", \"number of quotations: 6\"], \"type\": \"scatter\", \"x\": [\"2015-01-01T00:00:00\", \"2015-01-04T00:00:00\", \"2015-01-07T00:00:00\", \"2015-01-08T00:00:00\", \"2015-01-14T00:00:00\", \"2015-01-15T00:00:00\", \"2015-01-16T00:00:00\", \"2015-01-19T00:00:00\", \"2015-01-20T00:00:00\", \"2015-01-24T00:00:00\", \"2015-01-25T00:00:00\", \"2015-01-26T00:00:00\", \"2015-01-28T00:00:00\", \"2015-01-30T00:00:00\", \"2015-02-01T00:00:00\", \"2015-02-04T00:00:00\", \"2015-02-06T00:00:00\", \"2015-02-08T00:00:00\", \"2015-02-10T00:00:00\", \"2015-02-11T00:00:00\", \"2015-02-12T00:00:00\", \"2015-02-17T00:00:00\", \"2015-02-18T00:00:00\", \"2015-02-22T00:00:00\", \"2015-02-23T00:00:00\", \"2015-02-24T00:00:00\", \"2015-02-27T00:00:00\", \"2015-02-28T00:00:00\", \"2015-03-02T00:00:00\", \"2015-03-03T00:00:00\", \"2015-03-06T00:00:00\", \"2015-03-08T00:00:00\", \"2015-03-09T00:00:00\", \"2015-03-10T00:00:00\", \"2015-03-11T00:00:00\", \"2015-03-12T00:00:00\", \"2015-03-16T00:00:00\", \"2015-03-17T00:00:00\", \"2015-03-18T00:00:00\", \"2015-03-19T00:00:00\", \"2015-03-22T00:00:00\", \"2015-03-23T00:00:00\", \"2015-03-26T00:00:00\", \"2015-03-29T00:00:00\", \"2015-03-31T00:00:00\", \"2015-04-02T00:00:00\", \"2015-04-03T00:00:00\", \"2015-04-04T00:00:00\", \"2015-04-05T00:00:00\", \"2015-04-06T00:00:00\", \"2015-04-07T00:00:00\", \"2015-04-08T00:00:00\", \"2015-04-09T00:00:00\", \"2015-04-10T00:00:00\", \"2015-04-14T00:00:00\", \"2015-04-15T00:00:00\", \"2015-04-17T00:00:00\", \"2015-04-19T00:00:00\", \"2015-04-21T00:00:00\", \"2015-04-22T00:00:00\", \"2015-04-23T00:00:00\", \"2015-04-24T00:00:00\", \"2015-04-26T00:00:00\", \"2015-04-27T00:00:00\", \"2015-04-28T00:00:00\", \"2015-04-29T00:00:00\", \"2015-04-30T00:00:00\", \"2015-05-06T00:00:00\", \"2015-05-07T00:00:00\", \"2015-05-08T00:00:00\", \"2015-05-09T00:00:00\", \"2015-05-10T00:00:00\", \"2015-05-11T00:00:00\", \"2015-05-12T00:00:00\", \"2015-05-13T00:00:00\", \"2015-05-14T00:00:00\", \"2015-05-16T00:00:00\", \"2015-05-17T00:00:00\", \"2015-05-19T00:00:00\", \"2015-05-20T00:00:00\", \"2015-05-21T00:00:00\", \"2015-05-22T00:00:00\", \"2015-05-23T00:00:00\", \"2015-05-24T00:00:00\", \"2015-05-25T00:00:00\", \"2015-05-26T00:00:00\", \"2015-05-27T00:00:00\", \"2015-05-28T00:00:00\", \"2015-05-29T00:00:00\", \"2015-06-06T00:00:00\", \"2015-06-07T00:00:00\", \"2015-06-08T00:00:00\", \"2015-06-09T00:00:00\", \"2015-06-10T00:00:00\", \"2015-06-11T00:00:00\", \"2015-06-12T00:00:00\", \"2015-06-13T00:00:00\", \"2015-06-16T00:00:00\", \"2015-06-17T00:00:00\", \"2015-06-18T00:00:00\", \"2015-06-19T00:00:00\", \"2015-06-20T00:00:00\", \"2015-06-21T00:00:00\", \"2015-06-24T00:00:00\", \"2015-06-25T00:00:00\", \"2015-06-26T00:00:00\", \"2015-06-27T00:00:00\", \"2015-06-30T00:00:00\", \"2015-07-03T00:00:00\", \"2015-07-08T00:00:00\", \"2015-07-14T00:00:00\", \"2015-07-15T00:00:00\", \"2015-07-16T00:00:00\", \"2015-07-17T00:00:00\", \"2015-07-19T00:00:00\", \"2015-07-20T00:00:00\", \"2015-07-21T00:00:00\", \"2015-07-22T00:00:00\", \"2015-07-23T00:00:00\", \"2015-07-24T00:00:00\", \"2015-07-26T00:00:00\", \"2015-07-27T00:00:00\", \"2015-07-28T00:00:00\", \"2015-07-29T00:00:00\", \"2015-07-31T00:00:00\", \"2015-08-01T00:00:00\", \"2015-08-03T00:00:00\", \"2015-08-05T00:00:00\", \"2015-08-06T00:00:00\", \"2015-08-08T00:00:00\", \"2015-08-10T00:00:00\", \"2015-08-11T00:00:00\", \"2015-08-19T00:00:00\", \"2015-08-23T00:00:00\", \"2015-08-24T00:00:00\", \"2015-08-25T00:00:00\", \"2015-08-27T00:00:00\", \"2015-08-31T00:00:00\", \"2015-09-01T00:00:00\", \"2015-09-02T00:00:00\", \"2015-09-03T00:00:00\", \"2015-09-04T00:00:00\", \"2015-09-06T00:00:00\", \"2015-09-09T00:00:00\", \"2015-09-11T00:00:00\", \"2015-09-13T00:00:00\", \"2015-09-14T00:00:00\", \"2015-09-15T00:00:00\", \"2015-09-17T00:00:00\", \"2015-09-18T00:00:00\", \"2015-09-19T00:00:00\", \"2015-09-20T00:00:00\", \"2015-09-21T00:00:00\", \"2015-09-22T00:00:00\", \"2015-09-23T00:00:00\", \"2015-09-25T00:00:00\", \"2015-09-27T00:00:00\", \"2015-09-28T00:00:00\", \"2015-09-30T00:00:00\", \"2015-10-02T00:00:00\", \"2015-10-04T00:00:00\", \"2015-10-05T00:00:00\", \"2015-10-06T00:00:00\", \"2015-10-07T00:00:00\", \"2015-10-08T00:00:00\", \"2015-10-09T00:00:00\", \"2015-10-10T00:00:00\", \"2015-10-11T00:00:00\", \"2015-10-12T00:00:00\", \"2015-10-13T00:00:00\", \"2015-10-14T00:00:00\", \"2015-10-15T00:00:00\", \"2015-10-16T00:00:00\", \"2015-10-17T00:00:00\", \"2015-10-18T00:00:00\", \"2015-10-19T00:00:00\", \"2015-10-20T00:00:00\", \"2015-10-21T00:00:00\", \"2015-10-22T00:00:00\", \"2015-10-27T00:00:00\", \"2015-10-28T00:00:00\", \"2015-10-29T00:00:00\", \"2015-10-30T00:00:00\", \"2015-10-31T00:00:00\", \"2015-11-01T00:00:00\", \"2015-11-03T00:00:00\", \"2015-11-04T00:00:00\", \"2015-11-05T00:00:00\", \"2015-11-07T00:00:00\", \"2015-11-08T00:00:00\", \"2015-11-09T00:00:00\", \"2015-11-10T00:00:00\", \"2015-11-11T00:00:00\", \"2015-11-12T00:00:00\", \"2015-11-13T00:00:00\", \"2015-11-14T00:00:00\", \"2015-11-16T00:00:00\", \"2015-11-18T00:00:00\", \"2015-11-25T00:00:00\", \"2015-11-26T00:00:00\", \"2015-11-29T00:00:00\", \"2015-11-30T00:00:00\", \"2015-12-01T00:00:00\", \"2015-12-02T00:00:00\", \"2015-12-03T00:00:00\", \"2015-12-04T00:00:00\", \"2015-12-06T00:00:00\", \"2015-12-07T00:00:00\", \"2015-12-08T00:00:00\", \"2015-12-09T00:00:00\", \"2015-12-10T00:00:00\", \"2015-12-11T00:00:00\", \"2015-12-12T00:00:00\", \"2015-12-14T00:00:00\", \"2015-12-15T00:00:00\", \"2015-12-16T00:00:00\", \"2015-12-17T00:00:00\", \"2015-12-18T00:00:00\", \"2015-12-20T00:00:00\", \"2015-12-21T00:00:00\", \"2015-12-22T00:00:00\", \"2015-12-24T00:00:00\", \"2015-12-25T00:00:00\", \"2015-12-26T00:00:00\", \"2015-12-27T00:00:00\", \"2015-12-28T00:00:00\", \"2015-12-29T00:00:00\", \"2015-12-30T00:00:00\", \"2015-12-31T00:00:00\", \"2016-01-19T00:00:00\", \"2016-02-11T00:00:00\", \"2016-02-13T00:00:00\", \"2016-02-14T00:00:00\", \"2016-02-15T00:00:00\", \"2016-02-16T00:00:00\", \"2016-02-17T00:00:00\", \"2016-02-18T00:00:00\", \"2016-02-19T00:00:00\", \"2016-02-20T00:00:00\", \"2016-02-21T00:00:00\", \"2016-02-22T00:00:00\", \"2016-02-23T00:00:00\", \"2016-02-24T00:00:00\", \"2016-03-07T00:00:00\", \"2016-03-15T00:00:00\", \"2016-04-12T00:00:00\", \"2016-04-18T00:00:00\", \"2016-04-19T00:00:00\", \"2016-04-20T00:00:00\", \"2016-04-21T00:00:00\", \"2016-04-22T00:00:00\", \"2016-04-23T00:00:00\", \"2016-04-24T00:00:00\", \"2016-04-25T00:00:00\", \"2016-04-26T00:00:00\", \"2016-04-27T00:00:00\", \"2016-04-28T00:00:00\", \"2016-04-29T00:00:00\", \"2016-04-30T00:00:00\", \"2016-05-01T00:00:00\", \"2016-05-02T00:00:00\", \"2016-05-03T00:00:00\", \"2016-05-04T00:00:00\", \"2016-05-05T00:00:00\", \"2016-05-06T00:00:00\", \"2016-05-07T00:00:00\", \"2016-05-08T00:00:00\", \"2016-05-09T00:00:00\", \"2016-05-10T00:00:00\", \"2016-05-11T00:00:00\", \"2016-05-12T00:00:00\", \"2016-05-13T00:00:00\", \"2016-05-14T00:00:00\", \"2016-05-15T00:00:00\", \"2016-05-16T00:00:00\", \"2016-05-17T00:00:00\", \"2016-05-18T00:00:00\", \"2016-05-19T00:00:00\", \"2016-05-20T00:00:00\", \"2016-05-21T00:00:00\", \"2016-05-22T00:00:00\", \"2016-05-23T00:00:00\", \"2016-05-24T00:00:00\", \"2016-05-25T00:00:00\", \"2016-05-26T00:00:00\", \"2016-05-27T00:00:00\", \"2016-05-28T00:00:00\", \"2016-05-29T00:00:00\", \"2016-05-30T00:00:00\", \"2016-05-31T00:00:00\", \"2016-06-01T00:00:00\", \"2016-06-08T00:00:00\", \"2016-06-09T00:00:00\", \"2016-06-11T00:00:00\", \"2016-06-18T00:00:00\", \"2016-06-19T00:00:00\", \"2016-06-20T00:00:00\", \"2016-06-21T00:00:00\", \"2016-06-22T00:00:00\", \"2016-06-23T00:00:00\", \"2016-06-24T00:00:00\", \"2016-06-25T00:00:00\", \"2016-06-26T00:00:00\", \"2016-06-27T00:00:00\", \"2016-06-28T00:00:00\", \"2016-06-29T00:00:00\", \"2016-06-30T00:00:00\", \"2016-07-01T00:00:00\", \"2016-07-02T00:00:00\", \"2016-07-03T00:00:00\", \"2016-07-04T00:00:00\", \"2016-07-05T00:00:00\", \"2016-07-06T00:00:00\", \"2016-07-07T00:00:00\", \"2016-07-08T00:00:00\", \"2016-07-09T00:00:00\", \"2016-07-10T00:00:00\", \"2016-07-11T00:00:00\", \"2016-07-12T00:00:00\", \"2016-07-13T00:00:00\", \"2016-07-14T00:00:00\", \"2016-07-15T00:00:00\", \"2016-07-16T00:00:00\", \"2016-07-17T00:00:00\", \"2016-07-18T00:00:00\", \"2016-07-19T00:00:00\", \"2016-07-20T00:00:00\", \"2016-07-21T00:00:00\", \"2016-07-22T00:00:00\", \"2016-07-23T00:00:00\", \"2016-07-24T00:00:00\", \"2016-07-25T00:00:00\", \"2016-07-26T00:00:00\", \"2016-07-27T00:00:00\", \"2016-07-28T00:00:00\", \"2016-07-29T00:00:00\", \"2016-07-30T00:00:00\", \"2016-07-31T00:00:00\", \"2016-08-01T00:00:00\", \"2016-08-02T00:00:00\", \"2016-08-03T00:00:00\", \"2016-08-04T00:00:00\", \"2016-08-05T00:00:00\", \"2016-08-06T00:00:00\", \"2016-08-07T00:00:00\", \"2016-08-08T00:00:00\", \"2016-08-09T00:00:00\", \"2016-08-10T00:00:00\", \"2016-08-11T00:00:00\", \"2016-08-12T00:00:00\", \"2016-08-13T00:00:00\", \"2016-08-14T00:00:00\", \"2016-08-15T00:00:00\", \"2016-08-16T00:00:00\", \"2016-08-17T00:00:00\", \"2016-08-18T00:00:00\", \"2016-08-19T00:00:00\", \"2016-08-20T00:00:00\", \"2016-08-21T00:00:00\", \"2016-08-22T00:00:00\", \"2016-08-23T00:00:00\", \"2016-08-24T00:00:00\", \"2016-08-25T00:00:00\", \"2016-08-26T00:00:00\", \"2016-08-27T00:00:00\", \"2016-08-28T00:00:00\", \"2016-08-29T00:00:00\", \"2016-08-30T00:00:00\", \"2016-08-31T00:00:00\", \"2016-09-01T00:00:00\", \"2016-09-02T00:00:00\", \"2016-09-03T00:00:00\", \"2016-09-04T00:00:00\", \"2016-09-05T00:00:00\", \"2016-09-06T00:00:00\", \"2016-09-07T00:00:00\", \"2016-09-08T00:00:00\", \"2016-09-09T00:00:00\", \"2016-09-10T00:00:00\", \"2016-09-11T00:00:00\", \"2016-09-12T00:00:00\", \"2016-09-13T00:00:00\", \"2016-09-14T00:00:00\", \"2016-09-15T00:00:00\", \"2016-09-16T00:00:00\", \"2016-09-17T00:00:00\", \"2016-09-18T00:00:00\", \"2016-09-19T00:00:00\", \"2016-09-20T00:00:00\", \"2016-09-21T00:00:00\", \"2016-09-22T00:00:00\", \"2016-09-23T00:00:00\", \"2016-09-24T00:00:00\", \"2016-09-25T00:00:00\", \"2016-09-26T00:00:00\", \"2016-09-27T00:00:00\", \"2016-09-28T00:00:00\", \"2016-09-29T00:00:00\", \"2016-09-30T00:00:00\", \"2016-10-08T00:00:00\", \"2016-10-11T00:00:00\", \"2016-10-12T00:00:00\", \"2016-10-13T00:00:00\", \"2016-10-14T00:00:00\", \"2016-10-15T00:00:00\", \"2016-10-18T00:00:00\", \"2016-10-21T00:00:00\", \"2016-10-25T00:00:00\", \"2016-10-26T00:00:00\", \"2016-10-27T00:00:00\", \"2016-11-03T00:00:00\", \"2016-11-04T00:00:00\", \"2016-11-05T00:00:00\", \"2016-11-07T00:00:00\", \"2016-11-09T00:00:00\", \"2016-11-10T00:00:00\", \"2016-11-12T00:00:00\", \"2016-11-13T00:00:00\", \"2016-11-14T00:00:00\", \"2016-11-15T00:00:00\", \"2016-11-16T00:00:00\", \"2016-11-18T00:00:00\", \"2016-11-21T00:00:00\", \"2016-11-23T00:00:00\", \"2016-11-24T00:00:00\", \"2016-11-25T00:00:00\", \"2016-11-28T00:00:00\", \"2016-11-29T00:00:00\", \"2016-11-30T00:00:00\", \"2016-12-01T00:00:00\", \"2016-12-02T00:00:00\", \"2016-12-03T00:00:00\", \"2016-12-04T00:00:00\", \"2016-12-05T00:00:00\", \"2016-12-06T00:00:00\", \"2016-12-07T00:00:00\", \"2016-12-08T00:00:00\", \"2016-12-09T00:00:00\", \"2016-12-10T00:00:00\", \"2016-12-11T00:00:00\", \"2016-12-12T00:00:00\", \"2016-12-13T00:00:00\", \"2016-12-14T00:00:00\", \"2016-12-15T00:00:00\", \"2016-12-16T00:00:00\", \"2016-12-17T00:00:00\", \"2016-12-18T00:00:00\", \"2016-12-19T00:00:00\", \"2016-12-20T00:00:00\", \"2016-12-21T00:00:00\", \"2016-12-22T00:00:00\", \"2016-12-23T00:00:00\", \"2016-12-24T00:00:00\", \"2016-12-25T00:00:00\", \"2016-12-26T00:00:00\", \"2016-12-27T00:00:00\", \"2016-12-28T00:00:00\", \"2016-12-29T00:00:00\", \"2016-12-30T00:00:00\", \"2016-12-31T00:00:00\", \"2017-01-04T00:00:00\", \"2017-01-05T00:00:00\", \"2017-01-09T00:00:00\", \"2017-01-11T00:00:00\", \"2017-01-17T00:00:00\", \"2017-01-19T00:00:00\", \"2017-01-20T00:00:00\", \"2017-01-23T00:00:00\", \"2017-01-25T00:00:00\", \"2017-01-26T00:00:00\", \"2017-01-27T00:00:00\", \"2017-01-29T00:00:00\", \"2017-01-30T00:00:00\", \"2017-01-31T00:00:00\", \"2017-02-01T00:00:00\", \"2017-02-02T00:00:00\", \"2017-02-03T00:00:00\", \"2017-02-04T00:00:00\", \"2017-02-05T00:00:00\", \"2017-02-06T00:00:00\", \"2017-02-07T00:00:00\", \"2017-02-08T00:00:00\", \"2017-02-09T00:00:00\", \"2017-02-10T00:00:00\", \"2017-02-11T00:00:00\", \"2017-02-12T00:00:00\", \"2017-02-13T00:00:00\", \"2017-02-14T00:00:00\", \"2017-02-15T00:00:00\", \"2017-02-16T00:00:00\", \"2017-02-17T00:00:00\", \"2017-02-18T00:00:00\", \"2017-02-19T00:00:00\", \"2017-02-20T00:00:00\", \"2017-02-21T00:00:00\", \"2017-02-22T00:00:00\", \"2017-02-23T00:00:00\", \"2017-02-24T00:00:00\", \"2017-02-25T00:00:00\", \"2017-02-26T00:00:00\", \"2017-02-27T00:00:00\", \"2017-02-28T00:00:00\", \"2017-03-01T00:00:00\", \"2017-03-02T00:00:00\", \"2017-03-03T00:00:00\", \"2017-03-04T00:00:00\", \"2017-03-05T00:00:00\", \"2017-03-06T00:00:00\", \"2017-03-07T00:00:00\", \"2017-03-08T00:00:00\", \"2017-03-09T00:00:00\", \"2017-03-10T00:00:00\", \"2017-03-11T00:00:00\", \"2017-03-12T00:00:00\", \"2017-03-13T00:00:00\", \"2017-03-14T00:00:00\", \"2017-03-15T00:00:00\", \"2017-03-16T00:00:00\", \"2017-03-17T00:00:00\", \"2017-03-18T00:00:00\", \"2017-03-19T00:00:00\", \"2017-03-20T00:00:00\", \"2017-03-21T00:00:00\", \"2017-03-22T00:00:00\", \"2017-03-23T00:00:00\", \"2017-03-24T00:00:00\", \"2017-03-25T00:00:00\", \"2017-03-26T00:00:00\", \"2017-03-27T00:00:00\", \"2017-03-28T00:00:00\", \"2017-03-29T00:00:00\", \"2017-03-30T00:00:00\", \"2017-03-31T00:00:00\", \"2017-04-01T00:00:00\", \"2017-04-02T00:00:00\", \"2017-04-03T00:00:00\", \"2017-04-04T00:00:00\", \"2017-04-05T00:00:00\", \"2017-04-06T00:00:00\", \"2017-04-07T00:00:00\", \"2017-04-08T00:00:00\", \"2017-04-09T00:00:00\", \"2017-04-10T00:00:00\", \"2017-04-11T00:00:00\", \"2017-04-12T00:00:00\", \"2017-04-13T00:00:00\", \"2017-04-14T00:00:00\", \"2017-04-15T00:00:00\", \"2017-04-16T00:00:00\", \"2017-04-17T00:00:00\", \"2017-04-18T00:00:00\", \"2017-04-19T00:00:00\", \"2017-04-20T00:00:00\", \"2017-04-21T00:00:00\", \"2017-04-22T00:00:00\", \"2017-04-23T00:00:00\", \"2017-04-24T00:00:00\", \"2017-04-25T00:00:00\", \"2017-04-26T00:00:00\", \"2017-04-27T00:00:00\", \"2017-04-28T00:00:00\", \"2017-04-29T00:00:00\", \"2017-04-30T00:00:00\", \"2017-05-01T00:00:00\", \"2017-05-02T00:00:00\", \"2017-05-03T00:00:00\", \"2017-05-04T00:00:00\", \"2017-05-05T00:00:00\", \"2017-05-06T00:00:00\", \"2017-05-07T00:00:00\", \"2017-05-08T00:00:00\", \"2017-05-09T00:00:00\", \"2017-05-10T00:00:00\", \"2017-05-11T00:00:00\", \"2017-05-12T00:00:00\", \"2017-05-13T00:00:00\", \"2017-05-14T00:00:00\", \"2017-05-15T00:00:00\", \"2017-05-16T00:00:00\", \"2017-05-17T00:00:00\", \"2017-05-18T00:00:00\", \"2017-05-19T00:00:00\", \"2017-05-20T00:00:00\", \"2017-05-21T00:00:00\", \"2017-05-22T00:00:00\", \"2017-05-23T00:00:00\", \"2017-05-24T00:00:00\", \"2017-05-25T00:00:00\", \"2017-05-26T00:00:00\", \"2017-05-27T00:00:00\", \"2017-05-28T00:00:00\", \"2017-05-29T00:00:00\", \"2017-05-30T00:00:00\", \"2017-05-31T00:00:00\", \"2017-06-01T00:00:00\", \"2017-06-02T00:00:00\", \"2017-06-03T00:00:00\", \"2017-06-04T00:00:00\", \"2017-06-05T00:00:00\", \"2017-06-06T00:00:00\", \"2017-06-07T00:00:00\", \"2017-06-08T00:00:00\", \"2017-06-09T00:00:00\", \"2017-06-10T00:00:00\", \"2017-06-11T00:00:00\", \"2017-06-12T00:00:00\", \"2017-06-13T00:00:00\", \"2017-06-14T00:00:00\", \"2017-06-15T00:00:00\", \"2017-06-16T00:00:00\", \"2017-06-17T00:00:00\", \"2017-06-18T00:00:00\", \"2017-06-19T00:00:00\", \"2017-06-20T00:00:00\", \"2017-06-21T00:00:00\", \"2017-06-22T00:00:00\", \"2017-06-23T00:00:00\", \"2017-06-24T00:00:00\", \"2017-06-25T00:00:00\", \"2017-06-26T00:00:00\", \"2017-06-27T00:00:00\", \"2017-06-28T00:00:00\", \"2017-06-29T00:00:00\", \"2017-06-30T00:00:00\", \"2017-07-01T00:00:00\", \"2017-07-02T00:00:00\", \"2017-07-03T00:00:00\", \"2017-07-04T00:00:00\", \"2017-07-05T00:00:00\", \"2017-07-06T00:00:00\", \"2017-07-07T00:00:00\", \"2017-07-08T00:00:00\", \"2017-07-09T00:00:00\", \"2017-07-10T00:00:00\", \"2017-07-11T00:00:00\", \"2017-07-12T00:00:00\", \"2017-07-13T00:00:00\", \"2017-07-14T00:00:00\", \"2017-07-15T00:00:00\", \"2017-07-16T00:00:00\", \"2017-07-17T00:00:00\", \"2017-07-18T00:00:00\", \"2017-07-19T00:00:00\", \"2017-07-20T00:00:00\", \"2017-07-21T00:00:00\", \"2017-07-22T00:00:00\", \"2017-07-23T00:00:00\", \"2017-07-24T00:00:00\", \"2017-07-25T00:00:00\", \"2017-07-26T00:00:00\", \"2017-07-27T00:00:00\", \"2017-07-28T00:00:00\", \"2017-07-29T00:00:00\", \"2017-07-30T00:00:00\", \"2017-07-31T00:00:00\", \"2017-08-01T00:00:00\", \"2017-08-02T00:00:00\", \"2017-08-03T00:00:00\", \"2017-08-04T00:00:00\", \"2017-08-05T00:00:00\", \"2017-08-06T00:00:00\", \"2017-08-07T00:00:00\", \"2017-08-08T00:00:00\", \"2017-08-09T00:00:00\", \"2017-08-10T00:00:00\", \"2017-08-11T00:00:00\", \"2017-08-12T00:00:00\", \"2017-08-13T00:00:00\", \"2017-08-14T00:00:00\", \"2017-08-15T00:00:00\", \"2017-08-16T00:00:00\", \"2017-08-17T00:00:00\", \"2017-08-18T00:00:00\", \"2017-08-19T00:00:00\", \"2017-08-20T00:00:00\", \"2017-08-21T00:00:00\", \"2017-08-22T00:00:00\", \"2017-08-23T00:00:00\", \"2017-08-24T00:00:00\", \"2017-08-25T00:00:00\", \"2017-08-26T00:00:00\", \"2017-08-27T00:00:00\", \"2017-08-28T00:00:00\", \"2017-08-29T00:00:00\", \"2017-08-30T00:00:00\", \"2017-08-31T00:00:00\", \"2017-09-01T00:00:00\", \"2017-09-02T00:00:00\", \"2017-09-03T00:00:00\", \"2017-09-04T00:00:00\", \"2017-09-05T00:00:00\", \"2017-09-06T00:00:00\", \"2017-09-07T00:00:00\", \"2017-09-08T00:00:00\", \"2017-09-09T00:00:00\", \"2017-09-10T00:00:00\", \"2017-09-11T00:00:00\", \"2017-09-12T00:00:00\", \"2017-09-13T00:00:00\", \"2017-09-14T00:00:00\", \"2017-09-15T00:00:00\", \"2017-09-16T00:00:00\", \"2017-09-17T00:00:00\", \"2017-09-18T00:00:00\", \"2017-09-19T00:00:00\", \"2017-09-20T00:00:00\", \"2017-09-21T00:00:00\", \"2017-09-22T00:00:00\", \"2017-09-23T00:00:00\", \"2017-09-24T00:00:00\", \"2017-09-25T00:00:00\", \"2017-09-26T00:00:00\", \"2017-09-27T00:00:00\", \"2017-09-28T00:00:00\", \"2017-09-29T00:00:00\", \"2017-09-30T00:00:00\", \"2017-10-01T00:00:00\", \"2017-10-02T00:00:00\", \"2017-10-03T00:00:00\", \"2017-10-04T00:00:00\", \"2017-10-05T00:00:00\", \"2017-10-06T00:00:00\", \"2017-10-07T00:00:00\", \"2017-10-08T00:00:00\", \"2017-10-09T00:00:00\", \"2017-10-10T00:00:00\", \"2017-10-11T00:00:00\", \"2017-10-12T00:00:00\", \"2017-10-13T00:00:00\", \"2017-10-14T00:00:00\", \"2017-10-15T00:00:00\", \"2017-10-16T00:00:00\", \"2017-10-17T00:00:00\", \"2017-10-18T00:00:00\", \"2017-10-19T00:00:00\", \"2017-10-20T00:00:00\", \"2017-10-21T00:00:00\", \"2017-10-22T00:00:00\", \"2017-10-23T00:00:00\", \"2017-10-24T00:00:00\", \"2017-10-25T00:00:00\", \"2017-10-26T00:00:00\", \"2017-10-27T00:00:00\", \"2017-10-28T00:00:00\", \"2017-10-29T00:00:00\", \"2017-10-30T00:00:00\", \"2017-10-31T00:00:00\", \"2017-11-01T00:00:00\", \"2017-11-02T00:00:00\", \"2017-11-03T00:00:00\", \"2017-11-04T00:00:00\", \"2017-11-05T00:00:00\", \"2017-11-06T00:00:00\", \"2017-11-07T00:00:00\", \"2017-11-08T00:00:00\", \"2017-11-09T00:00:00\", \"2017-11-10T00:00:00\", \"2017-11-11T00:00:00\", \"2017-11-12T00:00:00\", \"2017-11-13T00:00:00\", \"2017-11-14T00:00:00\", \"2017-11-15T00:00:00\", \"2017-11-16T00:00:00\", \"2017-11-17T00:00:00\", \"2017-11-18T00:00:00\", \"2017-11-19T00:00:00\", \"2017-11-20T00:00:00\", \"2017-11-21T00:00:00\", \"2017-11-22T00:00:00\", \"2017-11-23T00:00:00\", \"2017-11-24T00:00:00\", \"2017-11-25T00:00:00\", \"2017-11-26T00:00:00\", \"2017-11-27T00:00:00\", \"2017-11-28T00:00:00\", \"2017-11-29T00:00:00\", \"2017-11-30T00:00:00\", \"2017-12-01T00:00:00\", \"2017-12-02T00:00:00\", \"2017-12-03T00:00:00\", \"2017-12-04T00:00:00\", \"2017-12-05T00:00:00\", \"2017-12-06T00:00:00\", \"2017-12-07T00:00:00\", \"2017-12-08T00:00:00\", \"2017-12-09T00:00:00\", \"2017-12-10T00:00:00\", \"2017-12-11T00:00:00\", \"2017-12-12T00:00:00\", \"2017-12-13T00:00:00\", \"2017-12-14T00:00:00\", \"2017-12-15T00:00:00\", \"2017-12-16T00:00:00\", \"2017-12-17T00:00:00\", \"2017-12-18T00:00:00\", \"2017-12-19T00:00:00\", \"2017-12-20T00:00:00\", \"2017-12-21T00:00:00\", \"2017-12-22T00:00:00\", \"2017-12-23T00:00:00\", \"2017-12-24T00:00:00\", \"2017-12-25T00:00:00\", \"2017-12-26T00:00:00\", \"2017-12-27T00:00:00\", \"2017-12-28T00:00:00\", \"2017-12-29T00:00:00\", \"2017-12-30T00:00:00\", \"2017-12-31T00:00:00\", \"2018-01-01T00:00:00\", \"2018-01-02T00:00:00\", \"2018-01-03T00:00:00\", \"2018-01-04T00:00:00\", \"2018-01-05T00:00:00\", \"2018-01-06T00:00:00\", \"2018-01-07T00:00:00\", \"2018-01-08T00:00:00\", \"2018-01-09T00:00:00\", \"2018-01-10T00:00:00\", \"2018-01-11T00:00:00\", \"2018-01-12T00:00:00\", \"2018-01-13T00:00:00\", \"2018-01-14T00:00:00\", \"2018-01-15T00:00:00\", \"2018-01-16T00:00:00\", \"2018-01-17T00:00:00\", \"2018-01-18T00:00:00\", \"2018-01-19T00:00:00\", \"2018-01-20T00:00:00\", \"2018-01-21T00:00:00\", \"2018-01-22T00:00:00\", \"2018-01-23T00:00:00\", \"2018-01-24T00:00:00\", \"2018-01-25T00:00:00\", \"2018-01-26T00:00:00\", \"2018-01-27T00:00:00\", \"2018-01-28T00:00:00\", \"2018-01-29T00:00:00\", \"2018-01-30T00:00:00\", \"2018-01-31T00:00:00\", \"2018-02-01T00:00:00\", \"2018-02-02T00:00:00\", \"2018-02-03T00:00:00\", \"2018-02-04T00:00:00\", \"2018-02-05T00:00:00\", \"2018-02-06T00:00:00\", \"2018-02-07T00:00:00\", \"2018-02-08T00:00:00\", \"2018-02-09T00:00:00\", \"2018-02-10T00:00:00\", \"2018-02-11T00:00:00\", \"2018-02-12T00:00:00\", \"2018-02-13T00:00:00\", \"2018-02-14T00:00:00\", \"2018-02-15T00:00:00\", \"2018-02-16T00:00:00\", \"2018-02-17T00:00:00\", \"2018-02-18T00:00:00\", \"2018-02-19T00:00:00\", \"2018-02-20T00:00:00\", \"2018-02-21T00:00:00\", \"2018-02-22T00:00:00\", \"2018-02-23T00:00:00\", \"2018-02-24T00:00:00\", \"2018-02-25T00:00:00\", \"2018-02-26T00:00:00\", \"2018-02-27T00:00:00\", \"2018-02-28T00:00:00\", \"2018-03-01T00:00:00\", \"2018-03-02T00:00:00\", \"2018-03-03T00:00:00\", \"2018-03-04T00:00:00\", \"2018-03-05T00:00:00\", \"2018-03-06T00:00:00\", \"2018-03-07T00:00:00\", \"2018-03-08T00:00:00\", \"2018-03-09T00:00:00\", \"2018-03-10T00:00:00\", \"2018-03-11T00:00:00\", \"2018-03-12T00:00:00\", \"2018-03-13T00:00:00\", \"2018-03-14T00:00:00\", \"2018-03-15T00:00:00\", \"2018-03-16T00:00:00\", \"2018-03-17T00:00:00\", \"2018-03-18T00:00:00\", \"2018-03-19T00:00:00\", \"2018-03-20T00:00:00\", \"2018-03-21T00:00:00\", \"2018-03-22T00:00:00\", \"2018-03-23T00:00:00\", \"2018-03-24T00:00:00\", \"2018-03-25T00:00:00\", \"2018-03-26T00:00:00\", \"2018-03-27T00:00:00\", \"2018-03-28T00:00:00\", \"2018-03-29T00:00:00\", \"2018-03-30T00:00:00\", \"2018-03-31T00:00:00\", \"2018-04-01T00:00:00\", \"2018-04-02T00:00:00\", \"2018-04-03T00:00:00\", \"2018-04-04T00:00:00\", \"2018-04-05T00:00:00\", \"2018-04-06T00:00:00\", \"2018-04-07T00:00:00\", \"2018-04-08T00:00:00\", \"2018-04-09T00:00:00\", \"2018-04-10T00:00:00\", \"2018-04-11T00:00:00\", \"2018-04-12T00:00:00\", \"2018-04-13T00:00:00\", \"2018-04-14T00:00:00\", \"2018-04-15T00:00:00\", \"2018-04-16T00:00:00\", \"2018-04-17T00:00:00\", \"2018-04-18T00:00:00\", \"2018-04-19T00:00:00\", \"2018-04-20T00:00:00\", \"2018-04-21T00:00:00\", \"2018-04-22T00:00:00\", \"2018-04-23T00:00:00\", \"2018-04-24T00:00:00\", \"2018-04-25T00:00:00\", \"2018-04-26T00:00:00\", \"2018-04-27T00:00:00\", \"2018-04-28T00:00:00\", \"2018-04-29T00:00:00\", \"2018-04-30T00:00:00\", \"2018-05-01T00:00:00\", \"2018-05-02T00:00:00\", \"2018-05-03T00:00:00\", \"2018-05-04T00:00:00\", \"2018-05-05T00:00:00\", \"2018-05-06T00:00:00\", \"2018-05-07T00:00:00\", \"2018-05-08T00:00:00\", \"2018-05-09T00:00:00\", \"2018-05-10T00:00:00\", \"2018-05-11T00:00:00\", \"2018-05-12T00:00:00\", \"2018-05-13T00:00:00\", \"2018-05-14T00:00:00\", \"2018-05-15T00:00:00\", \"2018-05-16T00:00:00\", \"2018-05-17T00:00:00\", \"2018-05-18T00:00:00\", \"2018-05-19T00:00:00\", \"2018-05-20T00:00:00\", \"2018-05-21T00:00:00\", \"2018-05-22T00:00:00\", \"2018-05-23T00:00:00\", \"2018-05-24T00:00:00\", \"2018-05-25T00:00:00\", \"2018-05-26T00:00:00\", \"2018-05-27T00:00:00\", \"2018-05-28T00:00:00\", \"2018-05-29T00:00:00\", \"2018-05-30T00:00:00\", \"2018-05-31T00:00:00\", \"2018-06-01T00:00:00\", \"2018-06-02T00:00:00\", \"2018-06-03T00:00:00\", \"2018-06-04T00:00:00\", \"2018-06-05T00:00:00\", \"2018-06-06T00:00:00\", \"2018-06-07T00:00:00\", \"2018-06-08T00:00:00\", \"2018-06-09T00:00:00\", \"2018-06-10T00:00:00\", \"2018-06-11T00:00:00\", \"2018-06-12T00:00:00\", \"2018-06-13T00:00:00\", \"2018-06-14T00:00:00\", \"2018-06-15T00:00:00\", \"2018-06-16T00:00:00\", \"2018-06-17T00:00:00\", \"2018-06-18T00:00:00\", \"2018-06-19T00:00:00\", \"2018-06-20T00:00:00\", \"2018-06-21T00:00:00\", \"2018-06-22T00:00:00\", \"2018-06-23T00:00:00\", \"2018-06-24T00:00:00\", \"2018-06-25T00:00:00\", \"2018-06-26T00:00:00\", \"2018-06-27T00:00:00\", \"2018-06-28T00:00:00\", \"2018-06-29T00:00:00\", \"2018-06-30T00:00:00\", \"2018-07-01T00:00:00\", \"2018-07-02T00:00:00\", \"2018-07-03T00:00:00\", \"2018-07-04T00:00:00\", \"2018-07-05T00:00:00\", \"2018-07-06T00:00:00\", \"2018-07-07T00:00:00\", \"2018-07-08T00:00:00\", \"2018-07-09T00:00:00\", \"2018-07-10T00:00:00\", \"2018-07-11T00:00:00\", \"2018-07-12T00:00:00\", \"2018-07-13T00:00:00\", \"2018-07-14T00:00:00\", \"2018-07-15T00:00:00\", \"2018-07-16T00:00:00\", \"2018-07-17T00:00:00\", \"2018-07-18T00:00:00\", \"2018-07-19T00:00:00\", \"2018-07-20T00:00:00\", \"2018-07-21T00:00:00\", \"2018-07-22T00:00:00\", \"2018-07-23T00:00:00\", \"2018-07-24T00:00:00\", \"2018-07-25T00:00:00\", \"2018-07-26T00:00:00\", \"2018-07-27T00:00:00\", \"2018-07-28T00:00:00\", \"2018-07-29T00:00:00\", \"2018-07-30T00:00:00\", \"2018-07-31T00:00:00\", \"2018-08-01T00:00:00\", \"2018-08-02T00:00:00\", \"2018-08-03T00:00:00\", \"2018-08-04T00:00:00\", \"2018-08-05T00:00:00\", \"2018-08-06T00:00:00\", \"2018-08-07T00:00:00\", \"2018-08-08T00:00:00\", \"2018-08-09T00:00:00\", \"2018-08-10T00:00:00\", \"2018-08-11T00:00:00\", \"2018-08-12T00:00:00\", \"2018-08-13T00:00:00\", \"2018-08-14T00:00:00\", \"2018-08-15T00:00:00\", \"2018-08-16T00:00:00\", \"2018-08-17T00:00:00\", \"2018-08-18T00:00:00\", \"2018-08-19T00:00:00\", \"2018-08-20T00:00:00\", \"2018-08-21T00:00:00\", \"2018-08-22T00:00:00\", \"2018-08-23T00:00:00\", \"2018-08-24T00:00:00\", \"2018-08-25T00:00:00\", \"2018-08-26T00:00:00\", \"2018-08-27T00:00:00\", \"2018-08-28T00:00:00\", \"2018-08-29T00:00:00\", \"2018-08-30T00:00:00\", \"2018-08-31T00:00:00\", \"2018-09-01T00:00:00\", \"2018-09-02T00:00:00\", \"2018-09-03T00:00:00\", \"2018-09-04T00:00:00\", \"2018-09-05T00:00:00\", \"2018-09-06T00:00:00\", \"2018-09-07T00:00:00\", \"2018-09-08T00:00:00\", \"2018-09-09T00:00:00\", \"2018-09-10T00:00:00\", \"2018-09-11T00:00:00\", \"2018-09-12T00:00:00\", \"2018-09-13T00:00:00\", \"2018-09-14T00:00:00\", \"2018-09-15T00:00:00\", \"2018-09-16T00:00:00\", \"2018-09-17T00:00:00\", \"2018-09-18T00:00:00\", \"2018-09-19T00:00:00\", \"2018-09-20T00:00:00\", \"2018-09-21T00:00:00\", \"2018-09-22T00:00:00\", \"2018-09-23T00:00:00\", \"2018-09-24T00:00:00\", \"2018-09-25T00:00:00\", \"2018-09-26T00:00:00\", \"2018-09-27T00:00:00\", \"2018-09-28T00:00:00\", \"2018-09-29T00:00:00\", \"2018-09-30T00:00:00\", \"2018-10-01T00:00:00\", \"2018-10-02T00:00:00\", \"2018-10-03T00:00:00\", \"2018-10-04T00:00:00\", \"2018-10-05T00:00:00\", \"2018-10-06T00:00:00\", \"2018-10-07T00:00:00\", \"2018-10-08T00:00:00\", \"2018-10-09T00:00:00\", \"2018-10-10T00:00:00\", \"2018-10-11T00:00:00\", \"2018-10-12T00:00:00\", \"2018-10-13T00:00:00\", \"2018-10-14T00:00:00\", \"2018-10-15T00:00:00\", \"2018-10-16T00:00:00\", \"2018-10-17T00:00:00\", \"2018-10-18T00:00:00\", \"2018-10-19T00:00:00\", \"2018-10-20T00:00:00\", \"2018-10-21T00:00:00\", \"2018-10-22T00:00:00\", \"2018-10-23T00:00:00\", \"2018-10-24T00:00:00\", \"2018-10-25T00:00:00\", \"2018-10-26T00:00:00\", \"2018-10-27T00:00:00\", \"2018-10-28T00:00:00\", \"2018-10-29T00:00:00\", \"2018-10-30T00:00:00\", \"2018-10-31T00:00:00\", \"2018-11-01T00:00:00\", \"2018-11-02T00:00:00\", \"2018-11-03T00:00:00\", \"2018-11-04T00:00:00\", \"2018-11-05T00:00:00\", \"2018-11-06T00:00:00\", \"2018-11-07T00:00:00\", \"2018-11-08T00:00:00\", \"2018-11-09T00:00:00\", \"2018-11-10T00:00:00\", \"2018-11-11T00:00:00\", \"2018-11-12T00:00:00\", \"2018-11-13T00:00:00\", \"2018-11-14T00:00:00\", \"2018-11-15T00:00:00\", \"2018-11-16T00:00:00\", \"2018-11-17T00:00:00\", \"2018-11-18T00:00:00\", \"2018-11-19T00:00:00\", \"2018-11-20T00:00:00\", \"2018-11-21T00:00:00\", \"2018-11-22T00:00:00\", \"2018-11-23T00:00:00\", \"2018-11-24T00:00:00\", \"2018-11-25T00:00:00\", \"2018-11-26T00:00:00\", \"2018-11-27T00:00:00\", \"2018-11-28T00:00:00\", \"2018-11-29T00:00:00\", \"2018-11-30T00:00:00\", \"2018-12-01T00:00:00\", \"2018-12-02T00:00:00\", \"2018-12-03T00:00:00\", \"2018-12-04T00:00:00\", \"2018-12-05T00:00:00\", \"2018-12-06T00:00:00\", \"2018-12-07T00:00:00\", \"2018-12-08T00:00:00\", \"2018-12-09T00:00:00\", \"2018-12-10T00:00:00\", \"2018-12-11T00:00:00\", \"2018-12-12T00:00:00\", \"2018-12-13T00:00:00\", \"2018-12-14T00:00:00\", \"2018-12-15T00:00:00\", \"2018-12-16T00:00:00\", \"2018-12-17T00:00:00\", \"2018-12-18T00:00:00\", \"2018-12-19T00:00:00\", \"2018-12-20T00:00:00\", \"2018-12-21T00:00:00\", \"2018-12-22T00:00:00\", \"2018-12-23T00:00:00\", \"2018-12-24T00:00:00\", \"2018-12-25T00:00:00\", \"2018-12-26T00:00:00\", \"2018-12-27T00:00:00\", \"2018-12-28T00:00:00\", \"2018-12-29T00:00:00\", \"2018-12-30T00:00:00\", \"2018-12-31T00:00:00\", \"2019-01-01T00:00:00\", \"2019-01-02T00:00:00\", \"2019-01-03T00:00:00\", \"2019-01-04T00:00:00\", \"2019-01-05T00:00:00\", \"2019-01-06T00:00:00\", \"2019-01-07T00:00:00\", \"2019-01-08T00:00:00\", \"2019-01-09T00:00:00\", \"2019-01-10T00:00:00\", \"2019-01-11T00:00:00\", \"2019-01-12T00:00:00\", \"2019-01-13T00:00:00\", \"2019-01-14T00:00:00\", \"2019-01-15T00:00:00\", \"2019-01-16T00:00:00\", \"2019-01-17T00:00:00\", \"2019-01-18T00:00:00\", \"2019-01-19T00:00:00\", \"2019-01-20T00:00:00\", \"2019-01-21T00:00:00\", \"2019-01-22T00:00:00\", \"2019-01-23T00:00:00\", \"2019-01-24T00:00:00\", \"2019-01-25T00:00:00\", \"2019-01-26T00:00:00\", \"2019-01-27T00:00:00\", \"2019-01-28T00:00:00\", \"2019-01-29T00:00:00\", \"2019-01-30T00:00:00\", \"2019-01-31T00:00:00\", \"2019-02-01T00:00:00\", \"2019-02-02T00:00:00\", \"2019-02-03T00:00:00\", \"2019-02-04T00:00:00\", \"2019-02-05T00:00:00\", \"2019-02-06T00:00:00\", \"2019-02-07T00:00:00\", \"2019-02-08T00:00:00\", \"2019-02-09T00:00:00\", \"2019-02-10T00:00:00\", \"2019-02-11T00:00:00\", \"2019-02-12T00:00:00\", \"2019-02-13T00:00:00\", \"2019-02-14T00:00:00\", \"2019-02-15T00:00:00\", \"2019-02-16T00:00:00\", \"2019-02-17T00:00:00\", \"2019-02-18T00:00:00\", \"2019-02-19T00:00:00\", \"2019-02-20T00:00:00\", \"2019-02-21T00:00:00\", \"2019-02-22T00:00:00\", \"2019-02-23T00:00:00\", \"2019-02-24T00:00:00\", \"2019-02-25T00:00:00\", \"2019-02-26T00:00:00\", \"2019-02-27T00:00:00\", \"2019-02-28T00:00:00\", \"2019-03-01T00:00:00\", \"2019-03-02T00:00:00\", \"2019-03-03T00:00:00\", \"2019-03-04T00:00:00\", \"2019-03-05T00:00:00\", \"2019-03-06T00:00:00\", \"2019-03-07T00:00:00\", \"2019-03-08T00:00:00\", \"2019-03-09T00:00:00\", \"2019-03-10T00:00:00\", \"2019-03-11T00:00:00\", \"2019-03-12T00:00:00\", \"2019-03-13T00:00:00\", \"2019-03-14T00:00:00\", \"2019-03-15T00:00:00\", \"2019-03-16T00:00:00\", \"2019-03-17T00:00:00\", \"2019-03-18T00:00:00\", \"2019-03-19T00:00:00\", \"2019-03-20T00:00:00\", \"2019-03-21T00:00:00\", \"2019-03-22T00:00:00\", \"2019-03-23T00:00:00\", \"2019-03-24T00:00:00\", \"2019-03-25T00:00:00\", \"2019-03-26T00:00:00\", \"2019-03-27T00:00:00\", \"2019-03-28T00:00:00\", \"2019-03-29T00:00:00\", \"2019-03-30T00:00:00\", \"2019-03-31T00:00:00\", \"2019-04-01T00:00:00\", \"2019-04-02T00:00:00\", \"2019-04-03T00:00:00\", \"2019-04-04T00:00:00\", \"2019-04-05T00:00:00\", \"2019-04-06T00:00:00\", \"2019-04-07T00:00:00\", \"2019-04-08T00:00:00\", \"2019-04-09T00:00:00\", \"2019-04-10T00:00:00\", \"2019-04-11T00:00:00\", \"2019-04-12T00:00:00\", \"2019-04-13T00:00:00\", \"2019-04-14T00:00:00\", \"2019-04-15T00:00:00\", \"2019-04-16T00:00:00\", \"2019-04-17T00:00:00\", \"2019-04-18T00:00:00\", \"2019-04-19T00:00:00\", \"2019-04-20T00:00:00\", \"2019-04-21T00:00:00\", \"2019-04-22T00:00:00\", \"2019-04-23T00:00:00\", \"2019-04-24T00:00:00\", \"2019-04-25T00:00:00\", \"2019-04-26T00:00:00\", \"2019-04-27T00:00:00\", \"2019-04-28T00:00:00\", \"2019-04-29T00:00:00\", \"2019-04-30T00:00:00\", \"2019-05-01T00:00:00\", \"2019-05-02T00:00:00\", \"2019-05-03T00:00:00\", \"2019-05-04T00:00:00\", \"2019-05-05T00:00:00\", \"2019-05-06T00:00:00\", \"2019-05-07T00:00:00\", \"2019-05-08T00:00:00\", \"2019-05-09T00:00:00\", \"2019-05-10T00:00:00\", \"2019-05-11T00:00:00\", \"2019-05-12T00:00:00\", \"2019-05-13T00:00:00\", \"2019-05-14T00:00:00\", \"2019-05-15T00:00:00\", \"2019-05-16T00:00:00\", \"2019-05-17T00:00:00\", \"2019-05-18T00:00:00\", \"2019-05-19T00:00:00\", \"2019-05-20T00:00:00\", \"2019-05-21T00:00:00\", \"2019-05-22T00:00:00\", \"2019-05-23T00:00:00\", \"2019-05-24T00:00:00\", \"2019-05-25T00:00:00\", \"2019-05-26T00:00:00\", \"2019-05-27T00:00:00\", \"2019-05-28T00:00:00\", \"2019-05-29T00:00:00\", \"2019-05-30T00:00:00\", \"2019-05-31T00:00:00\", \"2019-06-01T00:00:00\", \"2019-06-02T00:00:00\", \"2019-06-03T00:00:00\", \"2019-06-04T00:00:00\", \"2019-06-05T00:00:00\", \"2019-06-06T00:00:00\", \"2019-06-07T00:00:00\", \"2019-06-08T00:00:00\", \"2019-06-09T00:00:00\", \"2019-06-10T00:00:00\", \"2019-06-11T00:00:00\", \"2019-06-12T00:00:00\", \"2019-06-13T00:00:00\", \"2019-06-14T00:00:00\", \"2019-06-15T00:00:00\", \"2019-06-16T00:00:00\", \"2019-06-17T00:00:00\", \"2019-06-18T00:00:00\", \"2019-06-19T00:00:00\", \"2019-06-20T00:00:00\", \"2019-06-21T00:00:00\", \"2019-06-22T00:00:00\", \"2019-06-23T00:00:00\", \"2019-06-24T00:00:00\", \"2019-06-25T00:00:00\", \"2019-06-26T00:00:00\", \"2019-06-27T00:00:00\", \"2019-06-28T00:00:00\", \"2019-06-29T00:00:00\", \"2019-06-30T00:00:00\", \"2019-07-01T00:00:00\", \"2019-07-02T00:00:00\", \"2019-07-03T00:00:00\", \"2019-07-04T00:00:00\", \"2019-07-05T00:00:00\", \"2019-07-06T00:00:00\", \"2019-07-07T00:00:00\", \"2019-07-08T00:00:00\", \"2019-07-09T00:00:00\", \"2019-07-10T00:00:00\", \"2019-07-11T00:00:00\", \"2019-07-12T00:00:00\", \"2019-07-13T00:00:00\", \"2019-07-14T00:00:00\", \"2019-07-15T00:00:00\", \"2019-07-16T00:00:00\", \"2019-07-17T00:00:00\", \"2019-07-18T00:00:00\", \"2019-07-19T00:00:00\", \"2019-07-20T00:00:00\", \"2019-07-21T00:00:00\", \"2019-07-22T00:00:00\", \"2019-07-23T00:00:00\", \"2019-07-24T00:00:00\", \"2019-07-25T00:00:00\", \"2019-07-26T00:00:00\", \"2019-07-27T00:00:00\", \"2019-07-28T00:00:00\", \"2019-07-29T00:00:00\", \"2019-07-30T00:00:00\", \"2019-07-31T00:00:00\", \"2019-08-01T00:00:00\", \"2019-08-02T00:00:00\", \"2019-08-03T00:00:00\", \"2019-08-04T00:00:00\", \"2019-08-05T00:00:00\", \"2019-08-06T00:00:00\", \"2019-08-07T00:00:00\", \"2019-08-08T00:00:00\", \"2019-08-09T00:00:00\", \"2019-08-10T00:00:00\", \"2019-08-11T00:00:00\", \"2019-08-12T00:00:00\", \"2019-08-13T00:00:00\", \"2019-08-14T00:00:00\", \"2019-08-15T00:00:00\", \"2019-08-16T00:00:00\", \"2019-08-17T00:00:00\", \"2019-08-18T00:00:00\", \"2019-08-19T00:00:00\", \"2019-08-20T00:00:00\", \"2019-08-21T00:00:00\", \"2019-08-22T00:00:00\", \"2019-08-23T00:00:00\", \"2019-08-24T00:00:00\", \"2019-08-25T00:00:00\", \"2019-08-26T00:00:00\", \"2019-08-27T00:00:00\", \"2019-08-28T00:00:00\", \"2019-08-29T00:00:00\", \"2019-08-30T00:00:00\", \"2019-08-31T00:00:00\", \"2019-09-01T00:00:00\", \"2019-09-02T00:00:00\", \"2019-09-03T00:00:00\", \"2019-09-04T00:00:00\", \"2019-09-05T00:00:00\", \"2019-09-06T00:00:00\", \"2019-09-07T00:00:00\", \"2019-09-08T00:00:00\", \"2019-09-09T00:00:00\", \"2019-09-10T00:00:00\", \"2019-09-11T00:00:00\", \"2019-09-12T00:00:00\", \"2019-09-13T00:00:00\", \"2019-09-14T00:00:00\", \"2019-09-15T00:00:00\", \"2019-09-16T00:00:00\", \"2019-09-17T00:00:00\", \"2019-09-18T00:00:00\", \"2019-09-19T00:00:00\", \"2019-09-20T00:00:00\", \"2019-09-21T00:00:00\", \"2019-09-22T00:00:00\", \"2019-09-23T00:00:00\", \"2019-09-24T00:00:00\", \"2019-09-25T00:00:00\", \"2019-09-26T00:00:00\", \"2019-09-27T00:00:00\", \"2019-09-28T00:00:00\", \"2019-09-29T00:00:00\", \"2019-09-30T00:00:00\", \"2019-10-01T00:00:00\", \"2019-10-02T00:00:00\", \"2019-10-03T00:00:00\", \"2019-10-04T00:00:00\", \"2019-10-05T00:00:00\", \"2019-10-06T00:00:00\", \"2019-10-07T00:00:00\", \"2019-10-08T00:00:00\", \"2019-10-09T00:00:00\", \"2019-10-10T00:00:00\", \"2019-10-11T00:00:00\", \"2019-10-12T00:00:00\", \"2019-10-13T00:00:00\", \"2019-10-14T00:00:00\", \"2019-10-15T00:00:00\", \"2019-10-16T00:00:00\", \"2019-10-17T00:00:00\", \"2019-10-18T00:00:00\", \"2019-10-19T00:00:00\", \"2019-10-20T00:00:00\", \"2019-10-21T00:00:00\", \"2019-10-22T00:00:00\", \"2019-10-23T00:00:00\", \"2019-10-24T00:00:00\", \"2019-10-25T00:00:00\", \"2019-10-26T00:00:00\", \"2019-10-27T00:00:00\", \"2019-10-28T00:00:00\", \"2019-10-29T00:00:00\", \"2019-10-30T00:00:00\", \"2019-10-31T00:00:00\", \"2019-11-01T00:00:00\", \"2019-11-02T00:00:00\", \"2019-11-03T00:00:00\", \"2019-11-04T00:00:00\", \"2019-11-05T00:00:00\", \"2019-11-06T00:00:00\", \"2019-11-07T00:00:00\", \"2019-11-08T00:00:00\", \"2019-11-09T00:00:00\", \"2019-11-10T00:00:00\", \"2019-11-11T00:00:00\", \"2019-11-12T00:00:00\", \"2019-11-13T00:00:00\", \"2019-11-14T00:00:00\", \"2019-11-15T00:00:00\", \"2019-11-16T00:00:00\", \"2019-11-17T00:00:00\", \"2019-11-18T00:00:00\", \"2019-11-19T00:00:00\", \"2019-11-20T00:00:00\", \"2019-11-21T00:00:00\", \"2019-11-22T00:00:00\", \"2019-11-23T00:00:00\", \"2019-11-24T00:00:00\", \"2019-11-25T00:00:00\", \"2019-11-26T00:00:00\", \"2019-11-27T00:00:00\", \"2019-11-28T00:00:00\", \"2019-11-29T00:00:00\", \"2019-11-30T00:00:00\", \"2019-12-01T00:00:00\", \"2019-12-02T00:00:00\", \"2019-12-03T00:00:00\", \"2019-12-04T00:00:00\", \"2019-12-05T00:00:00\", \"2019-12-06T00:00:00\", \"2019-12-07T00:00:00\", \"2019-12-08T00:00:00\", \"2019-12-09T00:00:00\", \"2019-12-10T00:00:00\", \"2019-12-11T00:00:00\", \"2019-12-12T00:00:00\", \"2019-12-13T00:00:00\", \"2019-12-14T00:00:00\", \"2019-12-15T00:00:00\", \"2019-12-16T00:00:00\", \"2019-12-17T00:00:00\", \"2019-12-18T00:00:00\", \"2019-12-19T00:00:00\", \"2019-12-20T00:00:00\", \"2019-12-21T00:00:00\", \"2019-12-22T00:00:00\", \"2019-12-23T00:00:00\", \"2019-12-24T00:00:00\", \"2019-12-25T00:00:00\", \"2019-12-26T00:00:00\", \"2019-12-27T00:00:00\", \"2019-12-28T00:00:00\", \"2019-12-29T00:00:00\", \"2019-12-30T00:00:00\", \"2019-12-31T00:00:00\", \"2020-01-01T00:00:00\", \"2020-01-02T00:00:00\", \"2020-01-03T00:00:00\", \"2020-01-04T00:00:00\", \"2020-01-05T00:00:00\", \"2020-01-06T00:00:00\", \"2020-01-07T00:00:00\", \"2020-01-08T00:00:00\", \"2020-01-09T00:00:00\", \"2020-01-10T00:00:00\", \"2020-01-11T00:00:00\", \"2020-01-12T00:00:00\", \"2020-01-13T00:00:00\", \"2020-01-14T00:00:00\", \"2020-01-15T00:00:00\", \"2020-01-16T00:00:00\", \"2020-01-17T00:00:00\", \"2020-01-18T00:00:00\", \"2020-01-19T00:00:00\", \"2020-01-20T00:00:00\", \"2020-01-21T00:00:00\", \"2020-01-22T00:00:00\", \"2020-01-23T00:00:00\", \"2020-01-24T00:00:00\", \"2020-01-25T00:00:00\", \"2020-01-26T00:00:00\", \"2020-01-27T00:00:00\", \"2020-01-28T00:00:00\", \"2020-01-29T00:00:00\", \"2020-01-30T00:00:00\", \"2020-01-31T00:00:00\", \"2020-02-01T00:00:00\", \"2020-02-02T00:00:00\", \"2020-02-03T00:00:00\", \"2020-02-04T00:00:00\", \"2020-02-05T00:00:00\", \"2020-02-06T00:00:00\", \"2020-02-07T00:00:00\", \"2020-02-08T00:00:00\", \"2020-02-09T00:00:00\", \"2020-02-10T00:00:00\", \"2020-02-11T00:00:00\", \"2020-02-12T00:00:00\", \"2020-02-13T00:00:00\", \"2020-02-14T00:00:00\", \"2020-02-15T00:00:00\", \"2020-02-16T00:00:00\", \"2020-02-17T00:00:00\", \"2020-02-18T00:00:00\", \"2020-02-19T00:00:00\", \"2020-02-20T00:00:00\", \"2020-02-21T00:00:00\", \"2020-02-22T00:00:00\", \"2020-02-23T00:00:00\", \"2020-02-24T00:00:00\", \"2020-02-25T00:00:00\", \"2020-02-26T00:00:00\", \"2020-02-27T00:00:00\", \"2020-02-28T00:00:00\", \"2020-02-29T00:00:00\", \"2020-03-01T00:00:00\", \"2020-03-02T00:00:00\", \"2020-03-03T00:00:00\", \"2020-03-04T00:00:00\", \"2020-03-05T00:00:00\", \"2020-03-06T00:00:00\", \"2020-03-07T00:00:00\", \"2020-03-08T00:00:00\", \"2020-03-09T00:00:00\", \"2020-03-10T00:00:00\", \"2020-03-11T00:00:00\", \"2020-03-12T00:00:00\", \"2020-03-13T00:00:00\", \"2020-03-14T00:00:00\", \"2020-03-15T00:00:00\", \"2020-03-16T00:00:00\", \"2020-03-17T00:00:00\", \"2020-03-18T00:00:00\", \"2020-03-19T00:00:00\", \"2020-03-20T00:00:00\", \"2020-03-22T00:00:00\", \"2020-03-23T00:00:00\", \"2020-03-24T00:00:00\", \"2020-03-25T00:00:00\", \"2020-03-26T00:00:00\", \"2020-03-27T00:00:00\", \"2020-03-28T00:00:00\", \"2020-03-30T00:00:00\", \"2020-03-31T00:00:00\", \"2020-04-01T00:00:00\", \"2020-04-02T00:00:00\", \"2020-04-03T00:00:00\", \"2020-04-04T00:00:00\", \"2020-04-05T00:00:00\", \"2020-04-06T00:00:00\", \"2020-04-07T00:00:00\", \"2020-04-08T00:00:00\", \"2020-04-09T00:00:00\", \"2020-04-10T00:00:00\", \"2020-04-12T00:00:00\", \"2020-04-13T00:00:00\", \"2020-04-14T00:00:00\", \"2020-04-15T00:00:00\", \"2020-04-16T00:00:00\"], \"y\": [1, 1, 2, 2, 2, 1, 1, 1, 2, 2, 4, 1, 1, 1, 2, 2, 2, 1, 3, 2, 1, 2, 2, 1, 1, 3, 5, 3, 2, 1, 1, 1, 3, 2, 3, 2, 3, 2, 1, 1, 1, 2, 1, 1, 1, 2, 3, 1, 1, 2, 6, 2, 1, 1, 2, 1, 1, 1, 2, 1, 1, 1, 1, 2, 2, 2, 1, 2, 1, 13, 4, 3, 2, 4, 2, 1, 1, 2, 1, 3, 4, 12, 2, 5, 5, 2, 6, 2, 3, 4, 2, 1, 4, 2, 1, 1, 1, 2, 1, 4, 4, 3, 2, 3, 7, 3, 1, 2, 1, 1, 1, 3, 1, 2, 1, 1, 1, 4, 2, 2, 1, 1, 1, 1, 1, 1, 1, 2, 1, 1, 1, 1, 1, 1, 1, 2, 2, 1, 1, 1, 1, 1, 3, 1, 1, 5, 6, 2, 1, 1, 2, 1, 2, 3, 1, 5, 1, 2, 1, 1, 2, 2, 4, 4, 5, 6, 1, 2, 1, 1, 1, 4, 2, 1, 3, 1, 1, 3, 2, 2, 3, 4, 3, 1, 1, 3, 2, 7, 1, 3, 5, 7, 3, 3, 2, 1, 5, 3, 1, 2, 1, 1, 1, 4, 3, 2, 2, 4, 4, 1, 4, 4, 2, 1, 2, 8, 6, 5, 1, 1, 1, 1, 1, 2, 1, 1, 2, 2, 2, 1, 1, 2, 4, 15, 20, 7, 15, 32, 25, 21, 52, 39, 31, 1, 1, 1, 15, 31, 31, 26, 28, 10, 16, 22, 12, 34, 37, 22, 8, 4, 10, 18, 20, 22, 12, 4, 8, 32, 29, 36, 32, 30, 8, 11, 11, 43, 26, 32, 33, 15, 9, 49, 48, 33, 33, 33, 13, 8, 14, 33, 1, 1, 1, 1, 1, 1, 3, 1, 2, 1, 18, 1, 5, 6, 14, 25, 44, 246, 71, 79, 174, 210, 168, 152, 147, 49, 40, 201, 134, 150, 181, 127, 24, 37, 103, 132, 149, 138, 100, 22, 40, 108, 75, 89, 81, 58, 14, 7, 78, 53, 56, 90, 36, 12, 16, 41, 33, 45, 43, 39, 23, 23, 46, 59, 53, 64, 28, 15, 14, 44, 80, 92, 88, 58, 24, 34, 20, 51, 55, 60, 53, 34, 47, 112, 66, 92, 64, 42, 32, 22, 78, 76, 99, 61, 80, 27, 27, 48, 75, 72, 56, 61, 27, 27, 55, 62, 62, 94, 69, 1, 3, 2, 3, 6, 1, 1, 1, 5, 2, 1, 1, 1, 1, 1, 3, 1, 1, 1, 2, 2, 3, 1, 2, 1, 1, 1, 3, 3, 25, 80, 132, 37, 43, 87, 99, 95, 77, 70, 15, 31, 71, 42, 64, 53, 47, 30, 26, 46, 51, 50, 23, 20, 20, 6, 14, 23, 29, 40, 36, 20, 1, 1, 1, 2, 8, 3, 3, 1, 1, 4, 2, 1, 8, 13, 116, 29, 4, 1, 18, 70, 16, 3, 2, 6, 3, 17, 7, 3, 50, 51, 36, 26, 8, 68, 15, 2, 24, 107, 11, 1, 50, 20, 74, 58, 54, 27, 33, 69, 51, 118, 61, 68, 26, 28, 129, 102, 123, 94, 72, 54, 27, 135, 121, 70, 60, 51, 58, 40, 119, 175, 361, 197, 138, 36, 45, 77, 104, 96, 90, 66, 13, 28, 47, 51, 53, 60, 26, 14, 17, 22, 229, 252, 171, 151, 60, 80, 129, 148, 110, 104, 118, 86, 50, 77, 126, 155, 102, 111, 48, 48, 138, 121, 83, 122, 110, 46, 40, 90, 82, 102, 136, 76, 37, 43, 93, 47, 36, 41, 69, 22, 30, 82, 152, 144, 131, 110, 46, 34, 77, 153, 144, 148, 600, 103, 101, 202, 185, 132, 91, 89, 30, 56, 142, 141, 126, 148, 150, 14, 58, 109, 104, 81, 93, 50, 20, 37, 76, 65, 75, 122, 61, 22, 57, 74, 66, 107, 99, 43, 24, 68, 95, 74, 86, 91, 68, 36, 30, 69, 65, 59, 79, 79, 25, 32, 79, 80, 65, 90, 87, 30, 39, 64, 73, 58, 55, 51, 19, 28, 55, 61, 62, 39, 28, 5, 22, 51, 49, 62, 57, 34, 24, 22, 38, 50, 78, 102, 39, 20, 34, 50, 61, 74, 76, 63, 42, 51, 83, 109, 121, 103, 88, 46, 66, 136, 90, 78, 83, 99, 29, 64, 111, 80, 71, 84, 72, 40, 29, 75, 78, 67, 65, 95, 37, 50, 102, 115, 117, 73, 79, 36, 38, 77, 85, 99, 84, 66, 27, 31, 58, 103, 100, 83, 49, 22, 19, 48, 59, 74, 84, 50, 28, 30, 76, 58, 69, 70, 62, 33, 30, 95, 122, 92, 91, 92, 34, 24, 122, 99, 131, 56, 59, 28, 40, 81, 104, 96, 109, 79, 29, 74, 147, 107, 96, 82, 163, 35, 34, 95, 92, 88, 121, 100, 24, 29, 53, 51, 54, 43, 42, 21, 7, 1, 30, 15, 27, 23, 27, 25, 25, 36, 51, 73, 45, 18, 33, 81, 56, 65, 79, 46, 24, 49, 62, 91, 92, 60, 43, 20, 24, 69, 77, 56, 74, 71, 21, 39, 117, 78, 76, 73, 59, 22, 32, 40, 64, 56, 93, 63, 20, 42, 60, 42, 71, 53, 64, 29, 30, 65, 83, 93, 78, 86, 13, 39, 109, 82, 137, 112, 85, 39, 23, 52, 51, 99, 79, 57, 24, 39, 47, 95, 64, 60, 44, 18, 19, 78, 55, 57, 73, 68, 34, 28, 53, 53, 75, 130, 23, 12, 6, 22, 37, 43, 40, 31, 18, 14, 60, 79, 32, 38, 26, 21, 23, 49, 51, 74, 52, 55, 19, 29, 56, 69, 60, 54, 65, 14, 20, 82, 62, 68, 69, 57, 21, 43, 12, 38, 50, 74, 53, 19, 39, 77, 49, 68, 41, 41, 12, 33, 48, 56, 60, 78, 76, 26, 32, 28, 52, 38, 56, 36, 19, 31, 53, 58, 75, 75, 87, 28, 49, 75, 114, 129, 93, 51, 14, 55, 71, 44, 113, 77, 110, 48, 46, 66, 89, 76, 71, 71, 32, 28, 63, 70, 73, 84, 117, 50, 80, 289, 152, 115, 152, 175, 52, 76, 126, 87, 145, 90, 73, 17, 18, 77, 77, 84, 89, 59, 25, 29, 71, 61, 59, 75, 62, 19, 26, 44, 69, 43, 49, 46, 15, 29, 17, 31, 38, 34, 28, 26, 31, 40, 53, 42, 108, 50, 21, 27, 42, 69, 51, 102, 65, 21, 42, 101, 108, 92, 90, 73, 42, 44, 91, 128, 113, 111, 82, 35, 53, 140, 125, 90, 126, 111, 52, 52, 78, 89, 79, 86, 91, 53, 75, 101, 116, 120, 96, 70, 35, 42, 59, 117, 83, 85, 78, 26, 45, 138, 125, 108, 104, 110, 69, 40, 95, 77, 117, 92, 74, 22, 46, 80, 82, 81, 89, 58, 30, 34, 84, 82, 67, 88, 108, 31, 33, 86, 91, 225, 349, 214, 76, 71, 114, 154, 115, 127, 119, 68, 86, 123, 113, 148, 133, 126, 35, 37, 106, 123, 158, 124, 120, 44, 67, 194, 169, 305, 183, 135, 44, 47, 85, 107, 117, 104, 74, 48, 22, 31, 9, 9, 29, 40, 18, 48, 62, 28, 75, 83, 63, 20, 47, 91, 108, 138, 151, 121, 46, 69, 218, 337, 429, 261, 170, 65, 77, 165, 169, 170, 164, 113, 60, 54, 82, 127, 187, 118, 131, 32, 75, 132, 123, 173, 218, 111, 44, 61, 130, 136, 110, 139, 116, 38, 34, 189, 144, 131, 132, 114, 45, 47, 160, 189, 105, 107, 123, 49, 48, 115, 134, 127, 116, 108, 44, 69, 146, 232, 290, 242, 166, 68, 82, 110, 150, 176, 188, 150, 81, 86, 171, 171, 231, 155, 299, 75, 53, 168, 200, 284, 185, 144, 77, 105, 156, 145, 124, 213, 127, 47, 58, 106, 114, 40, 42, 25, 13, 10, 15, 32, 50, 41, 50, 28, 38, 66, 135, 87, 99, 214, 67, 49, 38, 83, 122, 129, 87, 28, 54, 101, 118, 95, 122, 129, 40, 78, 160, 173, 219, 135, 304, 102, 107, 336, 200, 132, 141, 112, 37, 56, 107, 119, 107, 122, 140, 37, 36, 115, 142, 113, 112, 81, 40, 77, 80, 123, 105, 102, 92, 53, 61, 96, 96, 113, 101, 68, 26, 42, 91, 121, 59, 57, 83, 35, 46, 93, 132, 112, 78, 71, 38, 54, 45, 76, 89, 74, 45, 19, 35, 89, 320, 172, 95, 70, 29, 51, 106, 100, 95, 127, 123, 38, 41, 81, 77, 102, 91, 116, 27, 44, 81, 80, 121, 130, 73, 32, 71, 82, 85, 140, 116, 61, 52, 51, 81, 128, 261, 184, 150, 54, 73, 213, 292, 287, 248, 184, 83, 78, 165, 154, 182, 150, 141, 65, 82, 121, 156, 135, 117, 96, 48, 72, 136, 182, 197, 145, 131, 37, 60, 117, 142, 174, 113, 107, 46, 46, 114, 206, 152, 121, 143, 53, 55, 143, 140, 140, 312, 169, 162, 80, 149, 192, 155, 149, 128, 40, 63, 153, 156, 183, 158, 175, 53, 82, 141, 157, 163, 137, 89, 51, 46, 181, 144, 133, 128, 98, 46, 49, 88, 120, 109, 80, 106, 46, 64, 107, 70, 90, 82, 95, 32, 53, 83, 92, 90, 133, 132, 59, 66, 134, 153, 176, 166, 617, 94, 73, 67, 120, 91, 79, 93, 31, 27, 33, 12, 5, 11, 19, 3, 26, 27, 26, 15, 23, 25, 10, 10, 31, 41, 64, 60, 51, 21, 21, 38, 52, 79, 45, 46, 13, 7, 39, 39, 52, 51, 40, 15, 34, 57, 67, 108, 121, 231, 72, 33, 60, 46, 64, 54, 35, 19, 22, 32, 54, 26, 24, 21, 9, 15, 19, 28, 27, 15, 7, 7, 12, 14, 8, 18, 19, 14, 4, 10, 28, 15, 13, 17, 9, 3, 13, 19, 8, 16, 14, 8, 1, 2, 3, 6, 15, 10, 5, 5, 7, 11, 6, 12, 3, 2, 2, 7, 5, 4, 3, 7, 2, 3, 6, 3, 2, 6, 1, 2, 3, 2, 6]}],\n",
              "                        {\"font\": {\"size\": 18}, \"shapes\": [{\"line\": {\"color\": \"red\", \"width\": 0.6}, \"type\": \"line\", \"x0\": \"2016-06-23T00:00:00\", \"x1\": \"2016-06-23T00:00:00\", \"xref\": \"x\", \"y0\": 0, \"y1\": 600, \"yref\": \"y\"}, {\"line\": {\"color\": \"red\", \"width\": 0.6}, \"type\": \"line\", \"x0\": \"2016-07-13T00:00:00\", \"x1\": \"2016-07-13T00:00:00\", \"xref\": \"x\", \"y0\": 0, \"y1\": 600, \"yref\": \"y\"}, {\"line\": {\"color\": \"red\", \"width\": 0.6}, \"type\": \"line\", \"x0\": \"2017-03-29T00:00:00\", \"x1\": \"2017-03-29T00:00:00\", \"xref\": \"x\", \"y0\": 0, \"y1\": 600, \"yref\": \"y\"}, {\"line\": {\"color\": \"red\", \"width\": 0.6}, \"type\": \"line\", \"x0\": \"2018-11-25T00:00:00\", \"x1\": \"2018-11-25T00:00:00\", \"xref\": \"x\", \"y0\": 0, \"y1\": 600, \"yref\": \"y\"}, {\"line\": {\"color\": \"red\", \"width\": 0.6}, \"type\": \"line\", \"x0\": \"2017-12-08T00:00:00\", \"x1\": \"2017-12-08T00:00:00\", \"xref\": \"x\", \"y0\": 0, \"y1\": 600, \"yref\": \"y\"}, {\"line\": {\"color\": \"red\", \"width\": 0.6}, \"type\": \"line\", \"x0\": \"2019-06-24T00:00:00\", \"x1\": \"2019-06-24T00:00:00\", \"xref\": \"x\", \"y0\": 0, \"y1\": 600, \"yref\": \"y\"}, {\"line\": {\"color\": \"red\", \"width\": 0.6}, \"type\": \"line\", \"x0\": \"2019-07-24T00:00:00\", \"x1\": \"2019-07-24T00:00:00\", \"xref\": \"x\", \"y0\": 0, \"y1\": 600, \"yref\": \"y\"}, {\"line\": {\"color\": \"red\", \"width\": 0.6}, \"type\": \"line\", \"x0\": \"2019-08-28T00:00:00\", \"x1\": \"2019-08-28T00:00:00\", \"xref\": \"x\", \"y0\": 0, \"y1\": 600, \"yref\": \"y\"}, {\"line\": {\"color\": \"red\", \"width\": 0.6}, \"type\": \"line\", \"x0\": \"2019-10-02T00:00:00\", \"x1\": \"2019-10-02T00:00:00\", \"xref\": \"x\", \"y0\": 0, \"y1\": 600, \"yref\": \"y\"}, {\"line\": {\"color\": \"red\", \"width\": 0.6}, \"type\": \"line\", \"x0\": \"2019-10-19T00:00:00\", \"x1\": \"2019-10-19T00:00:00\", \"xref\": \"x\", \"y0\": 0, \"y1\": 600, \"yref\": \"y\"}, {\"line\": {\"color\": \"red\", \"width\": 0.6}, \"type\": \"line\", \"x0\": \"2020-01-31T00:00:00\", \"x1\": \"2020-01-31T00:00:00\", \"xref\": \"x\", \"y0\": 0, \"y1\": 600, \"yref\": \"y\"}, {\"line\": {\"color\": \"red\", \"width\": 0.6}, \"type\": \"line\", \"x0\": \"2020-10-16T00:00:00\", \"x1\": \"2020-10-16T00:00:00\", \"xref\": \"x\", \"y0\": 0, \"y1\": 600, \"yref\": \"y\"}], \"template\": {\"data\": {\"bar\": [{\"error_x\": {\"color\": \"#2a3f5f\"}, \"error_y\": {\"color\": \"#2a3f5f\"}, \"marker\": {\"line\": {\"color\": \"#E5ECF6\", \"width\": 0.5}}, \"type\": \"bar\"}], \"barpolar\": [{\"marker\": {\"line\": {\"color\": \"#E5ECF6\", \"width\": 0.5}}, \"type\": \"barpolar\"}], \"carpet\": [{\"aaxis\": {\"endlinecolor\": \"#2a3f5f\", \"gridcolor\": \"white\", \"linecolor\": \"white\", \"minorgridcolor\": \"white\", \"startlinecolor\": \"#2a3f5f\"}, \"baxis\": {\"endlinecolor\": \"#2a3f5f\", \"gridcolor\": \"white\", \"linecolor\": \"white\", \"minorgridcolor\": \"white\", \"startlinecolor\": \"#2a3f5f\"}, \"type\": \"carpet\"}], \"choropleth\": [{\"colorbar\": {\"outlinewidth\": 0, \"ticks\": \"\"}, \"type\": \"choropleth\"}], \"contour\": [{\"colorbar\": {\"outlinewidth\": 0, \"ticks\": \"\"}, \"colorscale\": [[0.0, \"#0d0887\"], [0.1111111111111111, \"#46039f\"], [0.2222222222222222, \"#7201a8\"], [0.3333333333333333, \"#9c179e\"], [0.4444444444444444, \"#bd3786\"], [0.5555555555555556, \"#d8576b\"], [0.6666666666666666, \"#ed7953\"], [0.7777777777777778, \"#fb9f3a\"], [0.8888888888888888, \"#fdca26\"], [1.0, \"#f0f921\"]], \"type\": \"contour\"}], \"contourcarpet\": [{\"colorbar\": {\"outlinewidth\": 0, \"ticks\": \"\"}, \"type\": \"contourcarpet\"}], \"heatmap\": [{\"colorbar\": {\"outlinewidth\": 0, \"ticks\": \"\"}, \"colorscale\": [[0.0, \"#0d0887\"], [0.1111111111111111, \"#46039f\"], [0.2222222222222222, \"#7201a8\"], [0.3333333333333333, \"#9c179e\"], [0.4444444444444444, \"#bd3786\"], [0.5555555555555556, \"#d8576b\"], [0.6666666666666666, \"#ed7953\"], [0.7777777777777778, \"#fb9f3a\"], [0.8888888888888888, \"#fdca26\"], [1.0, \"#f0f921\"]], \"type\": \"heatmap\"}], \"heatmapgl\": [{\"colorbar\": {\"outlinewidth\": 0, \"ticks\": \"\"}, \"colorscale\": [[0.0, \"#0d0887\"], [0.1111111111111111, \"#46039f\"], [0.2222222222222222, \"#7201a8\"], [0.3333333333333333, \"#9c179e\"], [0.4444444444444444, \"#bd3786\"], [0.5555555555555556, \"#d8576b\"], [0.6666666666666666, \"#ed7953\"], [0.7777777777777778, \"#fb9f3a\"], [0.8888888888888888, \"#fdca26\"], [1.0, \"#f0f921\"]], \"type\": \"heatmapgl\"}], \"histogram\": [{\"marker\": {\"colorbar\": {\"outlinewidth\": 0, \"ticks\": \"\"}}, \"type\": \"histogram\"}], \"histogram2d\": [{\"colorbar\": {\"outlinewidth\": 0, \"ticks\": \"\"}, \"colorscale\": [[0.0, \"#0d0887\"], [0.1111111111111111, \"#46039f\"], [0.2222222222222222, \"#7201a8\"], [0.3333333333333333, \"#9c179e\"], [0.4444444444444444, \"#bd3786\"], [0.5555555555555556, \"#d8576b\"], [0.6666666666666666, \"#ed7953\"], [0.7777777777777778, \"#fb9f3a\"], [0.8888888888888888, \"#fdca26\"], [1.0, \"#f0f921\"]], \"type\": \"histogram2d\"}], \"histogram2dcontour\": [{\"colorbar\": {\"outlinewidth\": 0, \"ticks\": \"\"}, \"colorscale\": [[0.0, \"#0d0887\"], [0.1111111111111111, \"#46039f\"], [0.2222222222222222, \"#7201a8\"], [0.3333333333333333, \"#9c179e\"], [0.4444444444444444, \"#bd3786\"], [0.5555555555555556, \"#d8576b\"], [0.6666666666666666, \"#ed7953\"], [0.7777777777777778, \"#fb9f3a\"], [0.8888888888888888, \"#fdca26\"], [1.0, \"#f0f921\"]], \"type\": \"histogram2dcontour\"}], \"mesh3d\": [{\"colorbar\": {\"outlinewidth\": 0, \"ticks\": \"\"}, \"type\": \"mesh3d\"}], \"parcoords\": [{\"line\": {\"colorbar\": {\"outlinewidth\": 0, \"ticks\": \"\"}}, \"type\": \"parcoords\"}], \"pie\": [{\"automargin\": true, \"type\": \"pie\"}], \"scatter\": [{\"marker\": {\"colorbar\": {\"outlinewidth\": 0, \"ticks\": \"\"}}, \"type\": \"scatter\"}], \"scatter3d\": [{\"line\": {\"colorbar\": {\"outlinewidth\": 0, \"ticks\": \"\"}}, \"marker\": {\"colorbar\": {\"outlinewidth\": 0, \"ticks\": \"\"}}, \"type\": \"scatter3d\"}], \"scattercarpet\": [{\"marker\": {\"colorbar\": {\"outlinewidth\": 0, \"ticks\": \"\"}}, \"type\": \"scattercarpet\"}], \"scattergeo\": [{\"marker\": {\"colorbar\": {\"outlinewidth\": 0, \"ticks\": \"\"}}, \"type\": \"scattergeo\"}], \"scattergl\": [{\"marker\": {\"colorbar\": {\"outlinewidth\": 0, \"ticks\": \"\"}}, \"type\": \"scattergl\"}], \"scattermapbox\": [{\"marker\": {\"colorbar\": {\"outlinewidth\": 0, \"ticks\": \"\"}}, \"type\": \"scattermapbox\"}], \"scatterpolar\": [{\"marker\": {\"colorbar\": {\"outlinewidth\": 0, \"ticks\": \"\"}}, \"type\": \"scatterpolar\"}], \"scatterpolargl\": [{\"marker\": {\"colorbar\": {\"outlinewidth\": 0, \"ticks\": \"\"}}, \"type\": \"scatterpolargl\"}], \"scatterternary\": [{\"marker\": {\"colorbar\": {\"outlinewidth\": 0, \"ticks\": \"\"}}, \"type\": \"scatterternary\"}], \"surface\": [{\"colorbar\": {\"outlinewidth\": 0, \"ticks\": \"\"}, \"colorscale\": [[0.0, \"#0d0887\"], [0.1111111111111111, \"#46039f\"], [0.2222222222222222, \"#7201a8\"], [0.3333333333333333, \"#9c179e\"], [0.4444444444444444, \"#bd3786\"], [0.5555555555555556, \"#d8576b\"], [0.6666666666666666, \"#ed7953\"], [0.7777777777777778, \"#fb9f3a\"], [0.8888888888888888, \"#fdca26\"], [1.0, \"#f0f921\"]], \"type\": \"surface\"}], \"table\": [{\"cells\": {\"fill\": {\"color\": \"#EBF0F8\"}, \"line\": {\"color\": \"white\"}}, \"header\": {\"fill\": {\"color\": \"#C8D4E3\"}, \"line\": {\"color\": \"white\"}}, \"type\": \"table\"}]}, \"layout\": {\"annotationdefaults\": {\"arrowcolor\": \"#2a3f5f\", \"arrowhead\": 0, \"arrowwidth\": 1}, \"coloraxis\": {\"colorbar\": {\"outlinewidth\": 0, \"ticks\": \"\"}}, \"colorscale\": {\"diverging\": [[0, \"#8e0152\"], [0.1, \"#c51b7d\"], [0.2, \"#de77ae\"], [0.3, \"#f1b6da\"], [0.4, \"#fde0ef\"], [0.5, \"#f7f7f7\"], [0.6, \"#e6f5d0\"], [0.7, \"#b8e186\"], [0.8, \"#7fbc41\"], [0.9, \"#4d9221\"], [1, \"#276419\"]], \"sequential\": [[0.0, \"#0d0887\"], [0.1111111111111111, \"#46039f\"], [0.2222222222222222, \"#7201a8\"], [0.3333333333333333, \"#9c179e\"], [0.4444444444444444, \"#bd3786\"], [0.5555555555555556, \"#d8576b\"], [0.6666666666666666, \"#ed7953\"], [0.7777777777777778, \"#fb9f3a\"], [0.8888888888888888, \"#fdca26\"], [1.0, \"#f0f921\"]], \"sequentialminus\": [[0.0, \"#0d0887\"], [0.1111111111111111, \"#46039f\"], [0.2222222222222222, \"#7201a8\"], [0.3333333333333333, \"#9c179e\"], [0.4444444444444444, \"#bd3786\"], [0.5555555555555556, \"#d8576b\"], [0.6666666666666666, \"#ed7953\"], [0.7777777777777778, \"#fb9f3a\"], [0.8888888888888888, \"#fdca26\"], [1.0, \"#f0f921\"]]}, \"colorway\": [\"#636efa\", \"#EF553B\", \"#00cc96\", \"#ab63fa\", \"#FFA15A\", \"#19d3f3\", \"#FF6692\", \"#B6E880\", \"#FF97FF\", \"#FECB52\"], \"font\": {\"color\": \"#2a3f5f\"}, \"geo\": {\"bgcolor\": \"white\", \"lakecolor\": \"white\", \"landcolor\": \"#E5ECF6\", \"showlakes\": true, \"showland\": true, \"subunitcolor\": \"white\"}, \"hoverlabel\": {\"align\": \"left\"}, \"hovermode\": \"closest\", \"mapbox\": {\"style\": \"light\"}, \"paper_bgcolor\": \"white\", \"plot_bgcolor\": \"#E5ECF6\", \"polar\": {\"angularaxis\": {\"gridcolor\": \"white\", \"linecolor\": \"white\", \"ticks\": \"\"}, \"bgcolor\": \"#E5ECF6\", \"radialaxis\": {\"gridcolor\": \"white\", \"linecolor\": \"white\", \"ticks\": \"\"}}, \"scene\": {\"xaxis\": {\"backgroundcolor\": \"#E5ECF6\", \"gridcolor\": \"white\", \"gridwidth\": 2, \"linecolor\": \"white\", \"showbackground\": true, \"ticks\": \"\", \"zerolinecolor\": \"white\"}, \"yaxis\": {\"backgroundcolor\": \"#E5ECF6\", \"gridcolor\": \"white\", \"gridwidth\": 2, \"linecolor\": \"white\", \"showbackground\": true, \"ticks\": \"\", \"zerolinecolor\": \"white\"}, \"zaxis\": {\"backgroundcolor\": \"#E5ECF6\", \"gridcolor\": \"white\", \"gridwidth\": 2, \"linecolor\": \"white\", \"showbackground\": true, \"ticks\": \"\", \"zerolinecolor\": \"white\"}}, \"shapedefaults\": {\"line\": {\"color\": \"#2a3f5f\"}}, \"ternary\": {\"aaxis\": {\"gridcolor\": \"white\", \"linecolor\": \"white\", \"ticks\": \"\"}, \"baxis\": {\"gridcolor\": \"white\", \"linecolor\": \"white\", \"ticks\": \"\"}, \"bgcolor\": \"#E5ECF6\", \"caxis\": {\"gridcolor\": \"white\", \"linecolor\": \"white\", \"ticks\": \"\"}}, \"title\": {\"x\": 0.05}, \"xaxis\": {\"automargin\": true, \"gridcolor\": \"white\", \"linecolor\": \"white\", \"ticks\": \"\", \"title\": {\"standoff\": 15}, \"zerolinecolor\": \"white\", \"zerolinewidth\": 2}, \"yaxis\": {\"automargin\": true, \"gridcolor\": \"white\", \"linecolor\": \"white\", \"ticks\": \"\", \"title\": {\"standoff\": 15}, \"zerolinecolor\": \"white\", \"zerolinewidth\": 2}}}, \"title\": {\"text\": \"Number of quotations change over time\"}, \"xaxis\": {\"rangeselector\": {\"buttons\": [{\"count\": 1, \"label\": \"1m\", \"step\": \"month\", \"stepmode\": \"backward\"}, {\"count\": 7, \"label\": \"1w\", \"step\": \"day\", \"stepmode\": \"todate\"}, {\"count\": 1, \"label\": \"1d\", \"step\": \"day\", \"stepmode\": \"todate\"}, {\"step\": \"all\"}]}, \"rangeslider\": {\"visible\": true}, \"title\": {\"text\": \"Date\"}, \"type\": \"date\"}, \"yaxis\": {\"title\": {\"text\": \"Number of quotations\"}}},\n",
              "                        {\"responsive\": true}\n",
              "                    ).then(function(){\n",
              "                            \n",
              "var gd = document.getElementById('e117930a-2fc7-4ec8-a14d-e13859788944');\n",
              "var x = new MutationObserver(function (mutations, observer) {{\n",
              "        var display = window.getComputedStyle(gd).display;\n",
              "        if (!display || display === 'none') {{\n",
              "            console.log([gd, 'removed!']);\n",
              "            Plotly.purge(gd);\n",
              "            observer.disconnect();\n",
              "        }}\n",
              "}});\n",
              "\n",
              "// Listen for the removal of the full notebook cells\n",
              "var notebookContainer = gd.closest('#notebook-container');\n",
              "if (notebookContainer) {{\n",
              "    x.observe(notebookContainer, {childList: true});\n",
              "}}\n",
              "\n",
              "// Listen for the clearing of the current output cell\n",
              "var outputEl = gd.closest('.output');\n",
              "if (outputEl) {{\n",
              "    x.observe(outputEl, {childList: true});\n",
              "}}\n",
              "\n",
              "                        })\n",
              "                };\n",
              "                \n",
              "            </script>\n",
              "        </div>\n",
              "</body>\n",
              "</html>"
            ]
          },
          "metadata": {}
        }
      ]
    },
    {
      "cell_type": "markdown",
      "source": [
        "In the graph above, we can see the number of quotes related to Brexit over time.\n",
        " The red vertical lines correspond to the following important dates:\n",
        "  - *June 23, 2016* - The UK votes to leave in a referendum. The \"Leave\" camp, which favors the UK's exit from the EU, won with 51.9%, compared to 48.1% for the pro-EU \"Remain\" camp.\n",
        "  - *July 13, 2016* - Theresa May becomes Prime Minister following the resignation of David Cameroon. \n",
        "  - *March 29, 2017* - Warning: two-year countdown to the UK's exit from the European Union. The UK is then negotiating an exit agreement. \n",
        "  - *December 8, 2017* - Birth of the backstop: tensions form on Irish borders. In the event of an exit without an agreement of the United Kingdom from the EU, the 500 kilometers that separate the British province of Northern Ireland from the Republic of Ireland could become a physical border again. As London has decided to leave the single market and the customs union, which are synonymous with freedom of movement and common standards and customs duties, border controls will be necessary. However, this return to a border between the two countries would weaken the Good Friday Peace Agreement, which ended, in 1998, thirty years of armed conflict between nationalists and unionists in Northern Ireland.\n",
        "  - *November 25, 2018*- After a period of calm, the subject of the Backstop resurfaces a second time. \n",
        "  - *June 24, 2019* - May takes a bow: Theresa May submits her resignation, following her failure to pass her plan to withdraw from the European Union.\n",
        "  - *July 24, 2019*- the Johnson era begins: Boris Johnson is elected leader of the Conservative Party the following year, he succeeds Theresa May as Prime Minister, promising a rapid exit of the United Kingdom from the European Union.\n",
        "  - *28 August 2019*- Parliament put on ice for 5 weeks: In August, reports emerged that the new PM had asked the Queen to suspend Parliament for five weeks in the run-up to 31 October.\n",
        "  - *2 October 2019* - Johnson sets out his ‘reasonable compromise’ Brexit deal: By early October, the PM had made a formal proposal to the EU setting out his alternative to the Irish backstop. He claimed his plan was “entirely compatible with maintaining an open border in Northern Ireland”, unlike the “bridge to nowhere” backstop.\n",
        "  - *19 October 2019* - the showdown: Parliament hosted a special session for MPs on Saturday 19 October - less than two weeks before the Halloween Brexit deadline. It was the fifth time Parliament sat on a Saturday for 80 years, with the previous occasions including include the day before the outbreak of the Second World War, the Suez Crisis in 1956 and the Falklands War in 1982, says The Guardian. Johnson was legally obliged by the Benn Act to send a letter to the EU on that date requesting a three-month Brexit extension after Parliament refused to pass his deal.\n",
        "  - *31 January 2020* – departure day: Having won the majority he so desired in December, Johnson passes his withdrawal agreement, paving the way for the UK to leave the EU on 31 January.\n",
        "  - *16 October* – Johnson backs away: after multiple events, Johnson says the UK should “go for the Australia solution” as he announced that it’s time to “get ready\" for the prospect of no-deal Brexit.\n",
        "\n",
        "source: https://www.theweek.co.uk/100284/brexit-timeline-key-dates-in-the-uk-s-break-up-with-the-eu\n"
      ],
      "metadata": {
        "id": "_AAPHka6QPjr"
      }
    },
    {
      "cell_type": "markdown",
      "metadata": {
        "id": "m6qUTnoKgNhW"
      },
      "source": [
        "On the graph, we can see that before the vote on June 23, 2016, the number of citations was very limited. The number started to increase until July 13, 2016, the day Theresa May became PM, before dropping again and entering a stationary phase. \n",
        "We anticipated seeing more dramatic variations in the number of quotes tying in with these specific dates, though we must keep in mind that the plot only considers data from Quotebank, which may not represent what is actually shared by all media outlets.\n"
      ]
    },
    {
      "cell_type": "code",
      "source": [
        "# render a html link to add the plot to our website \n",
        "fig.write_html(\"/content/drive/Shareddrives/Ada/output_plots/keydates_timeseries.html\")"
      ],
      "metadata": {
        "id": "tjyg7n5Qeiqe"
      },
      "execution_count": null,
      "outputs": []
    }
  ]
}