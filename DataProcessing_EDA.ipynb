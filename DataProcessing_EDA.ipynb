{
  "nbformat": 4,
  "nbformat_minor": 0,
  "metadata": {
    "accelerator": "GPU",
    "colab": {
      "name": "DataProcessing_EDA.ipynb",
      "provenance": [],
      "collapsed_sections": [
        "Ssh_im9eH4B7"
      ]
    },
    "kernelspec": {
      "display_name": "Python 3",
      "name": "python3"
    },
    "language_info": {
      "name": "python"
    },
    "widgets": {
      "application/vnd.jupyter.widget-state+json": {
        "d4c0ab9b4f0f4a389add046469729898": {
          "model_module": "@jupyter-widgets/controls",
          "model_name": "HBoxModel",
          "model_module_version": "1.5.0",
          "state": {
            "_view_name": "HBoxView",
            "_dom_classes": [],
            "_model_name": "HBoxModel",
            "_view_module": "@jupyter-widgets/controls",
            "_model_module_version": "1.5.0",
            "_view_count": null,
            "_view_module_version": "1.5.0",
            "box_style": "",
            "layout": "IPY_MODEL_3756c267717b44569c13ef5ce0897987",
            "_model_module": "@jupyter-widgets/controls",
            "children": [
              "IPY_MODEL_1611df31306d488f868d9ba6e6e975be",
              "IPY_MODEL_6157aba09b2c4ba1b4cf908c4631ae90",
              "IPY_MODEL_d10e04ccd879477a873c26c5224e7884"
            ]
          }
        },
        "3756c267717b44569c13ef5ce0897987": {
          "model_module": "@jupyter-widgets/base",
          "model_name": "LayoutModel",
          "model_module_version": "1.2.0",
          "state": {
            "_view_name": "LayoutView",
            "grid_template_rows": null,
            "right": null,
            "justify_content": null,
            "_view_module": "@jupyter-widgets/base",
            "overflow": null,
            "_model_module_version": "1.2.0",
            "_view_count": null,
            "flex_flow": null,
            "width": null,
            "min_width": null,
            "border": null,
            "align_items": null,
            "bottom": null,
            "_model_module": "@jupyter-widgets/base",
            "top": null,
            "grid_column": null,
            "overflow_y": null,
            "overflow_x": null,
            "grid_auto_flow": null,
            "grid_area": null,
            "grid_template_columns": null,
            "flex": null,
            "_model_name": "LayoutModel",
            "justify_items": null,
            "grid_row": null,
            "max_height": null,
            "align_content": null,
            "visibility": null,
            "align_self": null,
            "height": null,
            "min_height": null,
            "padding": null,
            "grid_auto_rows": null,
            "grid_gap": null,
            "max_width": null,
            "order": null,
            "_view_module_version": "1.2.0",
            "grid_template_areas": null,
            "object_position": null,
            "object_fit": null,
            "grid_auto_columns": null,
            "margin": null,
            "display": null,
            "left": null
          }
        },
        "1611df31306d488f868d9ba6e6e975be": {
          "model_module": "@jupyter-widgets/controls",
          "model_name": "HTMLModel",
          "model_module_version": "1.5.0",
          "state": {
            "_view_name": "HTMLView",
            "style": "IPY_MODEL_315a5c7cc1c4432ba0bfbc6401d9948d",
            "_dom_classes": [],
            "description": "",
            "_model_name": "HTMLModel",
            "placeholder": "​",
            "_view_module": "@jupyter-widgets/controls",
            "_model_module_version": "1.5.0",
            "value": "Downloading: 100%",
            "_view_count": null,
            "_view_module_version": "1.5.0",
            "description_tooltip": null,
            "_model_module": "@jupyter-widgets/controls",
            "layout": "IPY_MODEL_b3c83bcb60ea45baafb28f20d897d07e"
          }
        },
        "6157aba09b2c4ba1b4cf908c4631ae90": {
          "model_module": "@jupyter-widgets/controls",
          "model_name": "FloatProgressModel",
          "model_module_version": "1.5.0",
          "state": {
            "_view_name": "ProgressView",
            "style": "IPY_MODEL_1701dee82aa14633a3e4f2ae6a9bad4e",
            "_dom_classes": [],
            "description": "",
            "_model_name": "FloatProgressModel",
            "bar_style": "success",
            "max": 28,
            "_view_module": "@jupyter-widgets/controls",
            "_model_module_version": "1.5.0",
            "value": 28,
            "_view_count": null,
            "_view_module_version": "1.5.0",
            "orientation": "horizontal",
            "min": 0,
            "description_tooltip": null,
            "_model_module": "@jupyter-widgets/controls",
            "layout": "IPY_MODEL_d530344b2ff644bd9a1aa5cc4799afc0"
          }
        },
        "d10e04ccd879477a873c26c5224e7884": {
          "model_module": "@jupyter-widgets/controls",
          "model_name": "HTMLModel",
          "model_module_version": "1.5.0",
          "state": {
            "_view_name": "HTMLView",
            "style": "IPY_MODEL_71ad14bc323d4c6a9fdeb772fb0e95f8",
            "_dom_classes": [],
            "description": "",
            "_model_name": "HTMLModel",
            "placeholder": "​",
            "_view_module": "@jupyter-widgets/controls",
            "_model_module_version": "1.5.0",
            "value": " 28.0/28.0 [00:00&lt;00:00, 622B/s]",
            "_view_count": null,
            "_view_module_version": "1.5.0",
            "description_tooltip": null,
            "_model_module": "@jupyter-widgets/controls",
            "layout": "IPY_MODEL_301988cc4789425290e27f003d2bc790"
          }
        },
        "315a5c7cc1c4432ba0bfbc6401d9948d": {
          "model_module": "@jupyter-widgets/controls",
          "model_name": "DescriptionStyleModel",
          "model_module_version": "1.5.0",
          "state": {
            "_view_name": "StyleView",
            "_model_name": "DescriptionStyleModel",
            "description_width": "",
            "_view_module": "@jupyter-widgets/base",
            "_model_module_version": "1.5.0",
            "_view_count": null,
            "_view_module_version": "1.2.0",
            "_model_module": "@jupyter-widgets/controls"
          }
        },
        "b3c83bcb60ea45baafb28f20d897d07e": {
          "model_module": "@jupyter-widgets/base",
          "model_name": "LayoutModel",
          "model_module_version": "1.2.0",
          "state": {
            "_view_name": "LayoutView",
            "grid_template_rows": null,
            "right": null,
            "justify_content": null,
            "_view_module": "@jupyter-widgets/base",
            "overflow": null,
            "_model_module_version": "1.2.0",
            "_view_count": null,
            "flex_flow": null,
            "width": null,
            "min_width": null,
            "border": null,
            "align_items": null,
            "bottom": null,
            "_model_module": "@jupyter-widgets/base",
            "top": null,
            "grid_column": null,
            "overflow_y": null,
            "overflow_x": null,
            "grid_auto_flow": null,
            "grid_area": null,
            "grid_template_columns": null,
            "flex": null,
            "_model_name": "LayoutModel",
            "justify_items": null,
            "grid_row": null,
            "max_height": null,
            "align_content": null,
            "visibility": null,
            "align_self": null,
            "height": null,
            "min_height": null,
            "padding": null,
            "grid_auto_rows": null,
            "grid_gap": null,
            "max_width": null,
            "order": null,
            "_view_module_version": "1.2.0",
            "grid_template_areas": null,
            "object_position": null,
            "object_fit": null,
            "grid_auto_columns": null,
            "margin": null,
            "display": null,
            "left": null
          }
        },
        "1701dee82aa14633a3e4f2ae6a9bad4e": {
          "model_module": "@jupyter-widgets/controls",
          "model_name": "ProgressStyleModel",
          "model_module_version": "1.5.0",
          "state": {
            "_view_name": "StyleView",
            "_model_name": "ProgressStyleModel",
            "description_width": "",
            "_view_module": "@jupyter-widgets/base",
            "_model_module_version": "1.5.0",
            "_view_count": null,
            "_view_module_version": "1.2.0",
            "bar_color": null,
            "_model_module": "@jupyter-widgets/controls"
          }
        },
        "d530344b2ff644bd9a1aa5cc4799afc0": {
          "model_module": "@jupyter-widgets/base",
          "model_name": "LayoutModel",
          "model_module_version": "1.2.0",
          "state": {
            "_view_name": "LayoutView",
            "grid_template_rows": null,
            "right": null,
            "justify_content": null,
            "_view_module": "@jupyter-widgets/base",
            "overflow": null,
            "_model_module_version": "1.2.0",
            "_view_count": null,
            "flex_flow": null,
            "width": null,
            "min_width": null,
            "border": null,
            "align_items": null,
            "bottom": null,
            "_model_module": "@jupyter-widgets/base",
            "top": null,
            "grid_column": null,
            "overflow_y": null,
            "overflow_x": null,
            "grid_auto_flow": null,
            "grid_area": null,
            "grid_template_columns": null,
            "flex": null,
            "_model_name": "LayoutModel",
            "justify_items": null,
            "grid_row": null,
            "max_height": null,
            "align_content": null,
            "visibility": null,
            "align_self": null,
            "height": null,
            "min_height": null,
            "padding": null,
            "grid_auto_rows": null,
            "grid_gap": null,
            "max_width": null,
            "order": null,
            "_view_module_version": "1.2.0",
            "grid_template_areas": null,
            "object_position": null,
            "object_fit": null,
            "grid_auto_columns": null,
            "margin": null,
            "display": null,
            "left": null
          }
        },
        "71ad14bc323d4c6a9fdeb772fb0e95f8": {
          "model_module": "@jupyter-widgets/controls",
          "model_name": "DescriptionStyleModel",
          "model_module_version": "1.5.0",
          "state": {
            "_view_name": "StyleView",
            "_model_name": "DescriptionStyleModel",
            "description_width": "",
            "_view_module": "@jupyter-widgets/base",
            "_model_module_version": "1.5.0",
            "_view_count": null,
            "_view_module_version": "1.2.0",
            "_model_module": "@jupyter-widgets/controls"
          }
        },
        "301988cc4789425290e27f003d2bc790": {
          "model_module": "@jupyter-widgets/base",
          "model_name": "LayoutModel",
          "model_module_version": "1.2.0",
          "state": {
            "_view_name": "LayoutView",
            "grid_template_rows": null,
            "right": null,
            "justify_content": null,
            "_view_module": "@jupyter-widgets/base",
            "overflow": null,
            "_model_module_version": "1.2.0",
            "_view_count": null,
            "flex_flow": null,
            "width": null,
            "min_width": null,
            "border": null,
            "align_items": null,
            "bottom": null,
            "_model_module": "@jupyter-widgets/base",
            "top": null,
            "grid_column": null,
            "overflow_y": null,
            "overflow_x": null,
            "grid_auto_flow": null,
            "grid_area": null,
            "grid_template_columns": null,
            "flex": null,
            "_model_name": "LayoutModel",
            "justify_items": null,
            "grid_row": null,
            "max_height": null,
            "align_content": null,
            "visibility": null,
            "align_self": null,
            "height": null,
            "min_height": null,
            "padding": null,
            "grid_auto_rows": null,
            "grid_gap": null,
            "max_width": null,
            "order": null,
            "_view_module_version": "1.2.0",
            "grid_template_areas": null,
            "object_position": null,
            "object_fit": null,
            "grid_auto_columns": null,
            "margin": null,
            "display": null,
            "left": null
          }
        },
        "dc9b3a5277644f1eb3463c0dc236d92a": {
          "model_module": "@jupyter-widgets/controls",
          "model_name": "HBoxModel",
          "model_module_version": "1.5.0",
          "state": {
            "_view_name": "HBoxView",
            "_dom_classes": [],
            "_model_name": "HBoxModel",
            "_view_module": "@jupyter-widgets/controls",
            "_model_module_version": "1.5.0",
            "_view_count": null,
            "_view_module_version": "1.5.0",
            "box_style": "",
            "layout": "IPY_MODEL_89cc32a9017344f0a3c8002b17751ee0",
            "_model_module": "@jupyter-widgets/controls",
            "children": [
              "IPY_MODEL_0a5e972d31034437b623c0aac07490fd",
              "IPY_MODEL_1b276362dd1746318af6ff582750f34b",
              "IPY_MODEL_d3b327ddbb634400a61a430dca457654"
            ]
          }
        },
        "89cc32a9017344f0a3c8002b17751ee0": {
          "model_module": "@jupyter-widgets/base",
          "model_name": "LayoutModel",
          "model_module_version": "1.2.0",
          "state": {
            "_view_name": "LayoutView",
            "grid_template_rows": null,
            "right": null,
            "justify_content": null,
            "_view_module": "@jupyter-widgets/base",
            "overflow": null,
            "_model_module_version": "1.2.0",
            "_view_count": null,
            "flex_flow": null,
            "width": null,
            "min_width": null,
            "border": null,
            "align_items": null,
            "bottom": null,
            "_model_module": "@jupyter-widgets/base",
            "top": null,
            "grid_column": null,
            "overflow_y": null,
            "overflow_x": null,
            "grid_auto_flow": null,
            "grid_area": null,
            "grid_template_columns": null,
            "flex": null,
            "_model_name": "LayoutModel",
            "justify_items": null,
            "grid_row": null,
            "max_height": null,
            "align_content": null,
            "visibility": null,
            "align_self": null,
            "height": null,
            "min_height": null,
            "padding": null,
            "grid_auto_rows": null,
            "grid_gap": null,
            "max_width": null,
            "order": null,
            "_view_module_version": "1.2.0",
            "grid_template_areas": null,
            "object_position": null,
            "object_fit": null,
            "grid_auto_columns": null,
            "margin": null,
            "display": null,
            "left": null
          }
        },
        "0a5e972d31034437b623c0aac07490fd": {
          "model_module": "@jupyter-widgets/controls",
          "model_name": "HTMLModel",
          "model_module_version": "1.5.0",
          "state": {
            "_view_name": "HTMLView",
            "style": "IPY_MODEL_93ef19f4479441cea47095fd384f6c8e",
            "_dom_classes": [],
            "description": "",
            "_model_name": "HTMLModel",
            "placeholder": "​",
            "_view_module": "@jupyter-widgets/controls",
            "_model_module_version": "1.5.0",
            "value": "Downloading: 100%",
            "_view_count": null,
            "_view_module_version": "1.5.0",
            "description_tooltip": null,
            "_model_module": "@jupyter-widgets/controls",
            "layout": "IPY_MODEL_c60ecba500054d9caaee746f4aa90548"
          }
        },
        "1b276362dd1746318af6ff582750f34b": {
          "model_module": "@jupyter-widgets/controls",
          "model_name": "FloatProgressModel",
          "model_module_version": "1.5.0",
          "state": {
            "_view_name": "ProgressView",
            "style": "IPY_MODEL_fc29ef36b7b7459584931bc8a193f91f",
            "_dom_classes": [],
            "description": "",
            "_model_name": "FloatProgressModel",
            "bar_style": "success",
            "max": 231508,
            "_view_module": "@jupyter-widgets/controls",
            "_model_module_version": "1.5.0",
            "value": 231508,
            "_view_count": null,
            "_view_module_version": "1.5.0",
            "orientation": "horizontal",
            "min": 0,
            "description_tooltip": null,
            "_model_module": "@jupyter-widgets/controls",
            "layout": "IPY_MODEL_663f33b586764f0e9de498f17f25ca72"
          }
        },
        "d3b327ddbb634400a61a430dca457654": {
          "model_module": "@jupyter-widgets/controls",
          "model_name": "HTMLModel",
          "model_module_version": "1.5.0",
          "state": {
            "_view_name": "HTMLView",
            "style": "IPY_MODEL_76a6a38ee0aa40bd9979f8ee5a668c9f",
            "_dom_classes": [],
            "description": "",
            "_model_name": "HTMLModel",
            "placeholder": "​",
            "_view_module": "@jupyter-widgets/controls",
            "_model_module_version": "1.5.0",
            "value": " 226k/226k [00:00&lt;00:00, 875kB/s]",
            "_view_count": null,
            "_view_module_version": "1.5.0",
            "description_tooltip": null,
            "_model_module": "@jupyter-widgets/controls",
            "layout": "IPY_MODEL_8567f0ad72a7470e84c078fa5f1a5fe2"
          }
        },
        "93ef19f4479441cea47095fd384f6c8e": {
          "model_module": "@jupyter-widgets/controls",
          "model_name": "DescriptionStyleModel",
          "model_module_version": "1.5.0",
          "state": {
            "_view_name": "StyleView",
            "_model_name": "DescriptionStyleModel",
            "description_width": "",
            "_view_module": "@jupyter-widgets/base",
            "_model_module_version": "1.5.0",
            "_view_count": null,
            "_view_module_version": "1.2.0",
            "_model_module": "@jupyter-widgets/controls"
          }
        },
        "c60ecba500054d9caaee746f4aa90548": {
          "model_module": "@jupyter-widgets/base",
          "model_name": "LayoutModel",
          "model_module_version": "1.2.0",
          "state": {
            "_view_name": "LayoutView",
            "grid_template_rows": null,
            "right": null,
            "justify_content": null,
            "_view_module": "@jupyter-widgets/base",
            "overflow": null,
            "_model_module_version": "1.2.0",
            "_view_count": null,
            "flex_flow": null,
            "width": null,
            "min_width": null,
            "border": null,
            "align_items": null,
            "bottom": null,
            "_model_module": "@jupyter-widgets/base",
            "top": null,
            "grid_column": null,
            "overflow_y": null,
            "overflow_x": null,
            "grid_auto_flow": null,
            "grid_area": null,
            "grid_template_columns": null,
            "flex": null,
            "_model_name": "LayoutModel",
            "justify_items": null,
            "grid_row": null,
            "max_height": null,
            "align_content": null,
            "visibility": null,
            "align_self": null,
            "height": null,
            "min_height": null,
            "padding": null,
            "grid_auto_rows": null,
            "grid_gap": null,
            "max_width": null,
            "order": null,
            "_view_module_version": "1.2.0",
            "grid_template_areas": null,
            "object_position": null,
            "object_fit": null,
            "grid_auto_columns": null,
            "margin": null,
            "display": null,
            "left": null
          }
        },
        "fc29ef36b7b7459584931bc8a193f91f": {
          "model_module": "@jupyter-widgets/controls",
          "model_name": "ProgressStyleModel",
          "model_module_version": "1.5.0",
          "state": {
            "_view_name": "StyleView",
            "_model_name": "ProgressStyleModel",
            "description_width": "",
            "_view_module": "@jupyter-widgets/base",
            "_model_module_version": "1.5.0",
            "_view_count": null,
            "_view_module_version": "1.2.0",
            "bar_color": null,
            "_model_module": "@jupyter-widgets/controls"
          }
        },
        "663f33b586764f0e9de498f17f25ca72": {
          "model_module": "@jupyter-widgets/base",
          "model_name": "LayoutModel",
          "model_module_version": "1.2.0",
          "state": {
            "_view_name": "LayoutView",
            "grid_template_rows": null,
            "right": null,
            "justify_content": null,
            "_view_module": "@jupyter-widgets/base",
            "overflow": null,
            "_model_module_version": "1.2.0",
            "_view_count": null,
            "flex_flow": null,
            "width": null,
            "min_width": null,
            "border": null,
            "align_items": null,
            "bottom": null,
            "_model_module": "@jupyter-widgets/base",
            "top": null,
            "grid_column": null,
            "overflow_y": null,
            "overflow_x": null,
            "grid_auto_flow": null,
            "grid_area": null,
            "grid_template_columns": null,
            "flex": null,
            "_model_name": "LayoutModel",
            "justify_items": null,
            "grid_row": null,
            "max_height": null,
            "align_content": null,
            "visibility": null,
            "align_self": null,
            "height": null,
            "min_height": null,
            "padding": null,
            "grid_auto_rows": null,
            "grid_gap": null,
            "max_width": null,
            "order": null,
            "_view_module_version": "1.2.0",
            "grid_template_areas": null,
            "object_position": null,
            "object_fit": null,
            "grid_auto_columns": null,
            "margin": null,
            "display": null,
            "left": null
          }
        },
        "76a6a38ee0aa40bd9979f8ee5a668c9f": {
          "model_module": "@jupyter-widgets/controls",
          "model_name": "DescriptionStyleModel",
          "model_module_version": "1.5.0",
          "state": {
            "_view_name": "StyleView",
            "_model_name": "DescriptionStyleModel",
            "description_width": "",
            "_view_module": "@jupyter-widgets/base",
            "_model_module_version": "1.5.0",
            "_view_count": null,
            "_view_module_version": "1.2.0",
            "_model_module": "@jupyter-widgets/controls"
          }
        },
        "8567f0ad72a7470e84c078fa5f1a5fe2": {
          "model_module": "@jupyter-widgets/base",
          "model_name": "LayoutModel",
          "model_module_version": "1.2.0",
          "state": {
            "_view_name": "LayoutView",
            "grid_template_rows": null,
            "right": null,
            "justify_content": null,
            "_view_module": "@jupyter-widgets/base",
            "overflow": null,
            "_model_module_version": "1.2.0",
            "_view_count": null,
            "flex_flow": null,
            "width": null,
            "min_width": null,
            "border": null,
            "align_items": null,
            "bottom": null,
            "_model_module": "@jupyter-widgets/base",
            "top": null,
            "grid_column": null,
            "overflow_y": null,
            "overflow_x": null,
            "grid_auto_flow": null,
            "grid_area": null,
            "grid_template_columns": null,
            "flex": null,
            "_model_name": "LayoutModel",
            "justify_items": null,
            "grid_row": null,
            "max_height": null,
            "align_content": null,
            "visibility": null,
            "align_self": null,
            "height": null,
            "min_height": null,
            "padding": null,
            "grid_auto_rows": null,
            "grid_gap": null,
            "max_width": null,
            "order": null,
            "_view_module_version": "1.2.0",
            "grid_template_areas": null,
            "object_position": null,
            "object_fit": null,
            "grid_auto_columns": null,
            "margin": null,
            "display": null,
            "left": null
          }
        },
        "c291f85889e54266a9bfba78f5160bea": {
          "model_module": "@jupyter-widgets/controls",
          "model_name": "HBoxModel",
          "model_module_version": "1.5.0",
          "state": {
            "_view_name": "HBoxView",
            "_dom_classes": [],
            "_model_name": "HBoxModel",
            "_view_module": "@jupyter-widgets/controls",
            "_model_module_version": "1.5.0",
            "_view_count": null,
            "_view_module_version": "1.5.0",
            "box_style": "",
            "layout": "IPY_MODEL_bfe53760b5e64be3b005f974b9989d5f",
            "_model_module": "@jupyter-widgets/controls",
            "children": [
              "IPY_MODEL_c70fa0e608b44367ab34ef73545fc5ce",
              "IPY_MODEL_94c71b6ce1fe41219292bf2d2f4d87c2",
              "IPY_MODEL_f10b549d1a8d4ffe99d4864a8c2b256a"
            ]
          }
        },
        "bfe53760b5e64be3b005f974b9989d5f": {
          "model_module": "@jupyter-widgets/base",
          "model_name": "LayoutModel",
          "model_module_version": "1.2.0",
          "state": {
            "_view_name": "LayoutView",
            "grid_template_rows": null,
            "right": null,
            "justify_content": null,
            "_view_module": "@jupyter-widgets/base",
            "overflow": null,
            "_model_module_version": "1.2.0",
            "_view_count": null,
            "flex_flow": null,
            "width": null,
            "min_width": null,
            "border": null,
            "align_items": null,
            "bottom": null,
            "_model_module": "@jupyter-widgets/base",
            "top": null,
            "grid_column": null,
            "overflow_y": null,
            "overflow_x": null,
            "grid_auto_flow": null,
            "grid_area": null,
            "grid_template_columns": null,
            "flex": null,
            "_model_name": "LayoutModel",
            "justify_items": null,
            "grid_row": null,
            "max_height": null,
            "align_content": null,
            "visibility": null,
            "align_self": null,
            "height": null,
            "min_height": null,
            "padding": null,
            "grid_auto_rows": null,
            "grid_gap": null,
            "max_width": null,
            "order": null,
            "_view_module_version": "1.2.0",
            "grid_template_areas": null,
            "object_position": null,
            "object_fit": null,
            "grid_auto_columns": null,
            "margin": null,
            "display": null,
            "left": null
          }
        },
        "c70fa0e608b44367ab34ef73545fc5ce": {
          "model_module": "@jupyter-widgets/controls",
          "model_name": "HTMLModel",
          "model_module_version": "1.5.0",
          "state": {
            "_view_name": "HTMLView",
            "style": "IPY_MODEL_a0e11d9f002946a3b8a9692dd8744d23",
            "_dom_classes": [],
            "description": "",
            "_model_name": "HTMLModel",
            "placeholder": "​",
            "_view_module": "@jupyter-widgets/controls",
            "_model_module_version": "1.5.0",
            "value": "Downloading: 100%",
            "_view_count": null,
            "_view_module_version": "1.5.0",
            "description_tooltip": null,
            "_model_module": "@jupyter-widgets/controls",
            "layout": "IPY_MODEL_03f2d6d6709f4d8d9d0e7e71b986897b"
          }
        },
        "94c71b6ce1fe41219292bf2d2f4d87c2": {
          "model_module": "@jupyter-widgets/controls",
          "model_name": "FloatProgressModel",
          "model_module_version": "1.5.0",
          "state": {
            "_view_name": "ProgressView",
            "style": "IPY_MODEL_1ddd3b4821c247d29dad7ccb5de8a744",
            "_dom_classes": [],
            "description": "",
            "_model_name": "FloatProgressModel",
            "bar_style": "success",
            "max": 466062,
            "_view_module": "@jupyter-widgets/controls",
            "_model_module_version": "1.5.0",
            "value": 466062,
            "_view_count": null,
            "_view_module_version": "1.5.0",
            "orientation": "horizontal",
            "min": 0,
            "description_tooltip": null,
            "_model_module": "@jupyter-widgets/controls",
            "layout": "IPY_MODEL_7cff7738083f4ffbb47427124ac18db8"
          }
        },
        "f10b549d1a8d4ffe99d4864a8c2b256a": {
          "model_module": "@jupyter-widgets/controls",
          "model_name": "HTMLModel",
          "model_module_version": "1.5.0",
          "state": {
            "_view_name": "HTMLView",
            "style": "IPY_MODEL_86cd5046c8bc4829bb7daf206cd1c7bc",
            "_dom_classes": [],
            "description": "",
            "_model_name": "HTMLModel",
            "placeholder": "​",
            "_view_module": "@jupyter-widgets/controls",
            "_model_module_version": "1.5.0",
            "value": " 455k/455k [00:00&lt;00:00, 772kB/s]",
            "_view_count": null,
            "_view_module_version": "1.5.0",
            "description_tooltip": null,
            "_model_module": "@jupyter-widgets/controls",
            "layout": "IPY_MODEL_a3684cad0ffc400abedc054f55ec9a95"
          }
        },
        "a0e11d9f002946a3b8a9692dd8744d23": {
          "model_module": "@jupyter-widgets/controls",
          "model_name": "DescriptionStyleModel",
          "model_module_version": "1.5.0",
          "state": {
            "_view_name": "StyleView",
            "_model_name": "DescriptionStyleModel",
            "description_width": "",
            "_view_module": "@jupyter-widgets/base",
            "_model_module_version": "1.5.0",
            "_view_count": null,
            "_view_module_version": "1.2.0",
            "_model_module": "@jupyter-widgets/controls"
          }
        },
        "03f2d6d6709f4d8d9d0e7e71b986897b": {
          "model_module": "@jupyter-widgets/base",
          "model_name": "LayoutModel",
          "model_module_version": "1.2.0",
          "state": {
            "_view_name": "LayoutView",
            "grid_template_rows": null,
            "right": null,
            "justify_content": null,
            "_view_module": "@jupyter-widgets/base",
            "overflow": null,
            "_model_module_version": "1.2.0",
            "_view_count": null,
            "flex_flow": null,
            "width": null,
            "min_width": null,
            "border": null,
            "align_items": null,
            "bottom": null,
            "_model_module": "@jupyter-widgets/base",
            "top": null,
            "grid_column": null,
            "overflow_y": null,
            "overflow_x": null,
            "grid_auto_flow": null,
            "grid_area": null,
            "grid_template_columns": null,
            "flex": null,
            "_model_name": "LayoutModel",
            "justify_items": null,
            "grid_row": null,
            "max_height": null,
            "align_content": null,
            "visibility": null,
            "align_self": null,
            "height": null,
            "min_height": null,
            "padding": null,
            "grid_auto_rows": null,
            "grid_gap": null,
            "max_width": null,
            "order": null,
            "_view_module_version": "1.2.0",
            "grid_template_areas": null,
            "object_position": null,
            "object_fit": null,
            "grid_auto_columns": null,
            "margin": null,
            "display": null,
            "left": null
          }
        },
        "1ddd3b4821c247d29dad7ccb5de8a744": {
          "model_module": "@jupyter-widgets/controls",
          "model_name": "ProgressStyleModel",
          "model_module_version": "1.5.0",
          "state": {
            "_view_name": "StyleView",
            "_model_name": "ProgressStyleModel",
            "description_width": "",
            "_view_module": "@jupyter-widgets/base",
            "_model_module_version": "1.5.0",
            "_view_count": null,
            "_view_module_version": "1.2.0",
            "bar_color": null,
            "_model_module": "@jupyter-widgets/controls"
          }
        },
        "7cff7738083f4ffbb47427124ac18db8": {
          "model_module": "@jupyter-widgets/base",
          "model_name": "LayoutModel",
          "model_module_version": "1.2.0",
          "state": {
            "_view_name": "LayoutView",
            "grid_template_rows": null,
            "right": null,
            "justify_content": null,
            "_view_module": "@jupyter-widgets/base",
            "overflow": null,
            "_model_module_version": "1.2.0",
            "_view_count": null,
            "flex_flow": null,
            "width": null,
            "min_width": null,
            "border": null,
            "align_items": null,
            "bottom": null,
            "_model_module": "@jupyter-widgets/base",
            "top": null,
            "grid_column": null,
            "overflow_y": null,
            "overflow_x": null,
            "grid_auto_flow": null,
            "grid_area": null,
            "grid_template_columns": null,
            "flex": null,
            "_model_name": "LayoutModel",
            "justify_items": null,
            "grid_row": null,
            "max_height": null,
            "align_content": null,
            "visibility": null,
            "align_self": null,
            "height": null,
            "min_height": null,
            "padding": null,
            "grid_auto_rows": null,
            "grid_gap": null,
            "max_width": null,
            "order": null,
            "_view_module_version": "1.2.0",
            "grid_template_areas": null,
            "object_position": null,
            "object_fit": null,
            "grid_auto_columns": null,
            "margin": null,
            "display": null,
            "left": null
          }
        },
        "86cd5046c8bc4829bb7daf206cd1c7bc": {
          "model_module": "@jupyter-widgets/controls",
          "model_name": "DescriptionStyleModel",
          "model_module_version": "1.5.0",
          "state": {
            "_view_name": "StyleView",
            "_model_name": "DescriptionStyleModel",
            "description_width": "",
            "_view_module": "@jupyter-widgets/base",
            "_model_module_version": "1.5.0",
            "_view_count": null,
            "_view_module_version": "1.2.0",
            "_model_module": "@jupyter-widgets/controls"
          }
        },
        "a3684cad0ffc400abedc054f55ec9a95": {
          "model_module": "@jupyter-widgets/base",
          "model_name": "LayoutModel",
          "model_module_version": "1.2.0",
          "state": {
            "_view_name": "LayoutView",
            "grid_template_rows": null,
            "right": null,
            "justify_content": null,
            "_view_module": "@jupyter-widgets/base",
            "overflow": null,
            "_model_module_version": "1.2.0",
            "_view_count": null,
            "flex_flow": null,
            "width": null,
            "min_width": null,
            "border": null,
            "align_items": null,
            "bottom": null,
            "_model_module": "@jupyter-widgets/base",
            "top": null,
            "grid_column": null,
            "overflow_y": null,
            "overflow_x": null,
            "grid_auto_flow": null,
            "grid_area": null,
            "grid_template_columns": null,
            "flex": null,
            "_model_name": "LayoutModel",
            "justify_items": null,
            "grid_row": null,
            "max_height": null,
            "align_content": null,
            "visibility": null,
            "align_self": null,
            "height": null,
            "min_height": null,
            "padding": null,
            "grid_auto_rows": null,
            "grid_gap": null,
            "max_width": null,
            "order": null,
            "_view_module_version": "1.2.0",
            "grid_template_areas": null,
            "object_position": null,
            "object_fit": null,
            "grid_auto_columns": null,
            "margin": null,
            "display": null,
            "left": null
          }
        },
        "c9b43d377c0d41a99761a13bafe0037a": {
          "model_module": "@jupyter-widgets/controls",
          "model_name": "HBoxModel",
          "model_module_version": "1.5.0",
          "state": {
            "_view_name": "HBoxView",
            "_dom_classes": [],
            "_model_name": "HBoxModel",
            "_view_module": "@jupyter-widgets/controls",
            "_model_module_version": "1.5.0",
            "_view_count": null,
            "_view_module_version": "1.5.0",
            "box_style": "",
            "layout": "IPY_MODEL_fd13a56342eb4f6495bb224b678c13cb",
            "_model_module": "@jupyter-widgets/controls",
            "children": [
              "IPY_MODEL_e004f4d6f78c4af19790909cb1e55128",
              "IPY_MODEL_3dc299c2daa94f208d9cdaee4000eb44",
              "IPY_MODEL_5b2a99c0ee964432a6ee33975b2da1b4"
            ]
          }
        },
        "fd13a56342eb4f6495bb224b678c13cb": {
          "model_module": "@jupyter-widgets/base",
          "model_name": "LayoutModel",
          "model_module_version": "1.2.0",
          "state": {
            "_view_name": "LayoutView",
            "grid_template_rows": null,
            "right": null,
            "justify_content": null,
            "_view_module": "@jupyter-widgets/base",
            "overflow": null,
            "_model_module_version": "1.2.0",
            "_view_count": null,
            "flex_flow": null,
            "width": null,
            "min_width": null,
            "border": null,
            "align_items": null,
            "bottom": null,
            "_model_module": "@jupyter-widgets/base",
            "top": null,
            "grid_column": null,
            "overflow_y": null,
            "overflow_x": null,
            "grid_auto_flow": null,
            "grid_area": null,
            "grid_template_columns": null,
            "flex": null,
            "_model_name": "LayoutModel",
            "justify_items": null,
            "grid_row": null,
            "max_height": null,
            "align_content": null,
            "visibility": null,
            "align_self": null,
            "height": null,
            "min_height": null,
            "padding": null,
            "grid_auto_rows": null,
            "grid_gap": null,
            "max_width": null,
            "order": null,
            "_view_module_version": "1.2.0",
            "grid_template_areas": null,
            "object_position": null,
            "object_fit": null,
            "grid_auto_columns": null,
            "margin": null,
            "display": null,
            "left": null
          }
        },
        "e004f4d6f78c4af19790909cb1e55128": {
          "model_module": "@jupyter-widgets/controls",
          "model_name": "HTMLModel",
          "model_module_version": "1.5.0",
          "state": {
            "_view_name": "HTMLView",
            "style": "IPY_MODEL_4980fd08b9fc48ec9767db9e04f99508",
            "_dom_classes": [],
            "description": "",
            "_model_name": "HTMLModel",
            "placeholder": "​",
            "_view_module": "@jupyter-widgets/controls",
            "_model_module_version": "1.5.0",
            "value": "Downloading: 100%",
            "_view_count": null,
            "_view_module_version": "1.5.0",
            "description_tooltip": null,
            "_model_module": "@jupyter-widgets/controls",
            "layout": "IPY_MODEL_55cf3bd21d4f4b80acaf3933cdc78019"
          }
        },
        "3dc299c2daa94f208d9cdaee4000eb44": {
          "model_module": "@jupyter-widgets/controls",
          "model_name": "FloatProgressModel",
          "model_module_version": "1.5.0",
          "state": {
            "_view_name": "ProgressView",
            "style": "IPY_MODEL_ea5299c0df9a44e2a747ad65af1c2f23",
            "_dom_classes": [],
            "description": "",
            "_model_name": "FloatProgressModel",
            "bar_style": "success",
            "max": 483,
            "_view_module": "@jupyter-widgets/controls",
            "_model_module_version": "1.5.0",
            "value": 483,
            "_view_count": null,
            "_view_module_version": "1.5.0",
            "orientation": "horizontal",
            "min": 0,
            "description_tooltip": null,
            "_model_module": "@jupyter-widgets/controls",
            "layout": "IPY_MODEL_41e563232db34c3e8ffb278454b3cd56"
          }
        },
        "5b2a99c0ee964432a6ee33975b2da1b4": {
          "model_module": "@jupyter-widgets/controls",
          "model_name": "HTMLModel",
          "model_module_version": "1.5.0",
          "state": {
            "_view_name": "HTMLView",
            "style": "IPY_MODEL_270a35958b8c4999a3e9ee2c31739564",
            "_dom_classes": [],
            "description": "",
            "_model_name": "HTMLModel",
            "placeholder": "​",
            "_view_module": "@jupyter-widgets/controls",
            "_model_module_version": "1.5.0",
            "value": " 483/483 [00:00&lt;00:00, 10.1kB/s]",
            "_view_count": null,
            "_view_module_version": "1.5.0",
            "description_tooltip": null,
            "_model_module": "@jupyter-widgets/controls",
            "layout": "IPY_MODEL_bd8c93b749fe47448781a4596c3a7c8b"
          }
        },
        "4980fd08b9fc48ec9767db9e04f99508": {
          "model_module": "@jupyter-widgets/controls",
          "model_name": "DescriptionStyleModel",
          "model_module_version": "1.5.0",
          "state": {
            "_view_name": "StyleView",
            "_model_name": "DescriptionStyleModel",
            "description_width": "",
            "_view_module": "@jupyter-widgets/base",
            "_model_module_version": "1.5.0",
            "_view_count": null,
            "_view_module_version": "1.2.0",
            "_model_module": "@jupyter-widgets/controls"
          }
        },
        "55cf3bd21d4f4b80acaf3933cdc78019": {
          "model_module": "@jupyter-widgets/base",
          "model_name": "LayoutModel",
          "model_module_version": "1.2.0",
          "state": {
            "_view_name": "LayoutView",
            "grid_template_rows": null,
            "right": null,
            "justify_content": null,
            "_view_module": "@jupyter-widgets/base",
            "overflow": null,
            "_model_module_version": "1.2.0",
            "_view_count": null,
            "flex_flow": null,
            "width": null,
            "min_width": null,
            "border": null,
            "align_items": null,
            "bottom": null,
            "_model_module": "@jupyter-widgets/base",
            "top": null,
            "grid_column": null,
            "overflow_y": null,
            "overflow_x": null,
            "grid_auto_flow": null,
            "grid_area": null,
            "grid_template_columns": null,
            "flex": null,
            "_model_name": "LayoutModel",
            "justify_items": null,
            "grid_row": null,
            "max_height": null,
            "align_content": null,
            "visibility": null,
            "align_self": null,
            "height": null,
            "min_height": null,
            "padding": null,
            "grid_auto_rows": null,
            "grid_gap": null,
            "max_width": null,
            "order": null,
            "_view_module_version": "1.2.0",
            "grid_template_areas": null,
            "object_position": null,
            "object_fit": null,
            "grid_auto_columns": null,
            "margin": null,
            "display": null,
            "left": null
          }
        },
        "ea5299c0df9a44e2a747ad65af1c2f23": {
          "model_module": "@jupyter-widgets/controls",
          "model_name": "ProgressStyleModel",
          "model_module_version": "1.5.0",
          "state": {
            "_view_name": "StyleView",
            "_model_name": "ProgressStyleModel",
            "description_width": "",
            "_view_module": "@jupyter-widgets/base",
            "_model_module_version": "1.5.0",
            "_view_count": null,
            "_view_module_version": "1.2.0",
            "bar_color": null,
            "_model_module": "@jupyter-widgets/controls"
          }
        },
        "41e563232db34c3e8ffb278454b3cd56": {
          "model_module": "@jupyter-widgets/base",
          "model_name": "LayoutModel",
          "model_module_version": "1.2.0",
          "state": {
            "_view_name": "LayoutView",
            "grid_template_rows": null,
            "right": null,
            "justify_content": null,
            "_view_module": "@jupyter-widgets/base",
            "overflow": null,
            "_model_module_version": "1.2.0",
            "_view_count": null,
            "flex_flow": null,
            "width": null,
            "min_width": null,
            "border": null,
            "align_items": null,
            "bottom": null,
            "_model_module": "@jupyter-widgets/base",
            "top": null,
            "grid_column": null,
            "overflow_y": null,
            "overflow_x": null,
            "grid_auto_flow": null,
            "grid_area": null,
            "grid_template_columns": null,
            "flex": null,
            "_model_name": "LayoutModel",
            "justify_items": null,
            "grid_row": null,
            "max_height": null,
            "align_content": null,
            "visibility": null,
            "align_self": null,
            "height": null,
            "min_height": null,
            "padding": null,
            "grid_auto_rows": null,
            "grid_gap": null,
            "max_width": null,
            "order": null,
            "_view_module_version": "1.2.0",
            "grid_template_areas": null,
            "object_position": null,
            "object_fit": null,
            "grid_auto_columns": null,
            "margin": null,
            "display": null,
            "left": null
          }
        },
        "270a35958b8c4999a3e9ee2c31739564": {
          "model_module": "@jupyter-widgets/controls",
          "model_name": "DescriptionStyleModel",
          "model_module_version": "1.5.0",
          "state": {
            "_view_name": "StyleView",
            "_model_name": "DescriptionStyleModel",
            "description_width": "",
            "_view_module": "@jupyter-widgets/base",
            "_model_module_version": "1.5.0",
            "_view_count": null,
            "_view_module_version": "1.2.0",
            "_model_module": "@jupyter-widgets/controls"
          }
        },
        "bd8c93b749fe47448781a4596c3a7c8b": {
          "model_module": "@jupyter-widgets/base",
          "model_name": "LayoutModel",
          "model_module_version": "1.2.0",
          "state": {
            "_view_name": "LayoutView",
            "grid_template_rows": null,
            "right": null,
            "justify_content": null,
            "_view_module": "@jupyter-widgets/base",
            "overflow": null,
            "_model_module_version": "1.2.0",
            "_view_count": null,
            "flex_flow": null,
            "width": null,
            "min_width": null,
            "border": null,
            "align_items": null,
            "bottom": null,
            "_model_module": "@jupyter-widgets/base",
            "top": null,
            "grid_column": null,
            "overflow_y": null,
            "overflow_x": null,
            "grid_auto_flow": null,
            "grid_area": null,
            "grid_template_columns": null,
            "flex": null,
            "_model_name": "LayoutModel",
            "justify_items": null,
            "grid_row": null,
            "max_height": null,
            "align_content": null,
            "visibility": null,
            "align_self": null,
            "height": null,
            "min_height": null,
            "padding": null,
            "grid_auto_rows": null,
            "grid_gap": null,
            "max_width": null,
            "order": null,
            "_view_module_version": "1.2.0",
            "grid_template_areas": null,
            "object_position": null,
            "object_fit": null,
            "grid_auto_columns": null,
            "margin": null,
            "display": null,
            "left": null
          }
        }
      }
    }
  },
  "cells": [
    {
      "cell_type": "markdown",
      "metadata": {
        "id": "L4Z37e-ti0gm"
      },
      "source": [
        "# Title: Brexit under the lens"
      ]
    },
    {
      "cell_type": "markdown",
      "metadata": {
        "id": "xvXA220ZK9sz"
      },
      "source": [
        "<p align=\"center\">\n",
        "  <img width=\"460\" height=\"300\" src=\"https://www.dachser.com/en/mediaroom/images/Corporate/Marktinformation/shutterstock_417868516_rdax_65.jpg\">\n",
        "</p>"
      ]
    },
    {
      "cell_type": "markdown",
      "metadata": {
        "id": "Ssh_im9eH4B7"
      },
      "source": [
        "# Import Libraries"
      ]
    },
    {
      "cell_type": "code",
      "metadata": {
        "id": "TwL29M-6fBLB",
        "colab": {
          "base_uri": "https://localhost:8080/"
        },
        "outputId": "baee7497-fdf5-4d04-8df6-61515e67fe08"
      },
      "source": [
        "# Load the data folder in the share drives\n",
        "# The data folder is in the 'drive/Shareddrives/Ada'\n",
        "from google.colab import drive\n",
        "drive.mount('/content/drive')"
      ],
      "execution_count": null,
      "outputs": [
        {
          "output_type": "stream",
          "name": "stdout",
          "text": [
            "Mounted at /content/drive\n"
          ]
        }
      ]
    },
    {
      "cell_type": "code",
      "metadata": {
        "id": "FCRnJvrFkrmV"
      },
      "source": [
        "#Downgrade the pandas version so that we can read data in chunksize\n",
        "#!pip install pandas==1.0.5"
      ],
      "execution_count": null,
      "outputs": []
    },
    {
      "cell_type": "code",
      "metadata": {
        "id": "iE1Dnhqv5X0h",
        "colab": {
          "base_uri": "https://localhost:8080/"
        },
        "outputId": "c1186712-a185-4518-f0f0-540accd06611"
      },
      "source": [
        "!pip install textblob"
      ],
      "execution_count": null,
      "outputs": [
        {
          "output_type": "stream",
          "name": "stdout",
          "text": [
            "Requirement already satisfied: textblob in /usr/local/lib/python3.7/dist-packages (0.15.3)\n",
            "Requirement already satisfied: nltk>=3.1 in /usr/local/lib/python3.7/dist-packages (from textblob) (3.2.5)\n",
            "Requirement already satisfied: six in /usr/local/lib/python3.7/dist-packages (from nltk>=3.1->textblob) (1.15.0)\n"
          ]
        }
      ]
    },
    {
      "cell_type": "code",
      "metadata": {
        "id": "jwWJzKGaheRS"
      },
      "source": [
        "# Import library\n",
        "import seaborn as sns\n",
        "from IPython.display import display, HTML\n",
        "import matplotlib.pyplot as plt\n",
        "import scipy.stats as stats\n",
        "import pandas as pd\n",
        "import numpy as np\n",
        "import warnings\n",
        "import pickle\n",
        "import shutil\n",
        "import os\n",
        "import glob\n",
        "import wordcloud\n",
        "import nltk\n",
        "import re\n",
        "warnings.filterwarnings('ignore')\n",
        "\n",
        "import requests \n",
        "from bs4 import BeautifulSoup"
      ],
      "execution_count": null,
      "outputs": []
    },
    {
      "cell_type": "code",
      "metadata": {
        "colab": {
          "base_uri": "https://localhost:8080/"
        },
        "id": "cYdyzV2RxxEu",
        "outputId": "a6a573b9-dc37-40c5-da56-d75a566c44c4"
      },
      "source": [
        "import nltk\n",
        "nltk.download('stopwords')\n",
        "from nltk.corpus import stopwords"
      ],
      "execution_count": null,
      "outputs": [
        {
          "output_type": "stream",
          "name": "stdout",
          "text": [
            "[nltk_data] Downloading package stopwords to /root/nltk_data...\n",
            "[nltk_data]   Package stopwords is already up-to-date!\n",
            "[nltk_data] Downloading package vader_lexicon to /root/nltk_data...\n"
          ]
        },
        {
          "output_type": "execute_result",
          "data": {
            "text/plain": [
              "True"
            ]
          },
          "metadata": {},
          "execution_count": 20
        }
      ]
    },
    {
      "cell_type": "code",
      "metadata": {
        "id": "JPE43H4fwPRZ"
      },
      "source": [
        "import sys\n",
        "import spacy\n",
        "# !{sys.executable} -m spacy download en\n",
        "import re, numpy as np, pandas as pd\n",
        "from pprint import pprint\n",
        "\n",
        "# Gensim\n",
        "import gensim, spacy, logging, warnings\n",
        "import gensim.corpora as corpora\n",
        "from gensim.utils import lemmatize, simple_preprocess\n",
        "from gensim.models import CoherenceModel\n",
        "import matplotlib.pyplot as plt\n",
        "\n",
        "#URL parsing\n",
        "from urllib.parse import parse_qsl, urljoin, urlparse"
      ],
      "execution_count": null,
      "outputs": []
    },
    {
      "cell_type": "code",
      "source": [
        "import plotly.express as px"
      ],
      "metadata": {
        "id": "yaL_VUBun8Op"
      },
      "execution_count": null,
      "outputs": []
    },
    {
      "cell_type": "code",
      "metadata": {
        "id": "n7F99BM3a2ek"
      },
      "source": [
        "# NLTK Stop words\n",
        "#from nltk.corpus import stopwords\n",
        "stop_words = stopwords.words('english')\n",
        "stop_words.extend(['from', 'subject', 're', 'edu', 'use', 'not', 'would', 'say', 'could', '_', 'be', 'know', 'good', 'go', 'get', 'do', 'done', 'try', 'many', 'some', 'nice', 'thank', 'think', 'see', 'rather', 'easy', 'easily', 'lot', 'lack', 'make', 'want', 'seem', 'run', 'need', 'even', 'right', 'line', 'even', 'also', 'may', 'take', 'come'])\n",
        "\n",
        "%matplotlib inline\n",
        "warnings.filterwarnings(\"ignore\",category=DeprecationWarning)\n",
        "logging.basicConfig(format='%(asctime)s : %(levelname)s : %(message)s', level=logging.ERROR)"
      ],
      "execution_count": null,
      "outputs": []
    },
    {
      "cell_type": "markdown",
      "metadata": {
        "id": "6PTSb59IwN53"
      },
      "source": [
        "# Data collection"
      ]
    },
    {
      "cell_type": "code",
      "metadata": {
        "id": "Zwm_MaNRqlYW"
      },
      "source": [
        "# The original datafile path, contains all the Quote from 2015-2020\n",
        "dataset_path='/content/drive/Shareddrives/Ada/Quotebank'\n",
        "\n",
        "# The path store the first preprocessed Pickles \n",
        "pickle_path='/content/drive/Shareddrives/Ada/pickle'\n",
        "\n",
        "# Specify which cols to drop and which to keep\n",
        "use_cols=[\"qids\",\"quoteID\",\"quotation\",\"speaker\",\"date\",\"numOccurrences\",\"probas\",\"urls\",\"phase\"]\n",
        "ignore_cols=[]\n",
        "\n",
        "# The chunk_size for the pickles\n",
        "chunk_size = 600000 "
      ],
      "execution_count": null,
      "outputs": []
    },
    {
      "cell_type": "code",
      "metadata": {
        "id": "RlwU8iSD0n8V"
      },
      "source": [
        "# Only run this block when remove the pickles and make new pickles\n",
        "shutil.rmtree(pickle_path)\n",
        "os.mkdir(pickle_path)"
      ],
      "execution_count": null,
      "outputs": []
    },
    {
      "cell_type": "code",
      "metadata": {
        "colab": {
          "base_uri": "https://localhost:8080/"
        },
        "id": "UWAJMiT_tli6",
        "outputId": "7f5d8c15-120e-478e-f929-5ed6f159fb25"
      },
      "source": [
        "# \bCheck if the data has been processed and saved into pickles already \n",
        "# If not, process raw data into pickles\n",
        "if not os.listdir(pickle_path):\n",
        "   for name in glob.glob(dataset_path + \"/*.bz2\"):\n",
        "     print(\"pickling \"+name)\n",
        "     pickle_name=name.split('/')[6].split('.')[0]\n",
        "     reader = pd.read_json(name, chunksize=chunk_size, lines=True, compression='bz2')   \n",
        "     for i, chunk in enumerate(reader):\n",
        "       chunk=chunk[use_cols]\n",
        "       out_file = pickle_path + \"/\"+ pickle_name + \"_{}.pkl\".format(i+1)\n",
        "       with open(out_file, \"wb\") as f:\n",
        "           pickle.dump(chunk,f,pickle.HIGHEST_PROTOCOL)\n",
        "       chunk=\"\"    \n",
        "   print('Pickles made!,ready to go!')       \n",
        "else:    \n",
        "   print(\"Already processed data into pickles, you can use them right away!\")"
      ],
      "execution_count": null,
      "outputs": [
        {
          "output_type": "stream",
          "name": "stdout",
          "text": [
            "Already processed data into pickles, you can use them right away!\n"
          ]
        }
      ]
    },
    {
      "cell_type": "code",
      "metadata": {
        "colab": {
          "base_uri": "https://localhost:8080/"
        },
        "id": "wyMdulg6wezB",
        "outputId": "b59f4b3a-a487-404c-bbb1-2bff6115889b"
      },
      "source": [
        "# Filter the pickles and extract Brexit related data\n",
        "# Define the path to store the processed pickle\n",
        "processed_path='/content/drive/Shareddrives/Ada/processed' \n",
        "out_file = processed_path + \"/\"+\"Brexit_related_quote.pkl\"\n",
        "\n",
        "# Specify the orginal pickles we want to process\n",
        "if not os.path.exists(out_file):\n",
        "  data_p_files=[]\n",
        "  for name in glob.glob(pickle_path + \"/*.pkl\"):\n",
        "    data_p_files.append(name)\n",
        "\n",
        "  # Add all the df into here and store it into pickle in the end\n",
        "  appended_data=[]\n",
        "  for i in range(len(data_p_files)):\n",
        "    print(\"processing\"+data_p_files[i])\n",
        "    df=pd.read_pickle(data_p_files[i])\n",
        "    # Filter quotations only in phase E\n",
        "    df=df.loc[df['phase']=='E']\n",
        "    df=df.loc[df['speaker']!='None']\n",
        "    # Filter quotations only relevant to Brexit or both UK and EU firtsly\n",
        "    df=df.loc[df['quotation'].str.contains('Brexit|UK.*EU|EU.*UK|United Kingdom.*European Union|European Union.*United Kingdom|British.*EU|EU.*British',case = False)]\n",
        "    # Define key words relevant to Brexit to filter related news from the quotations that only relevant to UK and EU \n",
        "    searchfor = ['brexit','leave campaign and remain campaign','no deal', 'transition period','leave','withdral','referendum', 'split from']\n",
        "    # Filter quotations which contained (EU and UK) or (Breix) which also contained those keywords we defined above\n",
        "    df=df.loc[df['quotation'].str.contains('|'.join(searchfor),case = False)]\n",
        "\n",
        "    appended_data.append(df)\n",
        "    # release the df at the end of process\n",
        "    # To free the memory\n",
        "    df = \"\"  \n",
        "    \n",
        "    # concat and append results\n",
        "    appended_data = pd.concat(appended_data)\n",
        "    appended_data.to_pickle(out_file)\n",
        "else:    \n",
        "   print(\"Already processed data into pickle, you can use them right away!\")"
      ],
      "execution_count": null,
      "outputs": [
        {
          "output_type": "stream",
          "name": "stdout",
          "text": [
            "Already processed data into pickle, you can use them right away!\n"
          ]
        }
      ]
    },
    {
      "cell_type": "code",
      "metadata": {
        "id": "a3yoDNVcpeuu"
      },
      "source": [
        "# Merge the original Brexit related quotation dataset with speaker attributes by joining the QIDs\n",
        "# Define the output pickle path\n",
        "all_attribute_pickle_path='/content/drive/Shareddrives/Ada/processed/All_attribute.pkl'\n",
        "if not os.path.exists(all_attribute_pickle_path):\n",
        "  parquet_path='/content/drive/Shareddrives/Ada/Project datasets/speaker_attributes.parquet'\n",
        "  label_path='/content/drive/Shareddrives/Ada/Project datasets/wikidata_labels_descriptions_quotebank.csv.bz2'\n",
        "  df=pd.read_pickle('/content/drive/Shareddrives/Ada/processed/Brexit_related_quote.pkl')\n",
        "  df['qids']=df['qids'].map(lambda x:str(x[0]))\n",
        "  df.rename(columns={\"qids\":\"id\"},inplace=True)\n",
        "  parquet_cols=['id','label','date_of_birth','nationality','gender','ethnic_group','occupation','party','academic_degree','religion']\n",
        "\n",
        "  # recursively add the cols and update to our dataframe\n",
        "  for name in glob.glob(parquet_path + \"/*.parquet\"):\n",
        "    par=pd.read_parquet(name)\n",
        "    par=par[parquet_cols]\n",
        "    #Check if the merge has been done\n",
        "    if 'gender' not in df.columns:\n",
        "      df = pd.merge(df, par,on='id',how='left')\n",
        "    else:\n",
        "      df=df.set_index('id')\n",
        "      df.update(par.set_index('id'))\n",
        "      df.reset_index(inplace=True)\n",
        "  \n",
        "  # Replace NAN with value 0 in order to make the following process become easy\n",
        "  df = df.fillna('0')\n",
        "  cols=['nationality','gender','ethnic_group','occupation','party','academic_degree','religion']\n",
        "\n",
        "  # Always keep the first qid label\n",
        "  for col in cols:\n",
        "    df[col]=df[col].map(lambda x: x[0])\n",
        "\n",
        "  df_label=pd.read_csv(label_path,compression='bz2',index_col='QID')\n",
        "  # replace the qid with actuall text label\n",
        "  for col in cols:\n",
        "    df[col]=df[col].map(lambda x: df_label.loc[x]['Label'] if x in df_label.index else x)\n",
        "  df.to_pickle(all_attribute_pickle_path)"
      ],
      "execution_count": null,
      "outputs": []
    },
    {
      "cell_type": "code",
      "metadata": {
        "colab": {
          "base_uri": "https://localhost:8080/",
          "height": 643
        },
        "id": "EPxRGgybXa5C",
        "outputId": "ed1c2f00-7a68-436b-feca-9f9e8c08cdd4"
      },
      "source": [
        "# Read the dataset after merging with speaker attributes\n",
        "df=pd.read_pickle('/content/drive/Shareddrives/Ada/processed/All_attribute.pkl')\n",
        "df.head(5)"
      ],
      "execution_count": null,
      "outputs": [
        {
          "output_type": "execute_result",
          "data": {
            "text/html": [
              "<div>\n",
              "<style scoped>\n",
              "    .dataframe tbody tr th:only-of-type {\n",
              "        vertical-align: middle;\n",
              "    }\n",
              "\n",
              "    .dataframe tbody tr th {\n",
              "        vertical-align: top;\n",
              "    }\n",
              "\n",
              "    .dataframe thead th {\n",
              "        text-align: right;\n",
              "    }\n",
              "</style>\n",
              "<table border=\"1\" class=\"dataframe\">\n",
              "  <thead>\n",
              "    <tr style=\"text-align: right;\">\n",
              "      <th></th>\n",
              "      <th>id</th>\n",
              "      <th>quoteID</th>\n",
              "      <th>quotation</th>\n",
              "      <th>speaker</th>\n",
              "      <th>probas</th>\n",
              "      <th>date</th>\n",
              "      <th>numOccurrences</th>\n",
              "      <th>urls</th>\n",
              "      <th>phase</th>\n",
              "      <th>label</th>\n",
              "      <th>date_of_birth</th>\n",
              "      <th>nationality</th>\n",
              "      <th>gender</th>\n",
              "      <th>ethnic_group</th>\n",
              "      <th>occupation</th>\n",
              "      <th>party</th>\n",
              "      <th>academic_degree</th>\n",
              "      <th>religion</th>\n",
              "    </tr>\n",
              "  </thead>\n",
              "  <tbody>\n",
              "    <tr>\n",
              "      <th>0</th>\n",
              "      <td>Q20251661</td>\n",
              "      <td>2020-01-31-011304</td>\n",
              "      <td>Brexit is the victory of the common people aga...</td>\n",
              "      <td>Laura Huhtasaari</td>\n",
              "      <td>[[Laura Huhtasaari, 0.9325], [None, 0.059], [P...</td>\n",
              "      <td>2020-01-31 03:25:04</td>\n",
              "      <td>1</td>\n",
              "      <td>[http://voanews.com/europe/shrug-and-some-sorr...</td>\n",
              "      <td>E</td>\n",
              "      <td>Laura Huhtasaari</td>\n",
              "      <td>[+1979-03-30T00:00:00Z]</td>\n",
              "      <td>Finland</td>\n",
              "      <td>female</td>\n",
              "      <td>0</td>\n",
              "      <td>politician</td>\n",
              "      <td>Finns Party</td>\n",
              "      <td>0</td>\n",
              "      <td>Lutheranism</td>\n",
              "    </tr>\n",
              "    <tr>\n",
              "      <th>1</th>\n",
              "      <td>Q694676</td>\n",
              "      <td>2020-02-13-014393</td>\n",
              "      <td>Certainly Brexit was a big issue and people we...</td>\n",
              "      <td>Pat McFadden</td>\n",
              "      <td>[[Pat McFadden, 0.9371], [None, 0.0535], [Jere...</td>\n",
              "      <td>2020-02-13 06:01:30</td>\n",
              "      <td>1</td>\n",
              "      <td>[http://www.expressandstar.com/news/politics/2...</td>\n",
              "      <td>E</td>\n",
              "      <td>Pat McFadden</td>\n",
              "      <td>[+1965-03-26T00:00:00Z]</td>\n",
              "      <td>United Kingdom</td>\n",
              "      <td>male</td>\n",
              "      <td>0</td>\n",
              "      <td>politician</td>\n",
              "      <td>Labour Party</td>\n",
              "      <td>0</td>\n",
              "      <td>0</td>\n",
              "    </tr>\n",
              "    <tr>\n",
              "      <th>2</th>\n",
              "      <td>Q1341937</td>\n",
              "      <td>2020-03-08-010480</td>\n",
              "      <td>I backed leave and voted leave, but I never ca...</td>\n",
              "      <td>Jason McCartney</td>\n",
              "      <td>[[Jason McCartney, 0.8274], [None, 0.128], [Li...</td>\n",
              "      <td>2020-03-08 05:45:58</td>\n",
              "      <td>1</td>\n",
              "      <td>[http://www.yorkshirepost.co.uk/news/second-ti...</td>\n",
              "      <td>E</td>\n",
              "      <td>Jason McCartney</td>\n",
              "      <td>[+1973-09-03T00:00:00Z]</td>\n",
              "      <td>United States of America</td>\n",
              "      <td>male</td>\n",
              "      <td>0</td>\n",
              "      <td>sport cyclist</td>\n",
              "      <td>0</td>\n",
              "      <td>0</td>\n",
              "      <td>0</td>\n",
              "    </tr>\n",
              "    <tr>\n",
              "      <th>3</th>\n",
              "      <td>Q6837191</td>\n",
              "      <td>2020-02-14-058019</td>\n",
              "      <td>legacy, bad faith on pensions, Brexit and poli...</td>\n",
              "      <td>Michelle O'Neill</td>\n",
              "      <td>[[Michelle O'Neill, 0.8055], [None, 0.1302], [...</td>\n",
              "      <td>2020-02-14 11:48:49</td>\n",
              "      <td>1</td>\n",
              "      <td>[https://www.belfasttelegraph.co.uk/news/north...</td>\n",
              "      <td>E</td>\n",
              "      <td>Michelle O'Neill</td>\n",
              "      <td>[+1977-01-10T00:00:00Z]</td>\n",
              "      <td>Northern Ireland</td>\n",
              "      <td>female</td>\n",
              "      <td>0</td>\n",
              "      <td>politician</td>\n",
              "      <td>Sinn Féin</td>\n",
              "      <td>0</td>\n",
              "      <td>0</td>\n",
              "    </tr>\n",
              "    <tr>\n",
              "      <th>4</th>\n",
              "      <td>Q1728820</td>\n",
              "      <td>2020-01-27-094916</td>\n",
              "      <td>we're only at half-time on Brexit, it's not do...</td>\n",
              "      <td>Leo Varadkar</td>\n",
              "      <td>[[Leo Varadkar, 0.9378], [None, 0.0502], [Bori...</td>\n",
              "      <td>2020-01-27 12:25:00</td>\n",
              "      <td>1</td>\n",
              "      <td>[http://blogs.independent.co.uk/voices/brexit-...</td>\n",
              "      <td>E</td>\n",
              "      <td>Leo Varadkar</td>\n",
              "      <td>[+1979-01-18T00:00:00Z]</td>\n",
              "      <td>Ireland</td>\n",
              "      <td>male</td>\n",
              "      <td>0</td>\n",
              "      <td>politician</td>\n",
              "      <td>Fine Gael</td>\n",
              "      <td>0</td>\n",
              "      <td>0</td>\n",
              "    </tr>\n",
              "  </tbody>\n",
              "</table>\n",
              "</div>"
            ],
            "text/plain": [
              "          id            quoteID  ... academic_degree     religion\n",
              "0  Q20251661  2020-01-31-011304  ...               0  Lutheranism\n",
              "1    Q694676  2020-02-13-014393  ...               0            0\n",
              "2   Q1341937  2020-03-08-010480  ...               0            0\n",
              "3   Q6837191  2020-02-14-058019  ...               0            0\n",
              "4   Q1728820  2020-01-27-094916  ...               0            0\n",
              "\n",
              "[5 rows x 18 columns]"
            ]
          },
          "metadata": {},
          "execution_count": 15
        }
      ]
    },
    {
      "cell_type": "markdown",
      "metadata": {
        "id": "JGkBBfAp5iKa"
      },
      "source": [
        "# Preliminary Analysis"
      ]
    },
    {
      "cell_type": "markdown",
      "metadata": {
        "id": "NVqt6H9T94NU"
      },
      "source": [
        "## How many quotations related to Brexit"
      ]
    },
    {
      "cell_type": "code",
      "metadata": {
        "colab": {
          "base_uri": "https://localhost:8080/"
        },
        "id": "xIlsO5SgyHJf",
        "outputId": "d84c33e0-bd87-4d5a-b419-74dafc2bb203"
      },
      "source": [
        "df.shape[0]"
      ],
      "execution_count": null,
      "outputs": [
        {
          "output_type": "execute_result",
          "data": {
            "text/plain": [
              "101878"
            ]
          },
          "metadata": {},
          "execution_count": 16
        }
      ]
    },
    {
      "cell_type": "markdown",
      "metadata": {
        "id": "3WeP9xI2ij_L"
      },
      "source": [
        "We thus have more thant 101 thousands datapoints containing quotations we judge related to Brexit. We consider it enough to run the analysis."
      ]
    },
    {
      "cell_type": "code",
      "metadata": {
        "colab": {
          "base_uri": "https://localhost:8080/"
        },
        "id": "TQxGvDTlwIkP",
        "outputId": "241b9926-fd5f-4fc3-a870-24d259d89caa"
      },
      "source": [
        "# Remove punctuation\n",
        "df['quotation_processed'] = \\\n",
        "df[\"quotation\"].map(lambda x: re.sub('[,\\.!?]', '', x))\n",
        "# Convert the titles to lowercase\n",
        "df['quotation_processed'] = \\\n",
        "df['quotation_processed'].map(lambda x: x.lower())\n",
        "# Print out the first rows of papers\n",
        "df['quotation_processed'].head()"
      ],
      "execution_count": null,
      "outputs": [
        {
          "output_type": "execute_result",
          "data": {
            "text/plain": [
              "0    brexit is the victory of the common people aga...\n",
              "1    certainly brexit was a big issue and people we...\n",
              "2    i backed leave and voted leave but i never cal...\n",
              "3    legacy bad faith on pensions brexit and politi...\n",
              "4    we're only at half-time on brexit it's not don...\n",
              "Name: quotation_processed, dtype: object"
            ]
          },
          "metadata": {},
          "execution_count": 12
        }
      ]
    },
    {
      "cell_type": "markdown",
      "metadata": {
        "id": "7Vvvvn8gCWqD"
      },
      "source": [
        "# Sentiment analysis \n",
        "\n",
        "## Method 1: using package TextBlob"
      ]
    },
    {
      "cell_type": "code",
      "source": [
        "from textblob import TextBlob"
      ],
      "metadata": {
        "id": "UCN6vmYyrip_"
      },
      "execution_count": null,
      "outputs": []
    },
    {
      "cell_type": "code",
      "metadata": {
        "colab": {
          "base_uri": "https://localhost:8080/",
          "height": 502
        },
        "id": "WZmjGAhoAkKz",
        "outputId": "50b46def-eff2-408b-acce-7e7f3b9e3d26"
      },
      "source": [
        "# perform a naive sentimental analysis\n",
        "if 'polarity' not in df.columns:\n",
        "  df.insert(df.shape[1],'polarity','None')\n",
        "\n",
        "# this function simply return the sentiment classification for the scentence\n",
        "def polarity_to_text(blob):  \n",
        "      if (blob.sentiment.polarity > 0.1):\n",
        "        #'Polarity is positive 😊'\n",
        "          return 'postive'\n",
        "      elif(blob.sentiment.polarity <= 0.1 and  blob.sentiment.polarity >= -0.1):\n",
        "          # 'Polarity is neutral 😐'\n",
        "          return 'neutral'\n",
        "      else:\n",
        "        # 'Polarity is negative 😡' \n",
        "          return 'negative'\n",
        "\n",
        "def get_polarity(blob):\n",
        "  return blob.sentiment.polarity\n",
        "\n",
        "if df.iloc[1].polarity==\"None\":\n",
        "  for i,data in df.iterrows():\n",
        "    blob = TextBlob(data.quotation)\n",
        "    emotion=polarity_to_text(blob)\n",
        "    polarity= get_polarity(blob)\n",
        "    df.at[i,'polarity_TextBlob']=polarity\n",
        "    df.at[i,'polarity']=emotion\n",
        "\n",
        "\n",
        "\n",
        "plt.figure(figsize=(12,8))\n",
        "sns.set_theme(style=\"darkgrid\")\n",
        "ax = sns.countplot(x=\"polarity\", data=df,palette=\"Set3\")\n",
        "plt.show()"
      ],
      "execution_count": null,
      "outputs": [
        {
          "output_type": "display_data",
          "data": {
            "image/png": "[encoded data removed]",
            "text/plain": [
              "<Figure size 864x576 with 1 Axes>"
            ]
          },
          "metadata": {}
        }
      ]
    },
    {
      "cell_type": "code",
      "metadata": {
        "colab": {
          "base_uri": "https://localhost:8080/"
        },
        "id": "uQNHeYXsM5fP",
        "outputId": "b742503c-3c17-4447-cd96-c7a50cdfd907"
      },
      "source": [
        "df.columns"
      ],
      "execution_count": null,
      "outputs": [
        {
          "output_type": "execute_result",
          "data": {
            "text/plain": [
              "Index(['id', 'quoteID', 'quotation', 'speaker', 'probas', 'date',\n",
              "       'numOccurrences', 'urls', 'phase', 'label', 'date_of_birth',\n",
              "       'nationality', 'gender', 'ethnic_group', 'occupation', 'party',\n",
              "       'academic_degree', 'religion', 'polarity_TextBlob', 'polarity'],\n",
              "      dtype='object')"
            ]
          },
          "metadata": {},
          "execution_count": 22
        }
      ]
    },
    {
      "cell_type": "markdown",
      "metadata": {
        "id": "AvQNayNmxurp"
      },
      "source": [
        "Because we don't really need the result of each method since we will average, we drop it:"
      ]
    },
    {
      "cell_type": "code",
      "metadata": {
        "colab": {
          "base_uri": "https://localhost:8080/"
        },
        "id": "jliNztZPxGMv",
        "outputId": "cdc5fc77-0ceb-40d0-9c05-0e8f2789523c"
      },
      "source": [
        "df=df.drop(['polarity'], axis=1)\n",
        "df.columns"
      ],
      "execution_count": null,
      "outputs": [
        {
          "output_type": "execute_result",
          "data": {
            "text/plain": [
              "Index(['id', 'quoteID', 'quotation', 'speaker', 'probas', 'date',\n",
              "       'numOccurrences', 'urls', 'phase', 'label', 'date_of_birth',\n",
              "       'nationality', 'gender', 'ethnic_group', 'occupation', 'party',\n",
              "       'academic_degree', 'religion', 'polarity_TextBlob'],\n",
              "      dtype='object')"
            ]
          },
          "metadata": {},
          "execution_count": 23
        }
      ]
    },
    {
      "cell_type": "code",
      "metadata": {
        "id": "qj9Z8rx1AZrO"
      },
      "source": [
        "df.to_pickle('/content/drive/Shareddrives/Ada/SentimentAnalysis_temp.pkl')"
      ],
      "execution_count": null,
      "outputs": []
    },
    {
      "cell_type": "markdown",
      "metadata": {
        "id": "YZxzMIg5C_QB"
      },
      "source": [
        "According to our first sentiment analysis result, most of quotations reflect neutral attitude towards Brexit. It's noticeable that amount of quotations showing positive attitudes is much higher than showing negative attitudes. But, those results may not accurate. We will update the sentiment analysis in milestone 3!\n",
        "\n",
        "## Method 2: using package Sentiment Intensity Analyser"
      ]
    },
    {
      "cell_type": "code",
      "source": [
        "from nltk.sentiment import SentimentIntensityAnalyzer\n",
        "import operator\n",
        "nltk.download('vader_lexicon')"
      ],
      "metadata": {
        "id": "iOkThKKErgDl"
      },
      "execution_count": null,
      "outputs": []
    },
    {
      "cell_type": "code",
      "metadata": {
        "id": "u8nbdxD8DElu"
      },
      "source": [
        "#defining our model:\n",
        "sia = SentimentIntensityAnalyzer()\n",
        "\n",
        "# score of sentiment analysis\n",
        "df[\"polarity_SentimentIntensityAnalyze\"] = df['quotation'].apply(lambda x: sia.polarity_scores(x)[\"compound\"])"
      ],
      "execution_count": null,
      "outputs": []
    },
    {
      "cell_type": "code",
      "metadata": {
        "id": "dUAPj1QIyVwf"
      },
      "source": [
        "# Define the emotion according to the polarity\n",
        "if 'emotion_SentimentIntensityAnalyze' not in df.columns:\n",
        "  df.insert(df.shape[1],'emotion_SentimentIntensityAnalyze','None')\n",
        "\n",
        "def polarity_to_text2(row):  \n",
        "      if (row> 0.1):\n",
        "        #'Polarity is positive 😊'\n",
        "          return 'postive'\n",
        "      elif(row <= 0.1 and  row >= -0.1):\n",
        "          # 'Polarity is neutral 😐'\n",
        "          return 'neutral'\n",
        "      else:\n",
        "        # 'Polarity is negative 😡' \n",
        "          return 'negative'\n",
        "\n",
        "\n",
        "\n",
        "for i in range(len(df)):\n",
        "  df.at[i,'emotion_SentimentIntensityAnalyze']=polarity_to_text2(df['polarity_SentimentIntensityAnalyze'][i])\n"
      ],
      "execution_count": null,
      "outputs": []
    },
    {
      "cell_type": "code",
      "metadata": {
        "colab": {
          "base_uri": "https://localhost:8080/",
          "height": 643
        },
        "id": "NBpXRq12086v",
        "outputId": "b8c41b9f-fbb8-4a89-b868-39cfdf05f888"
      },
      "source": [
        "df.head()"
      ],
      "execution_count": null,
      "outputs": [
        {
          "output_type": "execute_result",
          "data": {
            "text/html": [
              "<div>\n",
              "<style scoped>\n",
              "    .dataframe tbody tr th:only-of-type {\n",
              "        vertical-align: middle;\n",
              "    }\n",
              "\n",
              "    .dataframe tbody tr th {\n",
              "        vertical-align: top;\n",
              "    }\n",
              "\n",
              "    .dataframe thead th {\n",
              "        text-align: right;\n",
              "    }\n",
              "</style>\n",
              "<table border=\"1\" class=\"dataframe\">\n",
              "  <thead>\n",
              "    <tr style=\"text-align: right;\">\n",
              "      <th></th>\n",
              "      <th>id</th>\n",
              "      <th>quoteID</th>\n",
              "      <th>quotation</th>\n",
              "      <th>speaker</th>\n",
              "      <th>probas</th>\n",
              "      <th>date</th>\n",
              "      <th>numOccurrences</th>\n",
              "      <th>urls</th>\n",
              "      <th>phase</th>\n",
              "      <th>label</th>\n",
              "      <th>date_of_birth</th>\n",
              "      <th>nationality</th>\n",
              "      <th>gender</th>\n",
              "      <th>ethnic_group</th>\n",
              "      <th>occupation</th>\n",
              "      <th>party</th>\n",
              "      <th>academic_degree</th>\n",
              "      <th>religion</th>\n",
              "      <th>polarity_TextBlob</th>\n",
              "      <th>polarity_SentimentIntensityAnalyze</th>\n",
              "      <th>emotion_SentimentIntensityAnalyze</th>\n",
              "    </tr>\n",
              "  </thead>\n",
              "  <tbody>\n",
              "    <tr>\n",
              "      <th>0</th>\n",
              "      <td>Q20251661</td>\n",
              "      <td>2020-01-31-011304</td>\n",
              "      <td>Brexit is the victory of the common people aga...</td>\n",
              "      <td>Laura Huhtasaari</td>\n",
              "      <td>[[Laura Huhtasaari, 0.9325], [None, 0.059], [P...</td>\n",
              "      <td>2020-01-31 03:25:04</td>\n",
              "      <td>1</td>\n",
              "      <td>[http://voanews.com/europe/shrug-and-some-sorr...</td>\n",
              "      <td>E</td>\n",
              "      <td>Laura Huhtasaari</td>\n",
              "      <td>[+1979-03-30T00:00:00Z]</td>\n",
              "      <td>Finland</td>\n",
              "      <td>female</td>\n",
              "      <td>0</td>\n",
              "      <td>politician</td>\n",
              "      <td>Finns Party</td>\n",
              "      <td>0</td>\n",
              "      <td>Lutheranism</td>\n",
              "      <td>-0.022619</td>\n",
              "      <td>0.5719</td>\n",
              "      <td>postive</td>\n",
              "    </tr>\n",
              "    <tr>\n",
              "      <th>1</th>\n",
              "      <td>Q694676</td>\n",
              "      <td>2020-02-13-014393</td>\n",
              "      <td>Certainly Brexit was a big issue and people we...</td>\n",
              "      <td>Pat McFadden</td>\n",
              "      <td>[[Pat McFadden, 0.9371], [None, 0.0535], [Jere...</td>\n",
              "      <td>2020-02-13 06:01:30</td>\n",
              "      <td>1</td>\n",
              "      <td>[http://www.expressandstar.com/news/politics/2...</td>\n",
              "      <td>E</td>\n",
              "      <td>Pat McFadden</td>\n",
              "      <td>[+1965-03-26T00:00:00Z]</td>\n",
              "      <td>United Kingdom</td>\n",
              "      <td>male</td>\n",
              "      <td>0</td>\n",
              "      <td>politician</td>\n",
              "      <td>Labour Party</td>\n",
              "      <td>0</td>\n",
              "      <td>0</td>\n",
              "      <td>-0.161905</td>\n",
              "      <td>-0.2500</td>\n",
              "      <td>negative</td>\n",
              "    </tr>\n",
              "    <tr>\n",
              "      <th>2</th>\n",
              "      <td>Q1341937</td>\n",
              "      <td>2020-03-08-010480</td>\n",
              "      <td>I backed leave and voted leave, but I never ca...</td>\n",
              "      <td>Jason McCartney</td>\n",
              "      <td>[[Jason McCartney, 0.8274], [None, 0.128], [Li...</td>\n",
              "      <td>2020-03-08 05:45:58</td>\n",
              "      <td>1</td>\n",
              "      <td>[http://www.yorkshirepost.co.uk/news/second-ti...</td>\n",
              "      <td>E</td>\n",
              "      <td>Jason McCartney</td>\n",
              "      <td>[+1973-09-03T00:00:00Z]</td>\n",
              "      <td>United States of America</td>\n",
              "      <td>male</td>\n",
              "      <td>0</td>\n",
              "      <td>sport cyclist</td>\n",
              "      <td>0</td>\n",
              "      <td>0</td>\n",
              "      <td>0</td>\n",
              "      <td>0.000000</td>\n",
              "      <td>-0.4243</td>\n",
              "      <td>negative</td>\n",
              "    </tr>\n",
              "    <tr>\n",
              "      <th>3</th>\n",
              "      <td>Q6837191</td>\n",
              "      <td>2020-02-14-058019</td>\n",
              "      <td>legacy, bad faith on pensions, Brexit and poli...</td>\n",
              "      <td>Michelle O'Neill</td>\n",
              "      <td>[[Michelle O'Neill, 0.8055], [None, 0.1302], [...</td>\n",
              "      <td>2020-02-14 11:48:49</td>\n",
              "      <td>1</td>\n",
              "      <td>[https://www.belfasttelegraph.co.uk/news/north...</td>\n",
              "      <td>E</td>\n",
              "      <td>Michelle O'Neill</td>\n",
              "      <td>[+1977-01-10T00:00:00Z]</td>\n",
              "      <td>Northern Ireland</td>\n",
              "      <td>female</td>\n",
              "      <td>0</td>\n",
              "      <td>politician</td>\n",
              "      <td>Sinn Féin</td>\n",
              "      <td>0</td>\n",
              "      <td>0</td>\n",
              "      <td>-0.233333</td>\n",
              "      <td>-0.0516</td>\n",
              "      <td>neutral</td>\n",
              "    </tr>\n",
              "    <tr>\n",
              "      <th>4</th>\n",
              "      <td>Q1728820</td>\n",
              "      <td>2020-01-27-094916</td>\n",
              "      <td>we're only at half-time on Brexit, it's not do...</td>\n",
              "      <td>Leo Varadkar</td>\n",
              "      <td>[[Leo Varadkar, 0.9378], [None, 0.0502], [Bori...</td>\n",
              "      <td>2020-01-27 12:25:00</td>\n",
              "      <td>1</td>\n",
              "      <td>[http://blogs.independent.co.uk/voices/brexit-...</td>\n",
              "      <td>E</td>\n",
              "      <td>Leo Varadkar</td>\n",
              "      <td>[+1979-01-18T00:00:00Z]</td>\n",
              "      <td>Ireland</td>\n",
              "      <td>male</td>\n",
              "      <td>0</td>\n",
              "      <td>politician</td>\n",
              "      <td>Fine Gael</td>\n",
              "      <td>0</td>\n",
              "      <td>0</td>\n",
              "      <td>0.000000</td>\n",
              "      <td>0.0000</td>\n",
              "      <td>neutral</td>\n",
              "    </tr>\n",
              "  </tbody>\n",
              "</table>\n",
              "</div>"
            ],
            "text/plain": [
              "          id  ... emotion_SentimentIntensityAnalyze\n",
              "0  Q20251661  ...                           postive\n",
              "1    Q694676  ...                          negative\n",
              "2   Q1341937  ...                          negative\n",
              "3   Q6837191  ...                           neutral\n",
              "4   Q1728820  ...                           neutral\n",
              "\n",
              "[5 rows x 21 columns]"
            ]
          },
          "metadata": {},
          "execution_count": 28
        }
      ]
    },
    {
      "cell_type": "code",
      "metadata": {
        "colab": {
          "base_uri": "https://localhost:8080/",
          "height": 502
        },
        "id": "zpKNqk3i1LJT",
        "outputId": "a380df4f-a90b-45bb-8afa-40c6f2fcba59"
      },
      "source": [
        "# View the distribution of emotions\n",
        "plt.figure(figsize=(12,8))\n",
        "sns.set_theme(style=\"darkgrid\")\n",
        "ax = sns.countplot(x=\"emotion_SentimentIntensityAnalyze\", data=df,palette=\"Set3\")\n",
        "plt.show()"
      ],
      "execution_count": null,
      "outputs": [
        {
          "output_type": "display_data",
          "data": {
            "image/png": "[encoded data removed]",
            "text/plain": [
              "<Figure size 864x576 with 1 Axes>"
            ]
          },
          "metadata": {}
        }
      ]
    },
    {
      "cell_type": "code",
      "metadata": {
        "colab": {
          "base_uri": "https://localhost:8080/"
        },
        "id": "7uo0Q5Oi2wis",
        "outputId": "5a8d1a77-ef35-4b79-abce-1ee280c7e46c"
      },
      "source": [
        "# again dropping the result:\n",
        "df=df.drop(['emotion_SentimentIntensityAnalyze'], axis=1)\n",
        "df.columns"
      ],
      "execution_count": null,
      "outputs": [
        {
          "output_type": "execute_result",
          "data": {
            "text/plain": [
              "Index(['id', 'quoteID', 'quotation', 'speaker', 'probas', 'date',\n",
              "       'numOccurrences', 'urls', 'phase', 'label', 'date_of_birth',\n",
              "       'nationality', 'gender', 'ethnic_group', 'occupation', 'party',\n",
              "       'academic_degree', 'religion', 'polarity_TextBlob',\n",
              "       'polarity_SentimentIntensityAnalyze'],\n",
              "      dtype='object')"
            ]
          },
          "metadata": {},
          "execution_count": 30
        }
      ]
    },
    {
      "cell_type": "code",
      "metadata": {
        "id": "D2lzUwhnARuR"
      },
      "source": [
        "df.to_pickle('/content/drive/Shareddrives/Ada/SentimentAnalysis_temp.pkl')"
      ],
      "execution_count": null,
      "outputs": []
    },
    {
      "cell_type": "markdown",
      "metadata": {
        "id": "SI-2bFxox5lr"
      },
      "source": [
        "Method 3: Using the Flair Package:"
      ]
    },
    {
      "cell_type": "code",
      "metadata": {
        "colab": {
          "base_uri": "https://localhost:8080/",
          "height": 1000
        },
        "id": "SC0UbfJFzMpK",
        "outputId": "48e981dd-c196-4110-fac8-ceca9cd6623d"
      },
      "source": [
        "!pip install flair"
      ],
      "execution_count": null,
      "outputs": [
        {
          "output_type": "stream",
          "name": "stdout",
          "text": [
            "Collecting flair\n",
            "  Downloading flair-0.10-py3-none-any.whl (322 kB)\n",
            "\u001b[?25l\r\u001b[K     |█                               | 10 kB 25.4 MB/s eta 0:00:01\r\u001b[K     |██                              | 20 kB 26.4 MB/s eta 0:00:01\r\u001b[K     |███                             | 30 kB 11.9 MB/s eta 0:00:01\r\u001b[K     |████                            | 40 kB 9.0 MB/s eta 0:00:01\r\u001b[K     |█████                           | 51 kB 5.4 MB/s eta 0:00:01\r\u001b[K     |██████                          | 61 kB 5.9 MB/s eta 0:00:01\r\u001b[K     |███████                         | 71 kB 5.7 MB/s eta 0:00:01\r\u001b[K     |████████▏                       | 81 kB 6.3 MB/s eta 0:00:01\r\u001b[K     |█████████▏                      | 92 kB 4.9 MB/s eta 0:00:01\r\u001b[K     |██████████▏                     | 102 kB 5.2 MB/s eta 0:00:01\r\u001b[K     |███████████▏                    | 112 kB 5.2 MB/s eta 0:00:01\r\u001b[K     |████████████▏                   | 122 kB 5.2 MB/s eta 0:00:01\r\u001b[K     |█████████████▏                  | 133 kB 5.2 MB/s eta 0:00:01\r\u001b[K     |██████████████▏                 | 143 kB 5.2 MB/s eta 0:00:01\r\u001b[K     |███████████████▎                | 153 kB 5.2 MB/s eta 0:00:01\r\u001b[K     |████████████████▎               | 163 kB 5.2 MB/s eta 0:00:01\r\u001b[K     |█████████████████▎              | 174 kB 5.2 MB/s eta 0:00:01\r\u001b[K     |██████████████████▎             | 184 kB 5.2 MB/s eta 0:00:01\r\u001b[K     |███████████████████▎            | 194 kB 5.2 MB/s eta 0:00:01\r\u001b[K     |████████████████████▎           | 204 kB 5.2 MB/s eta 0:00:01\r\u001b[K     |█████████████████████▎          | 215 kB 5.2 MB/s eta 0:00:01\r\u001b[K     |██████████████████████▍         | 225 kB 5.2 MB/s eta 0:00:01\r\u001b[K     |███████████████████████▍        | 235 kB 5.2 MB/s eta 0:00:01\r\u001b[K     |████████████████████████▍       | 245 kB 5.2 MB/s eta 0:00:01\r\u001b[K     |█████████████████████████▍      | 256 kB 5.2 MB/s eta 0:00:01\r\u001b[K     |██████████████████████████▍     | 266 kB 5.2 MB/s eta 0:00:01\r\u001b[K     |███████████████████████████▍    | 276 kB 5.2 MB/s eta 0:00:01\r\u001b[K     |████████████████████████████▍   | 286 kB 5.2 MB/s eta 0:00:01\r\u001b[K     |█████████████████████████████▌  | 296 kB 5.2 MB/s eta 0:00:01\r\u001b[K     |██████████████████████████████▌ | 307 kB 5.2 MB/s eta 0:00:01\r\u001b[K     |███████████████████████████████▌| 317 kB 5.2 MB/s eta 0:00:01\r\u001b[K     |████████████████████████████████| 322 kB 5.2 MB/s \n",
            "\u001b[?25hCollecting konoha<5.0.0,>=4.0.0\n",
            "  Downloading konoha-4.6.5-py3-none-any.whl (20 kB)\n",
            "Collecting segtok>=1.5.7\n",
            "  Downloading segtok-1.5.10.tar.gz (25 kB)\n",
            "Collecting bpemb>=0.3.2\n",
            "  Downloading bpemb-0.3.3-py3-none-any.whl (19 kB)\n",
            "Requirement already satisfied: matplotlib>=2.2.3 in /usr/local/lib/python3.7/dist-packages (from flair) (3.2.2)\n",
            "Collecting janome\n",
            "  Downloading Janome-0.4.1-py2.py3-none-any.whl (19.7 MB)\n",
            "\u001b[K     |████████████████████████████████| 19.7 MB 1.3 MB/s \n",
            "\u001b[?25hRequirement already satisfied: tqdm>=4.26.0 in /usr/local/lib/python3.7/dist-packages (from flair) (4.62.3)\n",
            "Collecting ftfy\n",
            "  Downloading ftfy-6.0.3.tar.gz (64 kB)\n",
            "\u001b[K     |████████████████████████████████| 64 kB 2.8 MB/s \n",
            "\u001b[?25hRequirement already satisfied: gensim>=3.4.0 in /usr/local/lib/python3.7/dist-packages (from flair) (3.6.0)\n",
            "Collecting wikipedia-api\n",
            "  Downloading Wikipedia-API-0.5.4.tar.gz (18 kB)\n",
            "Collecting transformers>=4.0.0\n",
            "  Downloading transformers-4.13.0-py3-none-any.whl (3.3 MB)\n",
            "\u001b[K     |████████████████████████████████| 3.3 MB 35.6 MB/s \n",
            "\u001b[?25hCollecting huggingface-hub\n",
            "  Downloading huggingface_hub-0.2.1-py3-none-any.whl (61 kB)\n",
            "\u001b[K     |████████████████████████████████| 61 kB 501 kB/s \n",
            "\u001b[?25hRequirement already satisfied: tabulate in /usr/local/lib/python3.7/dist-packages (from flair) (0.8.9)\n",
            "Collecting mpld3==0.3\n",
            "  Downloading mpld3-0.3.tar.gz (788 kB)\n",
            "\u001b[K     |████████████████████████████████| 788 kB 51.6 MB/s \n",
            "\u001b[?25hRequirement already satisfied: torch!=1.8,>=1.5.0 in /usr/local/lib/python3.7/dist-packages (from flair) (1.10.0+cu111)\n",
            "Requirement already satisfied: lxml in /usr/local/lib/python3.7/dist-packages (from flair) (4.2.6)\n",
            "Collecting langdetect\n",
            "  Downloading langdetect-1.0.9.tar.gz (981 kB)\n",
            "\u001b[K     |████████████████████████████████| 981 kB 28.0 MB/s \n",
            "\u001b[?25hCollecting more-itertools~=8.8.0\n",
            "  Downloading more_itertools-8.8.0-py3-none-any.whl (48 kB)\n",
            "\u001b[K     |████████████████████████████████| 48 kB 5.3 MB/s \n",
            "\u001b[?25hRequirement already satisfied: regex in /usr/local/lib/python3.7/dist-packages (from flair) (2019.12.20)\n",
            "Collecting sentencepiece==0.1.95\n",
            "  Downloading sentencepiece-0.1.95-cp37-cp37m-manylinux2014_x86_64.whl (1.2 MB)\n",
            "\u001b[K     |████████████████████████████████| 1.2 MB 44.3 MB/s \n",
            "\u001b[?25hCollecting gdown==3.12.2\n",
            "  Downloading gdown-3.12.2.tar.gz (8.2 kB)\n",
            "  Installing build dependencies ... \u001b[?25l\u001b[?25hdone\n",
            "  Getting requirements to build wheel ... \u001b[?25l\u001b[?25hdone\n",
            "    Preparing wheel metadata ... \u001b[?25l\u001b[?25hdone\n",
            "Collecting deprecated>=1.2.4\n",
            "  Downloading Deprecated-1.2.13-py2.py3-none-any.whl (9.6 kB)\n",
            "Collecting sqlitedict>=1.6.0\n",
            "  Downloading sqlitedict-1.7.0.tar.gz (28 kB)\n",
            "Requirement already satisfied: scikit-learn>=0.21.3 in /usr/local/lib/python3.7/dist-packages (from flair) (1.0.1)\n",
            "Requirement already satisfied: python-dateutil>=2.6.1 in /usr/local/lib/python3.7/dist-packages (from flair) (2.8.2)\n",
            "Collecting conllu>=4.0\n",
            "  Downloading conllu-4.4.1-py2.py3-none-any.whl (15 kB)\n",
            "Requirement already satisfied: requests[socks] in /usr/local/lib/python3.7/dist-packages (from gdown==3.12.2->flair) (2.23.0)\n",
            "Requirement already satisfied: filelock in /usr/local/lib/python3.7/dist-packages (from gdown==3.12.2->flair) (3.4.0)\n",
            "Requirement already satisfied: six in /usr/local/lib/python3.7/dist-packages (from gdown==3.12.2->flair) (1.15.0)\n",
            "Requirement already satisfied: numpy in /usr/local/lib/python3.7/dist-packages (from bpemb>=0.3.2->flair) (1.19.5)\n",
            "Requirement already satisfied: wrapt<2,>=1.10 in /usr/local/lib/python3.7/dist-packages (from deprecated>=1.2.4->flair) (1.13.3)\n",
            "Requirement already satisfied: scipy>=0.18.1 in /usr/local/lib/python3.7/dist-packages (from gensim>=3.4.0->flair) (1.4.1)\n",
            "Requirement already satisfied: smart-open>=1.2.1 in /usr/local/lib/python3.7/dist-packages (from gensim>=3.4.0->flair) (5.2.1)\n",
            "Collecting overrides<4.0.0,>=3.0.0\n",
            "  Downloading overrides-3.1.0.tar.gz (11 kB)\n",
            "Collecting importlib-metadata<4.0.0,>=3.7.0\n",
            "  Downloading importlib_metadata-3.10.1-py3-none-any.whl (14 kB)\n",
            "Collecting requests\n",
            "  Downloading requests-2.26.0-py2.py3-none-any.whl (62 kB)\n",
            "\u001b[K     |████████████████████████████████| 62 kB 827 kB/s \n",
            "\u001b[?25hRequirement already satisfied: zipp>=0.5 in /usr/local/lib/python3.7/dist-packages (from importlib-metadata<4.0.0,>=3.7.0->konoha<5.0.0,>=4.0.0->flair) (3.6.0)\n",
            "Requirement already satisfied: typing-extensions>=3.6.4 in /usr/local/lib/python3.7/dist-packages (from importlib-metadata<4.0.0,>=3.7.0->konoha<5.0.0,>=4.0.0->flair) (3.10.0.2)\n",
            "Requirement already satisfied: cycler>=0.10 in /usr/local/lib/python3.7/dist-packages (from matplotlib>=2.2.3->flair) (0.11.0)\n",
            "Requirement already satisfied: pyparsing!=2.0.4,!=2.1.2,!=2.1.6,>=2.0.1 in /usr/local/lib/python3.7/dist-packages (from matplotlib>=2.2.3->flair) (3.0.6)\n",
            "Requirement already satisfied: kiwisolver>=1.0.1 in /usr/local/lib/python3.7/dist-packages (from matplotlib>=2.2.3->flair) (1.3.2)\n",
            "Requirement already satisfied: urllib3<1.27,>=1.21.1 in /usr/local/lib/python3.7/dist-packages (from requests->bpemb>=0.3.2->flair) (1.24.3)\n",
            "Requirement already satisfied: certifi>=2017.4.17 in /usr/local/lib/python3.7/dist-packages (from requests->bpemb>=0.3.2->flair) (2021.10.8)\n",
            "Requirement already satisfied: idna<4,>=2.5 in /usr/local/lib/python3.7/dist-packages (from requests->bpemb>=0.3.2->flair) (2.10)\n",
            "Requirement already satisfied: charset-normalizer~=2.0.0 in /usr/local/lib/python3.7/dist-packages (from requests->bpemb>=0.3.2->flair) (2.0.8)\n",
            "Requirement already satisfied: joblib>=0.11 in /usr/local/lib/python3.7/dist-packages (from scikit-learn>=0.21.3->flair) (1.1.0)\n",
            "Requirement already satisfied: threadpoolctl>=2.0.0 in /usr/local/lib/python3.7/dist-packages (from scikit-learn>=0.21.3->flair) (3.0.0)\n",
            "Requirement already satisfied: packaging>=20.0 in /usr/local/lib/python3.7/dist-packages (from transformers>=4.0.0->flair) (21.3)\n",
            "Collecting sacremoses\n",
            "  Downloading sacremoses-0.0.46-py3-none-any.whl (895 kB)\n",
            "\u001b[K     |████████████████████████████████| 895 kB 40.8 MB/s \n",
            "\u001b[?25hCollecting tokenizers<0.11,>=0.10.1\n",
            "  Downloading tokenizers-0.10.3-cp37-cp37m-manylinux_2_5_x86_64.manylinux1_x86_64.manylinux_2_12_x86_64.manylinux2010_x86_64.whl (3.3 MB)\n",
            "\u001b[K     |████████████████████████████████| 3.3 MB 36.2 MB/s \n",
            "\u001b[?25hCollecting pyyaml>=5.1\n",
            "  Downloading PyYAML-6.0-cp37-cp37m-manylinux_2_5_x86_64.manylinux1_x86_64.manylinux_2_12_x86_64.manylinux2010_x86_64.whl (596 kB)\n",
            "\u001b[K     |████████████████████████████████| 596 kB 46.6 MB/s \n",
            "\u001b[?25hRequirement already satisfied: wcwidth in /usr/local/lib/python3.7/dist-packages (from ftfy->flair) (0.2.5)\n",
            "Requirement already satisfied: PySocks!=1.5.7,>=1.5.6 in /usr/local/lib/python3.7/dist-packages (from requests->bpemb>=0.3.2->flair) (1.7.1)\n",
            "Requirement already satisfied: click in /usr/local/lib/python3.7/dist-packages (from sacremoses->transformers>=4.0.0->flair) (7.1.2)\n",
            "Building wheels for collected packages: gdown, mpld3, overrides, segtok, sqlitedict, ftfy, langdetect, wikipedia-api\n",
            "  Building wheel for gdown (PEP 517) ... \u001b[?25l\u001b[?25hdone\n",
            "  Created wheel for gdown: filename=gdown-3.12.2-py3-none-any.whl size=9704 sha256=1b5e5cfa39ecd72e14dd6f9fc0906d2bab987336a1655b5bcab371a63f9f6482\n",
            "  Stored in directory: /root/.cache/pip/wheels/ba/e0/7e/726e872a53f7358b4b96a9975b04e98113b005cd8609a63abc\n",
            "  Building wheel for mpld3 (setup.py) ... \u001b[?25l\u001b[?25hdone\n",
            "  Created wheel for mpld3: filename=mpld3-0.3-py3-none-any.whl size=116702 sha256=cfd94b83910aaafc8ce704db0e25a11433327d89e8a937d59521b06fbad29e01\n",
            "  Stored in directory: /root/.cache/pip/wheels/26/70/6a/1c79e59951a41b4045497da187b2724f5659ca64033cf4548e\n",
            "  Building wheel for overrides (setup.py) ... \u001b[?25l\u001b[?25hdone\n",
            "  Created wheel for overrides: filename=overrides-3.1.0-py3-none-any.whl size=10186 sha256=4791e020e56011c345d2043d002141a8f6b6234e16601fd7b67a8cc03a625004\n",
            "  Stored in directory: /root/.cache/pip/wheels/3a/0d/38/01a9bc6e20dcfaf0a6a7b552d03137558ba1c38aea47644682\n",
            "  Building wheel for segtok (setup.py) ... \u001b[?25l\u001b[?25hdone\n",
            "  Created wheel for segtok: filename=segtok-1.5.10-py3-none-any.whl size=25030 sha256=e95b121a4f015ac56015f28b5f8bd56bf09271dccbe351242641459dcceca915\n",
            "  Stored in directory: /root/.cache/pip/wheels/67/b7/d0/a121106e61339eee5ed083bc230b1c8dc422c49a5a28c2addd\n",
            "  Building wheel for sqlitedict (setup.py) ... \u001b[?25l\u001b[?25hdone\n",
            "  Created wheel for sqlitedict: filename=sqlitedict-1.7.0-py3-none-any.whl size=14392 sha256=ea1e68a04901bc33123762e127d3a97cb1af36b320b0b6518c1363361dc912f6\n",
            "  Stored in directory: /root/.cache/pip/wheels/af/94/06/18c0e83e9e227da8f3582810b51f319bbfd181e508676a56c8\n",
            "  Building wheel for ftfy (setup.py) ... \u001b[?25l\u001b[?25hdone\n",
            "  Created wheel for ftfy: filename=ftfy-6.0.3-py3-none-any.whl size=41933 sha256=97e17d2fb7afce92c830bca429a5169e20f6718a3fe008b6027b116c7b63737e\n",
            "  Stored in directory: /root/.cache/pip/wheels/19/f5/38/273eb3b5e76dfd850619312f693716ac4518b498f5ffb6f56d\n",
            "  Building wheel for langdetect (setup.py) ... \u001b[?25l\u001b[?25hdone\n",
            "  Created wheel for langdetect: filename=langdetect-1.0.9-py3-none-any.whl size=993242 sha256=21b97658dec1c67cab79387c39af102cb6006fa84d36c0ecb9171f041ffbd612\n",
            "  Stored in directory: /root/.cache/pip/wheels/c5/96/8a/f90c59ed25d75e50a8c10a1b1c2d4c402e4dacfa87f3aff36a\n",
            "  Building wheel for wikipedia-api (setup.py) ... \u001b[?25l\u001b[?25hdone\n",
            "  Created wheel for wikipedia-api: filename=Wikipedia_API-0.5.4-py3-none-any.whl size=13475 sha256=8b4bbd28f53e64fe009897a0784ed50b957864a77627e00046a6149b6964ea2d\n",
            "  Stored in directory: /root/.cache/pip/wheels/d3/24/56/58ba93cf78be162451144e7a9889603f437976ef1ae7013d04\n",
            "Successfully built gdown mpld3 overrides segtok sqlitedict ftfy langdetect wikipedia-api\n",
            "Installing collected packages: requests, pyyaml, importlib-metadata, tokenizers, sentencepiece, sacremoses, overrides, huggingface-hub, wikipedia-api, transformers, sqlitedict, segtok, mpld3, more-itertools, langdetect, konoha, janome, gdown, ftfy, deprecated, conllu, bpemb, flair\n",
            "  Attempting uninstall: requests\n",
            "    Found existing installation: requests 2.23.0\n",
            "    Uninstalling requests-2.23.0:\n",
            "      Successfully uninstalled requests-2.23.0\n",
            "  Attempting uninstall: pyyaml\n",
            "    Found existing installation: PyYAML 3.13\n",
            "    Uninstalling PyYAML-3.13:\n",
            "      Successfully uninstalled PyYAML-3.13\n",
            "  Attempting uninstall: importlib-metadata\n",
            "    Found existing installation: importlib-metadata 4.8.2\n",
            "    Uninstalling importlib-metadata-4.8.2:\n",
            "      Successfully uninstalled importlib-metadata-4.8.2\n",
            "  Attempting uninstall: more-itertools\n",
            "    Found existing installation: more-itertools 8.12.0\n",
            "    Uninstalling more-itertools-8.12.0:\n",
            "      Successfully uninstalled more-itertools-8.12.0\n",
            "  Attempting uninstall: gdown\n",
            "    Found existing installation: gdown 3.6.4\n",
            "    Uninstalling gdown-3.6.4:\n",
            "      Successfully uninstalled gdown-3.6.4\n",
            "\u001b[31mERROR: pip's dependency resolver does not currently take into account all the packages that are installed. This behaviour is the source of the following dependency conflicts.\n",
            "markdown 3.3.6 requires importlib-metadata>=4.4; python_version < \"3.10\", but you have importlib-metadata 3.10.1 which is incompatible.\n",
            "google-colab 1.0.0 requires requests~=2.23.0, but you have requests 2.26.0 which is incompatible.\n",
            "datascience 0.10.6 requires folium==0.2.1, but you have folium 0.8.3 which is incompatible.\u001b[0m\n",
            "Successfully installed bpemb-0.3.3 conllu-4.4.1 deprecated-1.2.13 flair-0.10 ftfy-6.0.3 gdown-3.12.2 huggingface-hub-0.2.1 importlib-metadata-3.10.1 janome-0.4.1 konoha-4.6.5 langdetect-1.0.9 more-itertools-8.8.0 mpld3-0.3 overrides-3.1.0 pyyaml-6.0 requests-2.26.0 sacremoses-0.0.46 segtok-1.5.10 sentencepiece-0.1.95 sqlitedict-1.7.0 tokenizers-0.10.3 transformers-4.13.0 wikipedia-api-0.5.4\n"
          ]
        },
        {
          "output_type": "display_data",
          "data": {
            "application/vnd.colab-display-data+json": {
              "pip_warning": {
                "packages": [
                  "importlib_metadata",
                  "more_itertools",
                  "requests"
                ]
              }
            }
          },
          "metadata": {}
        }
      ]
    },
    {
      "cell_type": "code",
      "metadata": {
        "colab": {
          "base_uri": "https://localhost:8080/",
          "height": 257,
          "referenced_widgets": [
            "d4c0ab9b4f0f4a389add046469729898",
            "3756c267717b44569c13ef5ce0897987",
            "1611df31306d488f868d9ba6e6e975be",
            "6157aba09b2c4ba1b4cf908c4631ae90",
            "d10e04ccd879477a873c26c5224e7884",
            "315a5c7cc1c4432ba0bfbc6401d9948d",
            "b3c83bcb60ea45baafb28f20d897d07e",
            "1701dee82aa14633a3e4f2ae6a9bad4e",
            "d530344b2ff644bd9a1aa5cc4799afc0",
            "71ad14bc323d4c6a9fdeb772fb0e95f8",
            "301988cc4789425290e27f003d2bc790",
            "dc9b3a5277644f1eb3463c0dc236d92a",
            "89cc32a9017344f0a3c8002b17751ee0",
            "0a5e972d31034437b623c0aac07490fd",
            "1b276362dd1746318af6ff582750f34b",
            "d3b327ddbb634400a61a430dca457654",
            "93ef19f4479441cea47095fd384f6c8e",
            "c60ecba500054d9caaee746f4aa90548",
            "fc29ef36b7b7459584931bc8a193f91f",
            "663f33b586764f0e9de498f17f25ca72",
            "76a6a38ee0aa40bd9979f8ee5a668c9f",
            "8567f0ad72a7470e84c078fa5f1a5fe2",
            "c291f85889e54266a9bfba78f5160bea",
            "bfe53760b5e64be3b005f974b9989d5f",
            "c70fa0e608b44367ab34ef73545fc5ce",
            "94c71b6ce1fe41219292bf2d2f4d87c2",
            "f10b549d1a8d4ffe99d4864a8c2b256a",
            "a0e11d9f002946a3b8a9692dd8744d23",
            "03f2d6d6709f4d8d9d0e7e71b986897b",
            "1ddd3b4821c247d29dad7ccb5de8a744",
            "7cff7738083f4ffbb47427124ac18db8",
            "86cd5046c8bc4829bb7daf206cd1c7bc",
            "a3684cad0ffc400abedc054f55ec9a95",
            "c9b43d377c0d41a99761a13bafe0037a",
            "fd13a56342eb4f6495bb224b678c13cb",
            "e004f4d6f78c4af19790909cb1e55128",
            "3dc299c2daa94f208d9cdaee4000eb44",
            "5b2a99c0ee964432a6ee33975b2da1b4",
            "4980fd08b9fc48ec9767db9e04f99508",
            "55cf3bd21d4f4b80acaf3933cdc78019",
            "ea5299c0df9a44e2a747ad65af1c2f23",
            "41e563232db34c3e8ffb278454b3cd56",
            "270a35958b8c4999a3e9ee2c31739564",
            "bd8c93b749fe47448781a4596c3a7c8b"
          ]
        },
        "id": "1U-Nqik43Jbp",
        "outputId": "b3c7baa3-b976-48a5-8d61-4a2750383344"
      },
      "source": [
        "from flair.models import TextClassifier\n",
        "from flair.data import Sentence\n",
        "sia = TextClassifier.load('en-sentiment')"
      ],
      "execution_count": null,
      "outputs": [
        {
          "output_type": "stream",
          "name": "stdout",
          "text": [
            "2021-12-10 14:10:37,775 https://nlp.informatik.hu-berlin.de/resources/models/sentiment-curated-distilbert/sentiment-en-mix-distillbert_4.pt not found in cache, downloading to /tmp/tmp238rnh3w\n"
          ]
        },
        {
          "output_type": "stream",
          "name": "stderr",
          "text": [
            "100%|██████████| 265512723/265512723 [00:12<00:00, 22026411.18B/s]"
          ]
        },
        {
          "output_type": "stream",
          "name": "stdout",
          "text": [
            "2021-12-10 14:10:50,209 copying /tmp/tmp238rnh3w to cache at /root/.flair/models/sentiment-en-mix-distillbert_4.pt\n"
          ]
        },
        {
          "output_type": "stream",
          "name": "stderr",
          "text": [
            "\n"
          ]
        },
        {
          "output_type": "stream",
          "name": "stdout",
          "text": [
            "2021-12-10 14:10:50,741 removing temp file /tmp/tmp238rnh3w\n",
            "2021-12-10 14:10:50,783 loading file /root/.flair/models/sentiment-en-mix-distillbert_4.pt\n"
          ]
        },
        {
          "output_type": "display_data",
          "data": {
            "application/vnd.jupyter.widget-view+json": {
              "model_id": "d4c0ab9b4f0f4a389add046469729898",
              "version_minor": 0,
              "version_major": 2
            },
            "text/plain": [
              "Downloading:   0%|          | 0.00/28.0 [00:00<?, ?B/s]"
            ]
          },
          "metadata": {}
        },
        {
          "output_type": "display_data",
          "data": {
            "application/vnd.jupyter.widget-view+json": {
              "model_id": "dc9b3a5277644f1eb3463c0dc236d92a",
              "version_minor": 0,
              "version_major": 2
            },
            "text/plain": [
              "Downloading:   0%|          | 0.00/226k [00:00<?, ?B/s]"
            ]
          },
          "metadata": {}
        },
        {
          "output_type": "display_data",
          "data": {
            "application/vnd.jupyter.widget-view+json": {
              "model_id": "c291f85889e54266a9bfba78f5160bea",
              "version_minor": 0,
              "version_major": 2
            },
            "text/plain": [
              "Downloading:   0%|          | 0.00/455k [00:00<?, ?B/s]"
            ]
          },
          "metadata": {}
        },
        {
          "output_type": "display_data",
          "data": {
            "application/vnd.jupyter.widget-view+json": {
              "model_id": "c9b43d377c0d41a99761a13bafe0037a",
              "version_minor": 0,
              "version_major": 2
            },
            "text/plain": [
              "Downloading:   0%|          | 0.00/483 [00:00<?, ?B/s]"
            ]
          },
          "metadata": {}
        }
      ]
    },
    {
      "cell_type": "code",
      "metadata": {
        "id": "ZdZS6eD2KUAK"
      },
      "source": [
        "def flair_prediction(x):\n",
        "    sentence = Sentence(x)\n",
        "    sia.predict(sentence)\n",
        "    score = sentence.labels[0]\n",
        "    if \"POSITIVE\" in str(score):\n",
        "        return \"positive\"\n",
        "    elif \"NEGATIVE\" in str(score):\n",
        "        return \"negative\"\n",
        "    else:\n",
        "        return \"neutral\"\n",
        "\n",
        "def flair_score(x):\n",
        "    sentence = Sentence(x)\n",
        "    sia.predict(sentence)\n",
        "    score = sentence.labels[0].score\n",
        "    return score\n"
      ],
      "execution_count": null,
      "outputs": []
    },
    {
      "cell_type": "code",
      "metadata": {
        "id": "y-5ciEBezIn-"
      },
      "source": [
        "df[\"emotion_Flair\"] = df[\"quotation\"].apply(flair_prediction)"
      ],
      "execution_count": null,
      "outputs": []
    },
    {
      "cell_type": "code",
      "metadata": {
        "id": "Xsajm9D_58xo"
      },
      "source": [
        "df[\"polarity_Flair\"] = df[\"quotation\"].apply(flair_score)"
      ],
      "execution_count": null,
      "outputs": []
    },
    {
      "cell_type": "code",
      "metadata": {
        "colab": {
          "base_uri": "https://localhost:8080/",
          "height": 502
        },
        "id": "X5kx3UjY6SiV",
        "outputId": "80fcf6d2-86c3-40a6-83f5-2c1bcda86453"
      },
      "source": [
        "plt.figure(figsize=(12,8))\n",
        "sns.set_theme(style=\"darkgrid\")\n",
        "ax = sns.countplot(x=\"emotion_Flair\", data=df,palette=\"Set3\")\n",
        "plt.show()"
      ],
      "execution_count": null,
      "outputs": [
        {
          "output_type": "display_data",
          "data": {
            "image/png": "[encoded data removed]",
            "text/plain": [
              "<Figure size 864x576 with 1 Axes>"
            ]
          },
          "metadata": {}
        }
      ]
    },
    {
      "cell_type": "markdown",
      "metadata": {
        "id": "MS-qqC2hMGUu"
      },
      "source": [
        "Notice how here no neutral emotion was detected."
      ]
    },
    {
      "cell_type": "code",
      "metadata": {
        "colab": {
          "base_uri": "https://localhost:8080/"
        },
        "id": "jMSuPQCE6q-c",
        "outputId": "4865ee30-2930-4ac8-e638-6184ab6a74f9"
      },
      "source": [
        "# again dropping the result:\n",
        "df=df.drop(['emotion_Flair'], axis=1)\n",
        "df.columns"
      ],
      "execution_count": null,
      "outputs": [
        {
          "output_type": "execute_result",
          "data": {
            "text/plain": [
              "Index(['id', 'quoteID', 'quotation', 'speaker', 'probas', 'date',\n",
              "       'numOccurrences', 'urls', 'phase', 'label', 'date_of_birth',\n",
              "       'nationality', 'gender', 'ethnic_group', 'occupation', 'party',\n",
              "       'academic_degree', 'religion', 'polarity_TextBlob',\n",
              "       'polarity_SentimentIntensityAnalyze', 'polarity_Flair'],\n",
              "      dtype='object')"
            ]
          },
          "metadata": {},
          "execution_count": 39
        }
      ]
    },
    {
      "cell_type": "code",
      "metadata": {
        "id": "9exUiPY-AgYF"
      },
      "source": [
        "df.to_pickle('/content/drive/Shareddrives/Ada/SentimentAnalysis_temp.pkl')"
      ],
      "execution_count": null,
      "outputs": []
    },
    {
      "cell_type": "markdown",
      "metadata": {
        "id": "NjVAnjy_y8eg"
      },
      "source": [
        "Averaging the results:"
      ]
    },
    {
      "cell_type": "code",
      "metadata": {
        "id": "DP5uT67DEHFu"
      },
      "source": [
        "df['polarity']=df[['polarity_Flair','polarity_TextBlob',\n",
        "       'polarity_SentimentIntensityAnalyze']].mean(axis=1)"
      ],
      "execution_count": null,
      "outputs": []
    },
    {
      "cell_type": "code",
      "metadata": {
        "colab": {
          "base_uri": "https://localhost:8080/",
          "height": 643
        },
        "id": "6Owqjnh0E0h8",
        "outputId": "f19d9422-0569-49b3-8127-abace4fcad55"
      },
      "source": [
        "df.head()"
      ],
      "execution_count": null,
      "outputs": [
        {
          "output_type": "execute_result",
          "data": {
            "text/html": [
              "<div>\n",
              "<style scoped>\n",
              "    .dataframe tbody tr th:only-of-type {\n",
              "        vertical-align: middle;\n",
              "    }\n",
              "\n",
              "    .dataframe tbody tr th {\n",
              "        vertical-align: top;\n",
              "    }\n",
              "\n",
              "    .dataframe thead th {\n",
              "        text-align: right;\n",
              "    }\n",
              "</style>\n",
              "<table border=\"1\" class=\"dataframe\">\n",
              "  <thead>\n",
              "    <tr style=\"text-align: right;\">\n",
              "      <th></th>\n",
              "      <th>id</th>\n",
              "      <th>quoteID</th>\n",
              "      <th>quotation</th>\n",
              "      <th>speaker</th>\n",
              "      <th>probas</th>\n",
              "      <th>date</th>\n",
              "      <th>numOccurrences</th>\n",
              "      <th>urls</th>\n",
              "      <th>phase</th>\n",
              "      <th>label</th>\n",
              "      <th>date_of_birth</th>\n",
              "      <th>nationality</th>\n",
              "      <th>gender</th>\n",
              "      <th>ethnic_group</th>\n",
              "      <th>occupation</th>\n",
              "      <th>party</th>\n",
              "      <th>academic_degree</th>\n",
              "      <th>religion</th>\n",
              "      <th>polarity_TextBlob</th>\n",
              "      <th>polarity_SentimentIntensityAnalyze</th>\n",
              "      <th>polarity_Flair</th>\n",
              "      <th>polarity</th>\n",
              "    </tr>\n",
              "  </thead>\n",
              "  <tbody>\n",
              "    <tr>\n",
              "      <th>0</th>\n",
              "      <td>Q20251661</td>\n",
              "      <td>2020-01-31-011304</td>\n",
              "      <td>Brexit is the victory of the common people aga...</td>\n",
              "      <td>Laura Huhtasaari</td>\n",
              "      <td>[[Laura Huhtasaari, 0.9325], [None, 0.059], [P...</td>\n",
              "      <td>2020-01-31 03:25:04</td>\n",
              "      <td>1</td>\n",
              "      <td>[http://voanews.com/europe/shrug-and-some-sorr...</td>\n",
              "      <td>E</td>\n",
              "      <td>Laura Huhtasaari</td>\n",
              "      <td>[+1979-03-30T00:00:00Z]</td>\n",
              "      <td>Finland</td>\n",
              "      <td>female</td>\n",
              "      <td>0</td>\n",
              "      <td>politician</td>\n",
              "      <td>Finns Party</td>\n",
              "      <td>0</td>\n",
              "      <td>Lutheranism</td>\n",
              "      <td>-0.022619</td>\n",
              "      <td>0.5719</td>\n",
              "      <td>0.663805</td>\n",
              "      <td>0.404362</td>\n",
              "    </tr>\n",
              "    <tr>\n",
              "      <th>1</th>\n",
              "      <td>Q694676</td>\n",
              "      <td>2020-02-13-014393</td>\n",
              "      <td>Certainly Brexit was a big issue and people we...</td>\n",
              "      <td>Pat McFadden</td>\n",
              "      <td>[[Pat McFadden, 0.9371], [None, 0.0535], [Jere...</td>\n",
              "      <td>2020-02-13 06:01:30</td>\n",
              "      <td>1</td>\n",
              "      <td>[http://www.expressandstar.com/news/politics/2...</td>\n",
              "      <td>E</td>\n",
              "      <td>Pat McFadden</td>\n",
              "      <td>[+1965-03-26T00:00:00Z]</td>\n",
              "      <td>United Kingdom</td>\n",
              "      <td>male</td>\n",
              "      <td>0</td>\n",
              "      <td>politician</td>\n",
              "      <td>Labour Party</td>\n",
              "      <td>0</td>\n",
              "      <td>0</td>\n",
              "      <td>-0.161905</td>\n",
              "      <td>-0.2500</td>\n",
              "      <td>0.997470</td>\n",
              "      <td>0.195188</td>\n",
              "    </tr>\n",
              "    <tr>\n",
              "      <th>2</th>\n",
              "      <td>Q1341937</td>\n",
              "      <td>2020-03-08-010480</td>\n",
              "      <td>I backed leave and voted leave, but I never ca...</td>\n",
              "      <td>Jason McCartney</td>\n",
              "      <td>[[Jason McCartney, 0.8274], [None, 0.128], [Li...</td>\n",
              "      <td>2020-03-08 05:45:58</td>\n",
              "      <td>1</td>\n",
              "      <td>[http://www.yorkshirepost.co.uk/news/second-ti...</td>\n",
              "      <td>E</td>\n",
              "      <td>Jason McCartney</td>\n",
              "      <td>[+1973-09-03T00:00:00Z]</td>\n",
              "      <td>United States of America</td>\n",
              "      <td>male</td>\n",
              "      <td>0</td>\n",
              "      <td>sport cyclist</td>\n",
              "      <td>0</td>\n",
              "      <td>0</td>\n",
              "      <td>0</td>\n",
              "      <td>0.000000</td>\n",
              "      <td>-0.4243</td>\n",
              "      <td>0.595703</td>\n",
              "      <td>0.057134</td>\n",
              "    </tr>\n",
              "    <tr>\n",
              "      <th>3</th>\n",
              "      <td>Q6837191</td>\n",
              "      <td>2020-02-14-058019</td>\n",
              "      <td>legacy, bad faith on pensions, Brexit and poli...</td>\n",
              "      <td>Michelle O'Neill</td>\n",
              "      <td>[[Michelle O'Neill, 0.8055], [None, 0.1302], [...</td>\n",
              "      <td>2020-02-14 11:48:49</td>\n",
              "      <td>1</td>\n",
              "      <td>[https://www.belfasttelegraph.co.uk/news/north...</td>\n",
              "      <td>E</td>\n",
              "      <td>Michelle O'Neill</td>\n",
              "      <td>[+1977-01-10T00:00:00Z]</td>\n",
              "      <td>Northern Ireland</td>\n",
              "      <td>female</td>\n",
              "      <td>0</td>\n",
              "      <td>politician</td>\n",
              "      <td>Sinn Féin</td>\n",
              "      <td>0</td>\n",
              "      <td>0</td>\n",
              "      <td>-0.233333</td>\n",
              "      <td>-0.0516</td>\n",
              "      <td>0.951277</td>\n",
              "      <td>0.222115</td>\n",
              "    </tr>\n",
              "    <tr>\n",
              "      <th>4</th>\n",
              "      <td>Q1728820</td>\n",
              "      <td>2020-01-27-094916</td>\n",
              "      <td>we're only at half-time on Brexit, it's not do...</td>\n",
              "      <td>Leo Varadkar</td>\n",
              "      <td>[[Leo Varadkar, 0.9378], [None, 0.0502], [Bori...</td>\n",
              "      <td>2020-01-27 12:25:00</td>\n",
              "      <td>1</td>\n",
              "      <td>[http://blogs.independent.co.uk/voices/brexit-...</td>\n",
              "      <td>E</td>\n",
              "      <td>Leo Varadkar</td>\n",
              "      <td>[+1979-01-18T00:00:00Z]</td>\n",
              "      <td>Ireland</td>\n",
              "      <td>male</td>\n",
              "      <td>0</td>\n",
              "      <td>politician</td>\n",
              "      <td>Fine Gael</td>\n",
              "      <td>0</td>\n",
              "      <td>0</td>\n",
              "      <td>0.000000</td>\n",
              "      <td>0.0000</td>\n",
              "      <td>0.946059</td>\n",
              "      <td>0.315353</td>\n",
              "    </tr>\n",
              "  </tbody>\n",
              "</table>\n",
              "</div>"
            ],
            "text/plain": [
              "          id            quoteID  ... polarity_Flair  polarity\n",
              "0  Q20251661  2020-01-31-011304  ...       0.663805  0.404362\n",
              "1    Q694676  2020-02-13-014393  ...       0.997470  0.195188\n",
              "2   Q1341937  2020-03-08-010480  ...       0.595703  0.057134\n",
              "3   Q6837191  2020-02-14-058019  ...       0.951277  0.222115\n",
              "4   Q1728820  2020-01-27-094916  ...       0.946059  0.315353\n",
              "\n",
              "[5 rows x 22 columns]"
            ]
          },
          "metadata": {},
          "execution_count": 42
        }
      ]
    },
    {
      "cell_type": "code",
      "metadata": {
        "id": "7FT1TzjtErem"
      },
      "source": [
        "df.to_pickle('/content/drive/Shareddrives/Ada/SentimentAnalysis_temp.pkl')"
      ],
      "execution_count": null,
      "outputs": []
    },
    {
      "cell_type": "markdown",
      "metadata": {
        "id": "AbYnGIKJE4x1"
      },
      "source": [
        "Assigning the emotion to the averaged score:"
      ]
    },
    {
      "cell_type": "code",
      "metadata": {
        "id": "vBW0wQedE3q0"
      },
      "source": [
        "for i in range(len(df)):\n",
        "  df.at[i,'emotion']=polarity_to_text2(df['polarity'][i])"
      ],
      "execution_count": null,
      "outputs": []
    },
    {
      "cell_type": "code",
      "metadata": {
        "colab": {
          "base_uri": "https://localhost:8080/",
          "height": 643
        },
        "id": "OPFgBC7hFOmc",
        "outputId": "9f591ded-fa5e-4be0-8945-1f2be2159711"
      },
      "source": [
        "df.head()"
      ],
      "execution_count": null,
      "outputs": [
        {
          "output_type": "execute_result",
          "data": {
            "text/html": [
              "<div>\n",
              "<style scoped>\n",
              "    .dataframe tbody tr th:only-of-type {\n",
              "        vertical-align: middle;\n",
              "    }\n",
              "\n",
              "    .dataframe tbody tr th {\n",
              "        vertical-align: top;\n",
              "    }\n",
              "\n",
              "    .dataframe thead th {\n",
              "        text-align: right;\n",
              "    }\n",
              "</style>\n",
              "<table border=\"1\" class=\"dataframe\">\n",
              "  <thead>\n",
              "    <tr style=\"text-align: right;\">\n",
              "      <th></th>\n",
              "      <th>id</th>\n",
              "      <th>quoteID</th>\n",
              "      <th>quotation</th>\n",
              "      <th>speaker</th>\n",
              "      <th>probas</th>\n",
              "      <th>date</th>\n",
              "      <th>numOccurrences</th>\n",
              "      <th>urls</th>\n",
              "      <th>phase</th>\n",
              "      <th>label</th>\n",
              "      <th>date_of_birth</th>\n",
              "      <th>nationality</th>\n",
              "      <th>gender</th>\n",
              "      <th>ethnic_group</th>\n",
              "      <th>occupation</th>\n",
              "      <th>party</th>\n",
              "      <th>academic_degree</th>\n",
              "      <th>religion</th>\n",
              "      <th>polarity_TextBlob</th>\n",
              "      <th>polarity_SentimentIntensityAnalyze</th>\n",
              "      <th>polarity_Flair</th>\n",
              "      <th>polarity</th>\n",
              "      <th>emotion</th>\n",
              "    </tr>\n",
              "  </thead>\n",
              "  <tbody>\n",
              "    <tr>\n",
              "      <th>0</th>\n",
              "      <td>Q20251661</td>\n",
              "      <td>2020-01-31-011304</td>\n",
              "      <td>Brexit is the victory of the common people aga...</td>\n",
              "      <td>Laura Huhtasaari</td>\n",
              "      <td>[[Laura Huhtasaari, 0.9325], [None, 0.059], [P...</td>\n",
              "      <td>2020-01-31 03:25:04</td>\n",
              "      <td>1</td>\n",
              "      <td>[http://voanews.com/europe/shrug-and-some-sorr...</td>\n",
              "      <td>E</td>\n",
              "      <td>Laura Huhtasaari</td>\n",
              "      <td>[+1979-03-30T00:00:00Z]</td>\n",
              "      <td>Finland</td>\n",
              "      <td>female</td>\n",
              "      <td>0</td>\n",
              "      <td>politician</td>\n",
              "      <td>Finns Party</td>\n",
              "      <td>0</td>\n",
              "      <td>Lutheranism</td>\n",
              "      <td>-0.022619</td>\n",
              "      <td>0.5719</td>\n",
              "      <td>0.663805</td>\n",
              "      <td>0.404362</td>\n",
              "      <td>postive</td>\n",
              "    </tr>\n",
              "    <tr>\n",
              "      <th>1</th>\n",
              "      <td>Q694676</td>\n",
              "      <td>2020-02-13-014393</td>\n",
              "      <td>Certainly Brexit was a big issue and people we...</td>\n",
              "      <td>Pat McFadden</td>\n",
              "      <td>[[Pat McFadden, 0.9371], [None, 0.0535], [Jere...</td>\n",
              "      <td>2020-02-13 06:01:30</td>\n",
              "      <td>1</td>\n",
              "      <td>[http://www.expressandstar.com/news/politics/2...</td>\n",
              "      <td>E</td>\n",
              "      <td>Pat McFadden</td>\n",
              "      <td>[+1965-03-26T00:00:00Z]</td>\n",
              "      <td>United Kingdom</td>\n",
              "      <td>male</td>\n",
              "      <td>0</td>\n",
              "      <td>politician</td>\n",
              "      <td>Labour Party</td>\n",
              "      <td>0</td>\n",
              "      <td>0</td>\n",
              "      <td>-0.161905</td>\n",
              "      <td>-0.2500</td>\n",
              "      <td>0.997470</td>\n",
              "      <td>0.195188</td>\n",
              "      <td>postive</td>\n",
              "    </tr>\n",
              "    <tr>\n",
              "      <th>2</th>\n",
              "      <td>Q1341937</td>\n",
              "      <td>2020-03-08-010480</td>\n",
              "      <td>I backed leave and voted leave, but I never ca...</td>\n",
              "      <td>Jason McCartney</td>\n",
              "      <td>[[Jason McCartney, 0.8274], [None, 0.128], [Li...</td>\n",
              "      <td>2020-03-08 05:45:58</td>\n",
              "      <td>1</td>\n",
              "      <td>[http://www.yorkshirepost.co.uk/news/second-ti...</td>\n",
              "      <td>E</td>\n",
              "      <td>Jason McCartney</td>\n",
              "      <td>[+1973-09-03T00:00:00Z]</td>\n",
              "      <td>United States of America</td>\n",
              "      <td>male</td>\n",
              "      <td>0</td>\n",
              "      <td>sport cyclist</td>\n",
              "      <td>0</td>\n",
              "      <td>0</td>\n",
              "      <td>0</td>\n",
              "      <td>0.000000</td>\n",
              "      <td>-0.4243</td>\n",
              "      <td>0.595703</td>\n",
              "      <td>0.057134</td>\n",
              "      <td>neutral</td>\n",
              "    </tr>\n",
              "    <tr>\n",
              "      <th>3</th>\n",
              "      <td>Q6837191</td>\n",
              "      <td>2020-02-14-058019</td>\n",
              "      <td>legacy, bad faith on pensions, Brexit and poli...</td>\n",
              "      <td>Michelle O'Neill</td>\n",
              "      <td>[[Michelle O'Neill, 0.8055], [None, 0.1302], [...</td>\n",
              "      <td>2020-02-14 11:48:49</td>\n",
              "      <td>1</td>\n",
              "      <td>[https://www.belfasttelegraph.co.uk/news/north...</td>\n",
              "      <td>E</td>\n",
              "      <td>Michelle O'Neill</td>\n",
              "      <td>[+1977-01-10T00:00:00Z]</td>\n",
              "      <td>Northern Ireland</td>\n",
              "      <td>female</td>\n",
              "      <td>0</td>\n",
              "      <td>politician</td>\n",
              "      <td>Sinn Féin</td>\n",
              "      <td>0</td>\n",
              "      <td>0</td>\n",
              "      <td>-0.233333</td>\n",
              "      <td>-0.0516</td>\n",
              "      <td>0.951277</td>\n",
              "      <td>0.222115</td>\n",
              "      <td>postive</td>\n",
              "    </tr>\n",
              "    <tr>\n",
              "      <th>4</th>\n",
              "      <td>Q1728820</td>\n",
              "      <td>2020-01-27-094916</td>\n",
              "      <td>we're only at half-time on Brexit, it's not do...</td>\n",
              "      <td>Leo Varadkar</td>\n",
              "      <td>[[Leo Varadkar, 0.9378], [None, 0.0502], [Bori...</td>\n",
              "      <td>2020-01-27 12:25:00</td>\n",
              "      <td>1</td>\n",
              "      <td>[http://blogs.independent.co.uk/voices/brexit-...</td>\n",
              "      <td>E</td>\n",
              "      <td>Leo Varadkar</td>\n",
              "      <td>[+1979-01-18T00:00:00Z]</td>\n",
              "      <td>Ireland</td>\n",
              "      <td>male</td>\n",
              "      <td>0</td>\n",
              "      <td>politician</td>\n",
              "      <td>Fine Gael</td>\n",
              "      <td>0</td>\n",
              "      <td>0</td>\n",
              "      <td>0.000000</td>\n",
              "      <td>0.0000</td>\n",
              "      <td>0.946059</td>\n",
              "      <td>0.315353</td>\n",
              "      <td>postive</td>\n",
              "    </tr>\n",
              "  </tbody>\n",
              "</table>\n",
              "</div>"
            ],
            "text/plain": [
              "          id            quoteID  ...  polarity  emotion\n",
              "0  Q20251661  2020-01-31-011304  ...  0.404362  postive\n",
              "1    Q694676  2020-02-13-014393  ...  0.195188  postive\n",
              "2   Q1341937  2020-03-08-010480  ...  0.057134  neutral\n",
              "3   Q6837191  2020-02-14-058019  ...  0.222115  postive\n",
              "4   Q1728820  2020-01-27-094916  ...  0.315353  postive\n",
              "\n",
              "[5 rows x 23 columns]"
            ]
          },
          "metadata": {},
          "execution_count": 44
        }
      ]
    },
    {
      "cell_type": "code",
      "metadata": {
        "colab": {
          "base_uri": "https://localhost:8080/",
          "height": 502
        },
        "id": "pEqVd8c5JoJf",
        "outputId": "ec181e2b-5f27-4ce9-bdb4-fc196824fa44"
      },
      "source": [
        "plt.figure(figsize=(12,8))\n",
        "sns.set_theme(style=\"darkgrid\")\n",
        "ax = sns.countplot(x=\"emotion\", data=df,palette=\"Set3\")\n",
        "plt.show()"
      ],
      "execution_count": null,
      "outputs": [
        {
          "output_type": "display_data",
          "data": {
            "image/png": "[encoded data removed]",
            "text/plain": [
              "<Figure size 864x576 with 1 Axes>"
            ]
          },
          "metadata": {}
        }
      ]
    },
    {
      "cell_type": "markdown",
      "metadata": {
        "id": "0n2mp9PpzCeN"
      },
      "source": [
        "Putting everything in one pickel:"
      ]
    },
    {
      "cell_type": "code",
      "metadata": {
        "id": "Xca4p4ofuSKL"
      },
      "source": [
        "df.to_pickle('/content/drive/Shareddrives/Ada/SentimentAnalysis.pkl')"
      ],
      "execution_count": null,
      "outputs": []
    },
    {
      "cell_type": "code",
      "metadata": {
        "id": "BxHnTnZ0vt4e",
        "colab": {
          "base_uri": "https://localhost:8080/"
        },
        "outputId": "ac92efcd-8eb8-446a-c60b-e6f20f572f13"
      },
      "source": [
        "# reading our pickle and verifying it contains all the wanted columns\n",
        "df=pd.read_pickle('/content/drive/Shareddrives/Ada/SentimentAnalysis.pkl')\n",
        "df.columns"
      ],
      "execution_count": null,
      "outputs": [
        {
          "output_type": "execute_result",
          "data": {
            "text/plain": [
              "Index(['id', 'quoteID', 'quotation', 'speaker', 'probas', 'date',\n",
              "       'numOccurrences', 'urls', 'phase', 'label', 'date_of_birth',\n",
              "       'nationality', 'gender', 'ethnic_group', 'occupation', 'party',\n",
              "       'academic_degree', 'religion', 'polarity_TextBlob',\n",
              "       'polarity_SentimentIntensityAnalyze', 'polarity_Flair', 'polarity',\n",
              "       'emotion'],\n",
              "      dtype='object')"
            ]
          },
          "metadata": {},
          "execution_count": 46
        }
      ]
    },
    {
      "cell_type": "code",
      "metadata": {
        "id": "uNcpwTEsU9LF"
      },
      "source": [
        "# Correction of typo\n",
        "df['emotion']=df['emotion'].replace(\"postive\",\"positive\")"
      ],
      "execution_count": null,
      "outputs": []
    },
    {
      "cell_type": "code",
      "metadata": {
        "colab": {
          "base_uri": "https://localhost:8080/",
          "height": 643
        },
        "id": "rDbpUvbcVTBw",
        "outputId": "cc427562-60c9-4eed-8f88-0a39c5d0356c"
      },
      "source": [
        "df.head()"
      ],
      "execution_count": null,
      "outputs": [
        {
          "output_type": "execute_result",
          "data": {
            "text/html": [
              "<div>\n",
              "<style scoped>\n",
              "    .dataframe tbody tr th:only-of-type {\n",
              "        vertical-align: middle;\n",
              "    }\n",
              "\n",
              "    .dataframe tbody tr th {\n",
              "        vertical-align: top;\n",
              "    }\n",
              "\n",
              "    .dataframe thead th {\n",
              "        text-align: right;\n",
              "    }\n",
              "</style>\n",
              "<table border=\"1\" class=\"dataframe\">\n",
              "  <thead>\n",
              "    <tr style=\"text-align: right;\">\n",
              "      <th></th>\n",
              "      <th>id</th>\n",
              "      <th>quoteID</th>\n",
              "      <th>quotation</th>\n",
              "      <th>speaker</th>\n",
              "      <th>probas</th>\n",
              "      <th>date</th>\n",
              "      <th>numOccurrences</th>\n",
              "      <th>urls</th>\n",
              "      <th>phase</th>\n",
              "      <th>label</th>\n",
              "      <th>date_of_birth</th>\n",
              "      <th>nationality</th>\n",
              "      <th>gender</th>\n",
              "      <th>ethnic_group</th>\n",
              "      <th>occupation</th>\n",
              "      <th>party</th>\n",
              "      <th>academic_degree</th>\n",
              "      <th>religion</th>\n",
              "      <th>polarity_TextBlob</th>\n",
              "      <th>polarity_SentimentIntensityAnalyze</th>\n",
              "      <th>polarity_Flair</th>\n",
              "      <th>polarity</th>\n",
              "      <th>emotion</th>\n",
              "    </tr>\n",
              "  </thead>\n",
              "  <tbody>\n",
              "    <tr>\n",
              "      <th>0</th>\n",
              "      <td>Q20251661</td>\n",
              "      <td>2020-01-31-011304</td>\n",
              "      <td>Brexit is the victory of the common people aga...</td>\n",
              "      <td>Laura Huhtasaari</td>\n",
              "      <td>[[Laura Huhtasaari, 0.9325], [None, 0.059], [P...</td>\n",
              "      <td>2020-01-31 03:25:04</td>\n",
              "      <td>1</td>\n",
              "      <td>[http://voanews.com/europe/shrug-and-some-sorr...</td>\n",
              "      <td>E</td>\n",
              "      <td>Laura Huhtasaari</td>\n",
              "      <td>[+1979-03-30T00:00:00Z]</td>\n",
              "      <td>Finland</td>\n",
              "      <td>female</td>\n",
              "      <td>0</td>\n",
              "      <td>politician</td>\n",
              "      <td>Finns Party</td>\n",
              "      <td>0</td>\n",
              "      <td>Lutheranism</td>\n",
              "      <td>-0.022619</td>\n",
              "      <td>0.5719</td>\n",
              "      <td>0.663805</td>\n",
              "      <td>0.404362</td>\n",
              "      <td>positive</td>\n",
              "    </tr>\n",
              "    <tr>\n",
              "      <th>1</th>\n",
              "      <td>Q694676</td>\n",
              "      <td>2020-02-13-014393</td>\n",
              "      <td>Certainly Brexit was a big issue and people we...</td>\n",
              "      <td>Pat McFadden</td>\n",
              "      <td>[[Pat McFadden, 0.9371], [None, 0.0535], [Jere...</td>\n",
              "      <td>2020-02-13 06:01:30</td>\n",
              "      <td>1</td>\n",
              "      <td>[http://www.expressandstar.com/news/politics/2...</td>\n",
              "      <td>E</td>\n",
              "      <td>Pat McFadden</td>\n",
              "      <td>[+1965-03-26T00:00:00Z]</td>\n",
              "      <td>United Kingdom</td>\n",
              "      <td>male</td>\n",
              "      <td>0</td>\n",
              "      <td>politician</td>\n",
              "      <td>Labour Party</td>\n",
              "      <td>0</td>\n",
              "      <td>0</td>\n",
              "      <td>-0.161905</td>\n",
              "      <td>-0.2500</td>\n",
              "      <td>0.997470</td>\n",
              "      <td>0.195188</td>\n",
              "      <td>positive</td>\n",
              "    </tr>\n",
              "    <tr>\n",
              "      <th>2</th>\n",
              "      <td>Q1341937</td>\n",
              "      <td>2020-03-08-010480</td>\n",
              "      <td>I backed leave and voted leave, but I never ca...</td>\n",
              "      <td>Jason McCartney</td>\n",
              "      <td>[[Jason McCartney, 0.8274], [None, 0.128], [Li...</td>\n",
              "      <td>2020-03-08 05:45:58</td>\n",
              "      <td>1</td>\n",
              "      <td>[http://www.yorkshirepost.co.uk/news/second-ti...</td>\n",
              "      <td>E</td>\n",
              "      <td>Jason McCartney</td>\n",
              "      <td>[+1973-09-03T00:00:00Z]</td>\n",
              "      <td>United States of America</td>\n",
              "      <td>male</td>\n",
              "      <td>0</td>\n",
              "      <td>sport cyclist</td>\n",
              "      <td>0</td>\n",
              "      <td>0</td>\n",
              "      <td>0</td>\n",
              "      <td>0.000000</td>\n",
              "      <td>-0.4243</td>\n",
              "      <td>0.595703</td>\n",
              "      <td>0.057134</td>\n",
              "      <td>neutral</td>\n",
              "    </tr>\n",
              "    <tr>\n",
              "      <th>3</th>\n",
              "      <td>Q6837191</td>\n",
              "      <td>2020-02-14-058019</td>\n",
              "      <td>legacy, bad faith on pensions, Brexit and poli...</td>\n",
              "      <td>Michelle O'Neill</td>\n",
              "      <td>[[Michelle O'Neill, 0.8055], [None, 0.1302], [...</td>\n",
              "      <td>2020-02-14 11:48:49</td>\n",
              "      <td>1</td>\n",
              "      <td>[https://www.belfasttelegraph.co.uk/news/north...</td>\n",
              "      <td>E</td>\n",
              "      <td>Michelle O'Neill</td>\n",
              "      <td>[+1977-01-10T00:00:00Z]</td>\n",
              "      <td>Northern Ireland</td>\n",
              "      <td>female</td>\n",
              "      <td>0</td>\n",
              "      <td>politician</td>\n",
              "      <td>Sinn Féin</td>\n",
              "      <td>0</td>\n",
              "      <td>0</td>\n",
              "      <td>-0.233333</td>\n",
              "      <td>-0.0516</td>\n",
              "      <td>0.951277</td>\n",
              "      <td>0.222115</td>\n",
              "      <td>positive</td>\n",
              "    </tr>\n",
              "    <tr>\n",
              "      <th>4</th>\n",
              "      <td>Q1728820</td>\n",
              "      <td>2020-01-27-094916</td>\n",
              "      <td>we're only at half-time on Brexit, it's not do...</td>\n",
              "      <td>Leo Varadkar</td>\n",
              "      <td>[[Leo Varadkar, 0.9378], [None, 0.0502], [Bori...</td>\n",
              "      <td>2020-01-27 12:25:00</td>\n",
              "      <td>1</td>\n",
              "      <td>[http://blogs.independent.co.uk/voices/brexit-...</td>\n",
              "      <td>E</td>\n",
              "      <td>Leo Varadkar</td>\n",
              "      <td>[+1979-01-18T00:00:00Z]</td>\n",
              "      <td>Ireland</td>\n",
              "      <td>male</td>\n",
              "      <td>0</td>\n",
              "      <td>politician</td>\n",
              "      <td>Fine Gael</td>\n",
              "      <td>0</td>\n",
              "      <td>0</td>\n",
              "      <td>0.000000</td>\n",
              "      <td>0.0000</td>\n",
              "      <td>0.946059</td>\n",
              "      <td>0.315353</td>\n",
              "      <td>positive</td>\n",
              "    </tr>\n",
              "  </tbody>\n",
              "</table>\n",
              "</div>"
            ],
            "text/plain": [
              "          id            quoteID  ...  polarity   emotion\n",
              "0  Q20251661  2020-01-31-011304  ...  0.404362  positive\n",
              "1    Q694676  2020-02-13-014393  ...  0.195188  positive\n",
              "2   Q1341937  2020-03-08-010480  ...  0.057134   neutral\n",
              "3   Q6837191  2020-02-14-058019  ...  0.222115  positive\n",
              "4   Q1728820  2020-01-27-094916  ...  0.315353  positive\n",
              "\n",
              "[5 rows x 23 columns]"
            ]
          },
          "metadata": {},
          "execution_count": 48
        }
      ]
    },
    {
      "cell_type": "code",
      "metadata": {
        "id": "WkGLyWZWVwio"
      },
      "source": [
        "# adding the features date and year from the date and hour to study the change in \n",
        "df['day']=df['date'].dt.date\n",
        "df['year']=df['date'].dt.year"
      ],
      "execution_count": null,
      "outputs": []
    },
    {
      "cell_type": "markdown",
      "source": [
        "## Add domains and countries of domains"
      ],
      "metadata": {
        "id": "BWHyewAn-PXf"
      }
    },
    {
      "cell_type": "code",
      "source": [
        "#Function tp change urls to domains\n",
        "def function(row):\n",
        "  list_domains = []\n",
        "  for url in row:\n",
        "    list_domains.append(urlparse(url).netloc)\n",
        "  return list_domains\n",
        "\n",
        "df['domains'] = df['urls'].apply(function)\n",
        "#Building TLD column\n",
        "df['TLD']=df['domains'].apply(lambda x: x[0].split('.')[-1])\n",
        "df.head()"
      ],
      "metadata": {
        "colab": {
          "base_uri": "https://localhost:8080/",
          "height": 643
        },
        "id": "xueheARa-Ohz",
        "outputId": "727f2436-dabb-4483-86c7-4bf577371b31"
      },
      "execution_count": null,
      "outputs": [
        {
          "output_type": "execute_result",
          "data": {
            "text/html": [
              "<div>\n",
              "<style scoped>\n",
              "    .dataframe tbody tr th:only-of-type {\n",
              "        vertical-align: middle;\n",
              "    }\n",
              "\n",
              "    .dataframe tbody tr th {\n",
              "        vertical-align: top;\n",
              "    }\n",
              "\n",
              "    .dataframe thead th {\n",
              "        text-align: right;\n",
              "    }\n",
              "</style>\n",
              "<table border=\"1\" class=\"dataframe\">\n",
              "  <thead>\n",
              "    <tr style=\"text-align: right;\">\n",
              "      <th></th>\n",
              "      <th>id</th>\n",
              "      <th>quoteID</th>\n",
              "      <th>quotation</th>\n",
              "      <th>speaker</th>\n",
              "      <th>probas</th>\n",
              "      <th>date</th>\n",
              "      <th>numOccurrences</th>\n",
              "      <th>urls</th>\n",
              "      <th>phase</th>\n",
              "      <th>label</th>\n",
              "      <th>date_of_birth</th>\n",
              "      <th>nationality</th>\n",
              "      <th>gender</th>\n",
              "      <th>ethnic_group</th>\n",
              "      <th>occupation</th>\n",
              "      <th>party</th>\n",
              "      <th>academic_degree</th>\n",
              "      <th>religion</th>\n",
              "      <th>polarity_TextBlob</th>\n",
              "      <th>polarity_SentimentIntensityAnalyze</th>\n",
              "      <th>polarity_Flair</th>\n",
              "      <th>polarity</th>\n",
              "      <th>emotion</th>\n",
              "      <th>day</th>\n",
              "      <th>year</th>\n",
              "      <th>domains</th>\n",
              "      <th>TLD</th>\n",
              "    </tr>\n",
              "  </thead>\n",
              "  <tbody>\n",
              "    <tr>\n",
              "      <th>0</th>\n",
              "      <td>Q20251661</td>\n",
              "      <td>2020-01-31-011304</td>\n",
              "      <td>Brexit is the victory of the common people aga...</td>\n",
              "      <td>Laura Huhtasaari</td>\n",
              "      <td>[[Laura Huhtasaari, 0.9325], [None, 0.059], [P...</td>\n",
              "      <td>2020-01-31 03:25:04</td>\n",
              "      <td>1</td>\n",
              "      <td>[http://voanews.com/europe/shrug-and-some-sorr...</td>\n",
              "      <td>E</td>\n",
              "      <td>Laura Huhtasaari</td>\n",
              "      <td>[+1979-03-30T00:00:00Z]</td>\n",
              "      <td>Finland</td>\n",
              "      <td>female</td>\n",
              "      <td>0</td>\n",
              "      <td>politician</td>\n",
              "      <td>Finns Party</td>\n",
              "      <td>0</td>\n",
              "      <td>Lutheranism</td>\n",
              "      <td>-0.022619</td>\n",
              "      <td>0.5719</td>\n",
              "      <td>0.663805</td>\n",
              "      <td>0.404362</td>\n",
              "      <td>positive</td>\n",
              "      <td>2020-01-31</td>\n",
              "      <td>2020</td>\n",
              "      <td>[voanews.com]</td>\n",
              "      <td>com</td>\n",
              "    </tr>\n",
              "    <tr>\n",
              "      <th>1</th>\n",
              "      <td>Q694676</td>\n",
              "      <td>2020-02-13-014393</td>\n",
              "      <td>Certainly Brexit was a big issue and people we...</td>\n",
              "      <td>Pat McFadden</td>\n",
              "      <td>[[Pat McFadden, 0.9371], [None, 0.0535], [Jere...</td>\n",
              "      <td>2020-02-13 06:01:30</td>\n",
              "      <td>1</td>\n",
              "      <td>[http://www.expressandstar.com/news/politics/2...</td>\n",
              "      <td>E</td>\n",
              "      <td>Pat McFadden</td>\n",
              "      <td>[+1965-03-26T00:00:00Z]</td>\n",
              "      <td>United Kingdom</td>\n",
              "      <td>male</td>\n",
              "      <td>0</td>\n",
              "      <td>politician</td>\n",
              "      <td>Labour Party</td>\n",
              "      <td>0</td>\n",
              "      <td>0</td>\n",
              "      <td>-0.161905</td>\n",
              "      <td>-0.2500</td>\n",
              "      <td>0.997470</td>\n",
              "      <td>0.195188</td>\n",
              "      <td>positive</td>\n",
              "      <td>2020-02-13</td>\n",
              "      <td>2020</td>\n",
              "      <td>[www.expressandstar.com]</td>\n",
              "      <td>com</td>\n",
              "    </tr>\n",
              "    <tr>\n",
              "      <th>2</th>\n",
              "      <td>Q1341937</td>\n",
              "      <td>2020-03-08-010480</td>\n",
              "      <td>I backed leave and voted leave, but I never ca...</td>\n",
              "      <td>Jason McCartney</td>\n",
              "      <td>[[Jason McCartney, 0.8274], [None, 0.128], [Li...</td>\n",
              "      <td>2020-03-08 05:45:58</td>\n",
              "      <td>1</td>\n",
              "      <td>[http://www.yorkshirepost.co.uk/news/second-ti...</td>\n",
              "      <td>E</td>\n",
              "      <td>Jason McCartney</td>\n",
              "      <td>[+1973-09-03T00:00:00Z]</td>\n",
              "      <td>United States of America</td>\n",
              "      <td>male</td>\n",
              "      <td>0</td>\n",
              "      <td>sport cyclist</td>\n",
              "      <td>0</td>\n",
              "      <td>0</td>\n",
              "      <td>0</td>\n",
              "      <td>0.000000</td>\n",
              "      <td>-0.4243</td>\n",
              "      <td>0.595703</td>\n",
              "      <td>0.057134</td>\n",
              "      <td>neutral</td>\n",
              "      <td>2020-03-08</td>\n",
              "      <td>2020</td>\n",
              "      <td>[www.yorkshirepost.co.uk]</td>\n",
              "      <td>uk</td>\n",
              "    </tr>\n",
              "    <tr>\n",
              "      <th>3</th>\n",
              "      <td>Q6837191</td>\n",
              "      <td>2020-02-14-058019</td>\n",
              "      <td>legacy, bad faith on pensions, Brexit and poli...</td>\n",
              "      <td>Michelle O'Neill</td>\n",
              "      <td>[[Michelle O'Neill, 0.8055], [None, 0.1302], [...</td>\n",
              "      <td>2020-02-14 11:48:49</td>\n",
              "      <td>1</td>\n",
              "      <td>[https://www.belfasttelegraph.co.uk/news/north...</td>\n",
              "      <td>E</td>\n",
              "      <td>Michelle O'Neill</td>\n",
              "      <td>[+1977-01-10T00:00:00Z]</td>\n",
              "      <td>Northern Ireland</td>\n",
              "      <td>female</td>\n",
              "      <td>0</td>\n",
              "      <td>politician</td>\n",
              "      <td>Sinn Féin</td>\n",
              "      <td>0</td>\n",
              "      <td>0</td>\n",
              "      <td>-0.233333</td>\n",
              "      <td>-0.0516</td>\n",
              "      <td>0.951277</td>\n",
              "      <td>0.222115</td>\n",
              "      <td>positive</td>\n",
              "      <td>2020-02-14</td>\n",
              "      <td>2020</td>\n",
              "      <td>[www.belfasttelegraph.co.uk]</td>\n",
              "      <td>uk</td>\n",
              "    </tr>\n",
              "    <tr>\n",
              "      <th>4</th>\n",
              "      <td>Q1728820</td>\n",
              "      <td>2020-01-27-094916</td>\n",
              "      <td>we're only at half-time on Brexit, it's not do...</td>\n",
              "      <td>Leo Varadkar</td>\n",
              "      <td>[[Leo Varadkar, 0.9378], [None, 0.0502], [Bori...</td>\n",
              "      <td>2020-01-27 12:25:00</td>\n",
              "      <td>1</td>\n",
              "      <td>[http://blogs.independent.co.uk/voices/brexit-...</td>\n",
              "      <td>E</td>\n",
              "      <td>Leo Varadkar</td>\n",
              "      <td>[+1979-01-18T00:00:00Z]</td>\n",
              "      <td>Ireland</td>\n",
              "      <td>male</td>\n",
              "      <td>0</td>\n",
              "      <td>politician</td>\n",
              "      <td>Fine Gael</td>\n",
              "      <td>0</td>\n",
              "      <td>0</td>\n",
              "      <td>0.000000</td>\n",
              "      <td>0.0000</td>\n",
              "      <td>0.946059</td>\n",
              "      <td>0.315353</td>\n",
              "      <td>positive</td>\n",
              "      <td>2020-01-27</td>\n",
              "      <td>2020</td>\n",
              "      <td>[blogs.independent.co.uk]</td>\n",
              "      <td>uk</td>\n",
              "    </tr>\n",
              "  </tbody>\n",
              "</table>\n",
              "</div>"
            ],
            "text/plain": [
              "          id            quoteID  ...                       domains  TLD\n",
              "0  Q20251661  2020-01-31-011304  ...                 [voanews.com]  com\n",
              "1    Q694676  2020-02-13-014393  ...      [www.expressandstar.com]  com\n",
              "2   Q1341937  2020-03-08-010480  ...     [www.yorkshirepost.co.uk]   uk\n",
              "3   Q6837191  2020-02-14-058019  ...  [www.belfasttelegraph.co.uk]   uk\n",
              "4   Q1728820  2020-01-27-094916  ...     [blogs.independent.co.uk]   uk\n",
              "\n",
              "[5 rows x 27 columns]"
            ]
          },
          "metadata": {},
          "execution_count": 55
        }
      ]
    },
    {
      "cell_type": "code",
      "source": [
        "# Using beautiful soup to get the country of the domain\n",
        "url = 'https://icannwiki.org/Country_code_top-level_domain'\n",
        "r = requests.get(url)\n",
        "soup = BeautifulSoup(r.text, 'html.parser')\n",
        "ccTLD_table = soup.find('table')\n",
        "table = []\n",
        "for ccTLD in ccTLD_table.find_all('tbody'):\n",
        "    rows = ccTLD.find_all('tr')\n",
        "    for row in rows:\n",
        "        columns = row.find_all('td')\n",
        "        table.append([columns[0].text, columns[1].text])"
      ],
      "metadata": {
        "id": "hq3c8zDI-aDY"
      },
      "execution_count": null,
      "outputs": []
    },
    {
      "cell_type": "code",
      "source": [
        "country_domain = pd.DataFrame(table)\n",
        "country_domain.columns = ['TLD', 'domain_country']\n",
        "country_domain.drop(0,axis=0,inplace=True)\n",
        "country_domain\n",
        "country_domain['TLD']=country_domain['TLD'].apply(lambda x: x.split('.')[-1])\n",
        "country_domain.head()"
      ],
      "metadata": {
        "colab": {
          "base_uri": "https://localhost:8080/",
          "height": 206
        },
        "id": "TTzRPE-Q-cb_",
        "outputId": "d14d9ffe-0601-4e24-923c-1853e4120b74"
      },
      "execution_count": null,
      "outputs": [
        {
          "output_type": "execute_result",
          "data": {
            "text/html": [
              "<div>\n",
              "<style scoped>\n",
              "    .dataframe tbody tr th:only-of-type {\n",
              "        vertical-align: middle;\n",
              "    }\n",
              "\n",
              "    .dataframe tbody tr th {\n",
              "        vertical-align: top;\n",
              "    }\n",
              "\n",
              "    .dataframe thead th {\n",
              "        text-align: right;\n",
              "    }\n",
              "</style>\n",
              "<table border=\"1\" class=\"dataframe\">\n",
              "  <thead>\n",
              "    <tr style=\"text-align: right;\">\n",
              "      <th></th>\n",
              "      <th>TLD</th>\n",
              "      <th>domain_country</th>\n",
              "    </tr>\n",
              "  </thead>\n",
              "  <tbody>\n",
              "    <tr>\n",
              "      <th>1</th>\n",
              "      <td>ac</td>\n",
              "      <td>Ascension Island</td>\n",
              "    </tr>\n",
              "    <tr>\n",
              "      <th>2</th>\n",
              "      <td>ad</td>\n",
              "      <td>Andorra</td>\n",
              "    </tr>\n",
              "    <tr>\n",
              "      <th>3</th>\n",
              "      <td>ae</td>\n",
              "      <td>United Arab Emirates</td>\n",
              "    </tr>\n",
              "    <tr>\n",
              "      <th>4</th>\n",
              "      <td>af</td>\n",
              "      <td>Afghanistan</td>\n",
              "    </tr>\n",
              "    <tr>\n",
              "      <th>5</th>\n",
              "      <td>ag</td>\n",
              "      <td>Antigua and Barbuda</td>\n",
              "    </tr>\n",
              "  </tbody>\n",
              "</table>\n",
              "</div>"
            ],
            "text/plain": [
              "  TLD        domain_country\n",
              "1  ac      Ascension Island\n",
              "2  ad               Andorra\n",
              "3  ae  United Arab Emirates\n",
              "4  af           Afghanistan\n",
              "5  ag   Antigua and Barbuda"
            ]
          },
          "metadata": {},
          "execution_count": 57
        }
      ]
    },
    {
      "cell_type": "code",
      "source": [
        "df = pd.merge(left=df, right=country_domain, how=\"left\", on=\"TLD\")"
      ],
      "metadata": {
        "id": "eJCSIf-v-jT4"
      },
      "execution_count": null,
      "outputs": []
    },
    {
      "cell_type": "code",
      "source": [
        "df.head()"
      ],
      "metadata": {
        "id": "LSGNkkxCA8tw",
        "outputId": "a5e93b16-cf0a-4cda-bc5f-8b1cafd36afd",
        "colab": {
          "base_uri": "https://localhost:8080/",
          "height": 643
        }
      },
      "execution_count": null,
      "outputs": [
        {
          "output_type": "execute_result",
          "data": {
            "text/html": [
              "<div>\n",
              "<style scoped>\n",
              "    .dataframe tbody tr th:only-of-type {\n",
              "        vertical-align: middle;\n",
              "    }\n",
              "\n",
              "    .dataframe tbody tr th {\n",
              "        vertical-align: top;\n",
              "    }\n",
              "\n",
              "    .dataframe thead th {\n",
              "        text-align: right;\n",
              "    }\n",
              "</style>\n",
              "<table border=\"1\" class=\"dataframe\">\n",
              "  <thead>\n",
              "    <tr style=\"text-align: right;\">\n",
              "      <th></th>\n",
              "      <th>id</th>\n",
              "      <th>quoteID</th>\n",
              "      <th>quotation</th>\n",
              "      <th>speaker</th>\n",
              "      <th>probas</th>\n",
              "      <th>date</th>\n",
              "      <th>numOccurrences</th>\n",
              "      <th>urls</th>\n",
              "      <th>phase</th>\n",
              "      <th>label</th>\n",
              "      <th>date_of_birth</th>\n",
              "      <th>nationality</th>\n",
              "      <th>gender</th>\n",
              "      <th>ethnic_group</th>\n",
              "      <th>occupation</th>\n",
              "      <th>party</th>\n",
              "      <th>academic_degree</th>\n",
              "      <th>religion</th>\n",
              "      <th>polarity_TextBlob</th>\n",
              "      <th>polarity_SentimentIntensityAnalyze</th>\n",
              "      <th>polarity_Flair</th>\n",
              "      <th>polarity</th>\n",
              "      <th>emotion</th>\n",
              "      <th>day</th>\n",
              "      <th>year</th>\n",
              "      <th>domains</th>\n",
              "      <th>TLD</th>\n",
              "      <th>domain_country</th>\n",
              "    </tr>\n",
              "  </thead>\n",
              "  <tbody>\n",
              "    <tr>\n",
              "      <th>0</th>\n",
              "      <td>Q20251661</td>\n",
              "      <td>2020-01-31-011304</td>\n",
              "      <td>Brexit is the victory of the common people aga...</td>\n",
              "      <td>Laura Huhtasaari</td>\n",
              "      <td>[[Laura Huhtasaari, 0.9325], [None, 0.059], [P...</td>\n",
              "      <td>2020-01-31 03:25:04</td>\n",
              "      <td>1</td>\n",
              "      <td>[http://voanews.com/europe/shrug-and-some-sorr...</td>\n",
              "      <td>E</td>\n",
              "      <td>Laura Huhtasaari</td>\n",
              "      <td>[+1979-03-30T00:00:00Z]</td>\n",
              "      <td>Finland</td>\n",
              "      <td>female</td>\n",
              "      <td>0</td>\n",
              "      <td>politician</td>\n",
              "      <td>Finns Party</td>\n",
              "      <td>0</td>\n",
              "      <td>Lutheranism</td>\n",
              "      <td>-0.022619</td>\n",
              "      <td>0.5719</td>\n",
              "      <td>0.663805</td>\n",
              "      <td>0.404362</td>\n",
              "      <td>positive</td>\n",
              "      <td>2020-01-31</td>\n",
              "      <td>2020</td>\n",
              "      <td>[voanews.com]</td>\n",
              "      <td>com</td>\n",
              "      <td>NaN</td>\n",
              "    </tr>\n",
              "    <tr>\n",
              "      <th>1</th>\n",
              "      <td>Q694676</td>\n",
              "      <td>2020-02-13-014393</td>\n",
              "      <td>Certainly Brexit was a big issue and people we...</td>\n",
              "      <td>Pat McFadden</td>\n",
              "      <td>[[Pat McFadden, 0.9371], [None, 0.0535], [Jere...</td>\n",
              "      <td>2020-02-13 06:01:30</td>\n",
              "      <td>1</td>\n",
              "      <td>[http://www.expressandstar.com/news/politics/2...</td>\n",
              "      <td>E</td>\n",
              "      <td>Pat McFadden</td>\n",
              "      <td>[+1965-03-26T00:00:00Z]</td>\n",
              "      <td>United Kingdom</td>\n",
              "      <td>male</td>\n",
              "      <td>0</td>\n",
              "      <td>politician</td>\n",
              "      <td>Labour Party</td>\n",
              "      <td>0</td>\n",
              "      <td>0</td>\n",
              "      <td>-0.161905</td>\n",
              "      <td>-0.2500</td>\n",
              "      <td>0.997470</td>\n",
              "      <td>0.195188</td>\n",
              "      <td>positive</td>\n",
              "      <td>2020-02-13</td>\n",
              "      <td>2020</td>\n",
              "      <td>[www.expressandstar.com]</td>\n",
              "      <td>com</td>\n",
              "      <td>NaN</td>\n",
              "    </tr>\n",
              "    <tr>\n",
              "      <th>2</th>\n",
              "      <td>Q1341937</td>\n",
              "      <td>2020-03-08-010480</td>\n",
              "      <td>I backed leave and voted leave, but I never ca...</td>\n",
              "      <td>Jason McCartney</td>\n",
              "      <td>[[Jason McCartney, 0.8274], [None, 0.128], [Li...</td>\n",
              "      <td>2020-03-08 05:45:58</td>\n",
              "      <td>1</td>\n",
              "      <td>[http://www.yorkshirepost.co.uk/news/second-ti...</td>\n",
              "      <td>E</td>\n",
              "      <td>Jason McCartney</td>\n",
              "      <td>[+1973-09-03T00:00:00Z]</td>\n",
              "      <td>United States of America</td>\n",
              "      <td>male</td>\n",
              "      <td>0</td>\n",
              "      <td>sport cyclist</td>\n",
              "      <td>0</td>\n",
              "      <td>0</td>\n",
              "      <td>0</td>\n",
              "      <td>0.000000</td>\n",
              "      <td>-0.4243</td>\n",
              "      <td>0.595703</td>\n",
              "      <td>0.057134</td>\n",
              "      <td>neutral</td>\n",
              "      <td>2020-03-08</td>\n",
              "      <td>2020</td>\n",
              "      <td>[www.yorkshirepost.co.uk]</td>\n",
              "      <td>uk</td>\n",
              "      <td>United Kingdom</td>\n",
              "    </tr>\n",
              "    <tr>\n",
              "      <th>3</th>\n",
              "      <td>Q6837191</td>\n",
              "      <td>2020-02-14-058019</td>\n",
              "      <td>legacy, bad faith on pensions, Brexit and poli...</td>\n",
              "      <td>Michelle O'Neill</td>\n",
              "      <td>[[Michelle O'Neill, 0.8055], [None, 0.1302], [...</td>\n",
              "      <td>2020-02-14 11:48:49</td>\n",
              "      <td>1</td>\n",
              "      <td>[https://www.belfasttelegraph.co.uk/news/north...</td>\n",
              "      <td>E</td>\n",
              "      <td>Michelle O'Neill</td>\n",
              "      <td>[+1977-01-10T00:00:00Z]</td>\n",
              "      <td>Northern Ireland</td>\n",
              "      <td>female</td>\n",
              "      <td>0</td>\n",
              "      <td>politician</td>\n",
              "      <td>Sinn Féin</td>\n",
              "      <td>0</td>\n",
              "      <td>0</td>\n",
              "      <td>-0.233333</td>\n",
              "      <td>-0.0516</td>\n",
              "      <td>0.951277</td>\n",
              "      <td>0.222115</td>\n",
              "      <td>positive</td>\n",
              "      <td>2020-02-14</td>\n",
              "      <td>2020</td>\n",
              "      <td>[www.belfasttelegraph.co.uk]</td>\n",
              "      <td>uk</td>\n",
              "      <td>United Kingdom</td>\n",
              "    </tr>\n",
              "    <tr>\n",
              "      <th>4</th>\n",
              "      <td>Q1728820</td>\n",
              "      <td>2020-01-27-094916</td>\n",
              "      <td>we're only at half-time on Brexit, it's not do...</td>\n",
              "      <td>Leo Varadkar</td>\n",
              "      <td>[[Leo Varadkar, 0.9378], [None, 0.0502], [Bori...</td>\n",
              "      <td>2020-01-27 12:25:00</td>\n",
              "      <td>1</td>\n",
              "      <td>[http://blogs.independent.co.uk/voices/brexit-...</td>\n",
              "      <td>E</td>\n",
              "      <td>Leo Varadkar</td>\n",
              "      <td>[+1979-01-18T00:00:00Z]</td>\n",
              "      <td>Ireland</td>\n",
              "      <td>male</td>\n",
              "      <td>0</td>\n",
              "      <td>politician</td>\n",
              "      <td>Fine Gael</td>\n",
              "      <td>0</td>\n",
              "      <td>0</td>\n",
              "      <td>0.000000</td>\n",
              "      <td>0.0000</td>\n",
              "      <td>0.946059</td>\n",
              "      <td>0.315353</td>\n",
              "      <td>positive</td>\n",
              "      <td>2020-01-27</td>\n",
              "      <td>2020</td>\n",
              "      <td>[blogs.independent.co.uk]</td>\n",
              "      <td>uk</td>\n",
              "      <td>United Kingdom</td>\n",
              "    </tr>\n",
              "  </tbody>\n",
              "</table>\n",
              "</div>"
            ],
            "text/plain": [
              "          id            quoteID  ...  TLD  domain_country\n",
              "0  Q20251661  2020-01-31-011304  ...  com             NaN\n",
              "1    Q694676  2020-02-13-014393  ...  com             NaN\n",
              "2   Q1341937  2020-03-08-010480  ...   uk  United Kingdom\n",
              "3   Q6837191  2020-02-14-058019  ...   uk  United Kingdom\n",
              "4   Q1728820  2020-01-27-094916  ...   uk  United Kingdom\n",
              "\n",
              "[5 rows x 28 columns]"
            ]
          },
          "metadata": {},
          "execution_count": 59
        }
      ]
    },
    {
      "cell_type": "code",
      "source": [
        "df.to_pickle('/content/drive/Shareddrives/Ada/All_attribute_version0412.pkl')"
      ],
      "metadata": {
        "id": "2Eu0iSUu-KPy"
      },
      "execution_count": null,
      "outputs": []
    }
  ]
}