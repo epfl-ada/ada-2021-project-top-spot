{
  "nbformat": 4,
  "nbformat_minor": 0,
  "metadata": {
    "colab": {
      "name": "Analysis_2_MediaViews.ipynb",
      "provenance": [],
      "collapsed_sections": []
    },
    "kernelspec": {
      "name": "python3",
      "display_name": "Python 3"
    },
    "language_info": {
      "name": "python"
    }
  },
  "cells": [
    {
      "cell_type": "code",
      "metadata": {
        "colab": {
          "base_uri": "https://localhost:8080/"
        },
        "id": "3SLJs_IdOIQz",
        "outputId": "88072097-89f6-4876-ae72-85f36fa1b4c0"
      },
      "source": [
        "# Load the data folder in the share drives\n",
        "# The data folder is in the 'drive/Shareddrives/Ada'\n",
        "from google.colab import drive\n",
        "drive.mount('/content/drive')"
      ],
      "execution_count": null,
      "outputs": [
        {
          "output_type": "stream",
          "name": "stdout",
          "text": [
            "Mounted at /content/drive\n"
          ]
        }
      ]
    },
    {
      "cell_type": "markdown",
      "metadata": {
        "id": "VNHF53l7O-a4"
      },
      "source": [
        "# Import Libraries"
      ]
    },
    {
      "cell_type": "code",
      "metadata": {
        "colab": {
          "base_uri": "https://localhost:8080/",
          "height": 416
        },
        "id": "gaw5PZEOOKut",
        "outputId": "2d94c110-721e-4ea1-81b4-083e2708ae8e"
      },
      "source": [
        "# installing required packages\n",
        "!pip install pandas==1.0.5\n",
        "!pip install textblob\n"
      ],
      "execution_count": null,
      "outputs": [
        {
          "output_type": "stream",
          "name": "stdout",
          "text": [
            "Collecting pandas==1.0.5\n",
            "  Downloading pandas-1.0.5-cp37-cp37m-manylinux1_x86_64.whl (10.1 MB)\n",
            "\u001b[K     |████████████████████████████████| 10.1 MB 5.6 MB/s \n",
            "\u001b[?25hRequirement already satisfied: numpy>=1.13.3 in /usr/local/lib/python3.7/dist-packages (from pandas==1.0.5) (1.19.5)\n",
            "Requirement already satisfied: python-dateutil>=2.6.1 in /usr/local/lib/python3.7/dist-packages (from pandas==1.0.5) (2.8.2)\n",
            "Requirement already satisfied: pytz>=2017.2 in /usr/local/lib/python3.7/dist-packages (from pandas==1.0.5) (2018.9)\n",
            "Requirement already satisfied: six>=1.5 in /usr/local/lib/python3.7/dist-packages (from python-dateutil>=2.6.1->pandas==1.0.5) (1.15.0)\n",
            "Installing collected packages: pandas\n",
            "  Attempting uninstall: pandas\n",
            "    Found existing installation: pandas 1.1.5\n",
            "    Uninstalling pandas-1.1.5:\n",
            "      Successfully uninstalled pandas-1.1.5\n",
            "\u001b[31mERROR: pip's dependency resolver does not currently take into account all the packages that are installed. This behaviour is the source of the following dependency conflicts.\n",
            "google-colab 1.0.0 requires pandas~=1.1.0; python_version >= \"3.0\", but you have pandas 1.0.5 which is incompatible.\u001b[0m\n",
            "Successfully installed pandas-1.0.5\n"
          ]
        },
        {
          "output_type": "display_data",
          "data": {
            "application/vnd.colab-display-data+json": {
              "pip_warning": {
                "packages": [
                  "pandas"
                ]
              }
            }
          },
          "metadata": {}
        },
        {
          "output_type": "stream",
          "name": "stdout",
          "text": [
            "Requirement already satisfied: textblob in /usr/local/lib/python3.7/dist-packages (0.15.3)\n",
            "Requirement already satisfied: nltk>=3.1 in /usr/local/lib/python3.7/dist-packages (from textblob) (3.2.5)\n",
            "Requirement already satisfied: six in /usr/local/lib/python3.7/dist-packages (from nltk>=3.1->textblob) (1.15.0)\n"
          ]
        }
      ]
    },
    {
      "cell_type": "code",
      "metadata": {
        "colab": {
          "base_uri": "https://localhost:8080/"
        },
        "id": "JDN2HPawOOLC",
        "outputId": "20245f12-2589-4ccb-890d-0ec0fbd86ab8"
      },
      "source": [
        "# Import needed libraries:\n",
        "\n",
        "import seaborn as sns\n",
        "from IPython.display import display, HTML\n",
        "import matplotlib.pyplot as plt\n",
        "import scipy.stats as stats\n",
        "import pandas as pd\n",
        "import numpy as np\n",
        "import warnings\n",
        "import pickle\n",
        "import shutil\n",
        "import os\n",
        "import glob\n",
        "import wordcloud\n",
        "import nltk\n",
        "import re\n",
        "warnings.filterwarnings('ignore')\n",
        "import requests \n",
        "from bs4 import BeautifulSoup\n",
        "import nltk\n",
        "nltk.download('stopwords')\n",
        "from nltk.corpus import stopwords\n",
        "import sys\n",
        "import spacy\n",
        "# !{sys.executable} -m spacy download en\n",
        "import re, numpy as np, pandas as pd\n",
        "from pprint import pprint\n",
        "\n",
        "# Gensim (for LDA)\n",
        "import gensim, spacy, logging, warnings\n",
        "import gensim.corpora as corpora\n",
        "from gensim.utils import lemmatize, simple_preprocess\n",
        "from gensim.models import CoherenceModel\n",
        "import matplotlib.pyplot as plt\n",
        "import plotly.express as px\n",
        "\n",
        "#URL parsing\n",
        "from urllib.parse import parse_qsl, urljoin, urlparse\n",
        "\n",
        "#Plots\n",
        "import plotly.graph_objs as go\n",
        "from plotly.offline import init_notebook_mode, iplot\n",
        "\n",
        "# Date\n",
        "from datetime import datetime"
      ],
      "execution_count": null,
      "outputs": [
        {
          "output_type": "stream",
          "name": "stdout",
          "text": [
            "[nltk_data] Downloading package stopwords to /root/nltk_data...\n",
            "[nltk_data]   Unzipping corpora/stopwords.zip.\n"
          ]
        }
      ]
    },
    {
      "cell_type": "code",
      "metadata": {
        "id": "yXYM7fsiObec"
      },
      "source": [
        "# loading NLTK Stop words\n",
        "\n",
        "stop_words = stopwords.words('english')\n",
        "stop_words.extend(['from', 'subject', 're', 'edu', 'use', 'not', 'would', 'say', 'could', '_', 'be', 'know', 'good', 'go', 'get', 'do', 'done', 'try', 'many', 'some', 'nice', 'thank', 'think', 'see', 'rather', 'easy', 'easily', 'lot', 'lack', 'make', 'want', 'seem', 'run', 'need', 'even', 'right', 'line', 'even', 'also', 'may', 'take', 'come'])\n",
        "\n",
        "%matplotlib inline\n",
        "warnings.filterwarnings(\"ignore\",category=DeprecationWarning)\n",
        "logging.basicConfig(format='%(asctime)s : %(levelname)s : %(message)s', level=logging.ERROR)"
      ],
      "execution_count": null,
      "outputs": []
    },
    {
      "cell_type": "markdown",
      "metadata": {
        "id": "BRGorhtageek"
      },
      "source": [
        "# Import Data"
      ]
    },
    {
      "cell_type": "code",
      "metadata": {
        "id": "gmFrTObgOjeO"
      },
      "source": [
        "# importing the processed/picked  data:\n",
        "df=pd.read_pickle('/content/drive/Shareddrives/Ada/Uniform/All_attribute_version1312.pkl')"
      ],
      "execution_count": null,
      "outputs": []
    },
    {
      "cell_type": "code",
      "metadata": {
        "colab": {
          "base_uri": "https://localhost:8080/",
          "height": 642
        },
        "id": "Ui_mzoCdPBYu",
        "outputId": "8584200a-9d00-47e1-c203-e4e51da086b0"
      },
      "source": [
        "#printing the first lines:\n",
        "df.head()"
      ],
      "execution_count": null,
      "outputs": [
        {
          "output_type": "execute_result",
          "data": {
            "text/html": [
              "<div>\n",
              "<style scoped>\n",
              "    .dataframe tbody tr th:only-of-type {\n",
              "        vertical-align: middle;\n",
              "    }\n",
              "\n",
              "    .dataframe tbody tr th {\n",
              "        vertical-align: top;\n",
              "    }\n",
              "\n",
              "    .dataframe thead th {\n",
              "        text-align: right;\n",
              "    }\n",
              "</style>\n",
              "<table border=\"1\" class=\"dataframe\">\n",
              "  <thead>\n",
              "    <tr style=\"text-align: right;\">\n",
              "      <th style=\"min-width: {};\"></th>\n",
              "      <th style=\"min-width: {};\">id</th>\n",
              "      <th style=\"min-width: {};\">quoteID</th>\n",
              "      <th style=\"min-width: {};\">quotation</th>\n",
              "      <th style=\"min-width: {};\">speaker</th>\n",
              "      <th style=\"min-width: {};\">probas</th>\n",
              "      <th style=\"min-width: {};\">date</th>\n",
              "      <th style=\"min-width: {};\">numOccurrences</th>\n",
              "      <th style=\"min-width: {};\">urls</th>\n",
              "      <th style=\"min-width: {};\">phase</th>\n",
              "      <th style=\"min-width: {};\">label</th>\n",
              "      <th style=\"min-width: {};\">date_of_birth</th>\n",
              "      <th style=\"min-width: {};\">nationality</th>\n",
              "      <th style=\"min-width: {};\">gender</th>\n",
              "      <th style=\"min-width: {};\">ethnic_group</th>\n",
              "      <th style=\"min-width: {};\">occupation</th>\n",
              "      <th style=\"min-width: {};\">party</th>\n",
              "      <th style=\"min-width: {};\">academic_degree</th>\n",
              "      <th style=\"min-width: {};\">religion</th>\n",
              "      <th style=\"min-width: {};\">polarity_TextBlob</th>\n",
              "      <th style=\"min-width: {};\">polarity_SentimentIntensityAnalyze</th>\n",
              "      <th style=\"min-width: {};\">polarity_Flair</th>\n",
              "      <th style=\"min-width: {};\">polarity</th>\n",
              "      <th style=\"min-width: {};\">emotion</th>\n",
              "      <th style=\"min-width: {};\">day</th>\n",
              "      <th style=\"min-width: {};\">year</th>\n",
              "      <th style=\"min-width: {};\">just_date</th>\n",
              "      <th style=\"min-width: {};\">domains</th>\n",
              "      <th style=\"min-width: {};\">TLD</th>\n",
              "      <th style=\"min-width: {};\">domain_country</th>\n",
              "    </tr>\n",
              "  </thead>\n",
              "  <tbody>\n",
              "    <tr>\n",
              "      <th>0</th>\n",
              "      <td>Q20251661</td>\n",
              "      <td>2020-01-31-011304</td>\n",
              "      <td>Brexit is the victory of the common people aga...</td>\n",
              "      <td>Laura Huhtasaari</td>\n",
              "      <td>[[Laura Huhtasaari, 0.9325], [None, 0.059], [P...</td>\n",
              "      <td>2020-01-31 03:25:04</td>\n",
              "      <td>1</td>\n",
              "      <td>[http://voanews.com/europe/shrug-and-some-sorr...</td>\n",
              "      <td>E</td>\n",
              "      <td>Laura Huhtasaari</td>\n",
              "      <td>[+1979-03-30T00:00:00Z]</td>\n",
              "      <td>Finland</td>\n",
              "      <td>female</td>\n",
              "      <td>0</td>\n",
              "      <td>politician</td>\n",
              "      <td>Finns Party</td>\n",
              "      <td>0</td>\n",
              "      <td>Lutheranism</td>\n",
              "      <td>-0.022619</td>\n",
              "      <td>0.5719</td>\n",
              "      <td>0.663805</td>\n",
              "      <td>0.571900</td>\n",
              "      <td>positive</td>\n",
              "      <td>2020-01-31</td>\n",
              "      <td>2020</td>\n",
              "      <td>2020-01-31</td>\n",
              "      <td>[voanews.com]</td>\n",
              "      <td>com</td>\n",
              "      <td>NaN</td>\n",
              "    </tr>\n",
              "    <tr>\n",
              "      <th>1</th>\n",
              "      <td>Q694676</td>\n",
              "      <td>2020-02-13-014393</td>\n",
              "      <td>Certainly Brexit was a big issue and people we...</td>\n",
              "      <td>Pat McFadden</td>\n",
              "      <td>[[Pat McFadden, 0.9371], [None, 0.0535], [Jere...</td>\n",
              "      <td>2020-02-13 06:01:30</td>\n",
              "      <td>1</td>\n",
              "      <td>[http://www.expressandstar.com/news/politics/2...</td>\n",
              "      <td>E</td>\n",
              "      <td>Pat McFadden</td>\n",
              "      <td>[+1965-03-26T00:00:00Z]</td>\n",
              "      <td>United Kingdom</td>\n",
              "      <td>male</td>\n",
              "      <td>0</td>\n",
              "      <td>politician</td>\n",
              "      <td>Labour Party</td>\n",
              "      <td>0</td>\n",
              "      <td>0</td>\n",
              "      <td>-0.161905</td>\n",
              "      <td>-0.2500</td>\n",
              "      <td>0.997470</td>\n",
              "      <td>-0.161905</td>\n",
              "      <td>negative</td>\n",
              "      <td>2020-02-13</td>\n",
              "      <td>2020</td>\n",
              "      <td>2020-02-13</td>\n",
              "      <td>[www.expressandstar.com]</td>\n",
              "      <td>com</td>\n",
              "      <td>NaN</td>\n",
              "    </tr>\n",
              "    <tr>\n",
              "      <th>2</th>\n",
              "      <td>Q1341937</td>\n",
              "      <td>2020-03-08-010480</td>\n",
              "      <td>I backed leave and voted leave, but I never ca...</td>\n",
              "      <td>Jason McCartney</td>\n",
              "      <td>[[Jason McCartney, 0.8274], [None, 0.128], [Li...</td>\n",
              "      <td>2020-03-08 05:45:58</td>\n",
              "      <td>1</td>\n",
              "      <td>[http://www.yorkshirepost.co.uk/news/second-ti...</td>\n",
              "      <td>E</td>\n",
              "      <td>Jason McCartney</td>\n",
              "      <td>[+1973-09-03T00:00:00Z]</td>\n",
              "      <td>United States of America</td>\n",
              "      <td>male</td>\n",
              "      <td>0</td>\n",
              "      <td>sport cyclist</td>\n",
              "      <td>0</td>\n",
              "      <td>0</td>\n",
              "      <td>0</td>\n",
              "      <td>0.000000</td>\n",
              "      <td>-0.4243</td>\n",
              "      <td>0.595703</td>\n",
              "      <td>0.000000</td>\n",
              "      <td>negative</td>\n",
              "      <td>2020-03-08</td>\n",
              "      <td>2020</td>\n",
              "      <td>2020-03-08</td>\n",
              "      <td>[www.yorkshirepost.co.uk]</td>\n",
              "      <td>uk</td>\n",
              "      <td>United Kingdom</td>\n",
              "    </tr>\n",
              "    <tr>\n",
              "      <th>3</th>\n",
              "      <td>Q6837191</td>\n",
              "      <td>2020-02-14-058019</td>\n",
              "      <td>legacy, bad faith on pensions, Brexit and poli...</td>\n",
              "      <td>Michelle O'Neill</td>\n",
              "      <td>[[Michelle O'Neill, 0.8055], [None, 0.1302], [...</td>\n",
              "      <td>2020-02-14 11:48:49</td>\n",
              "      <td>1</td>\n",
              "      <td>[https://www.belfasttelegraph.co.uk/news/north...</td>\n",
              "      <td>E</td>\n",
              "      <td>Michelle O'Neill</td>\n",
              "      <td>[+1977-01-10T00:00:00Z]</td>\n",
              "      <td>Northern Ireland</td>\n",
              "      <td>female</td>\n",
              "      <td>0</td>\n",
              "      <td>politician</td>\n",
              "      <td>Sinn Féin</td>\n",
              "      <td>0</td>\n",
              "      <td>0</td>\n",
              "      <td>-0.233333</td>\n",
              "      <td>-0.0516</td>\n",
              "      <td>0.951277</td>\n",
              "      <td>-0.051600</td>\n",
              "      <td>negative</td>\n",
              "      <td>2020-02-14</td>\n",
              "      <td>2020</td>\n",
              "      <td>2020-02-14</td>\n",
              "      <td>[www.belfasttelegraph.co.uk]</td>\n",
              "      <td>uk</td>\n",
              "      <td>United Kingdom</td>\n",
              "    </tr>\n",
              "    <tr>\n",
              "      <th>4</th>\n",
              "      <td>Q1728820</td>\n",
              "      <td>2020-01-27-094916</td>\n",
              "      <td>we're only at half-time on Brexit, it's not do...</td>\n",
              "      <td>Leo Varadkar</td>\n",
              "      <td>[[Leo Varadkar, 0.9378], [None, 0.0502], [Bori...</td>\n",
              "      <td>2020-01-27 12:25:00</td>\n",
              "      <td>1</td>\n",
              "      <td>[http://blogs.independent.co.uk/voices/brexit-...</td>\n",
              "      <td>E</td>\n",
              "      <td>Leo Varadkar</td>\n",
              "      <td>[+1979-01-18T00:00:00Z]</td>\n",
              "      <td>Ireland</td>\n",
              "      <td>male</td>\n",
              "      <td>0</td>\n",
              "      <td>politician</td>\n",
              "      <td>Fine Gael</td>\n",
              "      <td>0</td>\n",
              "      <td>0</td>\n",
              "      <td>0.000000</td>\n",
              "      <td>0.0000</td>\n",
              "      <td>0.946059</td>\n",
              "      <td>0.000000</td>\n",
              "      <td>negative</td>\n",
              "      <td>2020-01-27</td>\n",
              "      <td>2020</td>\n",
              "      <td>2020-01-27</td>\n",
              "      <td>[blogs.independent.co.uk]</td>\n",
              "      <td>uk</td>\n",
              "      <td>United Kingdom</td>\n",
              "    </tr>\n",
              "  </tbody>\n",
              "</table>\n",
              "</div>"
            ],
            "text/plain": [
              "          id            quoteID  ...  TLD  domain_country\n",
              "0  Q20251661  2020-01-31-011304  ...  com             NaN\n",
              "1    Q694676  2020-02-13-014393  ...  com             NaN\n",
              "2   Q1341937  2020-03-08-010480  ...   uk  United Kingdom\n",
              "3   Q6837191  2020-02-14-058019  ...   uk  United Kingdom\n",
              "4   Q1728820  2020-01-27-094916  ...   uk  United Kingdom\n",
              "\n",
              "[5 rows x 29 columns]"
            ]
          },
          "metadata": {},
          "execution_count": 31
        }
      ]
    },
    {
      "cell_type": "code",
      "metadata": {
        "id": "NeMQEh8ATFS4",
        "colab": {
          "base_uri": "https://localhost:8080/"
        },
        "outputId": "905bacc9-5f2e-417e-d02f-8f775d34733f"
      },
      "source": [
        "# printing all the columns:\n",
        "df.columns"
      ],
      "execution_count": null,
      "outputs": [
        {
          "output_type": "execute_result",
          "data": {
            "text/plain": [
              "Index(['id', 'quoteID', 'quotation', 'speaker', 'probas', 'date',\n",
              "       'numOccurrences', 'urls', 'phase', 'label', 'date_of_birth',\n",
              "       'nationality', 'gender', 'ethnic_group', 'occupation', 'party',\n",
              "       'academic_degree', 'religion', 'polarity_TextBlob',\n",
              "       'polarity_SentimentIntensityAnalyze', 'polarity_Flair', 'polarity',\n",
              "       'emotion', 'day', 'year', 'just_date', 'domains', 'TLD',\n",
              "       'domain_country'],\n",
              "      dtype='object')"
            ]
          },
          "metadata": {},
          "execution_count": 6
        }
      ]
    },
    {
      "cell_type": "markdown",
      "metadata": {
        "id": "qULV7dbte-ha"
      },
      "source": [
        "#DATA STORY/ Pipeline:\n",
        "**I - The media's coverage of Brexit from 2015 to 2020 considering data in Quotebank:**\n",
        "\n",
        "\n",
        "1. How many quotations are related to Brexit?\n",
        "2. When did the media start to mention Brexit? \n",
        "3. How did the number of quotations change over time?\n",
        "\n",
        "  \n",
        "**II - Media views towards Brexit:**\n",
        "\n",
        "\n",
        "1. Which media have relayed the information the most?\n",
        "2. What is the country of origin of these media?\n",
        "3. What media and websites tend to have positive or negative statements towards the situation?\n",
        "4. How sentiments of quotations revealed by top 10 medias change over recent years? \n",
        "\n",
        "\n",
        "**III - Who issued these quotes, and what were the main opinions:**\n",
        "\n",
        "\n",
        "1.  Plot: Word cloud of the quotation :\n",
        "2. How many active speakers are mentioned?\n",
        "3. Most active speaker with different Sentiment towards Brexit\n",
        "4. What are the main topics discussed\n",
        "5. Where do they come from?\n",
        "6.  How has the number of active speakers changed over the different periods of Brexit? \n",
        "7. What is their sentiment about the situation, content or not content, independently of their opinion on pro or against Brexit?\n",
        "8. Did they change their perception during this period?\n",
        "9. How are the different sentiments of the speakers distributed by countries?\n"
      ]
    },
    {
      "cell_type": "markdown",
      "source": [
        "# Methods: \n",
        "\n",
        "* To merge quotebank with the additional datasets, we have filtered those quotations related to Brexit by identifying possible keywords related to Brexit. We have already combined quotations with speaker attributes by joining with QIDs.  We also scrapped [the web page](https://icannwiki.org/Country_code_top-level_domain) to get the domain countries using beautiful soup for future analysis.\n",
        "\n",
        "\n",
        "* We then carried out a sentiment analysis, for that we used the results of three packages: Textblob, SentimentIntensityAnalyze and Flair. We have then taken the median of the three resulting polarities. To subsequently decide on the thresholds to choose for classifying the emotions (Positive, Negative, or Neutral), we manually labeled 100 quotes and selected the thresholds accordingly.  It is critical to note that the resulting emotion does not reflect the direct view or perception of the Brexit, i.e. pro or con. The resulting emotion is based on the tone of the quote. As an example (fabricated), the two quotes: \"Brexit is crucial, staying in the union would be a catastrophe, a suicide\" and \"Staying in the union is crucial, leaving would be a catastrophe, a suicide\" will both be assigned a negative emotion by design even though they stand for two different opinions.\n",
        "\n",
        "\n",
        "* We also performed an LDA topic modeling to get an insight about the most relevant subjects. This approach allowed us to notice clearly the different names involved with Brexit like Theresa May, Boris Johnson, Donald Trump, David Cameron etc..\n",
        "\n",
        "  Also, this analysis revealed some major keywords that allowed us to get some ideas about what was beeing discussed.\n",
        "\n",
        "   We can see that some of the speakers are projecting the Brexit as an opportunity for a better change, and some of them are reflecting all the risks that may accure, stating words like (risk, damage, lose, crisis, impact etc..).\n",
        "And also, we can see how some keywords are reflecting the will the stay in europe (partners, stay, deal, relationship, members etc).\n",
        "\n",
        "  But, this was not enough for us since we thout it would be more interesting to see the position of the most involved speakers with Brexit.\n",
        "\n",
        "  That's why we looked at the the most active ones and divided our research into 3 different timelines:\n",
        "  - just before the referendum (before 2016-06-20)\n",
        "  - period of referendum (from 2016-06-21 to 2016-06-25) \n",
        "  - and just after (after 2016-06-26)\n",
        "\n",
        "  And at the same time, we were interested in answering these questions:\n",
        "\n",
        "  1) From which countries are speakers the most interested in Brexit?\n",
        "\n",
        "  2) Who are the most relevant speakers?\n",
        "\n",
        "  3) What's their opinion during those different periods?\n",
        "\n",
        "\n",
        "  The distribution of quotations by speakers' nationality confirmed our hypothesis: countries with the most interest with United Kingdom are the most involved with the Brexit situation. \n",
        "\n",
        "  We also distinguished the main speakers by their activity throughout the Brexit period of time.\n",
        "  \n",
        "\n",
        "  Our analysis just allowed ton conclude more about the position of the most relevant speakers at that time.\n",
        "\n",
        "  \n",
        "\n",
        "\n",
        "* Spectral clustering was applied for speakers and for different subclasses of occupation over time.  We first encoded the category features-nationality, polarity, and occupation-using two methods: hot encoding and target encoding. We then used the T-SNE method to compress the features and generate tsne_x,tesn_y so that they could be plotted in 2D or 3D graphs. We obtained some plots and results, but we will leave the final interpretation and more advanced implementation of the T-SNE approach to be done as a future improvement of our T-SNE method. You can find the first results, uncommented, of the cluster analysis at the end of this notebook. "
      ],
      "metadata": {
        "id": "4rRsbpnmC66m"
      }
    },
    {
      "cell_type": "markdown",
      "source": [
        "## II - Media views towards Brexit:"
      ],
      "metadata": {
        "id": "lkf7HDtmxEly"
      }
    },
    {
      "cell_type": "markdown",
      "source": [
        "**Note:** Throughout this report, we will use both the terms domain and media interchangeably to refer to the source outlets. "
      ],
      "metadata": {
        "id": "Cftek9lRMs6G"
      }
    },
    {
      "cell_type": "markdown",
      "source": [
        "### II.1 Which media have relayed the information the most? \n",
        "First, we look at how many unique media we have. "
      ],
      "metadata": {
        "id": "bPVhj3ZtjlSs"
      }
    },
    {
      "cell_type": "code",
      "source": [
        "print(\"The number of unique domains is \",df['domains'].apply(lambda x: x[0]).nunique())"
      ],
      "metadata": {
        "colab": {
          "base_uri": "https://localhost:8080/"
        },
        "id": "Nvf05omNZUYt",
        "outputId": "758cf5ab-8f42-42b5-d317-f5dee1aabdde"
      },
      "execution_count": null,
      "outputs": [
        {
          "output_type": "stream",
          "name": "stdout",
          "text": [
            "The number of unique domains is  3990\n"
          ]
        }
      ]
    },
    {
      "cell_type": "code",
      "source": [
        "# From nested list to text\n",
        "df['domains']=df['domains'].apply(lambda x: x[0])"
      ],
      "metadata": {
        "id": "5uPhgGlmartE"
      },
      "execution_count": null,
      "outputs": []
    },
    {
      "cell_type": "code",
      "source": [
        "# group by id and do the counts to plot later:\n",
        "df_domains = df.groupby(df['domains'])['id'].count().reset_index().rename(columns={'id':'counts'}).sort_values(['counts'],ascending=False)"
      ],
      "metadata": {
        "id": "bQJ_zELoaclE"
      },
      "execution_count": null,
      "outputs": []
    },
    {
      "cell_type": "code",
      "source": [
        "# top 10 domains\n",
        "df_domains.head(10)"
      ],
      "metadata": {
        "colab": {
          "base_uri": "https://localhost:8080/",
          "height": 363
        },
        "id": "xyAoO5S2az17",
        "outputId": "bd5e03df-032f-4aa2-e464-c2f3f9fcb052"
      },
      "execution_count": null,
      "outputs": [
        {
          "output_type": "execute_result",
          "data": {
            "text/html": [
              "<div>\n",
              "<style scoped>\n",
              "    .dataframe tbody tr th:only-of-type {\n",
              "        vertical-align: middle;\n",
              "    }\n",
              "\n",
              "    .dataframe tbody tr th {\n",
              "        vertical-align: top;\n",
              "    }\n",
              "\n",
              "    .dataframe thead th {\n",
              "        text-align: right;\n",
              "    }\n",
              "</style>\n",
              "<table border=\"1\" class=\"dataframe\">\n",
              "  <thead>\n",
              "    <tr style=\"text-align: right;\">\n",
              "      <th style=\"min-width: {};\"></th>\n",
              "      <th style=\"min-width: {};\">domains</th>\n",
              "      <th style=\"min-width: {};\">counts</th>\n",
              "    </tr>\n",
              "  </thead>\n",
              "  <tbody>\n",
              "    <tr>\n",
              "      <th>484</th>\n",
              "      <td>express.co.uk</td>\n",
              "      <td>3819</td>\n",
              "    </tr>\n",
              "    <tr>\n",
              "      <th>1895</th>\n",
              "      <td>www.belfasttelegraph.co.uk</td>\n",
              "      <td>3147</td>\n",
              "    </tr>\n",
              "    <tr>\n",
              "      <th>674</th>\n",
              "      <td>heraldscotland.com</td>\n",
              "      <td>2275</td>\n",
              "    </tr>\n",
              "    <tr>\n",
              "      <th>3270</th>\n",
              "      <td>www.politico.eu</td>\n",
              "      <td>1976</td>\n",
              "    </tr>\n",
              "    <tr>\n",
              "      <th>3037</th>\n",
              "      <td>www.msn.com</td>\n",
              "      <td>1960</td>\n",
              "    </tr>\n",
              "    <tr>\n",
              "      <th>1829</th>\n",
              "      <td>www.aol.co.uk</td>\n",
              "      <td>1755</td>\n",
              "    </tr>\n",
              "    <tr>\n",
              "      <th>1958</th>\n",
              "      <td>www.breitbart.com</td>\n",
              "      <td>1546</td>\n",
              "    </tr>\n",
              "    <tr>\n",
              "      <th>3272</th>\n",
              "      <td>www.politicshome.com</td>\n",
              "      <td>1525</td>\n",
              "    </tr>\n",
              "    <tr>\n",
              "      <th>738</th>\n",
              "      <td>inews.co.uk</td>\n",
              "      <td>1500</td>\n",
              "    </tr>\n",
              "    <tr>\n",
              "      <th>2995</th>\n",
              "      <td>www.mirror.co.uk</td>\n",
              "      <td>1389</td>\n",
              "    </tr>\n",
              "  </tbody>\n",
              "</table>\n",
              "</div>"
            ],
            "text/plain": [
              "                         domains  counts\n",
              "484                express.co.uk    3819\n",
              "1895  www.belfasttelegraph.co.uk    3147\n",
              "674           heraldscotland.com    2275\n",
              "3270             www.politico.eu    1976\n",
              "3037                 www.msn.com    1960\n",
              "1829               www.aol.co.uk    1755\n",
              "1958           www.breitbart.com    1546\n",
              "3272        www.politicshome.com    1525\n",
              "738                  inews.co.uk    1500\n",
              "2995            www.mirror.co.uk    1389"
            ]
          },
          "metadata": {},
          "execution_count": 227
        }
      ]
    },
    {
      "cell_type": "code",
      "metadata": {
        "id": "gOXqEaFcgHhb",
        "colab": {
          "base_uri": "https://localhost:8080/",
          "height": 542
        },
        "outputId": "bbe3512c-ad14-423a-fb8a-a1a1ab30e4de"
      },
      "source": [
        "# Visualise the top 20 media which relayed the information the most\n",
        "fig = px.bar(df_domains.head(20),x='counts', y='domains', orientation='h')\n",
        "fig.update_layout(barmode='stack', yaxis={'categoryorder':'total ascending'})\n",
        "\n",
        "fig.show()\n",
        "\n",
        "fig.write_html(\"/content/drive/Shareddrives/Ada/pickle/top20_media.html\")"
      ],
      "execution_count": null,
      "outputs": [
        {
          "output_type": "display_data",
          "data": {
            "text/html": [
              "<html>\n",
              "<head><meta charset=\"utf-8\" /></head>\n",
              "<body>\n",
              "    <div>\n",
              "            <script src=\"https://cdnjs.cloudflare.com/ajax/libs/mathjax/2.7.5/MathJax.js?config=TeX-AMS-MML_SVG\"></script><script type=\"text/javascript\">if (window.MathJax) {MathJax.Hub.Config({SVG: {font: \"STIX-Web\"}});}</script>\n",
              "                <script type=\"text/javascript\">window.PlotlyConfig = {MathJaxConfig: 'local'};</script>\n",
              "        <script src=\"https://cdn.plot.ly/plotly-latest.min.js\"></script>    \n",
              "            <div id=\"77efe6d3-6b69-4dc5-b2ff-c594c8ac24b2\" class=\"plotly-graph-div\" style=\"height:525px; width:100%;\"></div>\n",
              "            <script type=\"text/javascript\">\n",
              "                \n",
              "                    window.PLOTLYENV=window.PLOTLYENV || {};\n",
              "                    \n",
              "                if (document.getElementById(\"77efe6d3-6b69-4dc5-b2ff-c594c8ac24b2\")) {\n",
              "                    Plotly.newPlot(\n",
              "                        '77efe6d3-6b69-4dc5-b2ff-c594c8ac24b2',\n",
              "                        [{\"alignmentgroup\": \"True\", \"hoverlabel\": {\"namelength\": 0}, \"hovertemplate\": \"counts=%{x}<br>domains=%{y}\", \"legendgroup\": \"\", \"marker\": {\"color\": \"#636efa\"}, \"name\": \"\", \"offsetgroup\": \"\", \"orientation\": \"h\", \"showlegend\": false, \"textposition\": \"auto\", \"type\": \"bar\", \"x\": [3819, 3147, 2275, 1976, 1960, 1755, 1546, 1525, 1500, 1389, 1371, 1371, 1367, 1316, 1293, 1209, 1159, 1021, 969, 913], \"xaxis\": \"x\", \"y\": [\"express.co.uk\", \"www.belfasttelegraph.co.uk\", \"heraldscotland.com\", \"www.politico.eu\", \"www.msn.com\", \"www.aol.co.uk\", \"www.breitbart.com\", \"www.politicshome.com\", \"inews.co.uk\", \"www.mirror.co.uk\", \"www.bbc.co.uk\", \"www.irishtimes.com\", \"www.independent.ie\", \"www.thenational.scot\", \"www.express.co.uk\", \"www.independent.co.uk\", \"www.thesun.co.uk\", \"uk.investing.com\", \"www.scotsman.com\", \"www.standard.co.uk\"], \"yaxis\": \"y\"}],\n",
              "                        {\"barmode\": \"stack\", \"legend\": {\"tracegroupgap\": 0}, \"margin\": {\"t\": 60}, \"template\": {\"data\": {\"bar\": [{\"error_x\": {\"color\": \"#2a3f5f\"}, \"error_y\": {\"color\": \"#2a3f5f\"}, \"marker\": {\"line\": {\"color\": \"#E5ECF6\", \"width\": 0.5}}, \"type\": \"bar\"}], \"barpolar\": [{\"marker\": {\"line\": {\"color\": \"#E5ECF6\", \"width\": 0.5}}, \"type\": \"barpolar\"}], \"carpet\": [{\"aaxis\": {\"endlinecolor\": \"#2a3f5f\", \"gridcolor\": \"white\", \"linecolor\": \"white\", \"minorgridcolor\": \"white\", \"startlinecolor\": \"#2a3f5f\"}, \"baxis\": {\"endlinecolor\": \"#2a3f5f\", \"gridcolor\": \"white\", \"linecolor\": \"white\", \"minorgridcolor\": \"white\", \"startlinecolor\": \"#2a3f5f\"}, \"type\": \"carpet\"}], \"choropleth\": [{\"colorbar\": {\"outlinewidth\": 0, \"ticks\": \"\"}, \"type\": \"choropleth\"}], \"contour\": [{\"colorbar\": {\"outlinewidth\": 0, \"ticks\": \"\"}, \"colorscale\": [[0.0, \"#0d0887\"], [0.1111111111111111, \"#46039f\"], [0.2222222222222222, \"#7201a8\"], [0.3333333333333333, \"#9c179e\"], [0.4444444444444444, \"#bd3786\"], [0.5555555555555556, \"#d8576b\"], [0.6666666666666666, \"#ed7953\"], [0.7777777777777778, \"#fb9f3a\"], [0.8888888888888888, \"#fdca26\"], [1.0, \"#f0f921\"]], \"type\": \"contour\"}], \"contourcarpet\": [{\"colorbar\": {\"outlinewidth\": 0, \"ticks\": \"\"}, \"type\": \"contourcarpet\"}], \"heatmap\": [{\"colorbar\": {\"outlinewidth\": 0, \"ticks\": \"\"}, \"colorscale\": [[0.0, \"#0d0887\"], [0.1111111111111111, \"#46039f\"], [0.2222222222222222, \"#7201a8\"], [0.3333333333333333, \"#9c179e\"], [0.4444444444444444, \"#bd3786\"], [0.5555555555555556, \"#d8576b\"], [0.6666666666666666, \"#ed7953\"], [0.7777777777777778, \"#fb9f3a\"], [0.8888888888888888, \"#fdca26\"], [1.0, \"#f0f921\"]], \"type\": \"heatmap\"}], \"heatmapgl\": [{\"colorbar\": {\"outlinewidth\": 0, \"ticks\": \"\"}, \"colorscale\": [[0.0, \"#0d0887\"], [0.1111111111111111, \"#46039f\"], [0.2222222222222222, \"#7201a8\"], [0.3333333333333333, \"#9c179e\"], [0.4444444444444444, \"#bd3786\"], [0.5555555555555556, \"#d8576b\"], [0.6666666666666666, \"#ed7953\"], [0.7777777777777778, \"#fb9f3a\"], [0.8888888888888888, \"#fdca26\"], [1.0, \"#f0f921\"]], \"type\": \"heatmapgl\"}], \"histogram\": [{\"marker\": {\"colorbar\": {\"outlinewidth\": 0, \"ticks\": \"\"}}, \"type\": \"histogram\"}], \"histogram2d\": [{\"colorbar\": {\"outlinewidth\": 0, \"ticks\": \"\"}, \"colorscale\": [[0.0, \"#0d0887\"], [0.1111111111111111, \"#46039f\"], [0.2222222222222222, \"#7201a8\"], [0.3333333333333333, \"#9c179e\"], [0.4444444444444444, \"#bd3786\"], [0.5555555555555556, \"#d8576b\"], [0.6666666666666666, \"#ed7953\"], [0.7777777777777778, \"#fb9f3a\"], [0.8888888888888888, \"#fdca26\"], [1.0, \"#f0f921\"]], \"type\": \"histogram2d\"}], \"histogram2dcontour\": [{\"colorbar\": {\"outlinewidth\": 0, \"ticks\": \"\"}, \"colorscale\": [[0.0, \"#0d0887\"], [0.1111111111111111, \"#46039f\"], [0.2222222222222222, \"#7201a8\"], [0.3333333333333333, \"#9c179e\"], [0.4444444444444444, \"#bd3786\"], [0.5555555555555556, \"#d8576b\"], [0.6666666666666666, \"#ed7953\"], [0.7777777777777778, \"#fb9f3a\"], [0.8888888888888888, \"#fdca26\"], [1.0, \"#f0f921\"]], \"type\": \"histogram2dcontour\"}], \"mesh3d\": [{\"colorbar\": {\"outlinewidth\": 0, \"ticks\": \"\"}, \"type\": \"mesh3d\"}], \"parcoords\": [{\"line\": {\"colorbar\": {\"outlinewidth\": 0, \"ticks\": \"\"}}, \"type\": \"parcoords\"}], \"pie\": [{\"automargin\": true, \"type\": \"pie\"}], \"scatter\": [{\"marker\": {\"colorbar\": {\"outlinewidth\": 0, \"ticks\": \"\"}}, \"type\": \"scatter\"}], \"scatter3d\": [{\"line\": {\"colorbar\": {\"outlinewidth\": 0, \"ticks\": \"\"}}, \"marker\": {\"colorbar\": {\"outlinewidth\": 0, \"ticks\": \"\"}}, \"type\": \"scatter3d\"}], \"scattercarpet\": [{\"marker\": {\"colorbar\": {\"outlinewidth\": 0, \"ticks\": \"\"}}, \"type\": \"scattercarpet\"}], \"scattergeo\": [{\"marker\": {\"colorbar\": {\"outlinewidth\": 0, \"ticks\": \"\"}}, \"type\": \"scattergeo\"}], \"scattergl\": [{\"marker\": {\"colorbar\": {\"outlinewidth\": 0, \"ticks\": \"\"}}, \"type\": \"scattergl\"}], \"scattermapbox\": [{\"marker\": {\"colorbar\": {\"outlinewidth\": 0, \"ticks\": \"\"}}, \"type\": \"scattermapbox\"}], \"scatterpolar\": [{\"marker\": {\"colorbar\": {\"outlinewidth\": 0, \"ticks\": \"\"}}, \"type\": \"scatterpolar\"}], \"scatterpolargl\": [{\"marker\": {\"colorbar\": {\"outlinewidth\": 0, \"ticks\": \"\"}}, \"type\": \"scatterpolargl\"}], \"scatterternary\": [{\"marker\": {\"colorbar\": {\"outlinewidth\": 0, \"ticks\": \"\"}}, \"type\": \"scatterternary\"}], \"surface\": [{\"colorbar\": {\"outlinewidth\": 0, \"ticks\": \"\"}, \"colorscale\": [[0.0, \"#0d0887\"], [0.1111111111111111, \"#46039f\"], [0.2222222222222222, \"#7201a8\"], [0.3333333333333333, \"#9c179e\"], [0.4444444444444444, \"#bd3786\"], [0.5555555555555556, \"#d8576b\"], [0.6666666666666666, \"#ed7953\"], [0.7777777777777778, \"#fb9f3a\"], [0.8888888888888888, \"#fdca26\"], [1.0, \"#f0f921\"]], \"type\": \"surface\"}], \"table\": [{\"cells\": {\"fill\": {\"color\": \"#EBF0F8\"}, \"line\": {\"color\": \"white\"}}, \"header\": {\"fill\": {\"color\": \"#C8D4E3\"}, \"line\": {\"color\": \"white\"}}, \"type\": \"table\"}]}, \"layout\": {\"annotationdefaults\": {\"arrowcolor\": \"#2a3f5f\", \"arrowhead\": 0, \"arrowwidth\": 1}, \"coloraxis\": {\"colorbar\": {\"outlinewidth\": 0, \"ticks\": \"\"}}, \"colorscale\": {\"diverging\": [[0, \"#8e0152\"], [0.1, \"#c51b7d\"], [0.2, \"#de77ae\"], [0.3, \"#f1b6da\"], [0.4, \"#fde0ef\"], [0.5, \"#f7f7f7\"], [0.6, \"#e6f5d0\"], [0.7, \"#b8e186\"], [0.8, \"#7fbc41\"], [0.9, \"#4d9221\"], [1, \"#276419\"]], \"sequential\": [[0.0, \"#0d0887\"], [0.1111111111111111, \"#46039f\"], [0.2222222222222222, \"#7201a8\"], [0.3333333333333333, \"#9c179e\"], [0.4444444444444444, \"#bd3786\"], [0.5555555555555556, \"#d8576b\"], [0.6666666666666666, \"#ed7953\"], [0.7777777777777778, \"#fb9f3a\"], [0.8888888888888888, \"#fdca26\"], [1.0, \"#f0f921\"]], \"sequentialminus\": [[0.0, \"#0d0887\"], [0.1111111111111111, \"#46039f\"], [0.2222222222222222, \"#7201a8\"], [0.3333333333333333, \"#9c179e\"], [0.4444444444444444, \"#bd3786\"], [0.5555555555555556, \"#d8576b\"], [0.6666666666666666, \"#ed7953\"], [0.7777777777777778, \"#fb9f3a\"], [0.8888888888888888, \"#fdca26\"], [1.0, \"#f0f921\"]]}, \"colorway\": [\"#636efa\", \"#EF553B\", \"#00cc96\", \"#ab63fa\", \"#FFA15A\", \"#19d3f3\", \"#FF6692\", \"#B6E880\", \"#FF97FF\", \"#FECB52\"], \"font\": {\"color\": \"#2a3f5f\"}, \"geo\": {\"bgcolor\": \"white\", \"lakecolor\": \"white\", \"landcolor\": \"#E5ECF6\", \"showlakes\": true, \"showland\": true, \"subunitcolor\": \"white\"}, \"hoverlabel\": {\"align\": \"left\"}, \"hovermode\": \"closest\", \"mapbox\": {\"style\": \"light\"}, \"paper_bgcolor\": \"white\", \"plot_bgcolor\": \"#E5ECF6\", \"polar\": {\"angularaxis\": {\"gridcolor\": \"white\", \"linecolor\": \"white\", \"ticks\": \"\"}, \"bgcolor\": \"#E5ECF6\", \"radialaxis\": {\"gridcolor\": \"white\", \"linecolor\": \"white\", \"ticks\": \"\"}}, \"scene\": {\"xaxis\": {\"backgroundcolor\": \"#E5ECF6\", \"gridcolor\": \"white\", \"gridwidth\": 2, \"linecolor\": \"white\", \"showbackground\": true, \"ticks\": \"\", \"zerolinecolor\": \"white\"}, \"yaxis\": {\"backgroundcolor\": \"#E5ECF6\", \"gridcolor\": \"white\", \"gridwidth\": 2, \"linecolor\": \"white\", \"showbackground\": true, \"ticks\": \"\", \"zerolinecolor\": \"white\"}, \"zaxis\": {\"backgroundcolor\": \"#E5ECF6\", \"gridcolor\": \"white\", \"gridwidth\": 2, \"linecolor\": \"white\", \"showbackground\": true, \"ticks\": \"\", \"zerolinecolor\": \"white\"}}, \"shapedefaults\": {\"line\": {\"color\": \"#2a3f5f\"}}, \"ternary\": {\"aaxis\": {\"gridcolor\": \"white\", \"linecolor\": \"white\", \"ticks\": \"\"}, \"baxis\": {\"gridcolor\": \"white\", \"linecolor\": \"white\", \"ticks\": \"\"}, \"bgcolor\": \"#E5ECF6\", \"caxis\": {\"gridcolor\": \"white\", \"linecolor\": \"white\", \"ticks\": \"\"}}, \"title\": {\"x\": 0.05}, \"xaxis\": {\"automargin\": true, \"gridcolor\": \"white\", \"linecolor\": \"white\", \"ticks\": \"\", \"title\": {\"standoff\": 15}, \"zerolinecolor\": \"white\", \"zerolinewidth\": 2}, \"yaxis\": {\"automargin\": true, \"gridcolor\": \"white\", \"linecolor\": \"white\", \"ticks\": \"\", \"title\": {\"standoff\": 15}, \"zerolinecolor\": \"white\", \"zerolinewidth\": 2}}}, \"xaxis\": {\"anchor\": \"y\", \"domain\": [0.0, 1.0], \"title\": {\"text\": \"counts\"}}, \"yaxis\": {\"anchor\": \"x\", \"categoryorder\": \"total ascending\", \"domain\": [0.0, 1.0], \"title\": {\"text\": \"domains\"}}},\n",
              "                        {\"responsive\": true}\n",
              "                    ).then(function(){\n",
              "                            \n",
              "var gd = document.getElementById('77efe6d3-6b69-4dc5-b2ff-c594c8ac24b2');\n",
              "var x = new MutationObserver(function (mutations, observer) {{\n",
              "        var display = window.getComputedStyle(gd).display;\n",
              "        if (!display || display === 'none') {{\n",
              "            console.log([gd, 'removed!']);\n",
              "            Plotly.purge(gd);\n",
              "            observer.disconnect();\n",
              "        }}\n",
              "}});\n",
              "\n",
              "// Listen for the removal of the full notebook cells\n",
              "var notebookContainer = gd.closest('#notebook-container');\n",
              "if (notebookContainer) {{\n",
              "    x.observe(notebookContainer, {childList: true});\n",
              "}}\n",
              "\n",
              "// Listen for the clearing of the current output cell\n",
              "var outputEl = gd.closest('.output');\n",
              "if (outputEl) {{\n",
              "    x.observe(outputEl, {childList: true});\n",
              "}}\n",
              "\n",
              "                        })\n",
              "                };\n",
              "                \n",
              "            </script>\n",
              "        </div>\n",
              "</body>\n",
              "</html>"
            ]
          },
          "metadata": {}
        }
      ]
    },
    {
      "cell_type": "markdown",
      "source": [
        "Among the top medias we see:\n",
        "\n",
        "* The Daily Express (here Express) and its sister paper - the Sunday Express are daily national middle-market and conservative tabloid newspapers in the United Kingdom. \n",
        "* The Belfast Telegraph is a daily newspaper published in Belfast, Northern Ireland, by Independent News & Media. \n",
        "* The Herald is a Scottish broadsheet newspaper founded in 1783. The Herald is the longest running national newspaper in the world and is the eighth oldest daily paper in the world.\n",
        "* The Politico is a political journalism company based in Arlington County, Virginia, that covers politics and policy in the United States and internationally. It primarily distributes content online but also with printed newspapers, radio, and podcasts. \n",
        "* MSN.com is a visited portal website provided by Microsoft. \n",
        "\n",
        "We are willing to investigate their sentiments and the pitch in which they relayed the news about the Brexit."
      ],
      "metadata": {
        "id": "SI27Op7zxg3P"
      }
    },
    {
      "cell_type": "markdown",
      "source": [
        "### II.2 What is the country of origin of these media?"
      ],
      "metadata": {
        "id": "HaJP-x1wj7RN"
      }
    },
    {
      "cell_type": "markdown",
      "source": [
        "We now look at the country of origin of the media. "
      ],
      "metadata": {
        "id": "QLdNnLZYPPMJ"
      }
    },
    {
      "cell_type": "code",
      "source": [
        "# Remove null values in countries\n",
        "domain_country_df=df[df['domain_country'].notnull()].reset_index()\n",
        "# Read 3-digits ISO code for \n",
        "country_code_df=pd.read_csv('/content/drive/Shareddrives/Ada/countries_codes.csv')\n",
        "country_code_df=country_code_df[['country','id']]\n",
        "country_code_df=country_code_df.rename(columns={'id':'country_code'})"
      ],
      "metadata": {
        "id": "rPAS6bPXnHpj"
      },
      "execution_count": null,
      "outputs": []
    },
    {
      "cell_type": "code",
      "source": [
        "# count the country domains\n",
        "count_domain_countries=domain_country_df.groupby(['domain_country'])['domains'].nunique().reset_index()\n",
        "count_domain_countries=count_domain_countries.rename(columns={'domain_country': 'country','domains': 'number of medias'}).sort_values(['number of medias'],ascending=False)"
      ],
      "metadata": {
        "id": "OJBQF4xzqIKH"
      },
      "execution_count": null,
      "outputs": []
    },
    {
      "cell_type": "markdown",
      "source": [
        "Then considering only the number of quotations in UK domain:"
      ],
      "metadata": {
        "id": "34q4k16NxnGQ"
      }
    },
    {
      "cell_type": "code",
      "metadata": {
        "id": "ypcuZrjCWGfa",
        "colab": {
          "base_uri": "https://localhost:8080/"
        },
        "outputId": "5fac72c2-7313-46f1-feff-0fd8295ec000"
      },
      "source": [
        "freq_uk = 0\n",
        "for index, row in df_domains.iterrows():\n",
        "  if row['domains'].endswith('uk'):\n",
        "    freq_uk += row['counts']\n",
        "\n",
        "freq_uk\n",
        "\n",
        "print('The percentage of the number of quotations in UK domains compared total: {:.2%}'.format(freq_uk/total_quotes))"
      ],
      "execution_count": null,
      "outputs": [
        {
          "output_type": "stream",
          "name": "stdout",
          "text": [
            "the percentage of the number of quotations in UK domains compared total: 36.18%\n"
          ]
        }
      ]
    },
    {
      "cell_type": "markdown",
      "source": [
        "**Note**: to decide to which country each domain is assigned, we used the link that can be not always reliable since some domains can use .com."
      ],
      "metadata": {
        "id": "WaaM_42Bx6LZ"
      }
    },
    {
      "cell_type": "markdown",
      "source": [
        "Now considering the medias worldwide and plotting them on an interactive map:"
      ],
      "metadata": {
        "id": "Rh-Adc5wPXqP"
      }
    },
    {
      "cell_type": "code",
      "source": [
        "# preparing data for pyplot:\n",
        "plot_domain_country=pd.merge(left=count_domain_countries, right=country_code_df, how='left', on='country')"
      ],
      "metadata": {
        "id": "jeGz-Ri8qYgV"
      },
      "execution_count": null,
      "outputs": []
    },
    {
      "cell_type": "code",
      "source": [
        "# Since it's not possible to include the whole european union on map, we pick france as the representative country in European Union to be shown in the futher plot\n",
        "plot_domain_country.at[8,'country_code']='FRA'\n",
        "plot_domain_country.loc[8]"
      ],
      "metadata": {
        "colab": {
          "base_uri": "https://localhost:8080/"
        },
        "id": "iWL7YEAzcz2w",
        "outputId": "eaaa9e8b-4b1d-4a39-f14f-5b5d009bc334"
      },
      "execution_count": null,
      "outputs": [
        {
          "output_type": "execute_result",
          "data": {
            "text/plain": [
              "country             European Union\n",
              "number of medias                14\n",
              "country_code                   FRA\n",
              "Name: 8, dtype: object"
            ]
          },
          "metadata": {},
          "execution_count": 248
        }
      ]
    },
    {
      "cell_type": "code",
      "source": [
        "# map plot\n",
        "fig = px.scatter_geo(plot_domain_country, locations=\"country_code\", color=\"country\",\n",
        "                     hover_name=\"country\", size=\"number of medias\",\n",
        "                     projection=\"natural earth\")\n",
        "fig.show()"
      ],
      "metadata": {
        "colab": {
          "base_uri": "https://localhost:8080/",
          "height": 542
        },
        "id": "MgBJrkMXxL0i",
        "outputId": "81c227cc-1f45-4561-da80-8b868c07dfe0"
      },
      "execution_count": null,
      "outputs": [
        {
          "output_type": "display_data",
          "data": {
            "text/html": [
              "<html>\n",
              "<head><meta charset=\"utf-8\" /></head>\n",
              "<body>\n",
              "    <div>\n",
              "            <script src=\"https://cdnjs.cloudflare.com/ajax/libs/mathjax/2.7.5/MathJax.js?config=TeX-AMS-MML_SVG\"></script><script type=\"text/javascript\">if (window.MathJax) {MathJax.Hub.Config({SVG: {font: \"STIX-Web\"}});}</script>\n",
              "                <script type=\"text/javascript\">window.PlotlyConfig = {MathJaxConfig: 'local'};</script>\n",
              "        <script src=\"https://cdn.plot.ly/plotly-latest.min.js\"></script>    \n",
              "            <div id=\"2aa79d59-dc83-4cb7-b522-765845a2307a\" class=\"plotly-graph-div\" style=\"height:525px; width:100%;\"></div>\n",
              "            <script type=\"text/javascript\">\n",
              "                \n",
              "                    window.PLOTLYENV=window.PLOTLYENV || {};\n",
              "                    \n",
              "                if (document.getElementById(\"2aa79d59-dc83-4cb7-b522-765845a2307a\")) {\n",
              "                    Plotly.newPlot(\n",
              "                        '2aa79d59-dc83-4cb7-b522-765845a2307a',\n",
              "                        [{\"geo\": \"geo\", \"hoverlabel\": {\"namelength\": 0}, \"hovertemplate\": \"<b>%{hovertext}</b><br><br>country=United Kingdom<br>number of medias=%{marker.size}<br>country_code=%{location}\", \"hovertext\": [\"United Kingdom\"], \"legendgroup\": \"country=United Kingdom\", \"locations\": [\"GBR\"], \"marker\": {\"color\": \"#636efa\", \"size\": [765], \"sizemode\": \"area\", \"sizeref\": 1.9125}, \"name\": \"country=United Kingdom\", \"showlegend\": true, \"type\": \"scattergeo\"}, {\"geo\": \"geo\", \"hoverlabel\": {\"namelength\": 0}, \"hovertemplate\": \"<b>%{hovertext}</b><br><br>country=Australia<br>number of medias=%{marker.size}<br>country_code=%{location}\", \"hovertext\": [\"Australia\"], \"legendgroup\": \"country=Australia\", \"locations\": [\"AUS\"], \"marker\": {\"color\": \"#EF553B\", \"size\": [167], \"sizemode\": \"area\", \"sizeref\": 1.9125}, \"name\": \"country=Australia\", \"showlegend\": true, \"type\": \"scattergeo\"}, {\"geo\": \"geo\", \"hoverlabel\": {\"namelength\": 0}, \"hovertemplate\": \"<b>%{hovertext}</b><br><br>country=Ireland<br>number of medias=%{marker.size}<br>country_code=%{location}\", \"hovertext\": [\"Ireland\"], \"legendgroup\": \"country=Ireland\", \"locations\": [\"IRL\"], \"marker\": {\"color\": \"#00cc96\", \"size\": [73], \"sizemode\": \"area\", \"sizeref\": 1.9125}, \"name\": \"country=Ireland\", \"showlegend\": true, \"type\": \"scattergeo\"}, {\"geo\": \"geo\", \"hoverlabel\": {\"namelength\": 0}, \"hovertemplate\": \"<b>%{hovertext}</b><br><br>country=Canada<br>number of medias=%{marker.size}<br>country_code=%{location}\", \"hovertext\": [\"Canada\"], \"legendgroup\": \"country=Canada\", \"locations\": [\"CAN\"], \"marker\": {\"color\": \"#ab63fa\", \"size\": [48], \"sizemode\": \"area\", \"sizeref\": 1.9125}, \"name\": \"country=Canada\", \"showlegend\": true, \"type\": \"scattergeo\"}, {\"geo\": \"geo\", \"hoverlabel\": {\"namelength\": 0}, \"hovertemplate\": \"<b>%{hovertext}</b><br><br>country=New Zealand<br>number of medias=%{marker.size}<br>country_code=%{location}\", \"hovertext\": [\"New Zealand\"], \"legendgroup\": \"country=New Zealand\", \"locations\": [\"NZL\"], \"marker\": {\"color\": \"#FFA15A\", \"size\": [31], \"sizemode\": \"area\", \"sizeref\": 1.9125}, \"name\": \"country=New Zealand\", \"showlegend\": true, \"type\": \"scattergeo\"}, {\"geo\": \"geo\", \"hoverlabel\": {\"namelength\": 0}, \"hovertemplate\": \"<b>%{hovertext}</b><br><br>country=India<br>number of medias=%{marker.size}<br>country_code=%{location}\", \"hovertext\": [\"India\"], \"legendgroup\": \"country=India\", \"locations\": [\"IND\"], \"marker\": {\"color\": \"#19d3f3\", \"size\": [29], \"sizemode\": \"area\", \"sizeref\": 1.9125}, \"name\": \"country=India\", \"showlegend\": true, \"type\": \"scattergeo\"}, {\"geo\": \"geo\", \"hoverlabel\": {\"namelength\": 0}, \"hovertemplate\": \"<b>%{hovertext}</b><br><br>country=South Africa<br>number of medias=%{marker.size}<br>country_code=%{location}\", \"hovertext\": [\"South Africa\"], \"legendgroup\": \"country=South Africa\", \"locations\": [\"ZAF\"], \"marker\": {\"color\": \"#FF6692\", \"size\": [22], \"sizemode\": \"area\", \"sizeref\": 1.9125}, \"name\": \"country=South Africa\", \"showlegend\": true, \"type\": \"scattergeo\"}, {\"geo\": \"geo\", \"hoverlabel\": {\"namelength\": 0}, \"hovertemplate\": \"<b>%{hovertext}</b><br><br>country=Tuvalu<br>number of medias=%{marker.size}<br>country_code=%{location}\", \"hovertext\": [\"Tuvalu\"], \"legendgroup\": \"country=Tuvalu\", \"locations\": [\"TUV\"], \"marker\": {\"color\": \"#B6E880\", \"size\": [14], \"sizemode\": \"area\", \"sizeref\": 1.9125}, \"name\": \"country=Tuvalu\", \"showlegend\": true, \"type\": \"scattergeo\"}, {\"geo\": \"geo\", \"hoverlabel\": {\"namelength\": 0}, \"hovertemplate\": \"<b>%{hovertext}</b><br><br>country=European Union<br>number of medias=%{marker.size}<br>country_code=%{location}\", \"hovertext\": [\"European Union\"], \"legendgroup\": \"country=European Union\", \"locations\": [\"FRA\"], \"marker\": {\"color\": \"#FF97FF\", \"size\": [14], \"sizemode\": \"area\", \"sizeref\": 1.9125}, \"name\": \"country=European Union\", \"showlegend\": true, \"type\": \"scattergeo\"}, {\"geo\": \"geo\", \"hoverlabel\": {\"namelength\": 0}, \"hovertemplate\": \"<b>%{hovertext}</b><br><br>country=Nigeria<br>number of medias=%{marker.size}<br>country_code=%{location}\", \"hovertext\": [\"Nigeria\"], \"legendgroup\": \"country=Nigeria\", \"locations\": [\"NGA\"], \"marker\": {\"color\": \"#FECB52\", \"size\": [13], \"sizemode\": \"area\", \"sizeref\": 1.9125}, \"name\": \"country=Nigeria\", \"showlegend\": true, \"type\": \"scattergeo\"}, {\"geo\": \"geo\", \"hoverlabel\": {\"namelength\": 0}, \"hovertemplate\": \"<b>%{hovertext}</b><br><br>country=Kenya<br>number of medias=%{marker.size}<br>country_code=%{location}\", \"hovertext\": [\"Kenya\"], \"legendgroup\": \"country=Kenya\", \"locations\": [\"KEN\"], \"marker\": {\"color\": \"#636efa\", \"size\": [11], \"sizemode\": \"area\", \"sizeref\": 1.9125}, \"name\": \"country=Kenya\", \"showlegend\": true, \"type\": \"scattergeo\"}, {\"geo\": \"geo\", \"hoverlabel\": {\"namelength\": 0}, \"hovertemplate\": \"<b>%{hovertext}</b><br><br>country=Malaysia<br>number of medias=%{marker.size}<br>country_code=%{location}\", \"hovertext\": [\"Malaysia\"], \"legendgroup\": \"country=Malaysia\", \"locations\": [\"MYS\"], \"marker\": {\"color\": \"#EF553B\", \"size\": [8], \"sizemode\": \"area\", \"sizeref\": 1.9125}, \"name\": \"country=Malaysia\", \"showlegend\": true, \"type\": \"scattergeo\"}, {\"geo\": \"geo\", \"hoverlabel\": {\"namelength\": 0}, \"hovertemplate\": \"<b>%{hovertext}</b><br><br>country=Pakistan<br>number of medias=%{marker.size}<br>country_code=%{location}\", \"hovertext\": [\"Pakistan\"], \"legendgroup\": \"country=Pakistan\", \"locations\": [\"PAK\"], \"marker\": {\"color\": \"#00cc96\", \"size\": [8], \"sizemode\": \"area\", \"sizeref\": 1.9125}, \"name\": \"country=Pakistan\", \"showlegend\": true, \"type\": \"scattergeo\"}, {\"geo\": \"geo\", \"hoverlabel\": {\"namelength\": 0}, \"hovertemplate\": \"<b>%{hovertext}</b><br><br>country=Singapore<br>number of medias=%{marker.size}<br>country_code=%{location}\", \"hovertext\": [\"Singapore\"], \"legendgroup\": \"country=Singapore\", \"locations\": [\"SGP\"], \"marker\": {\"color\": \"#ab63fa\", \"size\": [8], \"sizemode\": \"area\", \"sizeref\": 1.9125}, \"name\": \"country=Singapore\", \"showlegend\": true, \"type\": \"scattergeo\"}, {\"geo\": \"geo\", \"hoverlabel\": {\"namelength\": 0}, \"hovertemplate\": \"<b>%{hovertext}</b><br><br>country=Sri Lanka<br>number of medias=%{marker.size}<br>country_code=%{location}\", \"hovertext\": [\"Sri Lanka\"], \"legendgroup\": \"country=Sri Lanka\", \"locations\": [\"LKA\"], \"marker\": {\"color\": \"#FFA15A\", \"size\": [7], \"sizemode\": \"area\", \"sizeref\": 1.9125}, \"name\": \"country=Sri Lanka\", \"showlegend\": true, \"type\": \"scattergeo\"}, {\"geo\": \"geo\", \"hoverlabel\": {\"namelength\": 0}, \"hovertemplate\": \"<b>%{hovertext}</b><br><br>country=United States<br>number of medias=%{marker.size}<br>country_code=%{location}\", \"hovertext\": [\"United States\"], \"legendgroup\": \"country=United States\", \"locations\": [\"USA\"], \"marker\": {\"color\": \"#19d3f3\", \"size\": [7], \"sizemode\": \"area\", \"sizeref\": 1.9125}, \"name\": \"country=United States\", \"showlegend\": true, \"type\": \"scattergeo\"}, {\"geo\": \"geo\", \"hoverlabel\": {\"namelength\": 0}, \"hovertemplate\": \"<b>%{hovertext}</b><br><br>country=Ghana<br>number of medias=%{marker.size}<br>country_code=%{location}\", \"hovertext\": [\"Ghana\"], \"legendgroup\": \"country=Ghana\", \"locations\": [\"GHA\"], \"marker\": {\"color\": \"#FF6692\", \"size\": [5], \"sizemode\": \"area\", \"sizeref\": 1.9125}, \"name\": \"country=Ghana\", \"showlegend\": true, \"type\": \"scattergeo\"}, {\"geo\": \"geo\", \"hoverlabel\": {\"namelength\": 0}, \"hovertemplate\": \"<b>%{hovertext}</b><br><br>country=Philippines<br>number of medias=%{marker.size}<br>country_code=%{location}\", \"hovertext\": [\"Philippines\"], \"legendgroup\": \"country=Philippines\", \"locations\": [\"PHL\"], \"marker\": {\"color\": \"#B6E880\", \"size\": [5], \"sizemode\": \"area\", \"sizeref\": 1.9125}, \"name\": \"country=Philippines\", \"showlegend\": true, \"type\": \"scattergeo\"}, {\"geo\": \"geo\", \"hoverlabel\": {\"namelength\": 0}, \"hovertemplate\": \"<b>%{hovertext}</b><br><br>country=Federated States of Micronesia<br>number of medias=%{marker.size}<br>country_code=%{location}\", \"hovertext\": [\"Federated States of Micronesia\"], \"legendgroup\": \"country=Federated States of Micronesia\", \"locations\": [\"FSM\"], \"marker\": {\"color\": \"#FF97FF\", \"size\": [2], \"sizemode\": \"area\", \"sizeref\": 1.9125}, \"name\": \"country=Federated States of Micronesia\", \"showlegend\": true, \"type\": \"scattergeo\"}, {\"geo\": \"geo\", \"hoverlabel\": {\"namelength\": 0}, \"hovertemplate\": \"<b>%{hovertext}</b><br><br>country=Colombia<br>number of medias=%{marker.size}<br>country_code=%{location}\", \"hovertext\": [\"Colombia\"], \"legendgroup\": \"country=Colombia\", \"locations\": [\"COL\"], \"marker\": {\"color\": \"#FECB52\", \"size\": [2], \"sizemode\": \"area\", \"sizeref\": 1.9125}, \"name\": \"country=Colombia\", \"showlegend\": true, \"type\": \"scattergeo\"}, {\"geo\": \"geo\", \"hoverlabel\": {\"namelength\": 0}, \"hovertemplate\": \"<b>%{hovertext}</b><br><br>country=Hong Kong<br>number of medias=%{marker.size}<br>country_code=%{location}\", \"hovertext\": [\"Hong Kong\"], \"legendgroup\": \"country=Hong Kong\", \"locations\": [\"HKG\"], \"marker\": {\"color\": \"#636efa\", \"size\": [1], \"sizemode\": \"area\", \"sizeref\": 1.9125}, \"name\": \"country=Hong Kong\", \"showlegend\": true, \"type\": \"scattergeo\"}, {\"geo\": \"geo\", \"hoverlabel\": {\"namelength\": 0}, \"hovertemplate\": \"<b>%{hovertext}</b><br><br>country=Bangladesh<br>number of medias=%{marker.size}<br>country_code=%{location}\", \"hovertext\": [\"Bangladesh\"], \"legendgroup\": \"country=Bangladesh\", \"locations\": [\"BGD\"], \"marker\": {\"color\": \"#EF553B\", \"size\": [1], \"sizemode\": \"area\", \"sizeref\": 1.9125}, \"name\": \"country=Bangladesh\", \"showlegend\": true, \"type\": \"scattergeo\"}, {\"geo\": \"geo\", \"hoverlabel\": {\"namelength\": 0}, \"hovertemplate\": \"<b>%{hovertext}</b><br><br>country=Tanzania<br>number of medias=%{marker.size}<br>country_code=%{location}\", \"hovertext\": [\"Tanzania\"], \"legendgroup\": \"country=Tanzania\", \"locations\": [\"TZA\"], \"marker\": {\"color\": \"#00cc96\", \"size\": [1], \"sizemode\": \"area\", \"sizeref\": 1.9125}, \"name\": \"country=Tanzania\", \"showlegend\": true, \"type\": \"scattergeo\"}, {\"geo\": \"geo\", \"hoverlabel\": {\"namelength\": 0}, \"hovertemplate\": \"<b>%{hovertext}</b><br><br>country=Cocos (Keeling) Islands<br>number of medias=%{marker.size}<br>country_code=%{location}\", \"hovertext\": [\"Cocos (Keeling) Islands\"], \"legendgroup\": \"country=Cocos (Keeling) Islands\", \"locations\": [\"CCK\"], \"marker\": {\"color\": \"#ab63fa\", \"size\": [1], \"sizemode\": \"area\", \"sizeref\": 1.9125}, \"name\": \"country=Cocos (Keeling) Islands\", \"showlegend\": true, \"type\": \"scattergeo\"}, {\"geo\": \"geo\", \"hoverlabel\": {\"namelength\": 0}, \"hovertemplate\": \"<b>%{hovertext}</b><br><br>country=Belize<br>number of medias=%{marker.size}<br>country_code=%{location}\", \"hovertext\": [\"Belize\"], \"legendgroup\": \"country=Belize\", \"locations\": [\"BLZ\"], \"marker\": {\"color\": \"#FFA15A\", \"size\": [1], \"sizemode\": \"area\", \"sizeref\": 1.9125}, \"name\": \"country=Belize\", \"showlegend\": true, \"type\": \"scattergeo\"}],\n",
              "                        {\"geo\": {\"center\": {}, \"domain\": {\"x\": [0.0, 1.0], \"y\": [0.0, 1.0]}, \"projection\": {\"type\": \"natural earth\"}}, \"legend\": {\"itemsizing\": \"constant\", \"tracegroupgap\": 0}, \"margin\": {\"t\": 60}, \"template\": {\"data\": {\"bar\": [{\"error_x\": {\"color\": \"#2a3f5f\"}, \"error_y\": {\"color\": \"#2a3f5f\"}, \"marker\": {\"line\": {\"color\": \"#E5ECF6\", \"width\": 0.5}}, \"type\": \"bar\"}], \"barpolar\": [{\"marker\": {\"line\": {\"color\": \"#E5ECF6\", \"width\": 0.5}}, \"type\": \"barpolar\"}], \"carpet\": [{\"aaxis\": {\"endlinecolor\": \"#2a3f5f\", \"gridcolor\": \"white\", \"linecolor\": \"white\", \"minorgridcolor\": \"white\", \"startlinecolor\": \"#2a3f5f\"}, \"baxis\": {\"endlinecolor\": \"#2a3f5f\", \"gridcolor\": \"white\", \"linecolor\": \"white\", \"minorgridcolor\": \"white\", \"startlinecolor\": \"#2a3f5f\"}, \"type\": \"carpet\"}], \"choropleth\": [{\"colorbar\": {\"outlinewidth\": 0, \"ticks\": \"\"}, \"type\": \"choropleth\"}], \"contour\": [{\"colorbar\": {\"outlinewidth\": 0, \"ticks\": \"\"}, \"colorscale\": [[0.0, \"#0d0887\"], [0.1111111111111111, \"#46039f\"], [0.2222222222222222, \"#7201a8\"], [0.3333333333333333, \"#9c179e\"], [0.4444444444444444, \"#bd3786\"], [0.5555555555555556, \"#d8576b\"], [0.6666666666666666, \"#ed7953\"], [0.7777777777777778, \"#fb9f3a\"], [0.8888888888888888, \"#fdca26\"], [1.0, \"#f0f921\"]], \"type\": \"contour\"}], \"contourcarpet\": [{\"colorbar\": {\"outlinewidth\": 0, \"ticks\": \"\"}, \"type\": \"contourcarpet\"}], \"heatmap\": [{\"colorbar\": {\"outlinewidth\": 0, \"ticks\": \"\"}, \"colorscale\": [[0.0, \"#0d0887\"], [0.1111111111111111, \"#46039f\"], [0.2222222222222222, \"#7201a8\"], [0.3333333333333333, \"#9c179e\"], [0.4444444444444444, \"#bd3786\"], [0.5555555555555556, \"#d8576b\"], [0.6666666666666666, \"#ed7953\"], [0.7777777777777778, \"#fb9f3a\"], [0.8888888888888888, \"#fdca26\"], [1.0, \"#f0f921\"]], \"type\": \"heatmap\"}], \"heatmapgl\": [{\"colorbar\": {\"outlinewidth\": 0, \"ticks\": \"\"}, \"colorscale\": [[0.0, \"#0d0887\"], [0.1111111111111111, \"#46039f\"], [0.2222222222222222, \"#7201a8\"], [0.3333333333333333, \"#9c179e\"], [0.4444444444444444, \"#bd3786\"], [0.5555555555555556, \"#d8576b\"], [0.6666666666666666, \"#ed7953\"], [0.7777777777777778, \"#fb9f3a\"], [0.8888888888888888, \"#fdca26\"], [1.0, \"#f0f921\"]], \"type\": \"heatmapgl\"}], \"histogram\": [{\"marker\": {\"colorbar\": {\"outlinewidth\": 0, \"ticks\": \"\"}}, \"type\": \"histogram\"}], \"histogram2d\": [{\"colorbar\": {\"outlinewidth\": 0, \"ticks\": \"\"}, \"colorscale\": [[0.0, \"#0d0887\"], [0.1111111111111111, \"#46039f\"], [0.2222222222222222, \"#7201a8\"], [0.3333333333333333, \"#9c179e\"], [0.4444444444444444, \"#bd3786\"], [0.5555555555555556, \"#d8576b\"], [0.6666666666666666, \"#ed7953\"], [0.7777777777777778, \"#fb9f3a\"], [0.8888888888888888, \"#fdca26\"], [1.0, \"#f0f921\"]], \"type\": \"histogram2d\"}], \"histogram2dcontour\": [{\"colorbar\": {\"outlinewidth\": 0, \"ticks\": \"\"}, \"colorscale\": [[0.0, \"#0d0887\"], [0.1111111111111111, \"#46039f\"], [0.2222222222222222, \"#7201a8\"], [0.3333333333333333, \"#9c179e\"], [0.4444444444444444, \"#bd3786\"], [0.5555555555555556, \"#d8576b\"], [0.6666666666666666, \"#ed7953\"], [0.7777777777777778, \"#fb9f3a\"], [0.8888888888888888, \"#fdca26\"], [1.0, \"#f0f921\"]], \"type\": \"histogram2dcontour\"}], \"mesh3d\": [{\"colorbar\": {\"outlinewidth\": 0, \"ticks\": \"\"}, \"type\": \"mesh3d\"}], \"parcoords\": [{\"line\": {\"colorbar\": {\"outlinewidth\": 0, \"ticks\": \"\"}}, \"type\": \"parcoords\"}], \"pie\": [{\"automargin\": true, \"type\": \"pie\"}], \"scatter\": [{\"marker\": {\"colorbar\": {\"outlinewidth\": 0, \"ticks\": \"\"}}, \"type\": \"scatter\"}], \"scatter3d\": [{\"line\": {\"colorbar\": {\"outlinewidth\": 0, \"ticks\": \"\"}}, \"marker\": {\"colorbar\": {\"outlinewidth\": 0, \"ticks\": \"\"}}, \"type\": \"scatter3d\"}], \"scattercarpet\": [{\"marker\": {\"colorbar\": {\"outlinewidth\": 0, \"ticks\": \"\"}}, \"type\": \"scattercarpet\"}], \"scattergeo\": [{\"marker\": {\"colorbar\": {\"outlinewidth\": 0, \"ticks\": \"\"}}, \"type\": \"scattergeo\"}], \"scattergl\": [{\"marker\": {\"colorbar\": {\"outlinewidth\": 0, \"ticks\": \"\"}}, \"type\": \"scattergl\"}], \"scattermapbox\": [{\"marker\": {\"colorbar\": {\"outlinewidth\": 0, \"ticks\": \"\"}}, \"type\": \"scattermapbox\"}], \"scatterpolar\": [{\"marker\": {\"colorbar\": {\"outlinewidth\": 0, \"ticks\": \"\"}}, \"type\": \"scatterpolar\"}], \"scatterpolargl\": [{\"marker\": {\"colorbar\": {\"outlinewidth\": 0, \"ticks\": \"\"}}, \"type\": \"scatterpolargl\"}], \"scatterternary\": [{\"marker\": {\"colorbar\": {\"outlinewidth\": 0, \"ticks\": \"\"}}, \"type\": \"scatterternary\"}], \"surface\": [{\"colorbar\": {\"outlinewidth\": 0, \"ticks\": \"\"}, \"colorscale\": [[0.0, \"#0d0887\"], [0.1111111111111111, \"#46039f\"], [0.2222222222222222, \"#7201a8\"], [0.3333333333333333, \"#9c179e\"], [0.4444444444444444, \"#bd3786\"], [0.5555555555555556, \"#d8576b\"], [0.6666666666666666, \"#ed7953\"], [0.7777777777777778, \"#fb9f3a\"], [0.8888888888888888, \"#fdca26\"], [1.0, \"#f0f921\"]], \"type\": \"surface\"}], \"table\": [{\"cells\": {\"fill\": {\"color\": \"#EBF0F8\"}, \"line\": {\"color\": \"white\"}}, \"header\": {\"fill\": {\"color\": \"#C8D4E3\"}, \"line\": {\"color\": \"white\"}}, \"type\": \"table\"}]}, \"layout\": {\"annotationdefaults\": {\"arrowcolor\": \"#2a3f5f\", \"arrowhead\": 0, \"arrowwidth\": 1}, \"coloraxis\": {\"colorbar\": {\"outlinewidth\": 0, \"ticks\": \"\"}}, \"colorscale\": {\"diverging\": [[0, \"#8e0152\"], [0.1, \"#c51b7d\"], [0.2, \"#de77ae\"], [0.3, \"#f1b6da\"], [0.4, \"#fde0ef\"], [0.5, \"#f7f7f7\"], [0.6, \"#e6f5d0\"], [0.7, \"#b8e186\"], [0.8, \"#7fbc41\"], [0.9, \"#4d9221\"], [1, \"#276419\"]], \"sequential\": [[0.0, \"#0d0887\"], [0.1111111111111111, \"#46039f\"], [0.2222222222222222, \"#7201a8\"], [0.3333333333333333, \"#9c179e\"], [0.4444444444444444, \"#bd3786\"], [0.5555555555555556, \"#d8576b\"], [0.6666666666666666, \"#ed7953\"], [0.7777777777777778, \"#fb9f3a\"], [0.8888888888888888, \"#fdca26\"], [1.0, \"#f0f921\"]], \"sequentialminus\": [[0.0, \"#0d0887\"], [0.1111111111111111, \"#46039f\"], [0.2222222222222222, \"#7201a8\"], [0.3333333333333333, \"#9c179e\"], [0.4444444444444444, \"#bd3786\"], [0.5555555555555556, \"#d8576b\"], [0.6666666666666666, \"#ed7953\"], [0.7777777777777778, \"#fb9f3a\"], [0.8888888888888888, \"#fdca26\"], [1.0, \"#f0f921\"]]}, \"colorway\": [\"#636efa\", \"#EF553B\", \"#00cc96\", \"#ab63fa\", \"#FFA15A\", \"#19d3f3\", \"#FF6692\", \"#B6E880\", \"#FF97FF\", \"#FECB52\"], \"font\": {\"color\": \"#2a3f5f\"}, \"geo\": {\"bgcolor\": \"white\", \"lakecolor\": \"white\", \"landcolor\": \"#E5ECF6\", \"showlakes\": true, \"showland\": true, \"subunitcolor\": \"white\"}, \"hoverlabel\": {\"align\": \"left\"}, \"hovermode\": \"closest\", \"mapbox\": {\"style\": \"light\"}, \"paper_bgcolor\": \"white\", \"plot_bgcolor\": \"#E5ECF6\", \"polar\": {\"angularaxis\": {\"gridcolor\": \"white\", \"linecolor\": \"white\", \"ticks\": \"\"}, \"bgcolor\": \"#E5ECF6\", \"radialaxis\": {\"gridcolor\": \"white\", \"linecolor\": \"white\", \"ticks\": \"\"}}, \"scene\": {\"xaxis\": {\"backgroundcolor\": \"#E5ECF6\", \"gridcolor\": \"white\", \"gridwidth\": 2, \"linecolor\": \"white\", \"showbackground\": true, \"ticks\": \"\", \"zerolinecolor\": \"white\"}, \"yaxis\": {\"backgroundcolor\": \"#E5ECF6\", \"gridcolor\": \"white\", \"gridwidth\": 2, \"linecolor\": \"white\", \"showbackground\": true, \"ticks\": \"\", \"zerolinecolor\": \"white\"}, \"zaxis\": {\"backgroundcolor\": \"#E5ECF6\", \"gridcolor\": \"white\", \"gridwidth\": 2, \"linecolor\": \"white\", \"showbackground\": true, \"ticks\": \"\", \"zerolinecolor\": \"white\"}}, \"shapedefaults\": {\"line\": {\"color\": \"#2a3f5f\"}}, \"ternary\": {\"aaxis\": {\"gridcolor\": \"white\", \"linecolor\": \"white\", \"ticks\": \"\"}, \"baxis\": {\"gridcolor\": \"white\", \"linecolor\": \"white\", \"ticks\": \"\"}, \"bgcolor\": \"#E5ECF6\", \"caxis\": {\"gridcolor\": \"white\", \"linecolor\": \"white\", \"ticks\": \"\"}}, \"title\": {\"x\": 0.05}, \"xaxis\": {\"automargin\": true, \"gridcolor\": \"white\", \"linecolor\": \"white\", \"ticks\": \"\", \"title\": {\"standoff\": 15}, \"zerolinecolor\": \"white\", \"zerolinewidth\": 2}, \"yaxis\": {\"automargin\": true, \"gridcolor\": \"white\", \"linecolor\": \"white\", \"ticks\": \"\", \"title\": {\"standoff\": 15}, \"zerolinecolor\": \"white\", \"zerolinewidth\": 2}}}},\n",
              "                        {\"responsive\": true}\n",
              "                    ).then(function(){\n",
              "                            \n",
              "var gd = document.getElementById('2aa79d59-dc83-4cb7-b522-765845a2307a');\n",
              "var x = new MutationObserver(function (mutations, observer) {{\n",
              "        var display = window.getComputedStyle(gd).display;\n",
              "        if (!display || display === 'none') {{\n",
              "            console.log([gd, 'removed!']);\n",
              "            Plotly.purge(gd);\n",
              "            observer.disconnect();\n",
              "        }}\n",
              "}});\n",
              "\n",
              "// Listen for the removal of the full notebook cells\n",
              "var notebookContainer = gd.closest('#notebook-container');\n",
              "if (notebookContainer) {{\n",
              "    x.observe(notebookContainer, {childList: true});\n",
              "}}\n",
              "\n",
              "// Listen for the clearing of the current output cell\n",
              "var outputEl = gd.closest('.output');\n",
              "if (outputEl) {{\n",
              "    x.observe(outputEl, {childList: true});\n",
              "}}\n",
              "\n",
              "                        })\n",
              "                };\n",
              "                \n",
              "            </script>\n",
              "        </div>\n",
              "</body>\n",
              "</html>"
            ]
          },
          "metadata": {}
        }
      ]
    },
    {
      "cell_type": "markdown",
      "source": [
        "As we can see in the map above, the majority of the media concentration is in the UK. In second place we find, Europe in wide and several Commun Wealth countries like Australia, Canada, South Africa and New Zealand."
      ],
      "metadata": {
        "id": "F2uNCdgY-eiz"
      }
    },
    {
      "cell_type": "markdown",
      "source": [
        "### II.3 What media and websites tend to have positive or negative statements towards the situation? "
      ],
      "metadata": {
        "id": "d_ecONJiykIo"
      }
    },
    {
      "cell_type": "code",
      "source": [
        "# Here we care about the domain and their emotion\n",
        "df=df[['domains','emotion']]\n",
        "df['domains'] = df['domains'].map(lambda a: a[0])\n",
        "\n",
        "# Filter out the \"www.\" and \".com\"\n",
        "words=[\"www.\",\".com\"]\n",
        "for word in words:\n",
        "     df['domains'] = df['domains'].str.replace(word, ' ')\n",
        "\n",
        "# Get top K datasets based on feature in dataframe\n",
        "def top_k_feature(X,feature,k):\n",
        "  X_=pd.DataFrame()\n",
        "  a=X[feature].value_counts()[:k].index.tolist()\n",
        "  X_=X.loc[X[feature].isin(a)]\n",
        "  return X_\n",
        "\n",
        "# Get top 20 feature\n",
        "df=top_k_feature(df,'domains',20)\n",
        "df.head(5)"
      ],
      "metadata": {
        "colab": {
          "base_uri": "https://localhost:8080/",
          "height": 206
        },
        "id": "RGaqPY2AJqDD",
        "outputId": "c6198e49-f56f-4225-b141-6ae21bf50c27"
      },
      "execution_count": null,
      "outputs": [
        {
          "output_type": "execute_result",
          "data": {
            "text/html": [
              "<div>\n",
              "<style scoped>\n",
              "    .dataframe tbody tr th:only-of-type {\n",
              "        vertical-align: middle;\n",
              "    }\n",
              "\n",
              "    .dataframe tbody tr th {\n",
              "        vertical-align: top;\n",
              "    }\n",
              "\n",
              "    .dataframe thead th {\n",
              "        text-align: right;\n",
              "    }\n",
              "</style>\n",
              "<table border=\"1\" class=\"dataframe\">\n",
              "  <thead>\n",
              "    <tr style=\"text-align: right;\">\n",
              "      <th></th>\n",
              "      <th>domains</th>\n",
              "      <th>emotion</th>\n",
              "    </tr>\n",
              "  </thead>\n",
              "  <tbody>\n",
              "    <tr>\n",
              "      <th>3</th>\n",
              "      <td>belfasttelegraph.co.uk</td>\n",
              "      <td>negative</td>\n",
              "    </tr>\n",
              "    <tr>\n",
              "      <th>5</th>\n",
              "      <td>breitbart</td>\n",
              "      <td>negative</td>\n",
              "    </tr>\n",
              "    <tr>\n",
              "      <th>9</th>\n",
              "      <td>inews.co.uk</td>\n",
              "      <td>positive</td>\n",
              "    </tr>\n",
              "    <tr>\n",
              "      <th>15</th>\n",
              "      <td>independent.co.uk</td>\n",
              "      <td>neutral</td>\n",
              "    </tr>\n",
              "    <tr>\n",
              "      <th>17</th>\n",
              "      <td>politico.eu</td>\n",
              "      <td>positive</td>\n",
              "    </tr>\n",
              "  </tbody>\n",
              "</table>\n",
              "</div>"
            ],
            "text/plain": [
              "                    domains   emotion\n",
              "3    belfasttelegraph.co.uk  negative\n",
              "5                breitbart   negative\n",
              "9               inews.co.uk  positive\n",
              "15        independent.co.uk   neutral\n",
              "17              politico.eu  positive"
            ]
          },
          "metadata": {},
          "execution_count": 71
        }
      ]
    },
    {
      "cell_type": "code",
      "source": [
        "# Group by domains\n",
        "group = df.groupby('domains')\n",
        "\n",
        "# Lists contain attitudes value\n",
        "keys=[]\n",
        "positive=[]\n",
        "negative=[]\n",
        "neutral=[]\n",
        "\n",
        "# Count all the attitude during each groups\n",
        "for key, df in group:\n",
        "    keys.append(key)\n",
        "    positive.append(df['emotion'].value_counts()['positive'])\n",
        "    neutral.append(df['emotion'].value_counts()['neutral'])\n",
        "    negative.append(df['emotion'].value_counts()['negative'])\n",
        "    \n",
        "# Valued array keep all the emotion counts\n",
        "valued=[]\n",
        "valued.extend(positive)\n",
        "valued.extend(negative)\n",
        "valued.extend(neutral)\n",
        "\n",
        "# k is the top K features\n",
        "k=20\n",
        "\n",
        "# Construct the target list for the sankey diagram \n",
        "targetd=[]\n",
        "for i in range(0,k):\n",
        "    targetd.append(0)\n",
        "for i in range(0,k):\n",
        "    targetd.append(1)\n",
        "for i in range(0,k):\n",
        "    targetd.append(2)\n",
        "\n",
        "# construct the source list for the sankey diagram\n",
        "sourced=[]\n",
        "for j in range(0,3):\n",
        "  for i in range(3,3+k):\n",
        "      sourced.append(i)\n",
        "\n",
        "print(\"source\",sourced)\n",
        "print(\"target\",targetd)\n",
        "print(\"values\",valued)"
      ],
      "metadata": {
        "id": "UEipkg0oN7YZ",
        "colab": {
          "base_uri": "https://localhost:8080/"
        },
        "outputId": "ffa4f304-46b7-41ff-b6e4-8d966e22d834"
      },
      "execution_count": null,
      "outputs": [
        {
          "output_type": "stream",
          "name": "stdout",
          "text": [
            "source [3, 4, 5, 6, 7, 8, 9, 10, 11, 12, 13, 14, 15, 16, 17, 18, 19, 20, 21, 22, 3, 4, 5, 6, 7, 8, 9, 10, 11, 12, 13, 14, 15, 16, 17, 18, 19, 20, 21, 22, 3, 4, 5, 6, 7, 8, 9, 10, 11, 12, 13, 14, 15, 16, 17, 18, 19, 20, 21, 22]\n",
            "target [0, 0, 0, 0, 0, 0, 0, 0, 0, 0, 0, 0, 0, 0, 0, 0, 0, 0, 0, 0, 1, 1, 1, 1, 1, 1, 1, 1, 1, 1, 1, 1, 1, 1, 1, 1, 1, 1, 1, 1, 2, 2, 2, 2, 2, 2, 2, 2, 2, 2, 2, 2, 2, 2, 2, 2, 2, 2, 2, 2]\n",
            "values [475, 303, 863, 368, 339, 298, 372, 375, 319, 477, 456, 441, 217, 213, 319, 268, 910, 515, 405, 229, 863, 725, 1527, 784, 631, 616, 640, 669, 739, 1007, 1024, 761, 506, 493, 681, 581, 1888, 1189, 756, 514, 417, 343, 757, 394, 323, 295, 355, 327, 331, 476, 496, 323, 246, 207, 316, 310, 1021, 571, 339, 278]\n"
          ]
        }
      ]
    },
    {
      "cell_type": "code",
      "source": [
        "# plot: \n",
        "import plotly.graph_objects as go\n",
        "\n",
        "fig = go.Figure(data=[go.Sankey(\n",
        "    node = dict(\n",
        "      pad = 10,\n",
        "      thickness = 50,\n",
        "      line = dict(color = \"black\", width = 0.5),\n",
        "      # Here is the label we used\n",
        "      label = [\"Positive\", \"Negative\",\"Neutral\",' aol.co.uk', ' bbc.co.uk', ' belfasttelegraph.co.uk', ' breitbart ', ' express.co.uk', ' independent.co.uk', ' independent.ie', ' irishtimes ', ' mirror.co.uk', ' msn ', ' politico.eu', ' politicshome ', ' scotsman ', ' standard.co.uk', ' thenational.scot', ' thesun.co.uk', 'express.co.uk', 'heraldscotland ', 'inews.co.uk', 'uk.investing '],\n",
        "      color = [\"rgba(31, 119, 180, 0.8)\",\n",
        "                    \"rgba(255, 127, 14, 0.8)\",\n",
        "                    \"rgba(44, 160, 44, 0.8)\",\n",
        "                    \"rgba(214, 39, 40, 0.8)\",\n",
        "                    \"rgba(148, 103, 189, 0.8)\",\n",
        "                    \"rgba(140, 86, 75, 0.8)\",\n",
        "                    \"rgba(227, 119, 194, 0.8)\",\n",
        "                    \"rgba(127, 127, 127, 0.8)\",\n",
        "                    \"rgba(188, 189, 34, 0.8)\",\n",
        "                    \"rgba(23, 190, 207, 0.8)\",\n",
        "                    \"rgba(31, 119, 180, 0.8)\",\n",
        "                    \"rgba(255, 127, 14, 0.8)\",\n",
        "                    \"rgba(44, 160, 44, 0.8)\",\n",
        "                    \"rgba(214, 39, 40, 0.8)\",\n",
        "                    \"rgba(148, 103, 189, 0.8)\",\n",
        "                    \"rgba(140, 86, 75, 0.8)\",\n",
        "                    \"rgba(227, 119, 194, 0.8)\",\n",
        "                    \"rgba(127, 127, 127, 0.8)\",\n",
        "                    \"rgba(188, 189, 34, 0.8)\",\n",
        "                    \"rgba(23, 190, 207, 0.8)\",\n",
        "                    \"rgba(31, 119, 180, 0.8)\",\n",
        "                    \"rgba(255, 127, 14, 0.8)\",\n",
        "                    \"rgba(44, 160, 44, 0.8)\",\n",
        "      ]\n",
        "    ),\n",
        "    link = dict(\n",
        "      source=sourced,\n",
        "      target=targetd,\n",
        "      value=valued\n",
        "\n",
        "  ))])\n",
        "\n",
        "fig.update_layout(title_text=\"Emotions of top 20 media and websites\", font_size=10)\n",
        "\n",
        "fig.update_layout(\n",
        "    height=900)\n",
        "fig.show()"
      ],
      "metadata": {
        "colab": {
          "base_uri": "https://localhost:8080/",
          "height": 917
        },
        "id": "xjEGNGTpHQs2",
        "outputId": "02b04146-da4f-4a75-f2e2-0e37da496fbe"
      },
      "execution_count": null,
      "outputs": [
        {
          "output_type": "display_data",
          "data": {
            "text/html": [
              "<html>\n",
              "<head><meta charset=\"utf-8\" /></head>\n",
              "<body>\n",
              "    <div>\n",
              "            <script src=\"https://cdnjs.cloudflare.com/ajax/libs/mathjax/2.7.5/MathJax.js?config=TeX-AMS-MML_SVG\"></script><script type=\"text/javascript\">if (window.MathJax) {MathJax.Hub.Config({SVG: {font: \"STIX-Web\"}});}</script>\n",
              "                <script type=\"text/javascript\">window.PlotlyConfig = {MathJaxConfig: 'local'};</script>\n",
              "        <script src=\"https://cdn.plot.ly/plotly-latest.min.js\"></script>    \n",
              "            <div id=\"3cc60738-e1ab-4f3c-bb59-6a0e243441c9\" class=\"plotly-graph-div\" style=\"height:900px; width:100%;\"></div>\n",
              "            <script type=\"text/javascript\">\n",
              "                \n",
              "                    window.PLOTLYENV=window.PLOTLYENV || {};\n",
              "                    \n",
              "                if (document.getElementById(\"3cc60738-e1ab-4f3c-bb59-6a0e243441c9\")) {\n",
              "                    Plotly.newPlot(\n",
              "                        '3cc60738-e1ab-4f3c-bb59-6a0e243441c9',\n",
              "                        [{\"link\": {\"source\": [3, 4, 5, 6, 7, 8, 9, 10, 11, 12, 13, 14, 15, 16, 17, 18, 19, 20, 21, 22, 3, 4, 5, 6, 7, 8, 9, 10, 11, 12, 13, 14, 15, 16, 17, 18, 19, 20, 21, 22, 3, 4, 5, 6, 7, 8, 9, 10, 11, 12, 13, 14, 15, 16, 17, 18, 19, 20, 21, 22], \"target\": [0, 0, 0, 0, 0, 0, 0, 0, 0, 0, 0, 0, 0, 0, 0, 0, 0, 0, 0, 0, 1, 1, 1, 1, 1, 1, 1, 1, 1, 1, 1, 1, 1, 1, 1, 1, 1, 1, 1, 1, 2, 2, 2, 2, 2, 2, 2, 2, 2, 2, 2, 2, 2, 2, 2, 2, 2, 2, 2, 2], \"value\": [475, 303, 863, 368, 339, 298, 372, 375, 319, 477, 456, 441, 217, 213, 319, 268, 910, 515, 405, 229, 863, 725, 1527, 784, 631, 616, 640, 669, 739, 1007, 1024, 761, 506, 493, 681, 581, 1888, 1189, 756, 514, 417, 343, 757, 394, 323, 295, 355, 327, 331, 476, 496, 323, 246, 207, 316, 310, 1021, 571, 339, 278]}, \"node\": {\"color\": [\"rgba(31, 119, 180, 0.8)\", \"rgba(255, 127, 14, 0.8)\", \"rgba(44, 160, 44, 0.8)\", \"rgba(214, 39, 40, 0.8)\", \"rgba(148, 103, 189, 0.8)\", \"rgba(140, 86, 75, 0.8)\", \"rgba(227, 119, 194, 0.8)\", \"rgba(127, 127, 127, 0.8)\", \"rgba(188, 189, 34, 0.8)\", \"rgba(23, 190, 207, 0.8)\", \"rgba(31, 119, 180, 0.8)\", \"rgba(255, 127, 14, 0.8)\", \"rgba(44, 160, 44, 0.8)\", \"rgba(214, 39, 40, 0.8)\", \"rgba(148, 103, 189, 0.8)\", \"rgba(140, 86, 75, 0.8)\", \"rgba(227, 119, 194, 0.8)\", \"rgba(127, 127, 127, 0.8)\", \"rgba(188, 189, 34, 0.8)\", \"rgba(23, 190, 207, 0.8)\", \"rgba(31, 119, 180, 0.8)\", \"rgba(255, 127, 14, 0.8)\", \"rgba(44, 160, 44, 0.8)\"], \"label\": [\"Positive\", \"Negative\", \"Neutral\", \" aol.co.uk\", \" bbc.co.uk\", \" belfasttelegraph.co.uk\", \" breitbart \", \" express.co.uk\", \" independent.co.uk\", \" independent.ie\", \" irishtimes \", \" mirror.co.uk\", \" msn \", \" politico.eu\", \" politicshome \", \" scotsman \", \" standard.co.uk\", \" thenational.scot\", \" thesun.co.uk\", \"express.co.uk\", \"heraldscotland \", \"inews.co.uk\", \"uk.investing \"], \"line\": {\"color\": \"black\", \"width\": 0.5}, \"pad\": 10, \"thickness\": 50}, \"type\": \"sankey\"}],\n",
              "                        {\"font\": {\"size\": 10}, \"height\": 900, \"template\": {\"data\": {\"bar\": [{\"error_x\": {\"color\": \"#2a3f5f\"}, \"error_y\": {\"color\": \"#2a3f5f\"}, \"marker\": {\"line\": {\"color\": \"#E5ECF6\", \"width\": 0.5}}, \"type\": \"bar\"}], \"barpolar\": [{\"marker\": {\"line\": {\"color\": \"#E5ECF6\", \"width\": 0.5}}, \"type\": \"barpolar\"}], \"carpet\": [{\"aaxis\": {\"endlinecolor\": \"#2a3f5f\", \"gridcolor\": \"white\", \"linecolor\": \"white\", \"minorgridcolor\": \"white\", \"startlinecolor\": \"#2a3f5f\"}, \"baxis\": {\"endlinecolor\": \"#2a3f5f\", \"gridcolor\": \"white\", \"linecolor\": \"white\", \"minorgridcolor\": \"white\", \"startlinecolor\": \"#2a3f5f\"}, \"type\": \"carpet\"}], \"choropleth\": [{\"colorbar\": {\"outlinewidth\": 0, \"ticks\": \"\"}, \"type\": \"choropleth\"}], \"contour\": [{\"colorbar\": {\"outlinewidth\": 0, \"ticks\": \"\"}, \"colorscale\": [[0.0, \"#0d0887\"], [0.1111111111111111, \"#46039f\"], [0.2222222222222222, \"#7201a8\"], [0.3333333333333333, \"#9c179e\"], [0.4444444444444444, \"#bd3786\"], [0.5555555555555556, \"#d8576b\"], [0.6666666666666666, \"#ed7953\"], [0.7777777777777778, \"#fb9f3a\"], [0.8888888888888888, \"#fdca26\"], [1.0, \"#f0f921\"]], \"type\": \"contour\"}], \"contourcarpet\": [{\"colorbar\": {\"outlinewidth\": 0, \"ticks\": \"\"}, \"type\": \"contourcarpet\"}], \"heatmap\": [{\"colorbar\": {\"outlinewidth\": 0, \"ticks\": \"\"}, \"colorscale\": [[0.0, \"#0d0887\"], [0.1111111111111111, \"#46039f\"], [0.2222222222222222, \"#7201a8\"], [0.3333333333333333, \"#9c179e\"], [0.4444444444444444, \"#bd3786\"], [0.5555555555555556, \"#d8576b\"], [0.6666666666666666, \"#ed7953\"], [0.7777777777777778, \"#fb9f3a\"], [0.8888888888888888, \"#fdca26\"], [1.0, \"#f0f921\"]], \"type\": \"heatmap\"}], \"heatmapgl\": [{\"colorbar\": {\"outlinewidth\": 0, \"ticks\": \"\"}, \"colorscale\": [[0.0, \"#0d0887\"], [0.1111111111111111, \"#46039f\"], [0.2222222222222222, \"#7201a8\"], [0.3333333333333333, \"#9c179e\"], [0.4444444444444444, \"#bd3786\"], [0.5555555555555556, \"#d8576b\"], [0.6666666666666666, \"#ed7953\"], [0.7777777777777778, \"#fb9f3a\"], [0.8888888888888888, \"#fdca26\"], [1.0, \"#f0f921\"]], \"type\": \"heatmapgl\"}], \"histogram\": [{\"marker\": {\"colorbar\": {\"outlinewidth\": 0, \"ticks\": \"\"}}, \"type\": \"histogram\"}], \"histogram2d\": [{\"colorbar\": {\"outlinewidth\": 0, \"ticks\": \"\"}, \"colorscale\": [[0.0, \"#0d0887\"], [0.1111111111111111, \"#46039f\"], [0.2222222222222222, \"#7201a8\"], [0.3333333333333333, \"#9c179e\"], [0.4444444444444444, \"#bd3786\"], [0.5555555555555556, \"#d8576b\"], [0.6666666666666666, \"#ed7953\"], [0.7777777777777778, \"#fb9f3a\"], [0.8888888888888888, \"#fdca26\"], [1.0, \"#f0f921\"]], \"type\": \"histogram2d\"}], \"histogram2dcontour\": [{\"colorbar\": {\"outlinewidth\": 0, \"ticks\": \"\"}, \"colorscale\": [[0.0, \"#0d0887\"], [0.1111111111111111, \"#46039f\"], [0.2222222222222222, \"#7201a8\"], [0.3333333333333333, \"#9c179e\"], [0.4444444444444444, \"#bd3786\"], [0.5555555555555556, \"#d8576b\"], [0.6666666666666666, \"#ed7953\"], [0.7777777777777778, \"#fb9f3a\"], [0.8888888888888888, \"#fdca26\"], [1.0, \"#f0f921\"]], \"type\": \"histogram2dcontour\"}], \"mesh3d\": [{\"colorbar\": {\"outlinewidth\": 0, \"ticks\": \"\"}, \"type\": \"mesh3d\"}], \"parcoords\": [{\"line\": {\"colorbar\": {\"outlinewidth\": 0, \"ticks\": \"\"}}, \"type\": \"parcoords\"}], \"pie\": [{\"automargin\": true, \"type\": \"pie\"}], \"scatter\": [{\"marker\": {\"colorbar\": {\"outlinewidth\": 0, \"ticks\": \"\"}}, \"type\": \"scatter\"}], \"scatter3d\": [{\"line\": {\"colorbar\": {\"outlinewidth\": 0, \"ticks\": \"\"}}, \"marker\": {\"colorbar\": {\"outlinewidth\": 0, \"ticks\": \"\"}}, \"type\": \"scatter3d\"}], \"scattercarpet\": [{\"marker\": {\"colorbar\": {\"outlinewidth\": 0, \"ticks\": \"\"}}, \"type\": \"scattercarpet\"}], \"scattergeo\": [{\"marker\": {\"colorbar\": {\"outlinewidth\": 0, \"ticks\": \"\"}}, \"type\": \"scattergeo\"}], \"scattergl\": [{\"marker\": {\"colorbar\": {\"outlinewidth\": 0, \"ticks\": \"\"}}, \"type\": \"scattergl\"}], \"scattermapbox\": [{\"marker\": {\"colorbar\": {\"outlinewidth\": 0, \"ticks\": \"\"}}, \"type\": \"scattermapbox\"}], \"scatterpolar\": [{\"marker\": {\"colorbar\": {\"outlinewidth\": 0, \"ticks\": \"\"}}, \"type\": \"scatterpolar\"}], \"scatterpolargl\": [{\"marker\": {\"colorbar\": {\"outlinewidth\": 0, \"ticks\": \"\"}}, \"type\": \"scatterpolargl\"}], \"scatterternary\": [{\"marker\": {\"colorbar\": {\"outlinewidth\": 0, \"ticks\": \"\"}}, \"type\": \"scatterternary\"}], \"surface\": [{\"colorbar\": {\"outlinewidth\": 0, \"ticks\": \"\"}, \"colorscale\": [[0.0, \"#0d0887\"], [0.1111111111111111, \"#46039f\"], [0.2222222222222222, \"#7201a8\"], [0.3333333333333333, \"#9c179e\"], [0.4444444444444444, \"#bd3786\"], [0.5555555555555556, \"#d8576b\"], [0.6666666666666666, \"#ed7953\"], [0.7777777777777778, \"#fb9f3a\"], [0.8888888888888888, \"#fdca26\"], [1.0, \"#f0f921\"]], \"type\": \"surface\"}], \"table\": [{\"cells\": {\"fill\": {\"color\": \"#EBF0F8\"}, \"line\": {\"color\": \"white\"}}, \"header\": {\"fill\": {\"color\": \"#C8D4E3\"}, \"line\": {\"color\": \"white\"}}, \"type\": \"table\"}]}, \"layout\": {\"annotationdefaults\": {\"arrowcolor\": \"#2a3f5f\", \"arrowhead\": 0, \"arrowwidth\": 1}, \"coloraxis\": {\"colorbar\": {\"outlinewidth\": 0, \"ticks\": \"\"}}, \"colorscale\": {\"diverging\": [[0, \"#8e0152\"], [0.1, \"#c51b7d\"], [0.2, \"#de77ae\"], [0.3, \"#f1b6da\"], [0.4, \"#fde0ef\"], [0.5, \"#f7f7f7\"], [0.6, \"#e6f5d0\"], [0.7, \"#b8e186\"], [0.8, \"#7fbc41\"], [0.9, \"#4d9221\"], [1, \"#276419\"]], \"sequential\": [[0.0, \"#0d0887\"], [0.1111111111111111, \"#46039f\"], [0.2222222222222222, \"#7201a8\"], [0.3333333333333333, \"#9c179e\"], [0.4444444444444444, \"#bd3786\"], [0.5555555555555556, \"#d8576b\"], [0.6666666666666666, \"#ed7953\"], [0.7777777777777778, \"#fb9f3a\"], [0.8888888888888888, \"#fdca26\"], [1.0, \"#f0f921\"]], \"sequentialminus\": [[0.0, \"#0d0887\"], [0.1111111111111111, \"#46039f\"], [0.2222222222222222, \"#7201a8\"], [0.3333333333333333, \"#9c179e\"], [0.4444444444444444, \"#bd3786\"], [0.5555555555555556, \"#d8576b\"], [0.6666666666666666, \"#ed7953\"], [0.7777777777777778, \"#fb9f3a\"], [0.8888888888888888, \"#fdca26\"], [1.0, \"#f0f921\"]]}, \"colorway\": [\"#636efa\", \"#EF553B\", \"#00cc96\", \"#ab63fa\", \"#FFA15A\", \"#19d3f3\", \"#FF6692\", \"#B6E880\", \"#FF97FF\", \"#FECB52\"], \"font\": {\"color\": \"#2a3f5f\"}, \"geo\": {\"bgcolor\": \"white\", \"lakecolor\": \"white\", \"landcolor\": \"#E5ECF6\", \"showlakes\": true, \"showland\": true, \"subunitcolor\": \"white\"}, \"hoverlabel\": {\"align\": \"left\"}, \"hovermode\": \"closest\", \"mapbox\": {\"style\": \"light\"}, \"paper_bgcolor\": \"white\", \"plot_bgcolor\": \"#E5ECF6\", \"polar\": {\"angularaxis\": {\"gridcolor\": \"white\", \"linecolor\": \"white\", \"ticks\": \"\"}, \"bgcolor\": \"#E5ECF6\", \"radialaxis\": {\"gridcolor\": \"white\", \"linecolor\": \"white\", \"ticks\": \"\"}}, \"scene\": {\"xaxis\": {\"backgroundcolor\": \"#E5ECF6\", \"gridcolor\": \"white\", \"gridwidth\": 2, \"linecolor\": \"white\", \"showbackground\": true, \"ticks\": \"\", \"zerolinecolor\": \"white\"}, \"yaxis\": {\"backgroundcolor\": \"#E5ECF6\", \"gridcolor\": \"white\", \"gridwidth\": 2, \"linecolor\": \"white\", \"showbackground\": true, \"ticks\": \"\", \"zerolinecolor\": \"white\"}, \"zaxis\": {\"backgroundcolor\": \"#E5ECF6\", \"gridcolor\": \"white\", \"gridwidth\": 2, \"linecolor\": \"white\", \"showbackground\": true, \"ticks\": \"\", \"zerolinecolor\": \"white\"}}, \"shapedefaults\": {\"line\": {\"color\": \"#2a3f5f\"}}, \"ternary\": {\"aaxis\": {\"gridcolor\": \"white\", \"linecolor\": \"white\", \"ticks\": \"\"}, \"baxis\": {\"gridcolor\": \"white\", \"linecolor\": \"white\", \"ticks\": \"\"}, \"bgcolor\": \"#E5ECF6\", \"caxis\": {\"gridcolor\": \"white\", \"linecolor\": \"white\", \"ticks\": \"\"}}, \"title\": {\"x\": 0.05}, \"xaxis\": {\"automargin\": true, \"gridcolor\": \"white\", \"linecolor\": \"white\", \"ticks\": \"\", \"title\": {\"standoff\": 15}, \"zerolinecolor\": \"white\", \"zerolinewidth\": 2}, \"yaxis\": {\"automargin\": true, \"gridcolor\": \"white\", \"linecolor\": \"white\", \"ticks\": \"\", \"title\": {\"standoff\": 15}, \"zerolinecolor\": \"white\", \"zerolinewidth\": 2}}}, \"title\": {\"text\": \"Emotions of top 20 media and websites\"}},\n",
              "                        {\"responsive\": true}\n",
              "                    ).then(function(){\n",
              "                            \n",
              "var gd = document.getElementById('3cc60738-e1ab-4f3c-bb59-6a0e243441c9');\n",
              "var x = new MutationObserver(function (mutations, observer) {{\n",
              "        var display = window.getComputedStyle(gd).display;\n",
              "        if (!display || display === 'none') {{\n",
              "            console.log([gd, 'removed!']);\n",
              "            Plotly.purge(gd);\n",
              "            observer.disconnect();\n",
              "        }}\n",
              "}});\n",
              "\n",
              "// Listen for the removal of the full notebook cells\n",
              "var notebookContainer = gd.closest('#notebook-container');\n",
              "if (notebookContainer) {{\n",
              "    x.observe(notebookContainer, {childList: true});\n",
              "}}\n",
              "\n",
              "// Listen for the clearing of the current output cell\n",
              "var outputEl = gd.closest('.output');\n",
              "if (outputEl) {{\n",
              "    x.observe(outputEl, {childList: true});\n",
              "}}\n",
              "\n",
              "                        })\n",
              "                };\n",
              "                \n",
              "            </script>\n",
              "        </div>\n",
              "</body>\n",
              "</html>"
            ]
          },
          "metadata": {}
        }
      ]
    },
    {
      "cell_type": "markdown",
      "source": [
        "We observe that, considering the top 20 media outlets present in Quotebank's data, most of them have a negative sentiment towards the Brexit, regardless of their views. This is noted particularly with the Daily Express (here express.co.uk) which is a very conservative tabloid in the UK. \n",
        "It is surprising to note that most of the opinions are negative despite the fact that the Brexit was voted for yes. Again, we must keep in mind that this does not reflect the opinion but rather the tone of the quote."
      ],
      "metadata": {
        "id": "4l--eekA8jWz"
      }
    },
    {
      "cell_type": "markdown",
      "source": [
        "### II.4 How sentiments of quotations revealed by top 10 medias change over recent years?"
      ],
      "metadata": {
        "id": "tOzFScb5lvax"
      }
    },
    {
      "cell_type": "markdown",
      "source": [
        "Out the top 20 we picked the top 10 to see how their emotions changed with time:"
      ],
      "metadata": {
        "id": "Fwhez9S6QkEX"
      }
    },
    {
      "cell_type": "code",
      "source": [
        "# filtering the top 10\n",
        "top10_media=df_domains['domains'].head(10).tolist()\n",
        "# taking the columns we are interested in\n",
        "df_top10_media=df[df['domains'].isin(top10_media)].groupby(['domains','year','emotion'])['id'].count().reset_index()\n",
        "# doing the count\n",
        "df_top10_media=df_top10_media.rename(columns={'id': 'yearly_counts'})\n",
        "\n",
        "# removing the redundant words\n",
        "base_list = ['www.','.com','.uk','.co']\n",
        "\n",
        "#final dataset to plot\n",
        "df_top10_media['media']=df_top10_media['domains'].str.replace(\"|\".join(base_list),'')"
      ],
      "metadata": {
        "id": "1tww8Dli00fR"
      },
      "execution_count": null,
      "outputs": []
    },
    {
      "cell_type": "code",
      "source": [
        "# small view of the data\n",
        "df_top10_media"
      ],
      "metadata": {
        "id": "JKzpGcJeliPO",
        "outputId": "94b534ad-dead-49be-fb09-1641d71e4ada",
        "colab": {
          "base_uri": "https://localhost:8080/",
          "height": 423
        }
      },
      "execution_count": null,
      "outputs": [
        {
          "output_type": "execute_result",
          "data": {
            "text/html": [
              "<div>\n",
              "<style scoped>\n",
              "    .dataframe tbody tr th:only-of-type {\n",
              "        vertical-align: middle;\n",
              "    }\n",
              "\n",
              "    .dataframe tbody tr th {\n",
              "        vertical-align: top;\n",
              "    }\n",
              "\n",
              "    .dataframe thead th {\n",
              "        text-align: right;\n",
              "    }\n",
              "</style>\n",
              "<table border=\"1\" class=\"dataframe\">\n",
              "  <thead>\n",
              "    <tr style=\"text-align: right;\">\n",
              "      <th style=\"min-width: {};\"></th>\n",
              "      <th style=\"min-width: {};\">domains</th>\n",
              "      <th style=\"min-width: {};\">year</th>\n",
              "      <th style=\"min-width: {};\">emotion</th>\n",
              "      <th style=\"min-width: {};\">yearly_counts</th>\n",
              "      <th style=\"min-width: {};\">media</th>\n",
              "    </tr>\n",
              "  </thead>\n",
              "  <tbody>\n",
              "    <tr>\n",
              "      <th>0</th>\n",
              "      <td>express.co.uk</td>\n",
              "      <td>2015</td>\n",
              "      <td>negative</td>\n",
              "      <td>1</td>\n",
              "      <td>express</td>\n",
              "    </tr>\n",
              "    <tr>\n",
              "      <th>1</th>\n",
              "      <td>express.co.uk</td>\n",
              "      <td>2015</td>\n",
              "      <td>neutral</td>\n",
              "      <td>1</td>\n",
              "      <td>express</td>\n",
              "    </tr>\n",
              "    <tr>\n",
              "      <th>2</th>\n",
              "      <td>express.co.uk</td>\n",
              "      <td>2015</td>\n",
              "      <td>positive</td>\n",
              "      <td>2</td>\n",
              "      <td>express</td>\n",
              "    </tr>\n",
              "    <tr>\n",
              "      <th>3</th>\n",
              "      <td>express.co.uk</td>\n",
              "      <td>2016</td>\n",
              "      <td>negative</td>\n",
              "      <td>91</td>\n",
              "      <td>express</td>\n",
              "    </tr>\n",
              "    <tr>\n",
              "      <th>4</th>\n",
              "      <td>express.co.uk</td>\n",
              "      <td>2016</td>\n",
              "      <td>neutral</td>\n",
              "      <td>46</td>\n",
              "      <td>express</td>\n",
              "    </tr>\n",
              "    <tr>\n",
              "      <th>...</th>\n",
              "      <td>...</td>\n",
              "      <td>...</td>\n",
              "      <td>...</td>\n",
              "      <td>...</td>\n",
              "      <td>...</td>\n",
              "    </tr>\n",
              "    <tr>\n",
              "      <th>152</th>\n",
              "      <td>www.politicshome.com</td>\n",
              "      <td>2019</td>\n",
              "      <td>neutral</td>\n",
              "      <td>151</td>\n",
              "      <td>politicshome</td>\n",
              "    </tr>\n",
              "    <tr>\n",
              "      <th>153</th>\n",
              "      <td>www.politicshome.com</td>\n",
              "      <td>2019</td>\n",
              "      <td>positive</td>\n",
              "      <td>198</td>\n",
              "      <td>politicshome</td>\n",
              "    </tr>\n",
              "    <tr>\n",
              "      <th>154</th>\n",
              "      <td>www.politicshome.com</td>\n",
              "      <td>2020</td>\n",
              "      <td>negative</td>\n",
              "      <td>22</td>\n",
              "      <td>politicshome</td>\n",
              "    </tr>\n",
              "    <tr>\n",
              "      <th>155</th>\n",
              "      <td>www.politicshome.com</td>\n",
              "      <td>2020</td>\n",
              "      <td>neutral</td>\n",
              "      <td>8</td>\n",
              "      <td>politicshome</td>\n",
              "    </tr>\n",
              "    <tr>\n",
              "      <th>156</th>\n",
              "      <td>www.politicshome.com</td>\n",
              "      <td>2020</td>\n",
              "      <td>positive</td>\n",
              "      <td>17</td>\n",
              "      <td>politicshome</td>\n",
              "    </tr>\n",
              "  </tbody>\n",
              "</table>\n",
              "<p>157 rows × 5 columns</p>\n",
              "</div>"
            ],
            "text/plain": [
              "                  domains  year   emotion  yearly_counts         media\n",
              "0           express.co.uk  2015  negative              1       express\n",
              "1           express.co.uk  2015   neutral              1       express\n",
              "2           express.co.uk  2015  positive              2       express\n",
              "3           express.co.uk  2016  negative             91       express\n",
              "4           express.co.uk  2016   neutral             46       express\n",
              "..                    ...   ...       ...            ...           ...\n",
              "152  www.politicshome.com  2019   neutral            151  politicshome\n",
              "153  www.politicshome.com  2019  positive            198  politicshome\n",
              "154  www.politicshome.com  2020  negative             22  politicshome\n",
              "155  www.politicshome.com  2020   neutral              8  politicshome\n",
              "156  www.politicshome.com  2020  positive             17  politicshome\n",
              "\n",
              "[157 rows x 5 columns]"
            ]
          },
          "metadata": {},
          "execution_count": 305
        }
      ]
    },
    {
      "cell_type": "code",
      "source": [
        "# plot:\n",
        "fig = px.bar(df_top10_media, x=\"year\", y=\"yearly_counts\", color=\"emotion\", barmode=\"stack\",\n",
        "             facet_col=\"media\", facet_col_wrap=5,\n",
        "             category_orders={\"media\": top10_media})\n",
        "fig.update_traces(marker_line_width=0)\n",
        "fig.show()"
      ],
      "metadata": {
        "id": "hIuo4kOb03Qk",
        "colab": {
          "base_uri": "https://localhost:8080/",
          "height": 542
        },
        "outputId": "66c3e6f4-8a13-4c0f-d9fc-ebac2d57eee5"
      },
      "execution_count": null,
      "outputs": [
        {
          "output_type": "display_data",
          "data": {
            "text/html": [
              "<html>\n",
              "<head><meta charset=\"utf-8\" /></head>\n",
              "<body>\n",
              "    <div>\n",
              "            <script src=\"https://cdnjs.cloudflare.com/ajax/libs/mathjax/2.7.5/MathJax.js?config=TeX-AMS-MML_SVG\"></script><script type=\"text/javascript\">if (window.MathJax) {MathJax.Hub.Config({SVG: {font: \"STIX-Web\"}});}</script>\n",
              "                <script type=\"text/javascript\">window.PlotlyConfig = {MathJaxConfig: 'local'};</script>\n",
              "        <script src=\"https://cdn.plot.ly/plotly-latest.min.js\"></script>    \n",
              "            <div id=\"c4ab6abf-1346-4d07-90ae-b4a23df6f0a3\" class=\"plotly-graph-div\" style=\"height:525px; width:100%;\"></div>\n",
              "            <script type=\"text/javascript\">\n",
              "                \n",
              "                    window.PLOTLYENV=window.PLOTLYENV || {};\n",
              "                    \n",
              "                if (document.getElementById(\"c4ab6abf-1346-4d07-90ae-b4a23df6f0a3\")) {\n",
              "                    Plotly.newPlot(\n",
              "                        'c4ab6abf-1346-4d07-90ae-b4a23df6f0a3',\n",
              "                        [{\"alignmentgroup\": \"True\", \"hoverlabel\": {\"namelength\": 0}, \"hovertemplate\": \"emotion=negative<br>media=express<br>year=%{x}<br>yearly_counts=%{y}\", \"legendgroup\": \"emotion=negative\", \"marker\": {\"color\": \"#636efa\", \"line\": {\"width\": 0}}, \"name\": \"emotion=negative\", \"offsetgroup\": \"emotion=negative\", \"orientation\": \"v\", \"showlegend\": true, \"textposition\": \"auto\", \"type\": \"bar\", \"x\": [2015, 2016, 2017, 2018, 2019, 2020], \"xaxis\": \"x6\", \"y\": [1, 91, 214, 384, 1095, 103], \"yaxis\": \"y6\"}, {\"alignmentgroup\": \"True\", \"hoverlabel\": {\"namelength\": 0}, \"hovertemplate\": \"emotion=negative<br>media=heraldtland<br>year=%{x}<br>yearly_counts=%{y}\", \"legendgroup\": \"emotion=negative\", \"marker\": {\"color\": \"#636efa\", \"line\": {\"width\": 0}}, \"name\": \"emotion=negative\", \"offsetgroup\": \"emotion=negative\", \"orientation\": \"v\", \"showlegend\": false, \"textposition\": \"auto\", \"type\": \"bar\", \"x\": [2015, 2016, 2017, 2018, 2019, 2020], \"xaxis\": \"x7\", \"y\": [1, 131, 270, 374, 379, 34], \"yaxis\": \"y7\"}, {\"alignmentgroup\": \"True\", \"hoverlabel\": {\"namelength\": 0}, \"hovertemplate\": \"emotion=negative<br>media=inews<br>year=%{x}<br>yearly_counts=%{y}\", \"legendgroup\": \"emotion=negative\", \"marker\": {\"color\": \"#636efa\", \"line\": {\"width\": 0}}, \"name\": \"emotion=negative\", \"offsetgroup\": \"emotion=negative\", \"orientation\": \"v\", \"showlegend\": false, \"textposition\": \"auto\", \"type\": \"bar\", \"x\": [2016, 2017, 2018, 2019, 2020], \"xaxis\": \"x8\", \"y\": [1, 150, 234, 355, 16], \"yaxis\": \"y8\"}, {\"alignmentgroup\": \"True\", \"hoverlabel\": {\"namelength\": 0}, \"hovertemplate\": \"emotion=negative<br>media=aol<br>year=%{x}<br>yearly_counts=%{y}\", \"legendgroup\": \"emotion=negative\", \"marker\": {\"color\": \"#636efa\", \"line\": {\"width\": 0}}, \"name\": \"emotion=negative\", \"offsetgroup\": \"emotion=negative\", \"orientation\": \"v\", \"showlegend\": false, \"textposition\": \"auto\", \"type\": \"bar\", \"x\": [2016, 2017, 2018, 2019], \"xaxis\": \"x9\", \"y\": [42, 110, 462, 249], \"yaxis\": \"y9\"}, {\"alignmentgroup\": \"True\", \"hoverlabel\": {\"namelength\": 0}, \"hovertemplate\": \"emotion=negative<br>media=belfasttelegraph<br>year=%{x}<br>yearly_counts=%{y}\", \"legendgroup\": \"emotion=negative\", \"marker\": {\"color\": \"#636efa\", \"line\": {\"width\": 0}}, \"name\": \"emotion=negative\", \"offsetgroup\": \"emotion=negative\", \"orientation\": \"v\", \"showlegend\": false, \"textposition\": \"auto\", \"type\": \"bar\", \"x\": [2015, 2016, 2017, 2018, 2019, 2020], \"xaxis\": \"x10\", \"y\": [1, 15, 253, 349, 876, 33], \"yaxis\": \"y10\"}, {\"alignmentgroup\": \"True\", \"hoverlabel\": {\"namelength\": 0}, \"hovertemplate\": \"emotion=negative<br>media=breitbart<br>year=%{x}<br>yearly_counts=%{y}\", \"legendgroup\": \"emotion=negative\", \"marker\": {\"color\": \"#636efa\", \"line\": {\"width\": 0}}, \"name\": \"emotion=negative\", \"offsetgroup\": \"emotion=negative\", \"orientation\": \"v\", \"showlegend\": false, \"textposition\": \"auto\", \"type\": \"bar\", \"x\": [2016, 2017, 2018, 2019, 2020], \"xaxis\": \"x\", \"y\": [62, 104, 232, 371, 15], \"yaxis\": \"y\"}, {\"alignmentgroup\": \"True\", \"hoverlabel\": {\"namelength\": 0}, \"hovertemplate\": \"emotion=negative<br>media=mirror<br>year=%{x}<br>yearly_counts=%{y}\", \"legendgroup\": \"emotion=negative\", \"marker\": {\"color\": \"#636efa\", \"line\": {\"width\": 0}}, \"name\": \"emotion=negative\", \"offsetgroup\": \"emotion=negative\", \"orientation\": \"v\", \"showlegend\": false, \"textposition\": \"auto\", \"type\": \"bar\", \"x\": [2015, 2016, 2017, 2018, 2019, 2020], \"xaxis\": \"x2\", \"y\": [2, 42, 123, 233, 328, 11], \"yaxis\": \"y2\"}, {\"alignmentgroup\": \"True\", \"hoverlabel\": {\"namelength\": 0}, \"hovertemplate\": \"emotion=negative<br>media=msn<br>year=%{x}<br>yearly_counts=%{y}\", \"legendgroup\": \"emotion=negative\", \"marker\": {\"color\": \"#636efa\", \"line\": {\"width\": 0}}, \"name\": \"emotion=negative\", \"offsetgroup\": \"emotion=negative\", \"orientation\": \"v\", \"showlegend\": false, \"textposition\": \"auto\", \"type\": \"bar\", \"x\": [2015, 2016, 2017, 2018, 2019, 2020], \"xaxis\": \"x3\", \"y\": [2, 98, 230, 273, 401, 3], \"yaxis\": \"y3\"}, {\"alignmentgroup\": \"True\", \"hoverlabel\": {\"namelength\": 0}, \"hovertemplate\": \"emotion=negative<br>media=polit.eu<br>year=%{x}<br>yearly_counts=%{y}\", \"legendgroup\": \"emotion=negative\", \"marker\": {\"color\": \"#636efa\", \"line\": {\"width\": 0}}, \"name\": \"emotion=negative\", \"offsetgroup\": \"emotion=negative\", \"orientation\": \"v\", \"showlegend\": false, \"textposition\": \"auto\", \"type\": \"bar\", \"x\": [2015, 2016, 2017, 2018, 2019, 2020], \"xaxis\": \"x4\", \"y\": [5, 55, 208, 299, 435, 22], \"yaxis\": \"y4\"}, {\"alignmentgroup\": \"True\", \"hoverlabel\": {\"namelength\": 0}, \"hovertemplate\": \"emotion=negative<br>media=politicshome<br>year=%{x}<br>yearly_counts=%{y}\", \"legendgroup\": \"emotion=negative\", \"marker\": {\"color\": \"#636efa\", \"line\": {\"width\": 0}}, \"name\": \"emotion=negative\", \"offsetgroup\": \"emotion=negative\", \"orientation\": \"v\", \"showlegend\": false, \"textposition\": \"auto\", \"type\": \"bar\", \"x\": [2017, 2018, 2019, 2020], \"xaxis\": \"x5\", \"y\": [143, 241, 355, 22], \"yaxis\": \"y5\"}, {\"alignmentgroup\": \"True\", \"hoverlabel\": {\"namelength\": 0}, \"hovertemplate\": \"emotion=neutral<br>media=express<br>year=%{x}<br>yearly_counts=%{y}\", \"legendgroup\": \"emotion=neutral\", \"marker\": {\"color\": \"#EF553B\", \"line\": {\"width\": 0}}, \"name\": \"emotion=neutral\", \"offsetgroup\": \"emotion=neutral\", \"orientation\": \"v\", \"showlegend\": true, \"textposition\": \"auto\", \"type\": \"bar\", \"x\": [2015, 2016, 2017, 2018, 2019, 2020], \"xaxis\": \"x6\", \"y\": [1, 46, 125, 199, 599, 51], \"yaxis\": \"y6\"}, {\"alignmentgroup\": \"True\", \"hoverlabel\": {\"namelength\": 0}, \"hovertemplate\": \"emotion=neutral<br>media=heraldtland<br>year=%{x}<br>yearly_counts=%{y}\", \"legendgroup\": \"emotion=neutral\", \"marker\": {\"color\": \"#EF553B\", \"line\": {\"width\": 0}}, \"name\": \"emotion=neutral\", \"offsetgroup\": \"emotion=neutral\", \"orientation\": \"v\", \"showlegend\": false, \"textposition\": \"auto\", \"type\": \"bar\", \"x\": [2015, 2016, 2017, 2018, 2019, 2020], \"xaxis\": \"x7\", \"y\": [1, 79, 145, 160, 169, 17], \"yaxis\": \"y7\"}, {\"alignmentgroup\": \"True\", \"hoverlabel\": {\"namelength\": 0}, \"hovertemplate\": \"emotion=neutral<br>media=inews<br>year=%{x}<br>yearly_counts=%{y}\", \"legendgroup\": \"emotion=neutral\", \"marker\": {\"color\": \"#EF553B\", \"line\": {\"width\": 0}}, \"name\": \"emotion=neutral\", \"offsetgroup\": \"emotion=neutral\", \"orientation\": \"v\", \"showlegend\": false, \"textposition\": \"auto\", \"type\": \"bar\", \"x\": [2017, 2018, 2019, 2020], \"xaxis\": \"x8\", \"y\": [56, 107, 171, 5], \"yaxis\": \"y8\"}, {\"alignmentgroup\": \"True\", \"hoverlabel\": {\"namelength\": 0}, \"hovertemplate\": \"emotion=neutral<br>media=aol<br>year=%{x}<br>yearly_counts=%{y}\", \"legendgroup\": \"emotion=neutral\", \"marker\": {\"color\": \"#EF553B\", \"line\": {\"width\": 0}}, \"name\": \"emotion=neutral\", \"offsetgroup\": \"emotion=neutral\", \"orientation\": \"v\", \"showlegend\": false, \"textposition\": \"auto\", \"type\": \"bar\", \"x\": [2016, 2017, 2018, 2019], \"xaxis\": \"x9\", \"y\": [26, 61, 219, 111], \"yaxis\": \"y9\"}, {\"alignmentgroup\": \"True\", \"hoverlabel\": {\"namelength\": 0}, \"hovertemplate\": \"emotion=neutral<br>media=belfasttelegraph<br>year=%{x}<br>yearly_counts=%{y}\", \"legendgroup\": \"emotion=neutral\", \"marker\": {\"color\": \"#EF553B\", \"line\": {\"width\": 0}}, \"name\": \"emotion=neutral\", \"offsetgroup\": \"emotion=neutral\", \"orientation\": \"v\", \"showlegend\": false, \"textposition\": \"auto\", \"type\": \"bar\", \"x\": [2016, 2017, 2018, 2019, 2020], \"xaxis\": \"x10\", \"y\": [8, 114, 172, 438, 25], \"yaxis\": \"y10\"}, {\"alignmentgroup\": \"True\", \"hoverlabel\": {\"namelength\": 0}, \"hovertemplate\": \"emotion=neutral<br>media=breitbart<br>year=%{x}<br>yearly_counts=%{y}\", \"legendgroup\": \"emotion=neutral\", \"marker\": {\"color\": \"#EF553B\", \"line\": {\"width\": 0}}, \"name\": \"emotion=neutral\", \"offsetgroup\": \"emotion=neutral\", \"orientation\": \"v\", \"showlegend\": false, \"textposition\": \"auto\", \"type\": \"bar\", \"x\": [2016, 2017, 2018, 2019, 2020], \"xaxis\": \"x\", \"y\": [22, 50, 115, 202, 5], \"yaxis\": \"y\"}, {\"alignmentgroup\": \"True\", \"hoverlabel\": {\"namelength\": 0}, \"hovertemplate\": \"emotion=neutral<br>media=mirror<br>year=%{x}<br>yearly_counts=%{y}\", \"legendgroup\": \"emotion=neutral\", \"marker\": {\"color\": \"#EF553B\", \"line\": {\"width\": 0}}, \"name\": \"emotion=neutral\", \"offsetgroup\": \"emotion=neutral\", \"orientation\": \"v\", \"showlegend\": false, \"textposition\": \"auto\", \"type\": \"bar\", \"x\": [2015, 2016, 2017, 2018, 2019, 2020], \"xaxis\": \"x2\", \"y\": [2, 13, 62, 101, 143, 10], \"yaxis\": \"y2\"}, {\"alignmentgroup\": \"True\", \"hoverlabel\": {\"namelength\": 0}, \"hovertemplate\": \"emotion=neutral<br>media=msn<br>year=%{x}<br>yearly_counts=%{y}\", \"legendgroup\": \"emotion=neutral\", \"marker\": {\"color\": \"#EF553B\", \"line\": {\"width\": 0}}, \"name\": \"emotion=neutral\", \"offsetgroup\": \"emotion=neutral\", \"orientation\": \"v\", \"showlegend\": false, \"textposition\": \"auto\", \"type\": \"bar\", \"x\": [2015, 2016, 2017, 2018, 2019, 2020], \"xaxis\": \"x3\", \"y\": [1, 33, 118, 119, 204, 1], \"yaxis\": \"y3\"}, {\"alignmentgroup\": \"True\", \"hoverlabel\": {\"namelength\": 0}, \"hovertemplate\": \"emotion=neutral<br>media=polit.eu<br>year=%{x}<br>yearly_counts=%{y}\", \"legendgroup\": \"emotion=neutral\", \"marker\": {\"color\": \"#EF553B\", \"line\": {\"width\": 0}}, \"name\": \"emotion=neutral\", \"offsetgroup\": \"emotion=neutral\", \"orientation\": \"v\", \"showlegend\": false, \"textposition\": \"auto\", \"type\": \"bar\", \"x\": [2015, 2016, 2017, 2018, 2019, 2020], \"xaxis\": \"x4\", \"y\": [4, 25, 99, 145, 212, 11], \"yaxis\": \"y4\"}, {\"alignmentgroup\": \"True\", \"hoverlabel\": {\"namelength\": 0}, \"hovertemplate\": \"emotion=neutral<br>media=politicshome<br>year=%{x}<br>yearly_counts=%{y}\", \"legendgroup\": \"emotion=neutral\", \"marker\": {\"color\": \"#EF553B\", \"line\": {\"width\": 0}}, \"name\": \"emotion=neutral\", \"offsetgroup\": \"emotion=neutral\", \"orientation\": \"v\", \"showlegend\": false, \"textposition\": \"auto\", \"type\": \"bar\", \"x\": [2017, 2018, 2019, 2020], \"xaxis\": \"x5\", \"y\": [61, 103, 151, 8], \"yaxis\": \"y5\"}, {\"alignmentgroup\": \"True\", \"hoverlabel\": {\"namelength\": 0}, \"hovertemplate\": \"emotion=positive<br>media=express<br>year=%{x}<br>yearly_counts=%{y}\", \"legendgroup\": \"emotion=positive\", \"marker\": {\"color\": \"#00cc96\", \"line\": {\"width\": 0}}, \"name\": \"emotion=positive\", \"offsetgroup\": \"emotion=positive\", \"orientation\": \"v\", \"showlegend\": true, \"textposition\": \"auto\", \"type\": \"bar\", \"x\": [2015, 2016, 2017, 2018, 2019, 2020], \"xaxis\": \"x6\", \"y\": [2, 53, 141, 176, 484, 54], \"yaxis\": \"y6\"}, {\"alignmentgroup\": \"True\", \"hoverlabel\": {\"namelength\": 0}, \"hovertemplate\": \"emotion=positive<br>media=heraldtland<br>year=%{x}<br>yearly_counts=%{y}\", \"legendgroup\": \"emotion=positive\", \"marker\": {\"color\": \"#00cc96\", \"line\": {\"width\": 0}}, \"name\": \"emotion=positive\", \"offsetgroup\": \"emotion=positive\", \"orientation\": \"v\", \"showlegend\": false, \"textposition\": \"auto\", \"type\": \"bar\", \"x\": [2015, 2016, 2017, 2018, 2019, 2020], \"xaxis\": \"x7\", \"y\": [3, 64, 129, 141, 164, 14], \"yaxis\": \"y7\"}, {\"alignmentgroup\": \"True\", \"hoverlabel\": {\"namelength\": 0}, \"hovertemplate\": \"emotion=positive<br>media=inews<br>year=%{x}<br>yearly_counts=%{y}\", \"legendgroup\": \"emotion=positive\", \"marker\": {\"color\": \"#00cc96\", \"line\": {\"width\": 0}}, \"name\": \"emotion=positive\", \"offsetgroup\": \"emotion=positive\", \"orientation\": \"v\", \"showlegend\": false, \"textposition\": \"auto\", \"type\": \"bar\", \"x\": [2017, 2018, 2019, 2020], \"xaxis\": \"x8\", \"y\": [79, 119, 195, 12], \"yaxis\": \"y8\"}, {\"alignmentgroup\": \"True\", \"hoverlabel\": {\"namelength\": 0}, \"hovertemplate\": \"emotion=positive<br>media=aol<br>year=%{x}<br>yearly_counts=%{y}\", \"legendgroup\": \"emotion=positive\", \"marker\": {\"color\": \"#00cc96\", \"line\": {\"width\": 0}}, \"name\": \"emotion=positive\", \"offsetgroup\": \"emotion=positive\", \"orientation\": \"v\", \"showlegend\": false, \"textposition\": \"auto\", \"type\": \"bar\", \"x\": [2016, 2017, 2018, 2019], \"xaxis\": \"x9\", \"y\": [35, 81, 245, 114], \"yaxis\": \"y9\"}, {\"alignmentgroup\": \"True\", \"hoverlabel\": {\"namelength\": 0}, \"hovertemplate\": \"emotion=positive<br>media=belfasttelegraph<br>year=%{x}<br>yearly_counts=%{y}\", \"legendgroup\": \"emotion=positive\", \"marker\": {\"color\": \"#00cc96\", \"line\": {\"width\": 0}}, \"name\": \"emotion=positive\", \"offsetgroup\": \"emotion=positive\", \"orientation\": \"v\", \"showlegend\": false, \"textposition\": \"auto\", \"type\": \"bar\", \"x\": [2016, 2017, 2018, 2019, 2020], \"xaxis\": \"x10\", \"y\": [11, 158, 196, 479, 19], \"yaxis\": \"y10\"}, {\"alignmentgroup\": \"True\", \"hoverlabel\": {\"namelength\": 0}, \"hovertemplate\": \"emotion=positive<br>media=breitbart<br>year=%{x}<br>yearly_counts=%{y}\", \"legendgroup\": \"emotion=positive\", \"marker\": {\"color\": \"#00cc96\", \"line\": {\"width\": 0}}, \"name\": \"emotion=positive\", \"offsetgroup\": \"emotion=positive\", \"orientation\": \"v\", \"showlegend\": false, \"textposition\": \"auto\", \"type\": \"bar\", \"x\": [2016, 2017, 2018, 2019, 2020], \"xaxis\": \"x\", \"y\": [29, 65, 76, 185, 13], \"yaxis\": \"y\"}, {\"alignmentgroup\": \"True\", \"hoverlabel\": {\"namelength\": 0}, \"hovertemplate\": \"emotion=positive<br>media=mirror<br>year=%{x}<br>yearly_counts=%{y}\", \"legendgroup\": \"emotion=positive\", \"marker\": {\"color\": \"#00cc96\", \"line\": {\"width\": 0}}, \"name\": \"emotion=positive\", \"offsetgroup\": \"emotion=positive\", \"orientation\": \"v\", \"showlegend\": false, \"textposition\": \"auto\", \"type\": \"bar\", \"x\": [2015, 2016, 2017, 2018, 2019, 2020], \"xaxis\": \"x2\", \"y\": [1, 19, 65, 81, 146, 7], \"yaxis\": \"y2\"}, {\"alignmentgroup\": \"True\", \"hoverlabel\": {\"namelength\": 0}, \"hovertemplate\": \"emotion=positive<br>media=msn<br>year=%{x}<br>yearly_counts=%{y}\", \"legendgroup\": \"emotion=positive\", \"marker\": {\"color\": \"#00cc96\", \"line\": {\"width\": 0}}, \"name\": \"emotion=positive\", \"offsetgroup\": \"emotion=positive\", \"orientation\": \"v\", \"showlegend\": false, \"textposition\": \"auto\", \"type\": \"bar\", \"x\": [2015, 2016, 2017, 2018, 2019], \"xaxis\": \"x3\", \"y\": [3, 44, 130, 100, 200], \"yaxis\": \"y3\"}, {\"alignmentgroup\": \"True\", \"hoverlabel\": {\"namelength\": 0}, \"hovertemplate\": \"emotion=positive<br>media=polit.eu<br>year=%{x}<br>yearly_counts=%{y}\", \"legendgroup\": \"emotion=positive\", \"marker\": {\"color\": \"#00cc96\", \"line\": {\"width\": 0}}, \"name\": \"emotion=positive\", \"offsetgroup\": \"emotion=positive\", \"orientation\": \"v\", \"showlegend\": false, \"textposition\": \"auto\", \"type\": \"bar\", \"x\": [2015, 2016, 2017, 2018, 2019, 2020], \"xaxis\": \"x4\", \"y\": [1, 19, 100, 137, 186, 13], \"yaxis\": \"y4\"}, {\"alignmentgroup\": \"True\", \"hoverlabel\": {\"namelength\": 0}, \"hovertemplate\": \"emotion=positive<br>media=politicshome<br>year=%{x}<br>yearly_counts=%{y}\", \"legendgroup\": \"emotion=positive\", \"marker\": {\"color\": \"#00cc96\", \"line\": {\"width\": 0}}, \"name\": \"emotion=positive\", \"offsetgroup\": \"emotion=positive\", \"orientation\": \"v\", \"showlegend\": false, \"textposition\": \"auto\", \"type\": \"bar\", \"x\": [2017, 2018, 2019, 2020], \"xaxis\": \"x5\", \"y\": [100, 126, 198, 17], \"yaxis\": \"y5\"}],\n",
              "                        {\"annotations\": [{\"font\": {}, \"showarrow\": false, \"text\": \"media=breitbart\", \"x\": 0.09200000000000001, \"xanchor\": \"center\", \"xref\": \"paper\", \"y\": 0.46499999999999997, \"yanchor\": \"bottom\", \"yref\": \"paper\"}, {\"font\": {}, \"showarrow\": false, \"text\": \"media=mirror\", \"x\": 0.29600000000000004, \"xanchor\": \"center\", \"xref\": \"paper\", \"y\": 0.46499999999999997, \"yanchor\": \"bottom\", \"yref\": \"paper\"}, {\"font\": {}, \"showarrow\": false, \"text\": \"media=msn\", \"x\": 0.5, \"xanchor\": \"center\", \"xref\": \"paper\", \"y\": 0.46499999999999997, \"yanchor\": \"bottom\", \"yref\": \"paper\"}, {\"font\": {}, \"showarrow\": false, \"text\": \"media=polit.eu\", \"x\": 0.7040000000000002, \"xanchor\": \"center\", \"xref\": \"paper\", \"y\": 0.46499999999999997, \"yanchor\": \"bottom\", \"yref\": \"paper\"}, {\"font\": {}, \"showarrow\": false, \"text\": \"media=politicshome\", \"x\": 0.908, \"xanchor\": \"center\", \"xref\": \"paper\", \"y\": 0.46499999999999997, \"yanchor\": \"bottom\", \"yref\": \"paper\"}, {\"font\": {}, \"showarrow\": false, \"text\": \"media=express\", \"x\": 0.09200000000000001, \"xanchor\": \"center\", \"xref\": \"paper\", \"y\": 0.9999999999999999, \"yanchor\": \"bottom\", \"yref\": \"paper\"}, {\"font\": {}, \"showarrow\": false, \"text\": \"media=heraldtland\", \"x\": 0.29600000000000004, \"xanchor\": \"center\", \"xref\": \"paper\", \"y\": 0.9999999999999999, \"yanchor\": \"bottom\", \"yref\": \"paper\"}, {\"font\": {}, \"showarrow\": false, \"text\": \"media=inews\", \"x\": 0.5, \"xanchor\": \"center\", \"xref\": \"paper\", \"y\": 0.9999999999999999, \"yanchor\": \"bottom\", \"yref\": \"paper\"}, {\"font\": {}, \"showarrow\": false, \"text\": \"media=aol\", \"x\": 0.7040000000000002, \"xanchor\": \"center\", \"xref\": \"paper\", \"y\": 0.9999999999999999, \"yanchor\": \"bottom\", \"yref\": \"paper\"}, {\"font\": {}, \"showarrow\": false, \"text\": \"media=belfasttelegraph\", \"x\": 0.908, \"xanchor\": \"center\", \"xref\": \"paper\", \"y\": 0.9999999999999999, \"yanchor\": \"bottom\", \"yref\": \"paper\"}], \"barmode\": \"stack\", \"legend\": {\"tracegroupgap\": 0}, \"margin\": {\"t\": 60}, \"template\": {\"data\": {\"bar\": [{\"error_x\": {\"color\": \"#2a3f5f\"}, \"error_y\": {\"color\": \"#2a3f5f\"}, \"marker\": {\"line\": {\"color\": \"#E5ECF6\", \"width\": 0.5}}, \"type\": \"bar\"}], \"barpolar\": [{\"marker\": {\"line\": {\"color\": \"#E5ECF6\", \"width\": 0.5}}, \"type\": \"barpolar\"}], \"carpet\": [{\"aaxis\": {\"endlinecolor\": \"#2a3f5f\", \"gridcolor\": \"white\", \"linecolor\": \"white\", \"minorgridcolor\": \"white\", \"startlinecolor\": \"#2a3f5f\"}, \"baxis\": {\"endlinecolor\": \"#2a3f5f\", \"gridcolor\": \"white\", \"linecolor\": \"white\", \"minorgridcolor\": \"white\", \"startlinecolor\": \"#2a3f5f\"}, \"type\": \"carpet\"}], \"choropleth\": [{\"colorbar\": {\"outlinewidth\": 0, \"ticks\": \"\"}, \"type\": \"choropleth\"}], \"contour\": [{\"colorbar\": {\"outlinewidth\": 0, \"ticks\": \"\"}, \"colorscale\": [[0.0, \"#0d0887\"], [0.1111111111111111, \"#46039f\"], [0.2222222222222222, \"#7201a8\"], [0.3333333333333333, \"#9c179e\"], [0.4444444444444444, \"#bd3786\"], [0.5555555555555556, \"#d8576b\"], [0.6666666666666666, \"#ed7953\"], [0.7777777777777778, \"#fb9f3a\"], [0.8888888888888888, \"#fdca26\"], [1.0, \"#f0f921\"]], \"type\": \"contour\"}], \"contourcarpet\": [{\"colorbar\": {\"outlinewidth\": 0, \"ticks\": \"\"}, \"type\": \"contourcarpet\"}], \"heatmap\": [{\"colorbar\": {\"outlinewidth\": 0, \"ticks\": \"\"}, \"colorscale\": [[0.0, \"#0d0887\"], [0.1111111111111111, \"#46039f\"], [0.2222222222222222, \"#7201a8\"], [0.3333333333333333, \"#9c179e\"], [0.4444444444444444, \"#bd3786\"], [0.5555555555555556, \"#d8576b\"], [0.6666666666666666, \"#ed7953\"], [0.7777777777777778, \"#fb9f3a\"], [0.8888888888888888, \"#fdca26\"], [1.0, \"#f0f921\"]], \"type\": \"heatmap\"}], \"heatmapgl\": [{\"colorbar\": {\"outlinewidth\": 0, \"ticks\": \"\"}, \"colorscale\": [[0.0, \"#0d0887\"], [0.1111111111111111, \"#46039f\"], [0.2222222222222222, \"#7201a8\"], [0.3333333333333333, \"#9c179e\"], [0.4444444444444444, \"#bd3786\"], [0.5555555555555556, \"#d8576b\"], [0.6666666666666666, \"#ed7953\"], [0.7777777777777778, \"#fb9f3a\"], [0.8888888888888888, \"#fdca26\"], [1.0, \"#f0f921\"]], \"type\": \"heatmapgl\"}], \"histogram\": [{\"marker\": {\"colorbar\": {\"outlinewidth\": 0, \"ticks\": \"\"}}, \"type\": \"histogram\"}], \"histogram2d\": [{\"colorbar\": {\"outlinewidth\": 0, \"ticks\": \"\"}, \"colorscale\": [[0.0, \"#0d0887\"], [0.1111111111111111, \"#46039f\"], [0.2222222222222222, \"#7201a8\"], [0.3333333333333333, \"#9c179e\"], [0.4444444444444444, \"#bd3786\"], [0.5555555555555556, \"#d8576b\"], [0.6666666666666666, \"#ed7953\"], [0.7777777777777778, \"#fb9f3a\"], [0.8888888888888888, \"#fdca26\"], [1.0, \"#f0f921\"]], \"type\": \"histogram2d\"}], \"histogram2dcontour\": [{\"colorbar\": {\"outlinewidth\": 0, \"ticks\": \"\"}, \"colorscale\": [[0.0, \"#0d0887\"], [0.1111111111111111, \"#46039f\"], [0.2222222222222222, \"#7201a8\"], [0.3333333333333333, \"#9c179e\"], [0.4444444444444444, \"#bd3786\"], [0.5555555555555556, \"#d8576b\"], [0.6666666666666666, \"#ed7953\"], [0.7777777777777778, \"#fb9f3a\"], [0.8888888888888888, \"#fdca26\"], [1.0, \"#f0f921\"]], \"type\": \"histogram2dcontour\"}], \"mesh3d\": [{\"colorbar\": {\"outlinewidth\": 0, \"ticks\": \"\"}, \"type\": \"mesh3d\"}], \"parcoords\": [{\"line\": {\"colorbar\": {\"outlinewidth\": 0, \"ticks\": \"\"}}, \"type\": \"parcoords\"}], \"pie\": [{\"automargin\": true, \"type\": \"pie\"}], \"scatter\": [{\"marker\": {\"colorbar\": {\"outlinewidth\": 0, \"ticks\": \"\"}}, \"type\": \"scatter\"}], \"scatter3d\": [{\"line\": {\"colorbar\": {\"outlinewidth\": 0, \"ticks\": \"\"}}, \"marker\": {\"colorbar\": {\"outlinewidth\": 0, \"ticks\": \"\"}}, \"type\": \"scatter3d\"}], \"scattercarpet\": [{\"marker\": {\"colorbar\": {\"outlinewidth\": 0, \"ticks\": \"\"}}, \"type\": \"scattercarpet\"}], \"scattergeo\": [{\"marker\": {\"colorbar\": {\"outlinewidth\": 0, \"ticks\": \"\"}}, \"type\": \"scattergeo\"}], \"scattergl\": [{\"marker\": {\"colorbar\": {\"outlinewidth\": 0, \"ticks\": \"\"}}, \"type\": \"scattergl\"}], \"scattermapbox\": [{\"marker\": {\"colorbar\": {\"outlinewidth\": 0, \"ticks\": \"\"}}, \"type\": \"scattermapbox\"}], \"scatterpolar\": [{\"marker\": {\"colorbar\": {\"outlinewidth\": 0, \"ticks\": \"\"}}, \"type\": \"scatterpolar\"}], \"scatterpolargl\": [{\"marker\": {\"colorbar\": {\"outlinewidth\": 0, \"ticks\": \"\"}}, \"type\": \"scatterpolargl\"}], \"scatterternary\": [{\"marker\": {\"colorbar\": {\"outlinewidth\": 0, \"ticks\": \"\"}}, \"type\": \"scatterternary\"}], \"surface\": [{\"colorbar\": {\"outlinewidth\": 0, \"ticks\": \"\"}, \"colorscale\": [[0.0, \"#0d0887\"], [0.1111111111111111, \"#46039f\"], [0.2222222222222222, \"#7201a8\"], [0.3333333333333333, \"#9c179e\"], [0.4444444444444444, \"#bd3786\"], [0.5555555555555556, \"#d8576b\"], [0.6666666666666666, \"#ed7953\"], [0.7777777777777778, \"#fb9f3a\"], [0.8888888888888888, \"#fdca26\"], [1.0, \"#f0f921\"]], \"type\": \"surface\"}], \"table\": [{\"cells\": {\"fill\": {\"color\": \"#EBF0F8\"}, \"line\": {\"color\": \"white\"}}, \"header\": {\"fill\": {\"color\": \"#C8D4E3\"}, \"line\": {\"color\": \"white\"}}, \"type\": \"table\"}]}, \"layout\": {\"annotationdefaults\": {\"arrowcolor\": \"#2a3f5f\", \"arrowhead\": 0, \"arrowwidth\": 1}, \"coloraxis\": {\"colorbar\": {\"outlinewidth\": 0, \"ticks\": \"\"}}, \"colorscale\": {\"diverging\": [[0, \"#8e0152\"], [0.1, \"#c51b7d\"], [0.2, \"#de77ae\"], [0.3, \"#f1b6da\"], [0.4, \"#fde0ef\"], [0.5, \"#f7f7f7\"], [0.6, \"#e6f5d0\"], [0.7, \"#b8e186\"], [0.8, \"#7fbc41\"], [0.9, \"#4d9221\"], [1, \"#276419\"]], \"sequential\": [[0.0, \"#0d0887\"], [0.1111111111111111, \"#46039f\"], [0.2222222222222222, \"#7201a8\"], [0.3333333333333333, \"#9c179e\"], [0.4444444444444444, \"#bd3786\"], [0.5555555555555556, \"#d8576b\"], [0.6666666666666666, \"#ed7953\"], [0.7777777777777778, \"#fb9f3a\"], [0.8888888888888888, \"#fdca26\"], [1.0, \"#f0f921\"]], \"sequentialminus\": [[0.0, \"#0d0887\"], [0.1111111111111111, \"#46039f\"], [0.2222222222222222, \"#7201a8\"], [0.3333333333333333, \"#9c179e\"], [0.4444444444444444, \"#bd3786\"], [0.5555555555555556, \"#d8576b\"], [0.6666666666666666, \"#ed7953\"], [0.7777777777777778, \"#fb9f3a\"], [0.8888888888888888, \"#fdca26\"], [1.0, \"#f0f921\"]]}, \"colorway\": [\"#636efa\", \"#EF553B\", \"#00cc96\", \"#ab63fa\", \"#FFA15A\", \"#19d3f3\", \"#FF6692\", \"#B6E880\", \"#FF97FF\", \"#FECB52\"], \"font\": {\"color\": \"#2a3f5f\"}, \"geo\": {\"bgcolor\": \"white\", \"lakecolor\": \"white\", \"landcolor\": \"#E5ECF6\", \"showlakes\": true, \"showland\": true, \"subunitcolor\": \"white\"}, \"hoverlabel\": {\"align\": \"left\"}, \"hovermode\": \"closest\", \"mapbox\": {\"style\": \"light\"}, \"paper_bgcolor\": \"white\", \"plot_bgcolor\": \"#E5ECF6\", \"polar\": {\"angularaxis\": {\"gridcolor\": \"white\", \"linecolor\": \"white\", \"ticks\": \"\"}, \"bgcolor\": \"#E5ECF6\", \"radialaxis\": {\"gridcolor\": \"white\", \"linecolor\": \"white\", \"ticks\": \"\"}}, \"scene\": {\"xaxis\": {\"backgroundcolor\": \"#E5ECF6\", \"gridcolor\": \"white\", \"gridwidth\": 2, \"linecolor\": \"white\", \"showbackground\": true, \"ticks\": \"\", \"zerolinecolor\": \"white\"}, \"yaxis\": {\"backgroundcolor\": \"#E5ECF6\", \"gridcolor\": \"white\", \"gridwidth\": 2, \"linecolor\": \"white\", \"showbackground\": true, \"ticks\": \"\", \"zerolinecolor\": \"white\"}, \"zaxis\": {\"backgroundcolor\": \"#E5ECF6\", \"gridcolor\": \"white\", \"gridwidth\": 2, \"linecolor\": \"white\", \"showbackground\": true, \"ticks\": \"\", \"zerolinecolor\": \"white\"}}, \"shapedefaults\": {\"line\": {\"color\": \"#2a3f5f\"}}, \"ternary\": {\"aaxis\": {\"gridcolor\": \"white\", \"linecolor\": \"white\", \"ticks\": \"\"}, \"baxis\": {\"gridcolor\": \"white\", \"linecolor\": \"white\", \"ticks\": \"\"}, \"bgcolor\": \"#E5ECF6\", \"caxis\": {\"gridcolor\": \"white\", \"linecolor\": \"white\", \"ticks\": \"\"}}, \"title\": {\"x\": 0.05}, \"xaxis\": {\"automargin\": true, \"gridcolor\": \"white\", \"linecolor\": \"white\", \"ticks\": \"\", \"title\": {\"standoff\": 15}, \"zerolinecolor\": \"white\", \"zerolinewidth\": 2}, \"yaxis\": {\"automargin\": true, \"gridcolor\": \"white\", \"linecolor\": \"white\", \"ticks\": \"\", \"title\": {\"standoff\": 15}, \"zerolinecolor\": \"white\", \"zerolinewidth\": 2}}}, \"xaxis\": {\"anchor\": \"y\", \"domain\": [0.0, 0.18400000000000002], \"title\": {\"text\": \"year\"}}, \"xaxis10\": {\"anchor\": \"y10\", \"domain\": [0.8160000000000001, 1.0], \"matches\": \"x\", \"showticklabels\": false}, \"xaxis2\": {\"anchor\": \"y2\", \"domain\": [0.20400000000000001, 0.388], \"matches\": \"x\", \"title\": {\"text\": \"year\"}}, \"xaxis3\": {\"anchor\": \"y3\", \"domain\": [0.40800000000000003, 0.5920000000000001], \"matches\": \"x\", \"title\": {\"text\": \"year\"}}, \"xaxis4\": {\"anchor\": \"y4\", \"domain\": [0.6120000000000001, 0.7960000000000002], \"matches\": \"x\", \"title\": {\"text\": \"year\"}}, \"xaxis5\": {\"anchor\": \"y5\", \"domain\": [0.8160000000000001, 1.0], \"matches\": \"x\", \"title\": {\"text\": \"year\"}}, \"xaxis6\": {\"anchor\": \"y6\", \"domain\": [0.0, 0.18400000000000002], \"matches\": \"x\", \"showticklabels\": false}, \"xaxis7\": {\"anchor\": \"y7\", \"domain\": [0.20400000000000001, 0.388], \"matches\": \"x\", \"showticklabels\": false}, \"xaxis8\": {\"anchor\": \"y8\", \"domain\": [0.40800000000000003, 0.5920000000000001], \"matches\": \"x\", \"showticklabels\": false}, \"xaxis9\": {\"anchor\": \"y9\", \"domain\": [0.6120000000000001, 0.7960000000000002], \"matches\": \"x\", \"showticklabels\": false}, \"yaxis\": {\"anchor\": \"x\", \"domain\": [0.0, 0.46499999999999997], \"title\": {\"text\": \"yearly_counts\"}}, \"yaxis10\": {\"anchor\": \"x10\", \"domain\": [0.5349999999999999, 0.9999999999999999], \"matches\": \"y\", \"showticklabels\": false}, \"yaxis2\": {\"anchor\": \"x2\", \"domain\": [0.0, 0.46499999999999997], \"matches\": \"y\", \"showticklabels\": false}, \"yaxis3\": {\"anchor\": \"x3\", \"domain\": [0.0, 0.46499999999999997], \"matches\": \"y\", \"showticklabels\": false}, \"yaxis4\": {\"anchor\": \"x4\", \"domain\": [0.0, 0.46499999999999997], \"matches\": \"y\", \"showticklabels\": false}, \"yaxis5\": {\"anchor\": \"x5\", \"domain\": [0.0, 0.46499999999999997], \"matches\": \"y\", \"showticklabels\": false}, \"yaxis6\": {\"anchor\": \"x6\", \"domain\": [0.5349999999999999, 0.9999999999999999], \"matches\": \"y\", \"title\": {\"text\": \"yearly_counts\"}}, \"yaxis7\": {\"anchor\": \"x7\", \"domain\": [0.5349999999999999, 0.9999999999999999], \"matches\": \"y\", \"showticklabels\": false}, \"yaxis8\": {\"anchor\": \"x8\", \"domain\": [0.5349999999999999, 0.9999999999999999], \"matches\": \"y\", \"showticklabels\": false}, \"yaxis9\": {\"anchor\": \"x9\", \"domain\": [0.5349999999999999, 0.9999999999999999], \"matches\": \"y\", \"showticklabels\": false}},\n",
              "                        {\"responsive\": true}\n",
              "                    ).then(function(){\n",
              "                            \n",
              "var gd = document.getElementById('c4ab6abf-1346-4d07-90ae-b4a23df6f0a3');\n",
              "var x = new MutationObserver(function (mutations, observer) {{\n",
              "        var display = window.getComputedStyle(gd).display;\n",
              "        if (!display || display === 'none') {{\n",
              "            console.log([gd, 'removed!']);\n",
              "            Plotly.purge(gd);\n",
              "            observer.disconnect();\n",
              "        }}\n",
              "}});\n",
              "\n",
              "// Listen for the removal of the full notebook cells\n",
              "var notebookContainer = gd.closest('#notebook-container');\n",
              "if (notebookContainer) {{\n",
              "    x.observe(notebookContainer, {childList: true});\n",
              "}}\n",
              "\n",
              "// Listen for the clearing of the current output cell\n",
              "var outputEl = gd.closest('.output');\n",
              "if (outputEl) {{\n",
              "    x.observe(outputEl, {childList: true});\n",
              "}}\n",
              "\n",
              "                        })\n",
              "                };\n",
              "                \n",
              "            </script>\n",
              "        </div>\n",
              "</body>\n",
              "</html>"
            ]
          },
          "metadata": {}
        }
      ]
    },
    {
      "cell_type": "markdown",
      "source": [
        "\n",
        " We can see that, in general, the proportion between negative, positive and neutral feelings has remained constant over the years for the top ten. There do not seem to be any apparent trends in the development of polarities over time. \n",
        "We can, however, notice again that the number of citations in 2020 always drops drastically.\n"
      ],
      "metadata": {
        "id": "vKYSH0-o_qqv"
      }
    }
  ]
}